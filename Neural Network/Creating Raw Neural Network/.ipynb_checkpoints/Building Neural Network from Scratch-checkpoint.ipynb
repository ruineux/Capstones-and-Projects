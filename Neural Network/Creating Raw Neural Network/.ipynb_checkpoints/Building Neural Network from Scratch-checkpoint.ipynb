{
 "cells": [
  {
   "cell_type": "markdown",
   "metadata": {},
   "source": [
    "## Purpose\n",
    "- Learn how neural networks work to further understand how it works"
   ]
  },
  {
   "cell_type": "code",
   "execution_count": 2,
   "metadata": {
    "ExecuteTime": {
     "end_time": "2020-11-21T12:59:13.296771Z",
     "start_time": "2020-11-21T12:59:12.987219Z"
    }
   },
   "outputs": [],
   "source": [
    "import sys\n",
    "import pandas as pd\n",
    "import numpy as np\n",
    "import matplotlib"
   ]
  },
  {
   "cell_type": "code",
   "execution_count": 3,
   "metadata": {
    "ExecuteTime": {
     "end_time": "2020-11-21T12:59:13.327588Z",
     "start_time": "2020-11-21T12:59:13.314012Z"
    }
   },
   "outputs": [
    {
     "name": "stdout",
     "output_type": "stream",
     "text": [
      "Python version: 3.7.4 (default, Aug  9 2019, 18:34:13) [MSC v.1915 64 bit (AMD64)]\n",
      "Pandas version: 1.1.3\n",
      "Numpy version: 1.19.2\n",
      "Matplotlib version: 3.3.2\n"
     ]
    }
   ],
   "source": [
    "print(f\"Python version: {sys.version}\")\n",
    "print(f\"Pandas version: {pd.__version__}\")\n",
    "print(f\"Numpy version: {np.__version__}\")\n",
    "print(f\"Matplotlib version: {matplotlib.__version__}\")"
   ]
  },
  {
   "cell_type": "markdown",
   "metadata": {},
   "source": [
    "## Examples"
   ]
  },
  {
   "cell_type": "markdown",
   "metadata": {},
   "source": [
    "### Example 1: One neuron with three inputs\n",
    "\n",
    "<img style=\"float: left;\" src=\"./Screenies/Example1.png\">"
   ]
  },
  {
   "cell_type": "markdown",
   "metadata": {},
   "source": [
    "#### Inputs\n",
    "\n",
    "- n input = n weights\n",
    "- n neuron = n bias"
   ]
  },
  {
   "cell_type": "code",
   "execution_count": 19,
   "metadata": {
    "ExecuteTime": {
     "end_time": "2020-11-21T13:31:49.254010Z",
     "start_time": "2020-11-21T13:31:49.238528Z"
    }
   },
   "outputs": [],
   "source": [
    "inputs = [1, 2, 3] # let's assume that this is an output of three neurons in a previous layer\n",
    "weights = [0.2, 0.8, -0.5] # every input has its own weight\n",
    "bias = 2 #every unique neuron has a bias"
   ]
  },
  {
   "cell_type": "markdown",
   "metadata": {},
   "source": [
    "#### Output"
   ]
  },
  {
   "cell_type": "code",
   "execution_count": 20,
   "metadata": {
    "ExecuteTime": {
     "end_time": "2020-11-21T13:31:49.381717Z",
     "start_time": "2020-11-21T13:31:49.365667Z"
    }
   },
   "outputs": [
    {
     "data": {
      "text/plain": [
       "2.3"
      ]
     },
     "execution_count": 20,
     "metadata": {},
     "output_type": "execute_result"
    }
   ],
   "source": [
    "output = np.sum([inputs[v] * weights[v] for v in np.arange(len(inputs))]) + bias\n",
    "output"
   ]
  },
  {
   "attachments": {},
   "cell_type": "markdown",
   "metadata": {},
   "source": [
    "### Example 2: One neuron with four inputs\n",
    "\n",
    "<img style=\"float: left;\" src=\"./Screenies/Example2.png\">"
   ]
  },
  {
   "cell_type": "markdown",
   "metadata": {},
   "source": [
    "#### Inputs\n",
    "\n",
    "- n input = n weights\n",
    "- n neuron = n bias"
   ]
  },
  {
   "cell_type": "code",
   "execution_count": 1,
   "metadata": {
    "ExecuteTime": {
     "end_time": "2020-11-22T15:51:24.548907Z",
     "start_time": "2020-11-22T15:51:24.535942Z"
    }
   },
   "outputs": [],
   "source": [
    "inputs = [1, 2, 3, 2.5] # let's assume that this is an output of three neurons in a previous layer\n",
    "weights = [0.2, 0.8, -0.5, 1] # every input has its own weight\n",
    "bias = 2 #every unique neuron has a bias"
   ]
  },
  {
   "cell_type": "markdown",
   "metadata": {
    "ExecuteTime": {
     "end_time": "2020-11-22T16:32:27.525392Z",
     "start_time": "2020-11-22T16:32:27.516543Z"
    }
   },
   "source": [
    "#### Outputs"
   ]
  },
  {
   "cell_type": "code",
   "execution_count": 2,
   "metadata": {
    "ExecuteTime": {
     "end_time": "2020-11-22T15:51:24.782219Z",
     "start_time": "2020-11-22T15:51:24.757640Z"
    }
   },
   "outputs": [
    {
     "data": {
      "text/plain": [
       "4.8"
      ]
     },
     "execution_count": 2,
     "metadata": {},
     "output_type": "execute_result"
    }
   ],
   "source": [
    "output = np.sum([inputs[v] * weights[v] for v in np.arange(len(inputs))]) + bias\n",
    "output"
   ]
  },
  {
   "cell_type": "markdown",
   "metadata": {},
   "source": [
    "### Example 3: 3 neurons with 4 inputs\n",
    "\n",
    "<img style=\"float: left;\" src=\"./Screenies/Example3.png\">"
   ]
  },
  {
   "cell_type": "markdown",
   "metadata": {},
   "source": [
    "#### Inputs\n",
    "\n",
    "- n input = n weights\n",
    "- n neuron = n bias\n",
    "\n",
    "Note:\n",
    "- You cannot modify the inputs as it is either coming from the data you fed into the neuron or it is an output from a hidden layer\n",
    "- What you can do is to weak the weights and bias"
   ]
  },
  {
   "cell_type": "code",
   "execution_count": 35,
   "metadata": {
    "ExecuteTime": {
     "end_time": "2020-11-22T16:48:03.805918Z",
     "start_time": "2020-11-22T16:48:03.790295Z"
    }
   },
   "outputs": [],
   "source": [
    "inputs = [1, 2, 3, 2.5]\n",
    "\n",
    "weights1 = [0.2, 0.8, -0.5, 1]\n",
    "weights2 = [0.5, -0.91, 0.26, -0.5]\n",
    "weights3 = [-0.26, -0.27, 0.17, 0.87]\n",
    "\n",
    "bias1 = 2\n",
    "bias2 = 3\n",
    "bias3 = 0.5"
   ]
  },
  {
   "cell_type": "markdown",
   "metadata": {},
   "source": [
    "#### Outputs"
   ]
  },
  {
   "cell_type": "code",
   "execution_count": 54,
   "metadata": {
    "ExecuteTime": {
     "end_time": "2020-11-22T17:08:36.494776Z",
     "start_time": "2020-11-22T17:08:36.479153Z"
    }
   },
   "outputs": [
    {
     "data": {
      "text/plain": [
       "[4.8, 1.21, 2.385]"
      ]
     },
     "execution_count": 54,
     "metadata": {},
     "output_type": "execute_result"
    }
   ],
   "source": [
    "output = [np.sum([inputs[v] * weights1[v] for v in np.arange(len(inputs))]) + bias1,\n",
    "          np.sum([inputs[v] * weights2[v] for v in np.arange(len(inputs))]) + bias2,\n",
    "          np.sum([inputs[v] * weights3[v] for v in np.arange(len(inputs))]) + bias3\n",
    "         ]\n",
    "output"
   ]
  },
  {
   "cell_type": "markdown",
   "metadata": {},
   "source": [
    "#### Creating better code for Example 3"
   ]
  },
  {
   "cell_type": "code",
   "execution_count": 55,
   "metadata": {
    "ExecuteTime": {
     "end_time": "2020-11-22T17:17:10.718660Z",
     "start_time": "2020-11-22T17:17:10.703002Z"
    }
   },
   "outputs": [],
   "source": [
    "inputs = [1, 2, 3, 2.5]\n",
    "\n",
    "weights = [[0.2, 0.8, -0.5, 1],\n",
    "           [0.5, -0.91, 0.26, -0.5],\n",
    "           [-0.26, -0.27, 0.17, 0.87]\n",
    "          ]\n",
    "\n",
    "biases = [2, 3, 0.5]"
   ]
  },
  {
   "cell_type": "code",
   "execution_count": 59,
   "metadata": {
    "ExecuteTime": {
     "end_time": "2020-11-22T17:25:13.406576Z",
     "start_time": "2020-11-22T17:25:13.390950Z"
    }
   },
   "outputs": [
    {
     "data": {
      "text/plain": [
       "[4.8, 1.21, 2.385]"
      ]
     },
     "execution_count": 59,
     "metadata": {},
     "output_type": "execute_result"
    }
   ],
   "source": [
    "layer_outputs = [] # Output from the layer that will run\n",
    "\n",
    "for neuron_weights, neuron_bias in zip(weights, biases):\n",
    "    neuron_output = 0 # Output from a given neuron\n",
    "    \n",
    "    for n_input, weight in zip(inputs, neuron_weights):\n",
    "        neuron_output += n_input * weight # multiplying all the inputs to each designated weight\n",
    "        \n",
    "    neuron_output += neuron_bias # add the bias\n",
    "    layer_outputs.append(neuron_output) # appending the result\n",
    "\n",
    "    \n",
    "layer_outputs"
   ]
  },
  {
   "cell_type": "markdown",
   "metadata": {},
   "source": [
    "## How np.dot works\n",
    "\n",
    "<img style=\"float: left;\" src=\"./Screenies/npdot.png\">"
   ]
  },
  {
   "cell_type": "code",
   "execution_count": 64,
   "metadata": {
    "ExecuteTime": {
     "end_time": "2020-11-22T18:05:21.600438Z",
     "start_time": "2020-11-22T18:05:21.588436Z"
    }
   },
   "outputs": [],
   "source": [
    "inputs = [1, 2, 3, 2.5]\n",
    "weights = [0.2, 0.8, -0.5, 1]\n",
    "bias = 2"
   ]
  },
  {
   "cell_type": "markdown",
   "metadata": {
    "ExecuteTime": {
     "end_time": "2020-11-22T18:06:53.250357Z",
     "start_time": "2020-11-22T18:06:53.226198Z"
    }
   },
   "source": [
    "$y = mx * b$"
   ]
  },
  {
   "cell_type": "code",
   "execution_count": 66,
   "metadata": {
    "ExecuteTime": {
     "end_time": "2020-11-22T18:06:29.881302Z",
     "start_time": "2020-11-22T18:06:29.863916Z"
    }
   },
   "outputs": [
    {
     "data": {
      "text/plain": [
       "4.8"
      ]
     },
     "execution_count": 66,
     "metadata": {},
     "output_type": "execute_result"
    }
   ],
   "source": [
    "output = np.dot(weights, inputs) + bias\n",
    "output"
   ]
  },
  {
   "cell_type": "code",
   "execution_count": 79,
   "metadata": {
    "ExecuteTime": {
     "end_time": "2020-11-22T18:41:17.216124Z",
     "start_time": "2020-11-22T18:41:17.209976Z"
    }
   },
   "outputs": [],
   "source": [
    "inputs = [1, 2, 3, 2.5]\n",
    "\n",
    "weights = [[0.2, 0.8, -0.5, 1],\n",
    "           [0.5, -0.91, 0.26, -0.5],\n",
    "           [-0.26, -0.27, 0.17, 0.87]\n",
    "          ]\n",
    "\n",
    "biases = [2, 3, 0.5]"
   ]
  },
  {
   "cell_type": "code",
   "execution_count": 80,
   "metadata": {
    "ExecuteTime": {
     "end_time": "2020-11-22T18:41:17.506501Z",
     "start_time": "2020-11-22T18:41:17.497021Z"
    }
   },
   "outputs": [
    {
     "data": {
      "text/plain": [
       "array([4.8  , 1.21 , 2.385])"
      ]
     },
     "execution_count": 80,
     "metadata": {},
     "output_type": "execute_result"
    }
   ],
   "source": [
    "output = np.dot(weights, inputs) + biases\n",
    "output"
   ]
  },
  {
   "cell_type": "code",
   "execution_count": null,
   "metadata": {},
   "outputs": [],
   "source": []
  }
 ],
 "metadata": {
  "kernelspec": {
   "display_name": "Python 3",
   "language": "python",
   "name": "python3"
  },
  "language_info": {
   "codemirror_mode": {
    "name": "ipython",
    "version": 3
   },
   "file_extension": ".py",
   "mimetype": "text/x-python",
   "name": "python",
   "nbconvert_exporter": "python",
   "pygments_lexer": "ipython3",
   "version": "3.7.4"
  },
  "toc": {
   "base_numbering": 1,
   "nav_menu": {},
   "number_sections": false,
   "sideBar": true,
   "skip_h1_title": false,
   "title_cell": "Table of Contents",
   "title_sidebar": "Contents",
   "toc_cell": false,
   "toc_position": {},
   "toc_section_display": true,
   "toc_window_display": true
  },
  "varInspector": {
   "cols": {
    "lenName": 16,
    "lenType": 16,
    "lenVar": 40
   },
   "kernels_config": {
    "python": {
     "delete_cmd_postfix": "",
     "delete_cmd_prefix": "del ",
     "library": "var_list.py",
     "varRefreshCmd": "print(var_dic_list())"
    },
    "r": {
     "delete_cmd_postfix": ") ",
     "delete_cmd_prefix": "rm(",
     "library": "var_list.r",
     "varRefreshCmd": "cat(var_dic_list()) "
    }
   },
   "types_to_exclude": [
    "module",
    "function",
    "builtin_function_or_method",
    "instance",
    "_Feature"
   ],
   "window_display": false
  }
 },
 "nbformat": 4,
 "nbformat_minor": 2
}
