{
 "cells": [
  {
   "cell_type": "markdown",
   "id": "5d5bfb1e-ef03-406d-a714-035be4e0fe8e",
   "metadata": {},
   "source": [
    "# Why use Streamlit?\n",
    "\n",
    "- Use to visualize things using webapp framework\n",
    "\n",
    "# Features\n",
    "- Hosting\n",
    "- Support in backend data, pipeline, etc.\n",
    "- Easy coding exp\n",
    "- Database hosting\n",
    "- User inferface\n"
   ]
  },
  {
   "cell_type": "markdown",
   "id": "2c0d827a-5559-4776-b979-8fc5577c8fb8",
   "metadata": {},
   "source": [
    "# Loading Sample Data set to display later"
   ]
  },
  {
   "cell_type": "markdown",
   "id": "840bb729-986a-494f-9c0e-e9fff7edfb20",
   "metadata": {},
   "source": [
    "## Loading dependencies"
   ]
  },
  {
   "cell_type": "code",
   "execution_count": 6,
   "id": "a34c840a-c75a-4e0b-a271-d7b38afb27d8",
   "metadata": {},
   "outputs": [],
   "source": [
    "from sklearn import datasets\n",
    "import pandas as pd\n",
    "import numpy as np"
   ]
  },
  {
   "cell_type": "markdown",
   "id": "73592297-75d6-4f9e-9447-f47d89150878",
   "metadata": {},
   "source": [
    "## Loading dataset"
   ]
  },
  {
   "cell_type": "code",
   "execution_count": null,
   "id": "a5f132e0-c755-43dc-8455-5d45cfbea2c5",
   "metadata": {},
   "outputs": [],
   "source": [
    "iris = datasets.load_iris()"
   ]
  },
  {
   "cell_type": "markdown",
   "id": "9948f175-61b2-42e7-894b-d275fd3b65b5",
   "metadata": {},
   "source": [
    "## Converting dataset to pandas Dataframe"
   ]
  },
  {
   "cell_type": "code",
   "execution_count": 8,
   "id": "41418495-3976-4292-89d7-28156b64e41f",
   "metadata": {},
   "outputs": [],
   "source": [
    "iris = \\\n",
    "pd.DataFrame(data= np.c_[iris['data'],\n",
    "             iris['target']],\n",
    "             columns= iris['feature_names'] + ['target']\n",
    "            )"
   ]
  },
  {
   "cell_type": "markdown",
   "id": "3d877c6e-f2cb-4eb7-9740-f0c7e27ad186",
   "metadata": {},
   "source": [
    "## Exporting sample size to .csv"
   ]
  },
  {
   "cell_type": "code",
   "execution_count": 10,
   "id": "5bd2cccf-fdbf-4f88-ba49-a4c99f70ee11",
   "metadata": {},
   "outputs": [],
   "source": [
    "iris.head().to_csv('sample_table.csv', index=False)"
   ]
  }
 ],
 "metadata": {
  "kernelspec": {
   "display_name": "Python 3 (ipykernel)",
   "language": "python",
   "name": "python3"
  },
  "language_info": {
   "codemirror_mode": {
    "name": "ipython",
    "version": 3
   },
   "file_extension": ".py",
   "mimetype": "text/x-python",
   "name": "python",
   "nbconvert_exporter": "python",
   "pygments_lexer": "ipython3",
   "version": "3.12.7"
  }
 },
 "nbformat": 4,
 "nbformat_minor": 5
}
