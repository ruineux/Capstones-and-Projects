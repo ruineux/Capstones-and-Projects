{
 "cells": [
  {
   "cell_type": "markdown",
   "id": "5d5bfb1e-ef03-406d-a714-035be4e0fe8e",
   "metadata": {},
   "source": [
    "# Why use Streamlit?\n",
    "\n",
    "- Use to visualize things using webapp framework\n",
    "\n",
    "# Features\n",
    "- Hosting\n",
    "- Support in backend data, pipeline, etc.\n",
    "- Easy coding exp\n",
    "- Database hosting\n",
    "- User inferface\n"
   ]
  },
  {
   "cell_type": "code",
   "execution_count": null,
   "id": "a34c840a-c75a-4e0b-a271-d7b38afb27d8",
   "metadata": {},
   "outputs": [],
   "source": []
  }
 ],
 "metadata": {
  "kernelspec": {
   "display_name": "Python 3 (ipykernel)",
   "language": "python",
   "name": "python3"
  },
  "language_info": {
   "codemirror_mode": {
    "name": "ipython",
    "version": 3
   },
   "file_extension": ".py",
   "mimetype": "text/x-python",
   "name": "python",
   "nbconvert_exporter": "python",
   "pygments_lexer": "ipython3",
   "version": "3.12.7"
  }
 },
 "nbformat": 4,
 "nbformat_minor": 5
}
