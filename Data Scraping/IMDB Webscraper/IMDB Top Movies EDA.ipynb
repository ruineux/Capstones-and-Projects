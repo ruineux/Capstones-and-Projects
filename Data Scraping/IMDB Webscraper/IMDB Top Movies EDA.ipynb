{
 "cells": [
  {
   "cell_type": "markdown",
   "metadata": {},
   "source": [
    "# Libraries"
   ]
  },
  {
   "cell_type": "markdown",
   "metadata": {},
   "source": [
    "## Essentials"
   ]
  },
  {
   "cell_type": "code",
   "execution_count": 1,
   "metadata": {
    "ExecuteTime": {
     "end_time": "2020-11-18T14:22:15.085443Z",
     "start_time": "2020-11-18T14:22:14.401599Z"
    }
   },
   "outputs": [],
   "source": [
    "import pandas as pd\n",
    "import numpy as np\n",
    "import matplotlib.pyplot as plt"
   ]
  },
  {
   "cell_type": "markdown",
   "metadata": {},
   "source": [
    "## My own scraping code"
   ]
  },
  {
   "cell_type": "code",
   "execution_count": null,
   "metadata": {},
   "outputs": [],
   "source": [
    "from scraper.imdb import get_top_imdb_movies"
   ]
  },
  {
   "cell_type": "markdown",
   "metadata": {},
   "source": [
    "# Dataset"
   ]
  },
  {
   "cell_type": "code",
   "execution_count": 3,
   "metadata": {
    "ExecuteTime": {
     "end_time": "2020-11-18T14:22:50.931347Z",
     "start_time": "2020-11-18T14:22:45.082185Z"
    }
   },
   "outputs": [],
   "source": [
    "URL = \"https://www.imdb.com/chart/top/\"\n",
    "DF = get_top_imdb_movies(URL)"
   ]
  },
  {
   "cell_type": "markdown",
   "metadata": {},
   "source": [
    "## What the data looks like"
   ]
  },
  {
   "cell_type": "code",
   "execution_count": 5,
   "metadata": {
    "ExecuteTime": {
     "end_time": "2020-11-18T16:14:16.156332Z",
     "start_time": "2020-11-18T16:14:16.124425Z"
    }
   },
   "outputs": [
    {
     "data": {
      "text/html": [
       "<div>\n",
       "<style scoped>\n",
       "    .dataframe tbody tr th:only-of-type {\n",
       "        vertical-align: middle;\n",
       "    }\n",
       "\n",
       "    .dataframe tbody tr th {\n",
       "        vertical-align: top;\n",
       "    }\n",
       "\n",
       "    .dataframe thead th {\n",
       "        text-align: right;\n",
       "    }\n",
       "</style>\n",
       "<table border=\"1\" class=\"dataframe\">\n",
       "  <thead>\n",
       "    <tr style=\"text-align: right;\">\n",
       "      <th></th>\n",
       "      <th>Rank</th>\n",
       "      <th>Title</th>\n",
       "      <th>Year</th>\n",
       "      <th>Lead Actor</th>\n",
       "      <th>Supporting Actor</th>\n",
       "      <th>Director</th>\n",
       "      <th>Rating</th>\n",
       "      <th>Votes</th>\n",
       "    </tr>\n",
       "  </thead>\n",
       "  <tbody>\n",
       "    <tr>\n",
       "      <th>0</th>\n",
       "      <td>1</td>\n",
       "      <td>The Shawshank Redemption</td>\n",
       "      <td>1994</td>\n",
       "      <td>Tim Robbins</td>\n",
       "      <td>Morgan Freeman</td>\n",
       "      <td>Frank Darabont</td>\n",
       "      <td>9.2</td>\n",
       "      <td>2307102</td>\n",
       "    </tr>\n",
       "    <tr>\n",
       "      <th>1</th>\n",
       "      <td>2</td>\n",
       "      <td>The Godfather</td>\n",
       "      <td>1972</td>\n",
       "      <td>Marlon Brando</td>\n",
       "      <td>Al Pacino</td>\n",
       "      <td>Francis Ford Coppola</td>\n",
       "      <td>9.1</td>\n",
       "      <td>1592236</td>\n",
       "    </tr>\n",
       "    <tr>\n",
       "      <th>2</th>\n",
       "      <td>3</td>\n",
       "      <td>The Godfather: Part II</td>\n",
       "      <td>1974</td>\n",
       "      <td>Al Pacino</td>\n",
       "      <td>Robert De Niro</td>\n",
       "      <td>Francis Ford Coppola</td>\n",
       "      <td>9.0</td>\n",
       "      <td>1112366</td>\n",
       "    </tr>\n",
       "    <tr>\n",
       "      <th>3</th>\n",
       "      <td>4</td>\n",
       "      <td>The Dark Knight</td>\n",
       "      <td>2008</td>\n",
       "      <td>Christian Bale</td>\n",
       "      <td>Heath Ledger</td>\n",
       "      <td>Christopher Nolan</td>\n",
       "      <td>9.0</td>\n",
       "      <td>2270171</td>\n",
       "    </tr>\n",
       "    <tr>\n",
       "      <th>4</th>\n",
       "      <td>5</td>\n",
       "      <td>12 Angry Men</td>\n",
       "      <td>1957</td>\n",
       "      <td>Henry Fonda</td>\n",
       "      <td>Lee J. Cobb</td>\n",
       "      <td>Sidney Lumet</td>\n",
       "      <td>8.9</td>\n",
       "      <td>678194</td>\n",
       "    </tr>\n",
       "  </tbody>\n",
       "</table>\n",
       "</div>"
      ],
      "text/plain": [
       "   Rank                     Title  Year       Lead Actor Supporting Actor              Director  Rating    Votes\n",
       "0     1  The Shawshank Redemption  1994      Tim Robbins   Morgan Freeman        Frank Darabont     9.2  2307102\n",
       "1     2             The Godfather  1972    Marlon Brando        Al Pacino  Francis Ford Coppola     9.1  1592236\n",
       "2     3    The Godfather: Part II  1974        Al Pacino   Robert De Niro  Francis Ford Coppola     9.0  1112366\n",
       "3     4           The Dark Knight  2008   Christian Bale     Heath Ledger     Christopher Nolan     9.0  2270171\n",
       "4     5              12 Angry Men  1957      Henry Fonda      Lee J. Cobb          Sidney Lumet     8.9   678194"
      ]
     },
     "execution_count": 5,
     "metadata": {},
     "output_type": "execute_result"
    }
   ],
   "source": [
    "DF.head()"
   ]
  },
  {
   "cell_type": "markdown",
   "metadata": {},
   "source": [
    "## Checking if there's missing inputs and datatypes of each features"
   ]
  },
  {
   "cell_type": "code",
   "execution_count": 6,
   "metadata": {
    "ExecuteTime": {
     "end_time": "2020-11-18T16:15:10.237220Z",
     "start_time": "2020-11-18T16:15:10.217785Z"
    }
   },
   "outputs": [
    {
     "name": "stdout",
     "output_type": "stream",
     "text": [
      "<class 'pandas.core.frame.DataFrame'>\n",
      "RangeIndex: 250 entries, 0 to 249\n",
      "Data columns (total 8 columns):\n",
      " #   Column            Non-Null Count  Dtype  \n",
      "---  ------            --------------  -----  \n",
      " 0   Rank              250 non-null    int64  \n",
      " 1   Title             250 non-null    object \n",
      " 2   Year              250 non-null    int64  \n",
      " 3   Lead Actor        250 non-null    object \n",
      " 4   Supporting Actor  250 non-null    object \n",
      " 5   Director          250 non-null    object \n",
      " 6   Rating            250 non-null    float64\n",
      " 7   Votes             250 non-null    int64  \n",
      "dtypes: float64(1), int64(3), object(4)\n",
      "memory usage: 15.8+ KB\n"
     ]
    }
   ],
   "source": [
    "DF.info()"
   ]
  },
  {
   "cell_type": "markdown",
   "metadata": {},
   "source": [
    "# Exploratory Data Analysis"
   ]
  },
  {
   "cell_type": "markdown",
   "metadata": {},
   "source": [
    "## Oldest Movie in the list"
   ]
  },
  {
   "cell_type": "code",
   "execution_count": 38,
   "metadata": {
    "ExecuteTime": {
     "end_time": "2020-11-18T16:26:57.724726Z",
     "start_time": "2020-11-18T16:26:57.702757Z"
    }
   },
   "outputs": [
    {
     "data": {
      "text/html": [
       "<div>\n",
       "<style scoped>\n",
       "    .dataframe tbody tr th:only-of-type {\n",
       "        vertical-align: middle;\n",
       "    }\n",
       "\n",
       "    .dataframe tbody tr th {\n",
       "        vertical-align: top;\n",
       "    }\n",
       "\n",
       "    .dataframe thead th {\n",
       "        text-align: right;\n",
       "    }\n",
       "</style>\n",
       "<table border=\"1\" class=\"dataframe\">\n",
       "  <thead>\n",
       "    <tr style=\"text-align: right;\">\n",
       "      <th></th>\n",
       "      <th>Rank</th>\n",
       "      <th>Title</th>\n",
       "      <th>Year</th>\n",
       "      <th>Lead Actor</th>\n",
       "      <th>Supporting Actor</th>\n",
       "      <th>Director</th>\n",
       "      <th>Rating</th>\n",
       "      <th>Votes</th>\n",
       "    </tr>\n",
       "  </thead>\n",
       "  <tbody>\n",
       "    <tr>\n",
       "      <th>100</th>\n",
       "      <td>101</td>\n",
       "      <td>The Kid</td>\n",
       "      <td>1921</td>\n",
       "      <td>Charles Chaplin</td>\n",
       "      <td>Edna Purviance</td>\n",
       "      <td>Charles Chaplin</td>\n",
       "      <td>8.2</td>\n",
       "      <td>111165</td>\n",
       "    </tr>\n",
       "  </tbody>\n",
       "</table>\n",
       "</div>"
      ],
      "text/plain": [
       "     Rank    Title  Year        Lead Actor Supporting Actor         Director  Rating   Votes\n",
       "100   101  The Kid  1921   Charles Chaplin   Edna Purviance  Charles Chaplin     8.2  111165"
      ]
     },
     "execution_count": 38,
     "metadata": {},
     "output_type": "execute_result"
    }
   ],
   "source": [
    "MIN = DF[\"Year\"].min()\n",
    "DF[DF[\"Year\"] == MIN]"
   ]
  },
  {
   "cell_type": "markdown",
   "metadata": {},
   "source": [
    "## Newest Movie in the list"
   ]
  },
  {
   "cell_type": "code",
   "execution_count": 39,
   "metadata": {
    "ExecuteTime": {
     "end_time": "2020-11-18T16:27:15.130185Z",
     "start_time": "2020-11-18T16:27:15.100879Z"
    }
   },
   "outputs": [
    {
     "data": {
      "text/html": [
       "<div>\n",
       "<style scoped>\n",
       "    .dataframe tbody tr th:only-of-type {\n",
       "        vertical-align: middle;\n",
       "    }\n",
       "\n",
       "    .dataframe tbody tr th {\n",
       "        vertical-align: top;\n",
       "    }\n",
       "\n",
       "    .dataframe thead th {\n",
       "        text-align: right;\n",
       "    }\n",
       "</style>\n",
       "<table border=\"1\" class=\"dataframe\">\n",
       "  <thead>\n",
       "    <tr style=\"text-align: right;\">\n",
       "      <th></th>\n",
       "      <th>Rank</th>\n",
       "      <th>Title</th>\n",
       "      <th>Year</th>\n",
       "      <th>Lead Actor</th>\n",
       "      <th>Supporting Actor</th>\n",
       "      <th>Director</th>\n",
       "      <th>Rating</th>\n",
       "      <th>Votes</th>\n",
       "    </tr>\n",
       "  </thead>\n",
       "  <tbody>\n",
       "    <tr>\n",
       "      <th>47</th>\n",
       "      <td>48</td>\n",
       "      <td>Hamilton</td>\n",
       "      <td>2020</td>\n",
       "      <td>Lin-Manuel Miranda</td>\n",
       "      <td>Phillipa Soo</td>\n",
       "      <td>Thomas Kail</td>\n",
       "      <td>8.5</td>\n",
       "      <td>46663</td>\n",
       "    </tr>\n",
       "  </tbody>\n",
       "</table>\n",
       "</div>"
      ],
      "text/plain": [
       "    Rank     Title  Year           Lead Actor Supporting Actor     Director  Rating  Votes\n",
       "47    48  Hamilton  2020   Lin-Manuel Miranda     Phillipa Soo  Thomas Kail     8.5  46663"
      ]
     },
     "execution_count": 39,
     "metadata": {},
     "output_type": "execute_result"
    }
   ],
   "source": [
    "MAX = DF[\"Year\"].max()\n",
    "DF[DF[\"Year\"] == MAX]"
   ]
  },
  {
   "cell_type": "markdown",
   "metadata": {},
   "source": [
    "## Looking on year-on-year"
   ]
  },
  {
   "cell_type": "code",
   "execution_count": 19,
   "metadata": {
    "ExecuteTime": {
     "end_time": "2020-11-18T16:19:15.222849Z",
     "start_time": "2020-11-18T16:19:15.209894Z"
    }
   },
   "outputs": [
    {
     "data": {
      "text/plain": [
       "count    84.000000\n",
       "mean      2.976190\n",
       "std       1.769733\n",
       "min       1.000000\n",
       "25%       1.000000\n",
       "50%       2.500000\n",
       "75%       4.250000\n",
       "max       8.000000\n",
       "Name: Year, dtype: float64"
      ]
     },
     "execution_count": 19,
     "metadata": {},
     "output_type": "execute_result"
    }
   ],
   "source": [
    "DF[\"Year\"].value_counts().describe()"
   ]
  },
  {
   "cell_type": "markdown",
   "metadata": {},
   "source": [
    "- Majority the years have at least **4** movies belong in the list"
   ]
  },
  {
   "cell_type": "code",
   "execution_count": 48,
   "metadata": {
    "ExecuteTime": {
     "end_time": "2020-11-18T16:30:51.569781Z",
     "start_time": "2020-11-18T16:30:51.456594Z"
    }
   },
   "outputs": [
    {
     "data": {
      "image/png": "[encoded data removed]",
      "text/plain": [
       "<Figure size 432x288 with 1 Axes>"
      ]
     },
     "metadata": {
      "needs_background": "light"
     },
     "output_type": "display_data"
    }
   ],
   "source": [
    "DF[\"Year\"].value_counts().head(5)[::-1].plot.barh();\n",
    "\n",
    "plt.xlabel(\"Count of movies\");"
   ]
  },
  {
   "cell_type": "markdown",
   "metadata": {},
   "source": [
    "- Year **1995** has the most number of movies belong in the list followed by **2019**"
   ]
  },
  {
   "cell_type": "markdown",
   "metadata": {},
   "source": [
    "### Movies found in 1995"
   ]
  },
  {
   "cell_type": "code",
   "execution_count": 49,
   "metadata": {
    "ExecuteTime": {
     "end_time": "2020-11-18T16:39:01.821036Z",
     "start_time": "2020-11-18T16:39:01.802087Z"
    }
   },
   "outputs": [
    {
     "data": {
      "text/html": [
       "<div>\n",
       "<style scoped>\n",
       "    .dataframe tbody tr th:only-of-type {\n",
       "        vertical-align: middle;\n",
       "    }\n",
       "\n",
       "    .dataframe tbody tr th {\n",
       "        vertical-align: top;\n",
       "    }\n",
       "\n",
       "    .dataframe thead th {\n",
       "        text-align: right;\n",
       "    }\n",
       "</style>\n",
       "<table border=\"1\" class=\"dataframe\">\n",
       "  <thead>\n",
       "    <tr style=\"text-align: right;\">\n",
       "      <th></th>\n",
       "      <th>Rank</th>\n",
       "      <th>Title</th>\n",
       "      <th>Year</th>\n",
       "      <th>Lead Actor</th>\n",
       "      <th>Supporting Actor</th>\n",
       "      <th>Director</th>\n",
       "      <th>Rating</th>\n",
       "      <th>Votes</th>\n",
       "    </tr>\n",
       "  </thead>\n",
       "  <tbody>\n",
       "    <tr>\n",
       "      <th>19</th>\n",
       "      <td>20</td>\n",
       "      <td>Se7en</td>\n",
       "      <td>1995</td>\n",
       "      <td>Morgan Freeman</td>\n",
       "      <td>Brad Pitt</td>\n",
       "      <td>David Fincher</td>\n",
       "      <td>8.6</td>\n",
       "      <td>1421269</td>\n",
       "    </tr>\n",
       "    <tr>\n",
       "      <th>31</th>\n",
       "      <td>32</td>\n",
       "      <td>The Usual Suspects</td>\n",
       "      <td>1995</td>\n",
       "      <td>Kevin Spacey</td>\n",
       "      <td>Gabriel Byrne</td>\n",
       "      <td>Bryan Singer</td>\n",
       "      <td>8.5</td>\n",
       "      <td>978988</td>\n",
       "    </tr>\n",
       "    <tr>\n",
       "      <th>77</th>\n",
       "      <td>78</td>\n",
       "      <td>Braveheart</td>\n",
       "      <td>1995</td>\n",
       "      <td>Mel Gibson</td>\n",
       "      <td>Sophie Marceau</td>\n",
       "      <td>Mel Gibson</td>\n",
       "      <td>8.3</td>\n",
       "      <td>949300</td>\n",
       "    </tr>\n",
       "    <tr>\n",
       "      <th>80</th>\n",
       "      <td>81</td>\n",
       "      <td>Toy Story</td>\n",
       "      <td>1995</td>\n",
       "      <td>Tom Hanks</td>\n",
       "      <td>Tim Allen</td>\n",
       "      <td>John Lasseter</td>\n",
       "      <td>8.3</td>\n",
       "      <td>874611</td>\n",
       "    </tr>\n",
       "    <tr>\n",
       "      <th>122</th>\n",
       "      <td>123</td>\n",
       "      <td>Heat</td>\n",
       "      <td>1995</td>\n",
       "      <td>Al Pacino</td>\n",
       "      <td>Robert De Niro</td>\n",
       "      <td>Michael Mann</td>\n",
       "      <td>8.2</td>\n",
       "      <td>568716</td>\n",
       "    </tr>\n",
       "    <tr>\n",
       "      <th>138</th>\n",
       "      <td>139</td>\n",
       "      <td>Casino</td>\n",
       "      <td>1995</td>\n",
       "      <td>Robert De Niro</td>\n",
       "      <td>Sharon Stone</td>\n",
       "      <td>Martin Scorsese</td>\n",
       "      <td>8.2</td>\n",
       "      <td>459156</td>\n",
       "    </tr>\n",
       "    <tr>\n",
       "      <th>190</th>\n",
       "      <td>191</td>\n",
       "      <td>Before Sunrise</td>\n",
       "      <td>1995</td>\n",
       "      <td>Ethan Hawke</td>\n",
       "      <td>Julie Delpy</td>\n",
       "      <td>Richard Linklater</td>\n",
       "      <td>8.1</td>\n",
       "      <td>267014</td>\n",
       "    </tr>\n",
       "    <tr>\n",
       "      <th>226</th>\n",
       "      <td>227</td>\n",
       "      <td>La haine</td>\n",
       "      <td>1995</td>\n",
       "      <td>Vincent Cassel</td>\n",
       "      <td>Hubert Koundé</td>\n",
       "      <td>Mathieu Kassovitz</td>\n",
       "      <td>8.0</td>\n",
       "      <td>147194</td>\n",
       "    </tr>\n",
       "  </tbody>\n",
       "</table>\n",
       "</div>"
      ],
      "text/plain": [
       "     Rank               Title  Year       Lead Actor Supporting Actor           Director  Rating    Votes\n",
       "19     20               Se7en  1995   Morgan Freeman        Brad Pitt      David Fincher     8.6  1421269\n",
       "31     32  The Usual Suspects  1995     Kevin Spacey    Gabriel Byrne       Bryan Singer     8.5   978988\n",
       "77     78          Braveheart  1995       Mel Gibson   Sophie Marceau         Mel Gibson     8.3   949300\n",
       "80     81           Toy Story  1995        Tom Hanks        Tim Allen      John Lasseter     8.3   874611\n",
       "122   123                Heat  1995        Al Pacino   Robert De Niro       Michael Mann     8.2   568716\n",
       "138   139              Casino  1995   Robert De Niro     Sharon Stone    Martin Scorsese     8.2   459156\n",
       "190   191      Before Sunrise  1995      Ethan Hawke      Julie Delpy  Richard Linklater     8.1   267014\n",
       "226   227            La haine  1995   Vincent Cassel    Hubert Koundé  Mathieu Kassovitz     8.0   147194"
      ]
     },
     "execution_count": 49,
     "metadata": {},
     "output_type": "execute_result"
    }
   ],
   "source": [
    "DF[DF[\"Year\"] == 1995]"
   ]
  },
  {
   "cell_type": "markdown",
   "metadata": {},
   "source": [
    "### Movies found in 2019"
   ]
  },
  {
   "cell_type": "code",
   "execution_count": 50,
   "metadata": {
    "ExecuteTime": {
     "end_time": "2020-11-18T16:39:52.272754Z",
     "start_time": "2020-11-18T16:39:52.242818Z"
    }
   },
   "outputs": [
    {
     "data": {
      "text/html": [
       "<div>\n",
       "<style scoped>\n",
       "    .dataframe tbody tr th:only-of-type {\n",
       "        vertical-align: middle;\n",
       "    }\n",
       "\n",
       "    .dataframe tbody tr th {\n",
       "        vertical-align: top;\n",
       "    }\n",
       "\n",
       "    .dataframe thead th {\n",
       "        text-align: right;\n",
       "    }\n",
       "</style>\n",
       "<table border=\"1\" class=\"dataframe\">\n",
       "  <thead>\n",
       "    <tr style=\"text-align: right;\">\n",
       "      <th></th>\n",
       "      <th>Rank</th>\n",
       "      <th>Title</th>\n",
       "      <th>Year</th>\n",
       "      <th>Lead Actor</th>\n",
       "      <th>Supporting Actor</th>\n",
       "      <th>Director</th>\n",
       "      <th>Rating</th>\n",
       "      <th>Votes</th>\n",
       "    </tr>\n",
       "  </thead>\n",
       "  <tbody>\n",
       "    <tr>\n",
       "      <th>29</th>\n",
       "      <td>30</td>\n",
       "      <td>Gisaengchung</td>\n",
       "      <td>2019</td>\n",
       "      <td>Kang-ho Song</td>\n",
       "      <td>Sun-kyun Lee</td>\n",
       "      <td>Bong Joon Ho</td>\n",
       "      <td>8.5</td>\n",
       "      <td>507701</td>\n",
       "    </tr>\n",
       "    <tr>\n",
       "      <th>59</th>\n",
       "      <td>60</td>\n",
       "      <td>Joker</td>\n",
       "      <td>2019</td>\n",
       "      <td>Joaquin Phoenix</td>\n",
       "      <td>Robert De Niro</td>\n",
       "      <td>Todd Phillips</td>\n",
       "      <td>8.4</td>\n",
       "      <td>895806</td>\n",
       "    </tr>\n",
       "    <tr>\n",
       "      <th>74</th>\n",
       "      <td>75</td>\n",
       "      <td>Avengers: Endgame</td>\n",
       "      <td>2019</td>\n",
       "      <td>Robert Downey Jr.</td>\n",
       "      <td>Chris Evans</td>\n",
       "      <td>Anthony Russo</td>\n",
       "      <td>8.3</td>\n",
       "      <td>779963</td>\n",
       "    </tr>\n",
       "    <tr>\n",
       "      <th>97</th>\n",
       "      <td>98</td>\n",
       "      <td>1917</td>\n",
       "      <td>2019</td>\n",
       "      <td>Dean-Charles Chapman</td>\n",
       "      <td>George MacKay</td>\n",
       "      <td>Sam Mendes</td>\n",
       "      <td>8.2</td>\n",
       "      <td>389990</td>\n",
       "    </tr>\n",
       "    <tr>\n",
       "      <th>183</th>\n",
       "      <td>184</td>\n",
       "      <td>Klaus</td>\n",
       "      <td>2019</td>\n",
       "      <td>Jason Schwartzman</td>\n",
       "      <td>J.K. Simmons</td>\n",
       "      <td>Sergio Pablos</td>\n",
       "      <td>8.1</td>\n",
       "      <td>79027</td>\n",
       "    </tr>\n",
       "    <tr>\n",
       "      <th>201</th>\n",
       "      <td>202</td>\n",
       "      <td>Ford v Ferrari</td>\n",
       "      <td>2019</td>\n",
       "      <td>Matt Damon</td>\n",
       "      <td>Christian Bale</td>\n",
       "      <td>James Mangold</td>\n",
       "      <td>8.1</td>\n",
       "      <td>272676</td>\n",
       "    </tr>\n",
       "    <tr>\n",
       "      <th>237</th>\n",
       "      <td>238</td>\n",
       "      <td>Portrait de la jeune fille en feu</td>\n",
       "      <td>2019</td>\n",
       "      <td>Noémie Merlant</td>\n",
       "      <td>Adèle Haenel</td>\n",
       "      <td>Céline Sciamma</td>\n",
       "      <td>8.0</td>\n",
       "      <td>56024</td>\n",
       "    </tr>\n",
       "  </tbody>\n",
       "</table>\n",
       "</div>"
      ],
      "text/plain": [
       "     Rank                              Title  Year  ...        Director Rating   Votes\n",
       "29     30                       Gisaengchung  2019  ...    Bong Joon Ho    8.5  507701\n",
       "59     60                              Joker  2019  ...   Todd Phillips    8.4  895806\n",
       "74     75                  Avengers: Endgame  2019  ...   Anthony Russo    8.3  779963\n",
       "97     98                               1917  2019  ...      Sam Mendes    8.2  389990\n",
       "183   184                              Klaus  2019  ...   Sergio Pablos    8.1   79027\n",
       "201   202                     Ford v Ferrari  2019  ...   James Mangold    8.1  272676\n",
       "237   238  Portrait de la jeune fille en feu  2019  ...  Céline Sciamma    8.0   56024\n",
       "\n",
       "[7 rows x 8 columns]"
      ]
     },
     "execution_count": 50,
     "metadata": {},
     "output_type": "execute_result"
    }
   ],
   "source": [
    "DF[DF[\"Year\"] == 2019]"
   ]
  },
  {
   "cell_type": "markdown",
   "metadata": {},
   "source": [
    "## Qualification to be included in the list"
   ]
  },
  {
   "cell_type": "code",
   "execution_count": 106,
   "metadata": {
    "ExecuteTime": {
     "end_time": "2020-11-18T19:47:05.170933Z",
     "start_time": "2020-11-18T19:47:04.904857Z"
    }
   },
   "outputs": [
    {
     "data": {
      "image/png": "[encoded data removed]",
      "text/plain": [
       "<Figure size 432x288 with 1 Axes>"
      ]
     },
     "metadata": {
      "needs_background": "light"
     },
     "output_type": "display_data"
    }
   ],
   "source": [
    "DF[\"Rating\"].hist(grid=False)\n",
    "\n",
    "plt.xlabel(\"Rating\");"
   ]
  },
  {
   "cell_type": "code",
   "execution_count": 96,
   "metadata": {
    "ExecuteTime": {
     "end_time": "2020-11-18T19:29:48.621825Z",
     "start_time": "2020-11-18T19:29:48.603788Z"
    }
   },
   "outputs": [
    {
     "data": {
      "text/plain": [
       "count    2.500000e+02\n",
       "mean     5.353498e+05\n",
       "std      4.569996e+05\n",
       "min      2.604000e+04\n",
       "25%      1.572238e+05\n",
       "50%      3.897050e+05\n",
       "75%      8.011715e+05\n",
       "max      2.307102e+06\n",
       "Name: Votes, dtype: float64"
      ]
     },
     "execution_count": 96,
     "metadata": {},
     "output_type": "execute_result"
    }
   ],
   "source": [
    "DF[\"Votes\"].describe()"
   ]
  },
  {
   "cell_type": "markdown",
   "metadata": {},
   "source": [
    "## Decade by decade volume comparison of top movies"
   ]
  },
  {
   "cell_type": "code",
   "execution_count": 98,
   "metadata": {
    "ExecuteTime": {
     "end_time": "2020-11-18T19:39:44.507930Z",
     "start_time": "2020-11-18T19:39:44.488182Z"
    }
   },
   "outputs": [
    {
     "data": {
      "text/plain": [
       "1920     7\n",
       "1930     8\n",
       "1940    11\n",
       "1950    22\n",
       "1960    16\n",
       "1970    22\n",
       "1980    26\n",
       "1990    45\n",
       "2000    46\n",
       "2010    47\n",
       "2020     0\n",
       "Name: Year, dtype: int64"
      ]
     },
     "execution_count": 98,
     "metadata": {},
     "output_type": "execute_result"
    }
   ],
   "source": [
    "pd.cut(DF[\"Year\"],np.arange(1920, 2040, step=10),labels=np.arange(1920, 2040, step=10).tolist()[:-1])\\\n",
    ".value_counts()\\\n",
    ".sort_index()"
   ]
  },
  {
   "cell_type": "code",
   "execution_count": 103,
   "metadata": {
    "ExecuteTime": {
     "end_time": "2020-11-18T19:41:41.467220Z",
     "start_time": "2020-11-18T19:41:41.459243Z"
    }
   },
   "outputs": [],
   "source": [
    "ax.get_xticklabels()[0].set_text(\"sad\")"
   ]
  },
  {
   "cell_type": "code",
   "execution_count": 104,
   "metadata": {
    "ExecuteTime": {
     "end_time": "2020-11-18T19:41:47.352359Z",
     "start_time": "2020-11-18T19:41:47.344592Z"
    }
   },
   "outputs": [
    {
     "data": {
      "text/plain": [
       "Text(-2.0, 0, 'sad')"
      ]
     },
     "execution_count": 104,
     "metadata": {},
     "output_type": "execute_result"
    }
   ],
   "source": [
    "ax.get_xticklabels()[0]"
   ]
  },
  {
   "cell_type": "code",
   "execution_count": 97,
   "metadata": {
    "ExecuteTime": {
     "end_time": "2020-11-18T19:39:19.673008Z",
     "start_time": "2020-11-18T19:39:19.447607Z"
    }
   },
   "outputs": [
    {
     "data": {
      "text/plain": [
       "[Text(-2.0, 0, '2010'),\n",
       " Text(0.0, 0, '1920'),\n",
       " Text(2.0, 0, '1940'),\n",
       " Text(4.0, 0, '1960'),\n",
       " Text(6.0, 0, '1980'),\n",
       " Text(8.0, 0, '2000'),\n",
       " Text(10.0, 0, '2020'),\n",
       " Text(12.0, 0, '')]"
      ]
     },
     "execution_count": 97,
     "metadata": {},
     "output_type": "execute_result"
    },
    {
     "data": {
      "image/png": "[encoded data removed]",
      "text/plain": [
       "<Figure size 576x360 with 1 Axes>"
      ]
     },
     "metadata": {
      "needs_background": "light"
     },
     "output_type": "display_data"
    }
   ],
   "source": [
    "fig, ax = plt.subplots(1,1,figsize=(8,5))\n",
    "\n",
    "pd.cut(DF[\"Year\"],np.arange(1920, 2040, step=10),labels=np.arange(1920, 2040, step=10).tolist()[:-1])\\\n",
    ".value_counts()\\\n",
    ".sort_index().plot.line(ax=ax, marker=\"o\");\n",
    "\n",
    "ax.get_xticklabels()"
   ]
  },
  {
   "cell_type": "markdown",
   "metadata": {},
   "source": [
    "## Most appearance of an actor in the list"
   ]
  },
  {
   "cell_type": "code",
   "execution_count": 54,
   "metadata": {
    "ExecuteTime": {
     "end_time": "2020-11-18T16:41:13.924257Z",
     "start_time": "2020-11-18T16:41:13.800543Z"
    }
   },
   "outputs": [
    {
     "data": {
      "image/png": "[encoded data removed]",
      "text/plain": [
       "<Figure size 432x288 with 1 Axes>"
      ]
     },
     "metadata": {
      "needs_background": "light"
     },
     "output_type": "display_data"
    }
   ],
   "source": [
    "DF[\"Lead Actor\"].append(DF[\"Supporting Actor\"]).value_counts().head(10)[::-1].plot.barh();"
   ]
  },
  {
   "cell_type": "markdown",
   "metadata": {},
   "source": [
    "## Best director in the list"
   ]
  },
  {
   "cell_type": "code",
   "execution_count": 59,
   "metadata": {
    "ExecuteTime": {
     "end_time": "2020-11-18T16:43:02.744228Z",
     "start_time": "2020-11-18T16:43:02.616066Z"
    }
   },
   "outputs": [
    {
     "data": {
      "image/png": "[encoded data removed]",
      "text/plain": [
       "<Figure size 432x288 with 1 Axes>"
      ]
     },
     "metadata": {
      "needs_background": "light"
     },
     "output_type": "display_data"
    }
   ],
   "source": [
    "DF[\"Director\"].value_counts().head(10)[::-1].plot.barh();"
   ]
  },
  {
   "cell_type": "code",
   "execution_count": null,
   "metadata": {},
   "outputs": [],
   "source": []
  }
 ],
 "metadata": {
  "kernelspec": {
   "display_name": "Python 3",
   "language": "python",
   "name": "python3"
  },
  "language_info": {
   "codemirror_mode": {
    "name": "ipython",
    "version": 3
   },
   "file_extension": ".py",
   "mimetype": "text/x-python",
   "name": "python",
   "nbconvert_exporter": "python",
   "pygments_lexer": "ipython3",
   "version": "3.7.4"
  },
  "toc": {
   "base_numbering": 1,
   "nav_menu": {},
   "number_sections": false,
   "sideBar": true,
   "skip_h1_title": false,
   "title_cell": "Table of Contents",
   "title_sidebar": "Contents",
   "toc_cell": false,
   "toc_position": {},
   "toc_section_display": true,
   "toc_window_display": true
  },
  "varInspector": {
   "cols": {
    "lenName": 16,
    "lenType": 16,
    "lenVar": 40
   },
   "kernels_config": {
    "python": {
     "delete_cmd_postfix": "",
     "delete_cmd_prefix": "del ",
     "library": "var_list.py",
     "varRefreshCmd": "print(var_dic_list())"
    },
    "r": {
     "delete_cmd_postfix": ") ",
     "delete_cmd_prefix": "rm(",
     "library": "var_list.r",
     "varRefreshCmd": "cat(var_dic_list()) "
    }
   },
   "types_to_exclude": [
    "module",
    "function",
    "builtin_function_or_method",
    "instance",
    "_Feature"
   ],
   "window_display": false
  }
 },
 "nbformat": 4,
 "nbformat_minor": 2
}
