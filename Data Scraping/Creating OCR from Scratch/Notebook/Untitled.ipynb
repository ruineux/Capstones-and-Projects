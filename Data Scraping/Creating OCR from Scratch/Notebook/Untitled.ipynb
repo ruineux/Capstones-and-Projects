{
 "cells": [
  {
   "cell_type": "markdown",
   "id": "5f2b9ac2-e78d-4d4b-a789-27235e9e6cf5",
   "metadata": {},
   "source": [
    "# Creating OCR Model from Scratch"
   ]
  },
  {
   "cell_type": "markdown",
   "id": "8a5e4b2d-7276-4e8c-85dd-0894773c463a",
   "metadata": {},
   "source": [
    "## Imports"
   ]
  },
  {
   "cell_type": "markdown",
   "id": "15aef2ab-27ed-4200-83f1-ae859b54b56d",
   "metadata": {},
   "source": [
    "### Libraries & Packages"
   ]
  },
  {
   "cell_type": "code",
   "execution_count": 1,
   "id": "12f4f6b8-ac65-42de-bf90-53024b7bbb4a",
   "metadata": {},
   "outputs": [],
   "source": [
    "import cv2\n",
    "import matplotlib.pyplot as plt \n",
    "\n",
    "import tensorflow as tf\n",
    "from tensorflow.keras.models import Sequential\n",
    "from tensorflow.keras.layers import Conv2D, MaxPooling2D, Flatten, Dense"
   ]
  },
  {
   "cell_type": "code",
   "execution_count": 2,
   "id": "afc72c83-b369-4cea-ae61-ffb849a00f20",
   "metadata": {},
   "outputs": [],
   "source": [
    "from tensorflow.python.client import device_lib"
   ]
  },
  {
   "cell_type": "code",
   "execution_count": 3,
   "id": "5311afcb-8e52-4840-95b4-b42d7c04c450",
   "metadata": {},
   "outputs": [
    {
     "name": "stdout",
     "output_type": "stream",
     "text": [
      "['/device:CPU:0']\n"
     ]
    }
   ],
   "source": [
    "def get_available_devices():\n",
    "    local_device_protos = device_lib.list_local_devices()\n",
    "    return [x.name for x in local_device_protos]\n",
    "\n",
    "print(get_available_devices())"
   ]
  },
  {
   "cell_type": "code",
   "execution_count": 8,
   "id": "290b2a91-fbbe-4fcd-bce8-1449bf8959d9",
   "metadata": {},
   "outputs": [
    {
     "data": {
      "text/plain": [
       "[PhysicalDevice(name='/physical_device:CPU:0', device_type='CPU')]"
      ]
     },
     "execution_count": 8,
     "metadata": {},
     "output_type": "execute_result"
    }
   ],
   "source": [
    "tf.config.experimental.list_physical_devices()"
   ]
  },
  {
   "cell_type": "code",
   "execution_count": 7,
   "id": "df39cf52-a01a-421d-8bdc-b96745d74bb9",
   "metadata": {},
   "outputs": [
    {
     "name": "stdout",
     "output_type": "stream",
     "text": [
      "Available devices: [PhysicalDevice(name='/physical_device:CPU:0', device_type='CPU')]\n"
     ]
    }
   ],
   "source": [
    "print(\"Available devices:\", tf.config.experimental.list_physical_devices())"
   ]
  },
  {
   "cell_type": "markdown",
   "id": "3528833c-edf6-498e-8d8a-a22fd56c8dbe",
   "metadata": {},
   "source": [
    "### Data"
   ]
  },
  {
   "cell_type": "code",
   "execution_count": 2,
   "id": "d183f2dc-5bd1-4f77-8ba8-0ab416def89e",
   "metadata": {},
   "outputs": [
    {
     "name": "stdout",
     "output_type": "stream",
     "text": [
      "Available devices: [PhysicalDevice(name='/physical_device:CPU:0', device_type='CPU')]\n"
     ]
    }
   ],
   "source": [
    "print(\"Available devices:\", tf.config.experimental.list_physical_devices())"
   ]
  },
  {
   "cell_type": "code",
   "execution_count": null,
   "id": "6352f845-c48c-4107-932f-95a2b05c9f49",
   "metadata": {},
   "outputs": [],
   "source": []
  },
  {
   "cell_type": "markdown",
   "id": "f2871fcf-c40c-4355-9f76-cfd4b4975db7",
   "metadata": {},
   "source": [
    "### Functions"
   ]
  },
  {
   "cell_type": "markdown",
   "id": "08338b61-690e-4d97-8750-b57c0051106b",
   "metadata": {},
   "source": [
    "#### Display image"
   ]
  },
  {
   "cell_type": "code",
   "execution_count": null,
   "id": "fa943deb-337e-4e6b-b321-5eeff03257d6",
   "metadata": {},
   "outputs": [],
   "source": [
    "def display_image(image_path):\n",
    "    \n",
    "    #Read image from path    \n",
    "    image = cv2.imread(image_path)\n",
    "    \n",
    "    # Convert image from BGR (OpenCV format) to RGB (matplotlib format)\n",
    "    image_rgb = cv2.cvtColor(image, cv2.COLOR_BGR2RGB)\n",
    "    \n",
    "    plt.imshow(image_rgb)\n",
    "    plt.axis('off')\n",
    "    plt.show()"
   ]
  },
  {
   "cell_type": "markdown",
   "id": "502937e8-0b72-499f-828a-79e5100d6b04",
   "metadata": {},
   "source": [
    "#### Preprocess Image"
   ]
  },
  {
   "cell_type": "code",
   "execution_count": null,
   "id": "14bb22ab-6240-4e70-8c7f-d8bc6884cd63",
   "metadata": {},
   "outputs": [],
   "source": [
    "def preprocess_image(image_path, width=128, height=128):\n",
    "    # Read image from path\n",
    "    image = cv2.imread(image_path)\n",
    "    \n",
    "    # Convert to grayscale\n",
    "    gray_image = cv2.cvtColor(image, cv2.COLOR_BGR2GRAY)\n",
    "    \n",
    "    # Resize\n",
    "    resized_image = cv2.resize(gray_image, (width, height))\n",
    "    \n",
    "    # Reduce noise\n",
    "    denoised_image = cv2.fastNlMeansDenoising(resized_image, None, 30, 7, 21)\n",
    "    \n",
    "    # Normalize the image\n",
    "    normalized_image = denoised_image.astype('float32') / 255.0\n",
    "    \n",
    "    # Expand dimensions to match the expected input shape of the model\n",
    "    preprocessed_image = np.expand_dims(normalized_image, axis=-1)\n",
    "    \n",
    "    return preprocessed_image"
   ]
  },
  {
   "cell_type": "markdown",
   "id": "c62f3ccb-041d-4b36-ac7a-f0b720fd9c2d",
   "metadata": {},
   "source": [
    "#### Creating the model"
   ]
  },
  {
   "cell_type": "code",
   "execution_count": null,
   "id": "5a29e0db-0b1e-4bfe-8b53-22ab3b8a39f7",
   "metadata": {},
   "outputs": [],
   "source": [
    "def create_ocr_model():\n",
    "    model = Sequential()\n",
    "    model.add(Conv2D(32, (3, 3), activation='relu', input_shape=(128, 128, 1)))\n",
    "    model.add(MaxPooling2D((2, 2)))\n",
    "    model.add(Conv2D(64, (3, 3), activation='relu'))\n",
    "    model.add(MaxPooling2D((2, 2)))\n",
    "    model.add(Flatten())\n",
    "    model.add(Dense(64, activation='relu'))\n",
    "    model.add(Dense(26, activation='softmax'))  # For example, for alphabet letters\n",
    "    return model"
   ]
  },
  {
   "cell_type": "markdown",
   "id": "96d75775-de35-4c0e-8246-80d828c87538",
   "metadata": {},
   "source": [
    "#### Compile the model"
   ]
  },
  {
   "cell_type": "code",
   "execution_count": null,
   "id": "988ea44b-3ea8-4e6c-adbe-e8b1d10cb054",
   "metadata": {},
   "outputs": [],
   "source": [
    "model = create_ocr_model()\n",
    "model.compile(optimizer='adam', loss='categorical_crossentropy', metrics=['accuracy'])"
   ]
  },
  {
   "cell_type": "markdown",
   "id": "02a55e5e-ab28-4fd3-9dfb-c111cae884df",
   "metadata": {},
   "source": [
    "#### Data Preparation"
   ]
  },
  {
   "cell_type": "code",
   "execution_count": null,
   "id": "b923a438-6cf5-4acb-a4c5-d0cafb2e9cd2",
   "metadata": {},
   "outputs": [],
   "source": [
    "import numpy as np\n",
    "\n",
    "def preprocess_data(images, labels):\n",
    "    # Normalize the images\n",
    "    images = images.astype('float32') / 255.0\n",
    "    # One-hot encode the labels\n",
    "    labels = tf.keras.utils.to_categorical(labels, num_classes=26)\n",
    "    return images, labels\n",
    "\n",
    "# Example usage\n",
    "X_train, y_train = preprocess_data(X_train, y_train)\n",
    "X_val, y_val = preprocess_data(X_val, y_val)"
   ]
  },
  {
   "cell_type": "markdown",
   "id": "b7f0b9f4-ca80-4642-8523-bc9c57dad6f8",
   "metadata": {},
   "source": [
    "#### Training the model"
   ]
  },
  {
   "cell_type": "code",
   "execution_count": null,
   "id": "9a4f58c9-32f3-433d-b869-fac8d1cbba5a",
   "metadata": {},
   "outputs": [],
   "source": [
    "model.fit(X_train, y_train, epochs=10, batch_size=32, validation_split=0.2)"
   ]
  },
  {
   "cell_type": "markdown",
   "id": "622f9019-c7b1-4087-b92e-3a87f55b7f51",
   "metadata": {},
   "source": [
    "#### Model Evaluation"
   ]
  },
  {
   "cell_type": "code",
   "execution_count": null,
   "id": "e2f570ec-de76-43cf-9d94-08bd8cef8c30",
   "metadata": {},
   "outputs": [],
   "source": [
    "loss, accuracy = model.evaluate(X_val, y_val)\n",
    "print(f\"Validation Accuracy: {accuracy}\")"
   ]
  }
 ],
 "metadata": {
  "kernelspec": {
   "display_name": "Python 3 (ipykernel)",
   "language": "python",
   "name": "python3"
  },
  "language_info": {
   "codemirror_mode": {
    "name": "ipython",
    "version": 3
   },
   "file_extension": ".py",
   "mimetype": "text/x-python",
   "name": "python",
   "nbconvert_exporter": "python",
   "pygments_lexer": "ipython3",
   "version": "3.12.4"
  }
 },
 "nbformat": 4,
 "nbformat_minor": 5
}
