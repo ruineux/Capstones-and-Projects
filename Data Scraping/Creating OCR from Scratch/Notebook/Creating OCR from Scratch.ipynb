{
 "cells": [
  {
   "cell_type": "markdown",
   "id": "f15438ec-806f-4363-b1d8-4148644a0fde",
   "metadata": {},
   "source": [
    "# Introduction to OCR (Optical Character Recognition)\n",
    "- It is technology that allows computers to recognize and interpret text from image, handwritten or typed document\n",
    "- Main purpose is to convert images of text to machine readable character that can be used in:\n",
    "    - Text analysis\n",
    "    - Data processing\n"
   ]
  },
  {
   "cell_type": "code",
   "execution_count": null,
   "id": "9c60fbff-17d1-4e36-a564-f35c6e88f911",
   "metadata": {},
   "outputs": [],
   "source": []
  }
 ],
 "metadata": {
  "kernelspec": {
   "display_name": "Python 3 (ipykernel)",
   "language": "python",
   "name": "python3"
  },
  "language_info": {
   "codemirror_mode": {
    "name": "ipython",
    "version": 3
   },
   "file_extension": ".py",
   "mimetype": "text/x-python",
   "name": "python",
   "nbconvert_exporter": "python",
   "pygments_lexer": "ipython3",
   "version": "3.12.4"
  }
 },
 "nbformat": 4,
 "nbformat_minor": 5
}
