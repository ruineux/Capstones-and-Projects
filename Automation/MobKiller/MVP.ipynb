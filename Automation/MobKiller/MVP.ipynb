{
 "cells": [
  {
   "cell_type": "code",
   "execution_count": 1,
   "id": "b14c3721-4049-48c2-b505-75f627a3c165",
   "metadata": {},
   "outputs": [],
   "source": [
    "import pyautogui\n",
    "from PIL import Image, ImageDraw\n",
    "\n",
    "import time\n",
    "import pydirectinput\n",
    "from directinput import PressKey, ReleaseKey"
   ]
  },
  {
   "cell_type": "code",
   "execution_count": 2,
   "id": "b2667a8d-3029-4f10-b866-c8fc48a6dc48",
   "metadata": {},
   "outputs": [],
   "source": [
    "def countdown(seconds):\n",
    "    while seconds > 0:\n",
    "        print(f\"Countdown: {seconds} seconds remaining\")\n",
    "        time.sleep(1)  # Pause for 1 second\n",
    "        seconds -= 1\n",
    "    print(\"Blast Off!\")"
   ]
  },
  {
   "cell_type": "code",
   "execution_count": 3,
   "id": "686f1516-0aab-428b-a984-d7f8505ad46b",
   "metadata": {},
   "outputs": [],
   "source": [
    "def do_teleport():\n",
    "    PressKey(0x42)\n",
    "    ReleaseKey(0x42)\n",
    "    time.sleep(0.2)\n",
    "    PressKey(0x1C)\n",
    "    time.sleep(0.01)\n",
    "    ReleaseKey(0x1C)"
   ]
  },
  {
   "cell_type": "code",
   "execution_count": 4,
   "id": "bce14273-1cf8-414e-9d35-3ef7a0a4e554",
   "metadata": {},
   "outputs": [],
   "source": [
    "def do_attack(coordinates):\n",
    "    for coordinate in coordinates:\n",
    "        PressKey(0x3B) #F1\n",
    "        ReleaseKey(0x3B)\n",
    "        time.sleep(0.01)\n",
    "        pydirectinput.moveTo(*coordinate)\n",
    "        time.sleep(0.01)\n",
    "        pyautogui.mouseDown()\n",
    "        time.sleep(0.01)\n",
    "        pyautogui.mouseUp()"
   ]
  },
  {
   "cell_type": "code",
   "execution_count": 5,
   "id": "02fc594a-3db6-478b-9d2b-6daf7d2dda34",
   "metadata": {},
   "outputs": [],
   "source": [
    "def do_heal(x, y):\n",
    "    coords = (x, y)\n",
    "    pydirectinput.moveTo(*coords)\n",
    "    PressKey(0x3E) #F4\n",
    "    ReleaseKey(0x3E)\n",
    "    time.sleep(0.01)\n",
    "    pyautogui.mouseDown()\n",
    "    time.sleep(0.01)\n",
    "    pyautogui.mouseUp()"
   ]
  },
  {
   "cell_type": "code",
   "execution_count": 20,
   "id": "bf763af2-c8f3-4246-8338-d6f848dad8b4",
   "metadata": {},
   "outputs": [],
   "source": [
    "def do_buff():\n",
    "    \n",
    "    #time.sleep(0.01)\n",
    "    #PressKey(0x02)\n",
    "    #time.sleep(0.01)\n",
    "    #ReleaseKey(0x02)\n",
    "    \n",
    "    time.sleep(0.5)\n",
    "    \n",
    "    time.sleep(0.01)\n",
    "    PressKey(0x03)\n",
    "    time.sleep(0.01)\n",
    "    ReleaseKey(0x03)\n",
    "\n",
    "    time.sleep(0.5)\n",
    "    \n",
    "    time.sleep(0.01)\n",
    "    PressKey(0x04)\n",
    "    time.sleep(0.01)\n",
    "    ReleaseKey(0x04)\n",
    "\n",
    "    time.sleep(0.6)\n",
    "    \n",
    "    time.sleep(0.01)\n",
    "    PressKey(0x05)\n",
    "    time.sleep(0.01)\n",
    "    ReleaseKey(0x05)\n",
    "\n",
    "    time.sleep(0.5)\n",
    "    \n",
    "    time.sleep(0.01)\n",
    "    PressKey(0x06)\n",
    "    time.sleep(0.01)\n",
    "    ReleaseKey(0x06)\n",
    "\n",
    "    time.sleep(0.5)\n",
    "    \n",
    "    time.sleep(0.01)\n",
    "    PressKey(0x3F)\n",
    "    time.sleep(0.01)\n",
    "    ReleaseKey(0x3F)\n",
    "\n",
    "    time.sleep(0.5)\n",
    "    \n",
    "    time.sleep(0.01)\n",
    "    PressKey(0x40)\n",
    "    time.sleep(0.01)\n",
    "    ReleaseKey(0x40)"
   ]
  },
  {
   "cell_type": "code",
   "execution_count": 7,
   "id": "40b94903-f7a6-4812-99c6-b45fad157049",
   "metadata": {},
   "outputs": [
    {
     "name": "stdout",
     "output_type": "stream",
     "text": [
      "Countdown: 3 seconds remaining\n",
      "Countdown: 2 seconds remaining\n",
      "Countdown: 1 seconds remaining\n",
      "Blast Off!\n",
      "Image found at: Box(left=1242, top=751, width=60, height=9)\n",
      "Image found at: Box(left=1242, top=751, width=60, height=9)\n",
      "Image found at: Box(left=1242, top=751, width=60, height=9)\n",
      "Image found at: Box(left=1242, top=751, width=60, height=9)\n",
      "Image found at: Box(left=1242, top=751, width=60, height=9)\n",
      "Image found at: Box(left=1242, top=751, width=60, height=9)\n"
     ]
    },
    {
     "ename": "ImageNotFoundException",
     "evalue": "",
     "output_type": "error",
     "traceback": [
      "\u001b[1;31m---------------------------------------------------------------------------\u001b[0m",
      "\u001b[1;31mImageNotFoundException\u001b[0m                    Traceback (most recent call last)",
      "File \u001b[1;32mC:\\ProgramData\\anaconda3\\Lib\\site-packages\\pyautogui\\__init__.py:172\u001b[0m, in \u001b[0;36mraisePyAutoGUIImageNotFoundException.<locals>.wrapper\u001b[1;34m(*args, **kwargs)\u001b[0m\n\u001b[0;32m    171\u001b[0m \u001b[38;5;28;01mtry\u001b[39;00m:\n\u001b[1;32m--> 172\u001b[0m     \u001b[38;5;28;01mreturn\u001b[39;00m wrappedFunction(\u001b[38;5;241m*\u001b[39margs, \u001b[38;5;241m*\u001b[39m\u001b[38;5;241m*\u001b[39mkwargs)\n\u001b[0;32m    173\u001b[0m \u001b[38;5;28;01mexcept\u001b[39;00m pyscreeze\u001b[38;5;241m.\u001b[39mImageNotFoundException:\n",
      "File \u001b[1;32mC:\\ProgramData\\anaconda3\\Lib\\site-packages\\pyautogui\\__init__.py:210\u001b[0m, in \u001b[0;36mlocateOnScreen\u001b[1;34m(*args, **kwargs)\u001b[0m\n\u001b[0;32m    208\u001b[0m \u001b[38;5;129m@raisePyAutoGUIImageNotFoundException\u001b[39m\n\u001b[0;32m    209\u001b[0m \u001b[38;5;28;01mdef\u001b[39;00m \u001b[38;5;21mlocateOnScreen\u001b[39m(\u001b[38;5;241m*\u001b[39margs, \u001b[38;5;241m*\u001b[39m\u001b[38;5;241m*\u001b[39mkwargs):\n\u001b[1;32m--> 210\u001b[0m     \u001b[38;5;28;01mreturn\u001b[39;00m pyscreeze\u001b[38;5;241m.\u001b[39mlocateOnScreen(\u001b[38;5;241m*\u001b[39margs, \u001b[38;5;241m*\u001b[39m\u001b[38;5;241m*\u001b[39mkwargs)\n",
      "File \u001b[1;32mC:\\ProgramData\\anaconda3\\Lib\\site-packages\\pyscreeze\\__init__.py:405\u001b[0m, in \u001b[0;36mlocateOnScreen\u001b[1;34m(image, minSearchTime, **kwargs)\u001b[0m\n\u001b[0;32m    404\u001b[0m screenshotIm \u001b[38;5;241m=\u001b[39m screenshot(region\u001b[38;5;241m=\u001b[39m\u001b[38;5;28;01mNone\u001b[39;00m)\n\u001b[1;32m--> 405\u001b[0m retVal \u001b[38;5;241m=\u001b[39m locate(image, screenshotIm, \u001b[38;5;241m*\u001b[39m\u001b[38;5;241m*\u001b[39mkwargs)\n\u001b[0;32m    406\u001b[0m \u001b[38;5;28;01mtry\u001b[39;00m:\n",
      "File \u001b[1;32mC:\\ProgramData\\anaconda3\\Lib\\site-packages\\pyscreeze\\__init__.py:383\u001b[0m, in \u001b[0;36mlocate\u001b[1;34m(needleImage, haystackImage, **kwargs)\u001b[0m\n\u001b[0;32m    382\u001b[0m kwargs[\u001b[38;5;124m'\u001b[39m\u001b[38;5;124mlimit\u001b[39m\u001b[38;5;124m'\u001b[39m] \u001b[38;5;241m=\u001b[39m \u001b[38;5;241m1\u001b[39m\n\u001b[1;32m--> 383\u001b[0m points \u001b[38;5;241m=\u001b[39m \u001b[38;5;28mtuple\u001b[39m(locateAll(needleImage, haystackImage, \u001b[38;5;241m*\u001b[39m\u001b[38;5;241m*\u001b[39mkwargs))\n\u001b[0;32m    384\u001b[0m \u001b[38;5;28;01mif\u001b[39;00m \u001b[38;5;28mlen\u001b[39m(points) \u001b[38;5;241m>\u001b[39m \u001b[38;5;241m0\u001b[39m:\n",
      "File \u001b[1;32mC:\\ProgramData\\anaconda3\\Lib\\site-packages\\pyscreeze\\__init__.py:257\u001b[0m, in \u001b[0;36m_locateAll_opencv\u001b[1;34m(needleImage, haystackImage, grayscale, limit, region, step, confidence)\u001b[0m\n\u001b[0;32m    256\u001b[0m \u001b[38;5;28;01mif\u001b[39;00m USE_IMAGE_NOT_FOUND_EXCEPTION:\n\u001b[1;32m--> 257\u001b[0m     \u001b[38;5;28;01mraise\u001b[39;00m ImageNotFoundException(\u001b[38;5;124m'\u001b[39m\u001b[38;5;124mCould not locate the image (highest confidence = \u001b[39m\u001b[38;5;132;01m%.3f\u001b[39;00m\u001b[38;5;124m)\u001b[39m\u001b[38;5;124m'\u001b[39m \u001b[38;5;241m%\u001b[39m result\u001b[38;5;241m.\u001b[39mmax())\n\u001b[0;32m    258\u001b[0m \u001b[38;5;28;01melse\u001b[39;00m:\n",
      "\u001b[1;31mImageNotFoundException\u001b[0m: Could not locate the image (highest confidence = 0.672)",
      "\nDuring handling of the above exception, another exception occurred:\n",
      "\u001b[1;31mImageNotFoundException\u001b[0m                    Traceback (most recent call last)",
      "Cell \u001b[1;32mIn[7], line 16\u001b[0m\n\u001b[0;32m     13\u001b[0m \u001b[38;5;66;03m# Locate the image on the screen with a confidence level of 0.8 (80%)\u001b[39;00m\n\u001b[0;32m     14\u001b[0m location \u001b[38;5;241m=\u001b[39m pyautogui\u001b[38;5;241m.\u001b[39mlocateOnScreen(image_path, confidence\u001b[38;5;241m=\u001b[39m\u001b[38;5;241m0.8\u001b[39m)\n\u001b[1;32m---> 16\u001b[0m \u001b[38;5;28;01mwhile\u001b[39;00m pyautogui\u001b[38;5;241m.\u001b[39mlocateOnScreen(image_path, confidence\u001b[38;5;241m=\u001b[39m\u001b[38;5;241m0.8\u001b[39m):\n\u001b[0;32m     17\u001b[0m     \u001b[38;5;28mprint\u001b[39m(\u001b[38;5;124mf\u001b[39m\u001b[38;5;124m'\u001b[39m\u001b[38;5;124mImage found at: \u001b[39m\u001b[38;5;132;01m{\u001b[39;00mlocation\u001b[38;5;132;01m}\u001b[39;00m\u001b[38;5;124m'\u001b[39m)\n\u001b[0;32m     19\u001b[0m     \u001b[38;5;66;03m# Take a screenshot of the screen\u001b[39;00m\n",
      "File \u001b[1;32mC:\\ProgramData\\anaconda3\\Lib\\site-packages\\pyautogui\\__init__.py:174\u001b[0m, in \u001b[0;36mraisePyAutoGUIImageNotFoundException.<locals>.wrapper\u001b[1;34m(*args, **kwargs)\u001b[0m\n\u001b[0;32m    172\u001b[0m     \u001b[38;5;28;01mreturn\u001b[39;00m wrappedFunction(\u001b[38;5;241m*\u001b[39margs, \u001b[38;5;241m*\u001b[39m\u001b[38;5;241m*\u001b[39mkwargs)\n\u001b[0;32m    173\u001b[0m \u001b[38;5;28;01mexcept\u001b[39;00m pyscreeze\u001b[38;5;241m.\u001b[39mImageNotFoundException:\n\u001b[1;32m--> 174\u001b[0m     \u001b[38;5;28;01mraise\u001b[39;00m ImageNotFoundException\n",
      "\u001b[1;31mImageNotFoundException\u001b[0m: "
     ]
    }
   ],
   "source": [
    "countdown(3)\n",
    "\n",
    "# Introduce a 2-second delay\n",
    "time.sleep(2)\n",
    "\n",
    "# Path to the image file you want to find\n",
    "image_path = 'HPMPBar.jpg'\n",
    "\n",
    "adjustment_left = 20\n",
    "adjustment_top = 100\n",
    "adjustment_width = 55\n",
    "\n",
    "# Locate the image on the screen with a confidence level of 0.8 (80%)\n",
    "location = pyautogui.locateOnScreen(image_path, confidence=0.8)\n",
    "\n",
    "counter = 0\n",
    "\n",
    "while pyautogui.locateOnScreen(image_path, confidence=0.8):\n",
    "    print(f'Image found at: {location}')\n",
    "\n",
    "    # Take a screenshot of the screen\n",
    "    screenshot = pyautogui.screenshot()\n",
    "\n",
    "    \n",
    "    # Convert the screenshot to a PIL image\n",
    "    img = Image.new('RGB', screenshot.size, (0, 0, 0))\n",
    "    img.paste(screenshot)\n",
    "\n",
    "    # Calculate the center of the found image\n",
    "    center_x = location.left + location.width // 2\n",
    "    center_y = location.top + location.height // 2\n",
    "\n",
    "\n",
    "\n",
    "    # Draw a red rectangle around the found image\n",
    "    draw = ImageDraw.Draw(img)\n",
    "    red_box_top_left = (location.left-adjustment_left, location.top-adjustment_top)\n",
    "    red_box_bottom_right = (location.left + location.width + adjustment_width, location.top + location.height)\n",
    "    draw.rectangle([red_box_top_left, red_box_bottom_right], outline=\"red\", width=3)\n",
    "\n",
    "    \n",
    "\n",
    "    # Draw a larger green rectangle around the red box\n",
    "    green_box_padding = 1  # Define the padding around the red box\n",
    "    green_box_top_left = (red_box_top_left[0] - green_box_padding, red_box_top_left[1] - green_box_padding)\n",
    "    green_box_bottom_right = (red_box_bottom_right[0] + green_box_padding, red_box_bottom_right[1] + green_box_padding)\n",
    "    draw.rectangle([green_box_top_left, green_box_bottom_right], outline=\"green\", width=3)\n",
    "\n",
    "    # Recalibrate Center\n",
    "    green_box_center_x = (green_box_top_left[0] + green_box_bottom_right[0]) // 2\n",
    "    green_box_center_y = (green_box_top_left[1] + green_box_bottom_right[1]) // 2\n",
    "\n",
    "    # Coordinates for each side of the green box\n",
    "    top = (green_box_center_x, green_box_top_left[1])\n",
    "    top_left = (green_box_top_left[0], green_box_top_left[1])\n",
    "    top_right = (green_box_bottom_right[0], green_box_top_left[1])\n",
    "    \n",
    "    bottom = (green_box_center_x, green_box_bottom_right[1])\n",
    "    bottom_left = (green_box_top_left[0], green_box_bottom_right[1])\n",
    "    bottom_right = (green_box_bottom_right[0], green_box_bottom_right[1])\n",
    "    \n",
    "    \n",
    "    left = (green_box_top_left[0], green_box_center_y)\n",
    "    right = (green_box_bottom_right[0], green_box_center_y)\n",
    "\n",
    "    topleft_left = (left[0], (top_left[1] + left[1]) // 2)\n",
    "    topright_right = (right[0], (top_right[1] + right[1]) // 2)\n",
    "    \n",
    "    bottomleft_left = (left[0], (bottom_left[1] + left[1]) // 2)\n",
    "    bottomright_right = (right[0], (bottom_right[1] + right[1]) // 2)\n",
    "\n",
    "    topright_mid_top = ((top_right[0] + top[0]) // 2, top[1])\n",
    "    topleft_mid_top = ((top_left[0] + top[0]) // 2, top[1])\n",
    "\n",
    "    bottomright_mid_bottom = ((top_right[0] + top[0]) // 2, top[1])\n",
    "    bottomleft_mid_bottom = ((top_left[0] + top[0]) // 2, top[1])\n",
    "\n",
    "    coordinates = [top_left, topleft_left, top,\n",
    "                   topright_right, top_right\n",
    "                   ,right, bottom_right,\n",
    "                   bottomright_right, bottom,\n",
    "                   bottomleft_left, bottom_left, left,\n",
    "                   topright_mid_top, topleft_mid_top,\n",
    "                   bottomright_mid_bottom, bottomleft_mid_bottom\n",
    "                  ]    \n",
    "\n",
    "    #teleport()\n",
    "    \n",
    "    do_attack(coordinates)\n",
    "\n",
    "    do_heal(green_box_center_x, green_box_center_y)\n",
    "    if counter % 6 == 0:\n",
    "        do_heal(green_box_center_x, green_box_center_y)\n",
    "        counter+=1\n",
    "\n",
    "    if counter % 20 == 0:\n",
    "        do_buff()\n",
    "        counter = 0\n",
    "\n",
    "    counter+=1\n",
    "\n",
    "else:\n",
    "    print('Image not found on the screen.')"
   ]
  },
  {
   "cell_type": "code",
   "execution_count": 102,
   "id": "3e2de5f1-d783-461c-91f4-08cf3e39481d",
   "metadata": {},
   "outputs": [],
   "source": [
    "a = 20"
   ]
  },
  {
   "cell_type": "code",
   "execution_count": 105,
   "id": "30252cb1-de0b-4d92-a6f4-8846bfc0f210",
   "metadata": {},
   "outputs": [
    {
     "data": {
      "text/plain": [
       "2"
      ]
     },
     "execution_count": 105,
     "metadata": {},
     "output_type": "execute_result"
    }
   ],
   "source": [
    "a%3$"
   ]
  },
  {
   "cell_type": "code",
   "execution_count": 100,
   "id": "b437f3d5-60d5-4568-9d7d-91fbef3b9dda",
   "metadata": {},
   "outputs": [
    {
     "data": {
      "text/plain": [
       "1291"
      ]
     },
     "execution_count": 100,
     "metadata": {},
     "output_type": "execute_result"
    }
   ],
   "source": [
    "green_box_center_x"
   ]
  },
  {
   "cell_type": "code",
   "execution_count": 95,
   "id": "14145f78-d7b1-462e-9237-53b15a57c3b0",
   "metadata": {},
   "outputs": [
    {
     "data": {
      "text/plain": [
       "(1355, 705)"
      ]
     },
     "execution_count": 95,
     "metadata": {},
     "output_type": "execute_result"
    }
   ],
   "source": [
    "right"
   ]
  },
  {
   "cell_type": "code",
   "execution_count": 96,
   "id": "479f9187-bd1c-4a15-a8f0-16e6209c72c5",
   "metadata": {},
   "outputs": [
    {
     "data": {
      "text/plain": [
       "(1286, 761)"
      ]
     },
     "execution_count": 96,
     "metadata": {},
     "output_type": "execute_result"
    }
   ],
   "source": [
    "bottom"
   ]
  },
  {
   "cell_type": "code",
   "execution_count": 97,
   "id": "cc51b641-9a03-4236-a62f-2eb486cb7d96",
   "metadata": {},
   "outputs": [
    {
     "data": {
      "text/plain": [
       "(1286, 650)"
      ]
     },
     "execution_count": 97,
     "metadata": {},
     "output_type": "execute_result"
    }
   ],
   "source": [
    "top"
   ]
  },
  {
   "cell_type": "code",
   "execution_count": 67,
   "id": "e40fd70e-c1f9-47b8-921e-dd0892078bad",
   "metadata": {},
   "outputs": [
    {
     "data": {
      "text/plain": [
       "(1365, 649)"
      ]
     },
     "execution_count": 67,
     "metadata": {},
     "output_type": "execute_result"
    }
   ],
   "source": [
    "top_right"
   ]
  },
  {
   "cell_type": "code",
   "execution_count": 69,
   "id": "e14ddf07-56ad-40e5-8967-43fb8b4ea322",
   "metadata": {},
   "outputs": [
    {
     "data": {
      "text/plain": [
       "(1226, 649)"
      ]
     },
     "execution_count": 69,
     "metadata": {},
     "output_type": "execute_result"
    }
   ],
   "source": [
    "top_left"
   ]
  },
  {
   "cell_type": "code",
   "execution_count": 75,
   "id": "bc8db8ac-59f7-4a79-8931-9af4a1fd29a9",
   "metadata": {},
   "outputs": [
    {
     "data": {
      "text/plain": [
       "(1330, 649)"
      ]
     },
     "execution_count": 75,
     "metadata": {},
     "output_type": "execute_result"
    }
   ],
   "source": [
    "topright_mid_top = ((top_right[0] + top[0]) // 2, top[1])\n",
    "topleft_mid_top = ((top_left[0] + top[0]) // 2, top[1])"
   ]
  },
  {
   "cell_type": "code",
   "execution_count": null,
   "id": "77e0c706-222f-4718-8ab0-db8aa36d80ef",
   "metadata": {},
   "outputs": [],
   "source": []
  },
  {
   "cell_type": "code",
   "execution_count": 37,
   "id": "46dc8c5d-ee24-40fe-96fa-e12c231bc502",
   "metadata": {},
   "outputs": [
    {
     "data": {
      "text/plain": [
       "705"
      ]
     },
     "execution_count": 37,
     "metadata": {},
     "output_type": "execute_result"
    }
   ],
   "source": [
    "left[1]"
   ]
  },
  {
   "cell_type": "code",
   "execution_count": 41,
   "id": "71a507c7-0630-4be4-9dae-b6421d40891a",
   "metadata": {},
   "outputs": [
    {
     "data": {
      "text/plain": [
       "677"
      ]
     },
     "execution_count": 41,
     "metadata": {},
     "output_type": "execute_result"
    }
   ],
   "source": [
    "(top_left[1] + left[1]) // 2"
   ]
  },
  {
   "cell_type": "code",
   "execution_count": 43,
   "id": "029eac66-3b25-4bb9-a79a-33e2749a8f23",
   "metadata": {},
   "outputs": [
    {
     "data": {
      "text/plain": [
       "677"
      ]
     },
     "execution_count": 43,
     "metadata": {},
     "output_type": "execute_result"
    }
   ],
   "source": [
    "(top_left[1] + left[1]) // 2"
   ]
  },
  {
   "cell_type": "code",
   "execution_count": 45,
   "id": "2f66072d-0d83-4654-a20b-997c442cc93e",
   "metadata": {},
   "outputs": [
    {
     "data": {
      "text/plain": [
       "(1221, 677)"
      ]
     },
     "execution_count": 45,
     "metadata": {},
     "output_type": "execute_result"
    }
   ],
   "source": []
  },
  {
   "cell_type": "code",
   "execution_count": null,
   "id": "dd423233-b6eb-41b8-9166-4d7fa77049c6",
   "metadata": {},
   "outputs": [],
   "source": []
  }
 ],
 "metadata": {
  "kernelspec": {
   "display_name": "Python 3 (ipykernel)",
   "language": "python",
   "name": "python3"
  },
  "language_info": {
   "codemirror_mode": {
    "name": "ipython",
    "version": 3
   },
   "file_extension": ".py",
   "mimetype": "text/x-python",
   "name": "python",
   "nbconvert_exporter": "python",
   "pygments_lexer": "ipython3",
   "version": "3.12.4"
  }
 },
 "nbformat": 4,
 "nbformat_minor": 5
}
