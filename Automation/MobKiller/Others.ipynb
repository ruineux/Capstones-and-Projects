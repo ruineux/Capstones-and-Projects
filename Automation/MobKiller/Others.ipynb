{
 "cells": [
  {
   "cell_type": "markdown",
   "id": "8b9ae6bf-dba6-4a6e-9f06-273c1a3603f2",
   "metadata": {},
   "source": [
    "# Replace frames with just box"
   ]
  },
  {
   "cell_type": "code",
   "execution_count": null,
   "id": "48fda201-5fbb-4ea5-ba6a-01faa0df55c5",
   "metadata": {},
   "outputs": [],
   "source": [
    "foreach (var action in act.Actions) {\n",
    "    foreach (var frame in action.Frames) {\n",
    "        foreach (var layer in frame.Layers) {\n",
    "            // Replace the sprite index with the new sprite index (e.g., 0)\n",
    "            layer.SpriteIndex = 0; // Adjust this to match the index of your replacement image\n",
    "        }\n",
    "    }\n",
    "};"
   ]
  },
  {
   "cell_type": "markdown",
   "id": "fedb1327-73d0-46aa-8014-f83d1b55f2e5",
   "metadata": {},
   "source": [
    "# Remove Die Animation"
   ]
  },
  {
   "cell_type": "code",
   "execution_count": null,
   "id": "5f562a10-e656-46c6-afb3-2042b68a3697",
   "metadata": {},
   "outputs": [],
   "source": [
    "act.AnimationExecute(4, action => {\n",
    "    action.Frames = new List<Frame> { new Frame() };\n",
    "});"
   ]
  },
  {
   "cell_type": "markdown",
   "id": "1d04b56c-278f-4adc-abe5-8de859b3bb06",
   "metadata": {},
   "source": [
    "# V2\n",
    "- Remove other sprite"
   ]
  },
  {
   "cell_type": "code",
   "execution_count": null,
   "id": "2b907e75-95bc-4f0c-a284-3c03ce95291a",
   "metadata": {},
   "outputs": [],
   "source": [
    "int replacementSpriteIndex = 0; // Set your replacement sprite index here\n",
    "if (act != null && act.Actions != null) {\n",
    "    foreach (var action in act.Actions) {\n",
    "        if (action != null && action.Frames != null) {\n",
    "            foreach (var frame in action.Frames) {\n",
    "                if (frame != null && frame.Layers != null) {\n",
    "                    // Retain only the first layer that matches the replacementSpriteIndex\n",
    "                    var filteredLayer = frame.Layers.FirstOrDefault(layer => layer != null && layer.SpriteIndex == replacementSpriteIndex);\n",
    "                    frame.Layers = new List<Layer>(); // Clear existing layers\n",
    "                    if (filteredLayer != null) {\n",
    "                        frame.Layers.Add(filteredLayer); // Add back only the matched layer\n",
    "                    }\n",
    "                }\n",
    "            }\n",
    "        }\n",
    "    }\n",
    "}"
   ]
  },
  {
   "cell_type": "code",
   "execution_count": null,
   "id": "e0931bef-6322-418e-ad9c-3c26c36bf547",
   "metadata": {},
   "outputs": [],
   "source": []
  },
  {
   "cell_type": "code",
   "execution_count": 2,
   "id": "f1c694c2-24c9-4a7a-94fb-9486b7e20cb3",
   "metadata": {},
   "outputs": [
    {
     "name": "stdout",
     "output_type": "stream",
     "text": [
      "Your annual tax is: PHP 367500.00\n",
      "Your monthly take-home money is: PHP 124375.00\n"
     ]
    }
   ],
   "source": [
    "def calculate_tax_and_take_home(monthly_salary):\n",
    "    # Convert monthly salary to annual income\n",
    "    annual_income = monthly_salary * 12\n",
    "\n",
    "    # Calculate tax based on the given table\n",
    "    if annual_income <= 250000:\n",
    "        tax = 0\n",
    "    elif annual_income <= 400000:\n",
    "        tax = (annual_income - 250000) * 0.15\n",
    "    elif annual_income <= 800000:\n",
    "        tax = 22500 + (annual_income - 400000) * 0.20\n",
    "    elif annual_income <= 2000000:\n",
    "        tax = 102500 + (annual_income - 800000) * 0.25\n",
    "    elif annual_income <= 8000000:\n",
    "        tax = 402500 + (annual_income - 2000000) * 0.30\n",
    "    else:\n",
    "        tax = 2202500 + (annual_income - 8000000) * 0.35\n",
    "\n",
    "    # Calculate take-home annual income\n",
    "    take_home_annual = annual_income - tax\n",
    "\n",
    "    # Calculate take-home monthly income\n",
    "    take_home_monthly = take_home_annual / 12\n",
    "\n",
    "    return tax, take_home_monthly\n",
    "\n",
    "# Example usage\n",
    "monthly_salary = 155000 # Replace this with your actual monthly salary\n",
    "tax, take_home = calculate_tax_and_take_home(monthly_salary)\n",
    "print(f\"Your annual tax is: PHP {tax:.2f}\")\n",
    "print(f\"Your monthly take-home money is: PHP {take_home:.2f}\")"
   ]
  },
  {
   "cell_type": "code",
   "execution_count": 3,
   "id": "7f5e2a4a-056d-4885-a21a-31500f65a0d9",
   "metadata": {},
   "outputs": [
    {
     "data": {
      "text/plain": [
       "62187.5"
      ]
     },
     "execution_count": 3,
     "metadata": {},
     "output_type": "execute_result"
    }
   ],
   "source": [
    "124375.00 /2"
   ]
  }
 ],
 "metadata": {
  "kernelspec": {
   "display_name": "Python 3 (ipykernel)",
   "language": "python",
   "name": "python3"
  },
  "language_info": {
   "codemirror_mode": {
    "name": "ipython",
    "version": 3
   },
   "file_extension": ".py",
   "mimetype": "text/x-python",
   "name": "python",
   "nbconvert_exporter": "python",
   "pygments_lexer": "ipython3",
   "version": "3.12.4"
  }
 },
 "nbformat": 4,
 "nbformat_minor": 5
}
