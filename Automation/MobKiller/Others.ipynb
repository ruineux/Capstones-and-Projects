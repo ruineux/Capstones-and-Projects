{
 "cells": [
  {
   "cell_type": "markdown",
   "id": "273d2d2a-87be-4ebe-80db-32f40656b8ba",
   "metadata": {},
   "source": [
    "#### "
   ]
  },
  {
   "cell_type": "markdown",
   "id": "8b9ae6bf-dba6-4a6e-9f06-273c1a3603f2",
   "metadata": {},
   "source": [
    "# Replace frames with just box"
   ]
  },
  {
   "cell_type": "code",
   "execution_count": null,
   "id": "48fda201-5fbb-4ea5-ba6a-01faa0df55c5",
   "metadata": {},
   "outputs": [],
   "source": [
    "foreach (var action in act.Actions) {\n",
    "    foreach (var frame in action.Frames) {\n",
    "        foreach (var layer in frame.Layers) {\n",
    "            // Replace the sprite index with the new sprite index (e.g., 0)\n",
    "            layer.SpriteIndex = 0; // Adjust this to match the index of your replacement image\n",
    "        }\n",
    "    }\n",
    "}"
   ]
  }
 ],
 "metadata": {
  "kernelspec": {
   "display_name": "Python [conda env:base] *",
   "language": "python",
   "name": "conda-base-py"
  },
  "language_info": {
   "codemirror_mode": {
    "name": "ipython",
    "version": 3
   },
   "file_extension": ".py",
   "mimetype": "text/x-python",
   "name": "python",
   "nbconvert_exporter": "python",
   "pygments_lexer": "ipython3",
   "version": "3.12.7"
  }
 },
 "nbformat": 4,
 "nbformat_minor": 5
}
