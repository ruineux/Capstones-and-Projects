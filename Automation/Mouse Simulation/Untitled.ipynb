{
 "cells": [
  {
   "cell_type": "code",
   "execution_count": 10,
   "id": "d1e6946a-f1bb-491f-80ec-68753aa59b1c",
   "metadata": {},
   "outputs": [],
   "source": [
    "import sys\n",
    "sys.path.append(\"../../../myrecipebook\")"
   ]
  },
  {
   "cell_type": "code",
   "execution_count": 11,
   "id": "e008f4e7-ece4-4a88-baf7-4f7340266b5e",
   "metadata": {},
   "outputs": [],
   "source": [
    "from myrecipebook import Config, TestClass"
   ]
  },
  {
   "cell_type": "code",
   "execution_count": 13,
   "id": "bbe7c3d1-ac3a-485b-a089-deb9b4540721",
   "metadata": {},
   "outputs": [],
   "source": [
    "testing = TestClass(\"Hello\")"
   ]
  },
  {
   "cell_type": "code",
   "execution_count": 15,
   "id": "36a46478-c117-4040-bf25-769bb8be350e",
   "metadata": {},
   "outputs": [
    {
     "name": "stdout",
     "output_type": "stream",
     "text": [
      "This is AnotherClass with value: Hello\n"
     ]
    }
   ],
   "source": [
    "testing.display()"
   ]
  },
  {
   "cell_type": "code",
   "execution_count": 2,
   "id": "f994e697-8c11-40ea-a7cd-71934003a938",
   "metadata": {},
   "outputs": [
    {
     "ename": "ModuleNotFoundError",
     "evalue": "No module named 'myrecipebook'",
     "output_type": "error",
     "traceback": [
      "\u001b[1;31m---------------------------------------------------------------------------\u001b[0m",
      "\u001b[1;31mModuleNotFoundError\u001b[0m                       Traceback (most recent call last)",
      "Cell \u001b[1;32mIn[2], line 1\u001b[0m\n\u001b[1;32m----> 1\u001b[0m \u001b[38;5;28;01mfrom\u001b[39;00m \u001b[38;5;21;01mmyrecipebook\u001b[39;00m \u001b[38;5;28;01mimport\u001b[39;00m Config\n\u001b[0;32m      3\u001b[0m config \u001b[38;5;241m=\u001b[39m Config(\u001b[38;5;124m\"\u001b[39m\u001b[38;5;124mconfig.json\u001b[39m\u001b[38;5;124m\"\u001b[39m)\n\u001b[0;32m      4\u001b[0m api_key \u001b[38;5;241m=\u001b[39m config\u001b[38;5;241m.\u001b[39mget(\u001b[38;5;124m\"\u001b[39m\u001b[38;5;124mAPI_KEY\u001b[39m\u001b[38;5;124m\"\u001b[39m)\n",
      "\u001b[1;31mModuleNotFoundError\u001b[0m: No module named 'myrecipebook'"
     ]
    }
   ],
   "source": [
    "from myrecipebook import Config\n",
    "\n",
    "config = Config(\"config.json\")\n",
    "api_key = config.get(\"API_KEY\")\n",
    "password = config.get(\"PASSWORD\")\n",
    "\n",
    "print(\"API Key:\", api_key)\n",
    "print(\"Password:\", password)\n"
   ]
  },
  {
   "cell_type": "code",
   "execution_count": null,
   "id": "86e5396a-11c5-463d-95bb-202824620cf0",
   "metadata": {},
   "outputs": [],
   "source": []
  }
 ],
 "metadata": {
  "kernelspec": {
   "display_name": "Python 3 (ipykernel)",
   "language": "python",
   "name": "python3"
  },
  "language_info": {
   "codemirror_mode": {
    "name": "ipython",
    "version": 3
   },
   "file_extension": ".py",
   "mimetype": "text/x-python",
   "name": "python",
   "nbconvert_exporter": "python",
   "pygments_lexer": "ipython3",
   "version": "3.12.7"
  }
 },
 "nbformat": 4,
 "nbformat_minor": 5
}
