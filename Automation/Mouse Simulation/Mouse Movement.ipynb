{
 "cells": [
  {
   "cell_type": "markdown",
   "id": "6a3cc76e-e0c8-4cee-b428-e2914ac52f56",
   "metadata": {},
   "source": [
    "### One-time Run"
   ]
  },
  {
   "cell_type": "code",
   "execution_count": 1,
   "id": "b3d5e6e8-6206-4644-b0de-8a632e792729",
   "metadata": {},
   "outputs": [],
   "source": [
    "from random import *\n",
    "import pyautogui as py\n",
    "\n",
    "\n",
    "py.moveTo(720, 360, uniform(0.6, 2.7), py.easeOutQuad)\n",
    "py.moveTo(450, 900, uniform(0.6, 2.7), py.easeOutBack)\n",
    "py.moveTo(360, 720, uniform(0.6, 2.7), py.easeInOutQuad)"
   ]
  },
  {
   "cell_type": "markdown",
   "id": "e1a4e3db-f90d-40a4-a214-8507bff88779",
   "metadata": {},
   "source": [
    "### Infinite Loop"
   ]
  },
  {
   "cell_type": "code",
   "execution_count": 2,
   "id": "a2f8fd94-907a-4b1c-84f5-3d63f446c0db",
   "metadata": {},
   "outputs": [
    {
     "name": "stdout",
     "output_type": "stream",
     "text": [
      "Script terminated by user\n"
     ]
    }
   ],
   "source": [
    "from random import uniform\n",
    "import pyautogui as py\n",
    "import time\n",
    "\n",
    "try:\n",
    "    while True:\n",
    "        \n",
    "        py.moveTo(uniform(0, py.size().width), uniform(0, py.size().height), # Screen Size\n",
    "                  uniform(0.6, 2.7), # Movement speed\n",
    "                  py.easeOutQuad)\n",
    "        \n",
    "        # Sleep Time\n",
    "        time.sleep(uniform(2, 4))\n",
    "\n",
    "except KeyboardInterrupt:\n",
    "    print(\"Script terminated by user\")"
   ]
  },
  {
   "cell_type": "code",
   "execution_count": null,
   "id": "441a4bcc-328f-411d-a13b-c9425f90ad52",
   "metadata": {},
   "outputs": [],
   "source": []
  }
 ],
 "metadata": {
  "kernelspec": {
   "display_name": "Python 3 (ipykernel)",
   "language": "python",
   "name": "python3"
  },
  "language_info": {
   "codemirror_mode": {
    "name": "ipython",
    "version": 3
   },
   "file_extension": ".py",
   "mimetype": "text/x-python",
   "name": "python",
   "nbconvert_exporter": "python",
   "pygments_lexer": "ipython3",
   "version": "3.12.7"
  }
 },
 "nbformat": 4,
 "nbformat_minor": 5
}
