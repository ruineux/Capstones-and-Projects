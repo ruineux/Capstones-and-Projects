{
 "cells": [
  {
   "cell_type": "code",
   "execution_count": 2,
   "id": "b3d5e6e8-6206-4644-b0de-8a632e792729",
   "metadata": {},
   "outputs": [],
   "source": [
    "from random import *\n",
    "import pyautogui as py\n",
    "\n",
    "\n",
    "py.moveTo(720, 360, uniform(0.6, 2.7), py.easeOutQuad)\n",
    "py.moveTo(450, 900, uniform(0.6, 2.7), py.easeOutBack)\n",
    "py.moveTo(360, 720, uniform(0.6, 2.7), py.easeInOutQuad)"
   ]
  }
 ],
 "metadata": {
  "kernelspec": {
   "display_name": "Python 3 (ipykernel)",
   "language": "python",
   "name": "python3"
  },
  "language_info": {
   "codemirror_mode": {
    "name": "ipython",
    "version": 3
   },
   "file_extension": ".py",
   "mimetype": "text/x-python",
   "name": "python",
   "nbconvert_exporter": "python",
   "pygments_lexer": "ipython3",
   "version": "3.12.7"
  }
 },
 "nbformat": 4,
 "nbformat_minor": 5
}
