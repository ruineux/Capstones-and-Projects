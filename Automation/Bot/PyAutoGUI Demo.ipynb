{
 "cells": [
  {
   "cell_type": "markdown",
   "id": "0c07b5a2-cad8-4286-b5d3-d7f77513ec9b",
   "metadata": {},
   "source": [
    "# Imports"
   ]
  },
  {
   "cell_type": "markdown",
   "id": "644598fa-71e7-4102-bec6-156cac54b28d",
   "metadata": {},
   "source": [
    "## Libraries and Packages"
   ]
  },
  {
   "cell_type": "code",
   "execution_count": 1,
   "id": "fd00d242-d26a-479f-88a9-dffb723854a5",
   "metadata": {},
   "outputs": [],
   "source": [
    "import pyautogui as pgui\n",
    "\n",
    "# Force use error\n",
    "pgui.useImageNotFoundException()"
   ]
  },
  {
   "cell_type": "markdown",
   "id": "32eeb084-07a7-445c-9759-0aafb95664cb",
   "metadata": {},
   "source": [
    "# Demo"
   ]
  },
  {
   "cell_type": "markdown",
   "id": "c5957d2b-6d3a-4c3e-92c9-c64669727048",
   "metadata": {},
   "source": [
    "## Taking a Screenshot"
   ]
  },
  {
   "cell_type": "code",
   "execution_count": 3,
   "id": "7a6291bf-8272-4094-9887-5d0d24d20e5e",
   "metadata": {},
   "outputs": [],
   "source": [
    "snap_filename = 'get_snap'\n",
    "get_image = pgui.screenshot(f'{snap_filename}{snap_fileextension}', allScreens=False)\n",
    "\n",
    "# Has region paramater where you can the dimension of what your screenshot will only include"
   ]
  },
  {
   "cell_type": "markdown",
   "id": "863c0305-54fd-47a8-9979-3495dc935d51",
   "metadata": {},
   "source": [
    "## Locate matching image on screen"
   ]
  },
  {
   "cell_type": "markdown",
   "id": "ec5a297a-65bd-42e3-bae2-98de161e79d0",
   "metadata": {},
   "source": [
    "### Straight use and flatten the image into grayscale"
   ]
  },
  {
   "cell_type": "code",
   "execution_count": 11,
   "id": "3d1364af-80eb-4fe6-83ca-55622108c304",
   "metadata": {},
   "outputs": [
    {
     "data": {
      "text/plain": [
       "Box(left=480, top=251, width=88, height=55)"
      ]
     },
     "execution_count": 11,
     "metadata": {},
     "output_type": "execute_result"
    }
   ],
   "source": [
    "# Locates the Edit in the Menu Bar\n",
    "# Likely Miss than Hit\n",
    "pgui.locateOnScreen('edit.png', grayscale=True)\n",
    "# Returns Box type data from pyscreeze"
   ]
  },
  {
   "cell_type": "markdown",
   "id": "05d1d624-8a1a-42f4-9c49-35c07cb16181",
   "metadata": {},
   "source": [
    "### Locates the image at a certain level of confidence using OpenCV"
   ]
  },
  {
   "cell_type": "code",
   "execution_count": 12,
   "id": "0417bed8-56fd-4b95-a181-e1d059ce031f",
   "metadata": {},
   "outputs": [
    {
     "data": {
      "text/plain": [
       "Point(x=524, y=277)"
      ]
     },
     "execution_count": 12,
     "metadata": {},
     "output_type": "execute_result"
    }
   ],
   "source": [
    "# Locates the pyautogui import line\n",
    "# Get the image based on certain level of confidence then the center of it\n",
    "locate_img = pgui.center(pgui.locateOnScreen('edit.png', confidence=0.7))\n",
    "locate_img\n",
    "# Returns Point type data from pyscreeze"
   ]
  },
  {
   "cell_type": "markdown",
   "id": "aa96dc63-7aee-4152-857d-df06fcbe4baa",
   "metadata": {},
   "source": [
    "### Move Mouse Cursor to the Points (x & y coordinates)"
   ]
  },
  {
   "cell_type": "markdown",
   "id": "b605edd9-7d86-4c4b-998b-9b4543266f6b",
   "metadata": {},
   "source": [
    "### From Point data type"
   ]
  },
  {
   "cell_type": "code",
   "execution_count": 14,
   "id": "4dc1af46-a6da-4a13-a774-246d73108563",
   "metadata": {},
   "outputs": [],
   "source": [
    "pgui.moveTo(locate_img)"
   ]
  },
  {
   "cell_type": "markdown",
   "id": "7d866528-1f86-4114-bc99-6930d102ba24",
   "metadata": {},
   "source": [
    "### From Box data type"
   ]
  },
  {
   "cell_type": "code",
   "execution_count": 20,
   "id": "52bc71f7-0554-4b67-b4e3-cc794149373a",
   "metadata": {},
   "outputs": [
    {
     "data": {
      "text/plain": [
       "Box(left=480, top=250, width=88, height=55)"
      ]
     },
     "execution_count": 20,
     "metadata": {},
     "output_type": "execute_result"
    }
   ],
   "source": [
    "pgui.locateOnScreen('edit.png', confidence=0.7)"
   ]
  },
  {
   "cell_type": "markdown",
   "id": "a83da197-10eb-4eac-8672-9f48ca73e819",
   "metadata": {},
   "source": [
    "#### Returns the bounding box (upper left)"
   ]
  },
  {
   "cell_type": "code",
   "execution_count": 18,
   "id": "8e70ffc8-91e5-46ef-98a4-8ffd247b070e",
   "metadata": {},
   "outputs": [],
   "source": [
    "pgui.moveTo(x=pgui.locateOnScreen('edit.png', confidence=0.7)[0],\n",
    "            y=pgui.locateOnScreen('edit.png', confidence=0.7)[1]\n",
    "           )"
   ]
  },
  {
   "cell_type": "markdown",
   "id": "0d950492-7cb5-401c-a36f-54773cff8232",
   "metadata": {},
   "source": [
    "#### Returns the bounding box (lower right)"
   ]
  },
  {
   "cell_type": "code",
   "execution_count": 22,
   "id": "7227f04a-a335-4667-9561-b79759c9f15f",
   "metadata": {},
   "outputs": [],
   "source": [
    "pgui.moveTo(x=pgui.locateOnScreen('edit.png', confidence=0.7)[0] + pgui.locateOnScreen('edit.png', confidence=0.7)[2],\n",
    "            y=pgui.locateOnScreen('edit.png', confidence=0.7)[1] + pgui.locateOnScreen('edit.png', confidence=0.7)[3]\n",
    "           )"
   ]
  },
  {
   "cell_type": "markdown",
   "id": "8e70e822-1fda-47af-bdd4-1987c7893444",
   "metadata": {},
   "source": [
    "## Image not found handling"
   ]
  },
  {
   "cell_type": "code",
   "execution_count": 25,
   "id": "a8ff1641-e4ba-4f7f-8810-829f9249b26e",
   "metadata": {},
   "outputs": [
    {
     "name": "stdout",
     "output_type": "stream",
     "text": [
      "image found\n"
     ]
    }
   ],
   "source": [
    "try:\n",
    "    location = pgui.locateOnScreen('edit.png')\n",
    "    print('image found')\n",
    "except pgui.ImageNotFoundException:\n",
    "    print('ImageNotFoundException: image not found')"
   ]
  },
  {
   "cell_type": "code",
   "execution_count": 27,
   "id": "3ee81e8f-e8a9-4b91-bbb8-6006ca6ef070",
   "metadata": {},
   "outputs": [
    {
     "name": "stdout",
     "output_type": "stream",
     "text": [
      "ImageNotFoundException: image not found\n"
     ]
    }
   ],
   "source": [
    "try:\n",
    "    location = pgui.locateOnScreen('pyautogui.png')\n",
    "    print('image found')\n",
    "except pgui.ImageNotFoundException:\n",
    "    print('ImageNotFoundException: image not found')"
   ]
  }
 ],
 "metadata": {
  "kernelspec": {
   "display_name": "Python 3 (ipykernel)",
   "language": "python",
   "name": "python3"
  },
  "language_info": {
   "codemirror_mode": {
    "name": "ipython",
    "version": 3
   },
   "file_extension": ".py",
   "mimetype": "text/x-python",
   "name": "python",
   "nbconvert_exporter": "python",
   "pygments_lexer": "ipython3",
   "version": "3.12.7"
  }
 },
 "nbformat": 4,
 "nbformat_minor": 5
}
