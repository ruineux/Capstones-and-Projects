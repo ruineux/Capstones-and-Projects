{
 "cells": [
  {
   "cell_type": "code",
   "execution_count": 2,
   "id": "0ea406f5-1a36-4c6c-9de6-9d684eabb1f2",
   "metadata": {},
   "outputs": [],
   "source": [
    "from rembg import remove \n",
    "from PIL import Image"
   ]
  },
  {
   "cell_type": "markdown",
   "id": "6ebf772e-a473-491f-b75c-094a04f196e5",
   "metadata": {},
   "source": [
    "### Image Path"
   ]
  },
  {
   "cell_type": "code",
   "execution_count": 14,
   "id": "bc0927de-6c1e-4cc6-b3ee-36688a3fdd28",
   "metadata": {},
   "outputs": [],
   "source": [
    "PATH = './'"
   ]
  },
  {
   "cell_type": "markdown",
   "id": "8dec777a-9514-41be-a7b0-3a4ca0c75b0f",
   "metadata": {},
   "source": [
    "### Image Filename"
   ]
  },
  {
   "cell_type": "code",
   "execution_count": 33,
   "id": "ae5b5eb2-984f-4a8f-983f-a01a9ae171eb",
   "metadata": {},
   "outputs": [],
   "source": [
    "input_path =  'charBack.jpg' "
   ]
  },
  {
   "cell_type": "markdown",
   "id": "f8799e50-28de-4d5e-a7c4-c63e7dd6866a",
   "metadata": {},
   "source": [
    "### Output Path"
   ]
  },
  {
   "cell_type": "code",
   "execution_count": 34,
   "id": "ae8f8d1f-a6be-40e1-9b29-d8aba122fdba",
   "metadata": {},
   "outputs": [],
   "source": [
    "output_path = f'{input_path.split('.', maxsplit=1)[0]}_mod.png'"
   ]
  },
  {
   "cell_type": "markdown",
   "id": "97b1a5f0-aa83-463b-9967-e6b75ac2fa93",
   "metadata": {},
   "source": [
    "### Fetch Image"
   ]
  },
  {
   "cell_type": "code",
   "execution_count": 35,
   "id": "41f45c8a-d2b6-4b0a-99c0-01fd86b0fed7",
   "metadata": {},
   "outputs": [],
   "source": [
    "transform_img = Image.open(PATH+input_path)"
   ]
  },
  {
   "cell_type": "markdown",
   "id": "c91027ac-072c-402d-934b-7047bba84a4f",
   "metadata": {},
   "source": [
    "### Process Image: Remove Background"
   ]
  },
  {
   "cell_type": "code",
   "execution_count": 36,
   "id": "c6a047f5-1572-49d1-894e-2847c49edab1",
   "metadata": {},
   "outputs": [],
   "source": [
    "output = remove(transform_img) "
   ]
  },
  {
   "cell_type": "markdown",
   "id": "f530c13f-d462-497e-af21-c51f875de843",
   "metadata": {},
   "source": [
    "### Store Image"
   ]
  },
  {
   "cell_type": "code",
   "execution_count": 37,
   "id": "5116e7e5-0cc2-44ec-9356-3d991281dff3",
   "metadata": {},
   "outputs": [],
   "source": [
    "output.save(output_path)"
   ]
  },
  {
   "cell_type": "markdown",
   "id": "3757a402-9170-490a-a551-93fcbf2c738b",
   "metadata": {},
   "source": [
    "# Other things to test"
   ]
  },
  {
   "cell_type": "code",
   "execution_count": null,
   "id": "61418b50-7e95-45f8-bf14-b7450d522629",
   "metadata": {},
   "outputs": [],
   "source": [
    "model_name = \"unet\"\n",
    "rembg_session = new_session(model_name)\n",
    "for img in images:\n",
    "    output = remove(img, session=rembg_session)"
   ]
  },
  {
   "cell_type": "markdown",
   "id": "46317a62-907e-45e0-af31-9cb312bf1f8c",
   "metadata": {},
   "source": [
    "## Hyper Parameter Optimization"
   ]
  },
  {
   "cell_type": "code",
   "execution_count": null,
   "id": "1566a079-643d-4dd4-86c1-79ce5bd2c28d",
   "metadata": {},
   "outputs": [],
   "source": [
    "output = remove(input,\n",
    "                alpha_matting=True\n",
    "                ,alpha_matting_foreground_threshold=270\n",
    "                ,alpha_matting_background_threshold=20\n",
    "                ,alpha_matting_erode_size=11\n",
    "               )"
   ]
  },
  {
   "cell_type": "code",
   "execution_count": null,
   "id": "b94dfc25-fee9-4579-8625-44a5f0c7223e",
   "metadata": {},
   "outputs": [],
   "source": []
  }
 ],
 "metadata": {
  "kernelspec": {
   "display_name": "Python 3 (ipykernel)",
   "language": "python",
   "name": "python3"
  },
  "language_info": {
   "codemirror_mode": {
    "name": "ipython",
    "version": 3
   },
   "file_extension": ".py",
   "mimetype": "text/x-python",
   "name": "python",
   "nbconvert_exporter": "python",
   "pygments_lexer": "ipython3",
   "version": "3.12.7"
  }
 },
 "nbformat": 4,
 "nbformat_minor": 5
}
