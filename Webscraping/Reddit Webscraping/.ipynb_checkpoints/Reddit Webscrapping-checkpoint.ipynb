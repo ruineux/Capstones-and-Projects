{
 "cells": [
  {
   "cell_type": "markdown",
   "metadata": {},
   "source": [
    "# Essentials"
   ]
  },
  {
   "cell_type": "markdown",
   "metadata": {},
   "source": [
    "## Data / Credentials Path"
   ]
  },
  {
   "cell_type": "code",
   "execution_count": null,
   "metadata": {},
   "outputs": [],
   "source": [
    "DATA_PATH = \"../../../Data-Credentials/Data/\"\n",
    "CREDS_PATH = \"../../../Data-Credentials/Credentials/\""
   ]
  },
  {
   "cell_type": "markdown",
   "metadata": {
    "ExecuteTime": {
     "end_time": "2021-03-04T14:04:36.794781Z",
     "start_time": "2021-03-04T14:04:36.787784Z"
    }
   },
   "source": [
    "## Libraries"
   ]
  },
  {
   "cell_type": "code",
   "execution_count": 32,
   "metadata": {
    "ExecuteTime": {
     "end_time": "2021-03-04T14:24:42.100424Z",
     "start_time": "2021-03-04T14:24:42.096435Z"
    }
   },
   "outputs": [],
   "source": [
    "import pandas as pd\n",
    "import numpy as np\n",
    "import praw"
   ]
  },
  {
   "cell_type": "markdown",
   "metadata": {},
   "source": [
    "# Making Connection"
   ]
  },
  {
   "cell_type": "markdown",
   "metadata": {},
   "source": [
    "## Using credentials"
   ]
  },
  {
   "cell_type": "code",
   "execution_count": 25,
   "metadata": {
    "ExecuteTime": {
     "end_time": "2021-03-04T14:18:48.232091Z",
     "start_time": "2021-03-04T14:18:48.217131Z"
    }
   },
   "outputs": [],
   "source": [
    "mycreds = pd.read_excel(CREDS_PATH + \"MyCreds.xlsx\").loc[0]"
   ]
  },
  {
   "cell_type": "markdown",
   "metadata": {},
   "source": [
    "## Establishing connection"
   ]
  },
  {
   "cell_type": "code",
   "execution_count": null,
   "metadata": {},
   "outputs": [],
   "source": [
    "reddit = praw.Reddit(client_id = mycreds[\"PERSONAL\"],\n",
    "                     client_secret = mycreds[\"API_KEY\"],\n",
    "                     user_agent = mycreds[\"API\"],\n",
    "                     username = mycreds[\"Username\"],\n",
    "                     password = mycreds[\"Password\"]\n",
    "                    )"
   ]
  },
  {
   "cell_type": "markdown",
   "metadata": {},
   "source": [
    "# Checking the connection"
   ]
  },
  {
   "cell_type": "code",
   "execution_count": 34,
   "metadata": {
    "ExecuteTime": {
     "end_time": "2021-03-04T14:27:21.604142Z",
     "start_time": "2021-03-04T14:27:21.595244Z"
    }
   },
   "outputs": [],
   "source": [
    "subreddit = reddit.subreddit(\"learnpython\")"
   ]
  },
  {
   "cell_type": "markdown",
   "metadata": {},
   "source": [
    "## Listing the hot topics on a specific subreddit"
   ]
  },
  {
   "cell_type": "code",
   "execution_count": 87,
   "metadata": {
    "ExecuteTime": {
     "end_time": "2021-03-04T14:45:57.291265Z",
     "start_time": "2021-03-04T14:45:57.273278Z"
    }
   },
   "outputs": [],
   "source": [
    "hot = subreddit.hot(limit=5)\n",
    "\n",
    "#you can also try the following:\n",
    "# .gilded\n",
    "# .new\n",
    "# .top\n",
    "# .controversial\n",
    "\n",
    "#for item in hot:\n",
    "#    print(item.title)"
   ]
  },
  {
   "cell_type": "code",
   "execution_count": 88,
   "metadata": {
    "ExecuteTime": {
     "end_time": "2021-03-04T14:46:03.427755Z",
     "start_time": "2021-03-04T14:46:02.987442Z"
    }
   },
   "outputs": [
    {
     "data": {
      "text/plain": [
       "[Submission(id='lx4sx4'),\n",
       " Submission(id='lxj6q2'),\n",
       " Submission(id='lxkqmv'),\n",
       " Submission(id='lxkvem'),\n",
       " Submission(id='lxjfo7')]"
      ]
     },
     "execution_count": 88,
     "metadata": {},
     "output_type": "execute_result"
    }
   ],
   "source": [
    "[v for v in hot]"
   ]
  },
  {
   "cell_type": "markdown",
   "metadata": {},
   "source": [
    "## Redditor"
   ]
  },
  {
   "cell_type": "code",
   "execution_count": 70,
   "metadata": {
    "ExecuteTime": {
     "end_time": "2021-03-04T14:37:49.909982Z",
     "start_time": "2021-03-04T14:37:49.895466Z"
    }
   },
   "outputs": [],
   "source": [
    "redditor = reddit.redditor(\"the_yaya\")"
   ]
  },
  {
   "cell_type": "code",
   "execution_count": 90,
   "metadata": {
    "ExecuteTime": {
     "end_time": "2021-03-04T14:47:00.594861Z",
     "start_time": "2021-03-04T14:47:00.576872Z"
    }
   },
   "outputs": [],
   "source": [
    "submissions = redditor.submissions.new(limit=2000)"
   ]
  },
  {
   "cell_type": "code",
   "execution_count": 91,
   "metadata": {
    "ExecuteTime": {
     "end_time": "2021-03-04T14:47:03.309792Z",
     "start_time": "2021-03-04T14:47:01.928398Z"
    }
   },
   "outputs": [],
   "source": [
    "sub = next(submissions)"
   ]
  },
  {
   "cell_type": "code",
   "execution_count": 101,
   "metadata": {
    "ExecuteTime": {
     "end_time": "2021-03-04T14:52:50.285285Z",
     "start_time": "2021-03-04T14:52:50.277298Z"
    }
   },
   "outputs": [
    {
     "data": {
      "text/plain": [
       "'Evening random discussion - Mar 04, 2021'"
      ]
     },
     "execution_count": 101,
     "metadata": {},
     "output_type": "execute_result"
    }
   ],
   "source": [
    "sub.title"
   ]
  },
  {
   "cell_type": "code",
   "execution_count": 115,
   "metadata": {
    "ExecuteTime": {
     "end_time": "2021-03-04T14:55:16.123566Z",
     "start_time": "2021-03-04T14:55:16.106610Z"
    }
   },
   "outputs": [],
   "source": [
    "coms = sub.comments.replace_more(limit=None)"
   ]
  },
  {
   "cell_type": "code",
   "execution_count": 117,
   "metadata": {
    "ExecuteTime": {
     "end_time": "2021-03-04T14:55:25.958149Z",
     "start_time": "2021-03-04T14:55:25.948225Z"
    }
   },
   "outputs": [],
   "source": [
    "coms = sub.comments"
   ]
  },
  {
   "cell_type": "code",
   "execution_count": 118,
   "metadata": {
    "ExecuteTime": {
     "end_time": "2021-03-04T14:55:26.225437Z",
     "start_time": "2021-03-04T14:55:26.207320Z"
    }
   },
   "outputs": [
    {
     "data": {
      "text/plain": [
       "185"
      ]
     },
     "execution_count": 118,
     "metadata": {},
     "output_type": "execute_result"
    }
   ],
   "source": [
    "len([v for v in coms])"
   ]
  },
  {
   "cell_type": "code",
   "execution_count": 119,
   "metadata": {
    "ExecuteTime": {
     "end_time": "2021-03-04T14:55:31.181800Z",
     "start_time": "2021-03-04T14:55:31.172817Z"
    }
   },
   "outputs": [
    {
     "data": {
      "text/plain": [
       "[Comment(id='gpmyve8'),\n",
       " Comment(id='gpmzn8z'),\n",
       " Comment(id='gpn29bg'),\n",
       " Comment(id='gpn2fqe'),\n",
       " Comment(id='gpnaday'),\n",
       " Comment(id='gpn2wbb'),\n",
       " Comment(id='gpn5vi6'),\n",
       " Comment(id='gpn9ju4'),\n",
       " Comment(id='gpnaann'),\n",
       " Comment(id='gpmz490'),\n",
       " Comment(id='gpn4wmv'),\n",
       " Comment(id='gpn8yyz'),\n",
       " Comment(id='gpn96kz'),\n",
       " Comment(id='gpn334c'),\n",
       " Comment(id='gpn614x'),\n",
       " Comment(id='gpncqa3'),\n",
       " Comment(id='gpmzgdr'),\n",
       " Comment(id='gpn1jst'),\n",
       " Comment(id='gpn5dwe'),\n",
       " Comment(id='gpn5nw5'),\n",
       " Comment(id='gpn7hvj'),\n",
       " Comment(id='gpn80n5'),\n",
       " Comment(id='gpn9gdm'),\n",
       " Comment(id='gpnmab3'),\n",
       " Comment(id='gpmzv8p'),\n",
       " Comment(id='gpn30p8'),\n",
       " Comment(id='gpnamrl'),\n",
       " Comment(id='gpn0v6v'),\n",
       " Comment(id='gpn0xsb'),\n",
       " Comment(id='gpn1u7c'),\n",
       " Comment(id='gpn1yhl'),\n",
       " Comment(id='gpn88ct'),\n",
       " Comment(id='gpnhzsk'),\n",
       " Comment(id='gpn5duc'),\n",
       " Comment(id='gpnavqd'),\n",
       " Comment(id='gpneceg'),\n",
       " Comment(id='gpng8ma'),\n",
       " Comment(id='gpngq7g'),\n",
       " Comment(id='gpn2leb'),\n",
       " Comment(id='gpn2aiw'),\n",
       " Comment(id='gpn3ila'),\n",
       " Comment(id='gpn8iz3'),\n",
       " Comment(id='gpna27f'),\n",
       " Comment(id='gpngdt6'),\n",
       " Comment(id='gpnki2i'),\n",
       " Comment(id='gpnl0ty'),\n",
       " Comment(id='gpn3co5'),\n",
       " Comment(id='gpn380c'),\n",
       " Comment(id='gpn415r'),\n",
       " Comment(id='gpn4ln6'),\n",
       " Comment(id='gpn5p0p'),\n",
       " Comment(id='gpnclr6'),\n",
       " Comment(id='gpnkm0b'),\n",
       " Comment(id='gpnavqj'),\n",
       " Comment(id='gpn0fdg'),\n",
       " Comment(id='gpn1ol4'),\n",
       " Comment(id='gpn37w6'),\n",
       " Comment(id='gpn4edh'),\n",
       " Comment(id='gpn7rpy'),\n",
       " Comment(id='gpn8p94'),\n",
       " Comment(id='gpn9mxl'),\n",
       " Comment(id='gpnargh'),\n",
       " Comment(id='gpnb8ih'),\n",
       " Comment(id='gpnckdn'),\n",
       " Comment(id='gpncrwq'),\n",
       " Comment(id='gpncv11'),\n",
       " Comment(id='gpneonm'),\n",
       " Comment(id='gpnfkgo'),\n",
       " Comment(id='gpngd6u'),\n",
       " Comment(id='gpnijrd'),\n",
       " Comment(id='gpnk9t7'),\n",
       " Comment(id='gpn75gp'),\n",
       " Comment(id='gpmzfiw'),\n",
       " Comment(id='gpn0e5j'),\n",
       " Comment(id='gpn2fxb'),\n",
       " Comment(id='gpn6t62'),\n",
       " Comment(id='gpn6vzv'),\n",
       " Comment(id='gpnbtg6'),\n",
       " Comment(id='gpncgh1'),\n",
       " Comment(id='gpncs3l'),\n",
       " Comment(id='gpnkdek'),\n",
       " Comment(id='gpnkgf6'),\n",
       " Comment(id='gpnn05e'),\n",
       " Comment(id='gpn0d65'),\n",
       " Comment(id='gpn0wh8'),\n",
       " Comment(id='gpn6tfp'),\n",
       " Comment(id='gpn0ayh'),\n",
       " Comment(id='gpn57k2'),\n",
       " Comment(id='gpnhdhl'),\n",
       " Comment(id='gpn26ye'),\n",
       " Comment(id='gpn376e'),\n",
       " Comment(id='gpn4dz6'),\n",
       " Comment(id='gpn7x4x'),\n",
       " Comment(id='gpn8hfs'),\n",
       " Comment(id='gpna8dz'),\n",
       " Comment(id='gpnb8w0'),\n",
       " Comment(id='gpndi6n'),\n",
       " Comment(id='gpndocr'),\n",
       " Comment(id='gpnenu2'),\n",
       " Comment(id='gpni766'),\n",
       " Comment(id='gpnjb0i'),\n",
       " Comment(id='gpnjois'),\n",
       " Comment(id='gpnjy7f'),\n",
       " Comment(id='gpnk92g'),\n",
       " Comment(id='gpnm0q8'),\n",
       " Comment(id='gpnniff'),\n",
       " Comment(id='gpn29n0'),\n",
       " Comment(id='gpn7paq'),\n",
       " Comment(id='gpmzy1r'),\n",
       " Comment(id='gpn05gv'),\n",
       " Comment(id='gpn3txt'),\n",
       " Comment(id='gpn6ul4'),\n",
       " Comment(id='gpn062d'),\n",
       " Comment(id='gpn0nwy'),\n",
       " Comment(id='gpn2we2'),\n",
       " Comment(id='gpmzk23'),\n",
       " Comment(id='gpn1t0j'),\n",
       " Comment(id='gpn2a9q'),\n",
       " Comment(id='gpn432m'),\n",
       " Comment(id='gpn497j'),\n",
       " Comment(id='gpn8erz'),\n",
       " Comment(id='gpnbh8r'),\n",
       " Comment(id='gpncie2'),\n",
       " Comment(id='gpnd8yd'),\n",
       " Comment(id='gpndb1s'),\n",
       " Comment(id='gpne2qd'),\n",
       " Comment(id='gpnfwct'),\n",
       " Comment(id='gpni5ff'),\n",
       " Comment(id='gpnizqt'),\n",
       " Comment(id='gpnjcwz'),\n",
       " Comment(id='gpnki6k'),\n",
       " Comment(id='gpnnb1m'),\n",
       " Comment(id='gpnnc0u'),\n",
       " Comment(id='gpnnwec'),\n",
       " Comment(id='gpn0ubm'),\n",
       " Comment(id='gpmz3jp'),\n",
       " Comment(id='gpn02wv'),\n",
       " Comment(id='gpn0hul'),\n",
       " Comment(id='gpn0nmm'),\n",
       " Comment(id='gpn50i1'),\n",
       " Comment(id='gpn6pxz'),\n",
       " Comment(id='gpnms8z'),\n",
       " Comment(id='gpmzezv'),\n",
       " Comment(id='gpn1k2h'),\n",
       " Comment(id='gpn7m67'),\n",
       " Comment(id='gpn02wb'),\n",
       " Comment(id='gpn0vd2'),\n",
       " Comment(id='gpn7uun'),\n",
       " Comment(id='gpn1v9o'),\n",
       " Comment(id='gpn388u'),\n",
       " Comment(id='gpn565c'),\n",
       " Comment(id='gpn902h'),\n",
       " Comment(id='gpn9h20'),\n",
       " Comment(id='gpncdi2'),\n",
       " Comment(id='gpndc8c'),\n",
       " Comment(id='gpnezuv'),\n",
       " Comment(id='gpng2gy'),\n",
       " Comment(id='gpngft0'),\n",
       " Comment(id='gpnguyf'),\n",
       " Comment(id='gpnj0rt'),\n",
       " Comment(id='gpnjnkt'),\n",
       " Comment(id='gpnm7h1'),\n",
       " Comment(id='gpnmfbo'),\n",
       " Comment(id='gpnn8jc'),\n",
       " Comment(id='gpmzg6d'),\n",
       " Comment(id='gpmzxnf'),\n",
       " Comment(id='gpn6pwz'),\n",
       " Comment(id='gpn7oaa'),\n",
       " Comment(id='gpnaius'),\n",
       " Comment(id='gpnj4bh'),\n",
       " Comment(id='gpn0v4f'),\n",
       " Comment(id='gpmyzl7'),\n",
       " Comment(id='gpmzicl'),\n",
       " Comment(id='gpn8uuz'),\n",
       " Comment(id='gpnb6gh'),\n",
       " Comment(id='gpnlxim'),\n",
       " Comment(id='gpn9mbq'),\n",
       " Comment(id='gpnnhn0'),\n",
       " Comment(id='gpngyuv'),\n",
       " Comment(id='gpnhcid'),\n",
       " Comment(id='gpnhl2y'),\n",
       " Comment(id='gpniy0u'),\n",
       " Comment(id='gpnjac0'),\n",
       " Comment(id='gpnlrc1'),\n",
       " Comment(id='gpmzf1h')]"
      ]
     },
     "execution_count": 119,
     "metadata": {},
     "output_type": "execute_result"
    }
   ],
   "source": [
    "[v for v in coms]"
   ]
  },
  {
   "cell_type": "markdown",
   "metadata": {},
   "source": [
    "I'd like to seek for your advice with the situation I have right now..\n",
    "\n",
    "So, I recently reconnect with someone from my previous job and we get along pretty good..\n",
    "\n",
    "Fast forward, here we are right now and we decided to make thing serious..\n",
    "\n",
    "The catch here is that I'm the third party as the women I fell in love with is also in a committed relationship but they are not yet married because the guy she's also seeing is a married man..\n",
    "\n",
    "I'm willing to share our story provided that you can give us an advice with how we can go about fixing this relationship in favor of me having her without any problem\n",
    "\n",
    "\n",
    "NAME ALEX\n",
    "WORKING IN A CORPORATE COMPANY\n",
    "\n",
    "BACKGROUND:\n",
    "    WE KNOW EACH OTHER BACK WHEN WE WERE STILL WORKING IN THE SAME COMPANY\n",
    "    DURING THIS PANDEMIC, I SAW HER PROFILE AND ADDED HER\n",
    "    LUCKILY SHE STILL REMEMBERS ME AND WE STARTED CHATTING WHICH LED TO US MEETING IN PERSON\n",
    "    WE MANAGED TO CATCH UP ON THE THINGS WE DID AFTER MOVING SEPARATE WAYS\n",
    "    \n",
    "    SHORTLY AFTER OUR DINNER, WE DECIDED TO HAVE DRINK AND SHE VOLUNTEERED HER PLACE BECAUSE SHE'S NEAR\n",
    "    PLUS LESS HASSLE WITH WEARING MASK AND SHIELD\n",
    "    \n",
    "    SO WE CONTINUE OUR TALK THERE AND LEARNED ABOUT HER BOYFRIEND AND HER BOYFRIEND'S SECRET WHICH IS HE'S ACTUALLY A MARRIED MAN. I DON'T KNOW IF ALCHOHOL INFLUENCE ME BUT I MADE ME PURSUE HER AND THINGS HAPPENED THAT NIGHT.\n",
    "    \n",
    "    SHE ASKED IN HE MORNING IF THIS IS JUST A ONE NIGHT STAND BUT I TOLD HER THAT I STILL WANNA SEE HER DESPITE OF THE CIRCUMSTANCES. NOW KICKER HERE IS THAT HER BOYFRIEND IS NOT ACTUALLY JUST A MARRIED MAN BUT HOLD CONNECTION AND BUSINESS WITHIN THE AREA. HE HAS CONNECTION TO SOME OF THE BIG PEOPLE IN THE LOCAL INDUSTRY WHICH HE USE TO ALLOCATE \n",
    "    \n",
    "    "
   ]
  }
 ],
 "metadata": {
  "kernelspec": {
   "display_name": "Python 3",
   "language": "python",
   "name": "python3"
  },
  "language_info": {
   "codemirror_mode": {
    "name": "ipython",
    "version": 3
   },
   "file_extension": ".py",
   "mimetype": "text/x-python",
   "name": "python",
   "nbconvert_exporter": "python",
   "pygments_lexer": "ipython3",
   "version": "3.8.5"
  },
  "toc": {
   "base_numbering": 1,
   "nav_menu": {},
   "number_sections": true,
   "sideBar": true,
   "skip_h1_title": false,
   "title_cell": "Table of Contents",
   "title_sidebar": "Contents",
   "toc_cell": false,
   "toc_position": {},
   "toc_section_display": true,
   "toc_window_display": false
  },
  "varInspector": {
   "cols": {
    "lenName": 16,
    "lenType": 16,
    "lenVar": 40
   },
   "kernels_config": {
    "python": {
     "delete_cmd_postfix": "",
     "delete_cmd_prefix": "del ",
     "library": "var_list.py",
     "varRefreshCmd": "print(var_dic_list())"
    },
    "r": {
     "delete_cmd_postfix": ") ",
     "delete_cmd_prefix": "rm(",
     "library": "var_list.r",
     "varRefreshCmd": "cat(var_dic_list()) "
    }
   },
   "types_to_exclude": [
    "module",
    "function",
    "builtin_function_or_method",
    "instance",
    "_Feature"
   ],
   "window_display": false
  }
 },
 "nbformat": 4,
 "nbformat_minor": 4
}
