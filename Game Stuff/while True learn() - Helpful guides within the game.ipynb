{
 "cells": [
  {
   "cell_type": "markdown",
   "metadata": {},
   "source": [
    "# Use of trashcan\n",
    "\n",
    "- Real data sets have a lot of errors\n",
    "- Filtering out errors is very important skill of a data scientist\n",
    "\n",
    "Source: \n",
    "https://towardsdatascience.com/the-ultimate-guide-to-data-cleaning-3969843991d4\n",
    "\n",
    "<img src=\"https://miro.medium.com/max/620/1*LUK1pAU235VHhRJmNe6Ymw.png\">\n",
    "\n",
    "Notable quotes:\n",
    "> \"Garbage in, garbage out.\"\n",
    "\n",
    "> \"Quality data beats fancy algorithms.\""
   ]
  },
  {
   "cell_type": "markdown",
   "metadata": {
    "ExecuteTime": {
     "end_time": "2020-11-01T16:56:19.461469Z",
     "start_time": "2020-11-01T16:56:19.448537Z"
    }
   },
   "source": [
    "## How do we measure the quality of data?:"
   ]
  },
  {
   "cell_type": "markdown",
   "metadata": {},
   "source": [
    "### Data Quality\n",
    "\n",
    "----\n",
    "\n",
    "**Validity** - The degree to which the data conform to defined business rules or constraints.\n",
    "\n",
    "- Data-Type Constraints: values in a particular column must be of a particular datatype, e.g., boolean, numeric, date, etc.\n",
    "- Range Constraints: typically, numbers or dates should fall within a certain range.\n",
    "- Mandatory Constraints: certain columns cannot be empty.\n",
    "- Unique Constraints: a field, or a combination of fields, must be unique across a dataset.\n",
    "- Set-Membership constraints: values of a column come from a set of discrete values, e.g. enum values. For example, a person’s gender may be male or female.\n",
    "- Foreign-key constraints: as in relational databases, a foreign key column can’t have a value that does not exist in the referenced primary key.\n",
    "- Regular expression patterns: text fields that have to be in a certain pattern. For example, phone numbers may be required to have the pattern (999) 999–9999.\n",
    "- Cross-field validation: certain conditions that span across multiple fields must hold. For example, a patient’s date of discharge from the hospital cannot be earlier than the date of admission.\n",
    "\n",
    "----\n",
    "\n",
    "**Accuracy** - The degree to which the data is close to the true values.\n",
    "\n",
    "*****Example: A valid street address mightn’t actually exist. A valid person’s eye colour, say blue, might be valid, but not true (doesn’t represent the reality).\n",
    "\n",
    "----\n",
    "\n",
    "**Completeness** - The degree to which all required data is known.\n",
    "\n",
    "Missing data is going to happen for various reasons. One can mitigate this problem by questioning the original source if possible, say re-interviewing the subject.\n",
    "\n",
    "Chances are, the subject is either going to give a different answer or will be hard to reach again.\n",
    "\n",
    "----\n",
    "\n",
    "**Consistency** - The degree to which the data is consistent, within the same data set or across multiple data sets. Inconsistency occurs when two values in the data set contradict each other.\n",
    "\n",
    "Example: A valid age, say 10, mightn’t match with the marital status, say divorced. A customer is recorded in two different tables with two different addresses.\n",
    "\n",
    "----\n",
    "\n",
    "**Uniformity** - The degree to which the data is specified using the same unit of measure. Data must be converted to a single measure unit.\n",
    "\n",
    "----\n",
    "\n"
   ]
  },
  {
   "cell_type": "markdown",
   "metadata": {},
   "source": [
    "### Workflow\n",
    "\n",
    "1. **Inspection**: Detect unexpected, incorrect, and inconsistent data.\n",
    "1. **Cleaning**: Fix or remove the anomalies discovered.\n",
    "1. **Verifying**: After cleaning, the results are inspected to verify correctness.\n",
    "1. **Reporting**: A report about the changes made and the quality of the currently stored data is recorded."
   ]
  },
  {
   "cell_type": "markdown",
   "metadata": {},
   "source": [
    "### Inspection\n",
    "\n",
    "Inspecting the data is time-consuming and requires using many methods for exploring the underlying data for error detection.\n",
    "\n",
    "---\n",
    "\n",
    "**Data profiling**"
   ]
  },
  {
   "cell_type": "code",
   "execution_count": null,
   "metadata": {},
   "outputs": [],
   "source": []
  },
  {
   "cell_type": "markdown",
   "metadata": {},
   "source": [
    "# Tree-based\n",
    "\n",
    "https://www.analyticsvidhya.com/blog/2016/04/tree-based-algorithms-complete-tutorial-scratch-in-python/\n",
    "\n",
    "https://www.youtube.com/watch?v=DCZ3tsQIoGU"
   ]
  },
  {
   "cell_type": "markdown",
   "metadata": {},
   "source": [
    "# SIFT (Scale-Invariant Feature Transform)\n",
    "- Feature detector for image recognition\n",
    "- Non-neutral algorithm\n",
    "\n",
    "https://opencv-python-tutroals.readthedocs.io/en/latest/py_tutorials/py_feature2d/py_sift_intro/py_sift_intro.html\n",
    "\n",
    "https://www.youtube.com/watch?v=oKAnOzIu66c"
   ]
  },
  {
   "cell_type": "markdown",
   "metadata": {},
   "source": [
    "# Rosenblatt's Perceptron (MARK-1)\n",
    "- This perceptron could recognize only simple (linear) dependencies but was enough to recognize english letters by their shapes\n",
    "\n",
    "https://en.wikipedia.org/wiki/Perceptron\n",
    "\n",
    "https://www.youtube.com/watch?v=wL2aVUjDdoo\n",
    "\n",
    "https://www.coursera.org/learn/intro-to-deep-learning"
   ]
  },
  {
   "cell_type": "markdown",
   "metadata": {},
   "source": [
    "# Load Balancer\n",
    "\n",
    "https://en.wikipedia.org/wiki/Load_balancing_(computing)"
   ]
  },
  {
   "cell_type": "code",
   "execution_count": null,
   "metadata": {},
   "outputs": [],
   "source": []
  }
 ],
 "metadata": {
  "kernelspec": {
   "display_name": "Python 3",
   "language": "python",
   "name": "python3"
  },
  "language_info": {
   "codemirror_mode": {
    "name": "ipython",
    "version": 3
   },
   "file_extension": ".py",
   "mimetype": "text/x-python",
   "name": "python",
   "nbconvert_exporter": "python",
   "pygments_lexer": "ipython3",
   "version": "3.7.4"
  },
  "toc": {
   "base_numbering": 1,
   "nav_menu": {},
   "number_sections": false,
   "sideBar": true,
   "skip_h1_title": false,
   "title_cell": "Table of Contents",
   "title_sidebar": "Contents",
   "toc_cell": false,
   "toc_position": {},
   "toc_section_display": true,
   "toc_window_display": true
  },
  "varInspector": {
   "cols": {
    "lenName": 16,
    "lenType": 16,
    "lenVar": 40
   },
   "kernels_config": {
    "python": {
     "delete_cmd_postfix": "",
     "delete_cmd_prefix": "del ",
     "library": "var_list.py",
     "varRefreshCmd": "print(var_dic_list())"
    },
    "r": {
     "delete_cmd_postfix": ") ",
     "delete_cmd_prefix": "rm(",
     "library": "var_list.r",
     "varRefreshCmd": "cat(var_dic_list()) "
    }
   },
   "types_to_exclude": [
    "module",
    "function",
    "builtin_function_or_method",
    "instance",
    "_Feature"
   ],
   "window_display": false
  }
 },
 "nbformat": 4,
 "nbformat_minor": 2
}
