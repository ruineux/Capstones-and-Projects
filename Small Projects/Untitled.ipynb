{
 "cells": [
  {
   "cell_type": "markdown",
   "id": "6b8c1156-c1e0-403d-bfac-60e407afb05f",
   "metadata": {},
   "source": [
    "## Asyncio (Asynchronous I/O)\n",
    "\n",
    "### How it works\n",
    "`asyncio` is a library that provides asynchronous programming support. It uses an event loop to run tasks concurrently without the need for multiple threads. Each `async def` function runs as a coroutine, and tasks within it can be paused and resumed using `await`.\n",
    "\n",
    "### Key Features\n",
    "- Efficiently handles I/O-bound tasks (e.g., network calls, file reading).\n",
    "- Single-threaded but capable of concurrency by yielding control when waiting for tasks to complete.\n",
    "- Lightweight compared to threads, as it avoids the overhead of thread management.\n",
    "\n",
    "### When is asyncio should be used?\n",
    "- Web Scraping: Concurrently fetch data from multiple URLs using `aiohttp`\n",
    "- Chat Applications: Handle multiple user connections simultaneously without blocking\n",
    "- Background Tasks: Perform periodic tasks like updating a database or sending notifications"
   ]
  },
  {
   "cell_type": "markdown",
   "id": "c9f08fe4-cee2-4f72-bf89-1d173a321c28",
   "metadata": {},
   "source": [
    "## Threading\n",
    "\n",
    "### How It Works\n",
    "Threading allows multiple threads to run concurrently. Each thread runs independently but shares the same memory space as the main program, which requires careful management (e.g., synchronization with locks)\n",
    "\n",
    "### Key Features\n",
    "- Suitable for tasks that require true parallelism, especially on multi-core processors\n",
    "- Useful for CPU-bound tasks, although GIL (Global Interpreter Lock) in CPython limits true multi-threading\n",
    "\n",
    "### When is threading should be used?\n",
    "- **GUIs:** Keep the user interface responsive while performing long-running operations in the background\n",
    "- **Background Services:** Run periodic or daemon processes alongside the main application\n",
    "- **I/O Operations:** Read/write files or handle network communication in separate threads"
   ]
  },
  {
   "cell_type": "markdown",
   "id": "a22d5cec-c24b-44d5-8222-0d6364c39250",
   "metadata": {},
   "source": [
    "## Choosing Between `asyncio` and `threading`\n",
    "\n",
    "Use `asyncio` when:\n",
    "- Tasks are I/O-bound and involve a lot of waiting (e.g., network requests, disk access)\n",
    "- Scalability and lightweight execution are important\n",
    "\n",
    "Use `threading` when:\n",
    "- Tasks are CPU-bound or need real-time parallelism\n",
    "- Existing libraries you're working with are not compatible with async programming"
   ]
  },
  {
   "cell_type": "markdown",
   "id": "0539f736-5cca-44c3-a1dd-053af3875088",
   "metadata": {},
   "source": [
    "## Demo"
   ]
  },
  {
   "cell_type": "code",
   "execution_count": 13,
   "id": "1fbfb91f-5251-4c6b-aa4c-a86f97f9b689",
   "metadata": {},
   "outputs": [],
   "source": [
    "import asyncio"
   ]
  },
  {
   "cell_type": "code",
   "execution_count": 19,
   "id": "f136ac66-86a8-426d-bc8f-1bae7b5877c0",
   "metadata": {},
   "outputs": [],
   "source": [
    "# coroutine function\n",
    "async def main():\n",
    "    print(\"Start of main coroutine\")"
   ]
  },
  {
   "cell_type": "code",
   "execution_count": 29,
   "id": "2dd457d9-34df-4749-8c22-1619953cf47f",
   "metadata": {},
   "outputs": [
    {
     "data": {
      "text/plain": [
       "<coroutine object main at 0x000001958E909C00>"
      ]
     },
     "execution_count": 29,
     "metadata": {},
     "output_type": "execute_result"
    }
   ],
   "source": [
    "main()"
   ]
  },
  {
   "cell_type": "code",
   "execution_count": 31,
   "id": "94a54ff1-af76-45a6-8852-07fab17db196",
   "metadata": {},
   "outputs": [
    {
     "name": "stdout",
     "output_type": "stream",
     "text": [
      "<coroutine object main at 0x00000195922B68C0>\n"
     ]
    },
    {
     "name": "stderr",
     "output_type": "stream",
     "text": [
      "C:\\Users\\Maku\\AppData\\Local\\Temp\\ipykernel_18632\\363440004.py:1: RuntimeWarning: coroutine 'main' was never awaited\n",
      "  print(main())\n",
      "RuntimeWarning: Enable tracemalloc to get the object allocation traceback\n"
     ]
    }
   ],
   "source": [
    "print(main())"
   ]
  },
  {
   "cell_type": "code",
   "execution_count": 27,
   "id": "664c19b6-ce29-4bd8-9cb7-71796f0ec079",
   "metadata": {},
   "outputs": [
    {
     "name": "stdout",
     "output_type": "stream",
     "text": [
      "Start of main coroutine\n"
     ]
    }
   ],
   "source": [
    "await main()"
   ]
  },
  {
   "cell_type": "markdown",
   "id": "af6fd1f7-60c2-41b4-8652-1a9a07fbb0f5",
   "metadata": {},
   "source": [
    "-----"
   ]
  },
  {
   "cell_type": "code",
   "execution_count": 60,
   "id": "e3cef78e-ea40-4a39-8271-a490f41d32db",
   "metadata": {},
   "outputs": [],
   "source": [
    "async def fetch_data(delay):\n",
    "    print(\"Fetching Data...\")\n",
    "    await asyncio.sleep(delay)  # Await asyncio.sleep for proper behavior\n",
    "    print(\"Data fetched\")\n",
    "    return {\"data\": \"some data\"}\n",
    "\n",
    "async def main():\n",
    "    print(\"Start of main coroutine\")\n",
    "    result = await fetch_data(2)  # Use '=' for assignment\n",
    "    print(f\"Received result: {result}\")\n",
    "    print(\"End of main coroutine\")"
   ]
  },
  {
   "cell_type": "code",
   "execution_count": 62,
   "id": "725bc0ba-3275-4fa6-ac9b-8e6d95bd9a77",
   "metadata": {},
   "outputs": [
    {
     "name": "stdout",
     "output_type": "stream",
     "text": [
      "Start of main coroutine\n",
      "Fetching Data...\n",
      "Data fetched\n",
      "Received result: {'data': 'some data'}\n",
      "End of main coroutine\n"
     ]
    }
   ],
   "source": [
    "await main()"
   ]
  },
  {
   "cell_type": "code",
   "execution_count": 56,
   "id": "6cbcf605-3391-4d20-997c-9cf980084f98",
   "metadata": {},
   "outputs": [
    {
     "ename": "RuntimeError",
     "evalue": "asyncio.run() cannot be called from a running event loop",
     "output_type": "error",
     "traceback": [
      "\u001b[1;31m---------------------------------------------------------------------------\u001b[0m",
      "\u001b[1;31mRuntimeError\u001b[0m                              Traceback (most recent call last)",
      "Cell \u001b[1;32mIn[56], line 15\u001b[0m\n\u001b[0;32m     12\u001b[0m     \u001b[38;5;28mprint\u001b[39m(\u001b[38;5;124m\"\u001b[39m\u001b[38;5;124mEnd of main coroutine\u001b[39m\u001b[38;5;124m\"\u001b[39m)\n\u001b[0;32m     14\u001b[0m \u001b[38;5;28;01mif\u001b[39;00m \u001b[38;5;18m__name__\u001b[39m \u001b[38;5;241m==\u001b[39m \u001b[38;5;124m\"\u001b[39m\u001b[38;5;124m__main__\u001b[39m\u001b[38;5;124m\"\u001b[39m:\n\u001b[1;32m---> 15\u001b[0m     asyncio\u001b[38;5;241m.\u001b[39mrun(main())\n",
      "File \u001b[1;32mC:\\ProgramData\\anaconda3\\Lib\\asyncio\\runners.py:190\u001b[0m, in \u001b[0;36mrun\u001b[1;34m(main, debug, loop_factory)\u001b[0m\n\u001b[0;32m    161\u001b[0m \u001b[38;5;250m\u001b[39m\u001b[38;5;124;03m\"\"\"Execute the coroutine and return the result.\u001b[39;00m\n\u001b[0;32m    162\u001b[0m \n\u001b[0;32m    163\u001b[0m \u001b[38;5;124;03mThis function runs the passed coroutine, taking care of\u001b[39;00m\n\u001b[1;32m   (...)\u001b[0m\n\u001b[0;32m    186\u001b[0m \u001b[38;5;124;03m    asyncio.run(main())\u001b[39;00m\n\u001b[0;32m    187\u001b[0m \u001b[38;5;124;03m\"\"\"\u001b[39;00m\n\u001b[0;32m    188\u001b[0m \u001b[38;5;28;01mif\u001b[39;00m events\u001b[38;5;241m.\u001b[39m_get_running_loop() \u001b[38;5;129;01mis\u001b[39;00m \u001b[38;5;129;01mnot\u001b[39;00m \u001b[38;5;28;01mNone\u001b[39;00m:\n\u001b[0;32m    189\u001b[0m     \u001b[38;5;66;03m# fail fast with short traceback\u001b[39;00m\n\u001b[1;32m--> 190\u001b[0m     \u001b[38;5;28;01mraise\u001b[39;00m \u001b[38;5;167;01mRuntimeError\u001b[39;00m(\n\u001b[0;32m    191\u001b[0m         \u001b[38;5;124m\"\u001b[39m\u001b[38;5;124masyncio.run() cannot be called from a running event loop\u001b[39m\u001b[38;5;124m\"\u001b[39m)\n\u001b[0;32m    193\u001b[0m \u001b[38;5;28;01mwith\u001b[39;00m Runner(debug\u001b[38;5;241m=\u001b[39mdebug, loop_factory\u001b[38;5;241m=\u001b[39mloop_factory) \u001b[38;5;28;01mas\u001b[39;00m runner:\n\u001b[0;32m    194\u001b[0m     \u001b[38;5;28;01mreturn\u001b[39;00m runner\u001b[38;5;241m.\u001b[39mrun(main)\n",
      "\u001b[1;31mRuntimeError\u001b[0m: asyncio.run() cannot be called from a running event loop"
     ]
    }
   ],
   "source": [
    "async def fetch_data(delay):\n",
    "    print(\"Fetching Data...\")\n",
    "    asyncio.sleep(delay)\n",
    "    print(\"Data fetched\")\n",
    "    return {\"data\": \"some data\"}\n",
    "\n",
    "async def main():\n",
    "    print(\"Start of main coroutine\")\n",
    "    task = fetch_data(2)\n",
    "    result - await task\n",
    "    print(f\"Received result: {result}\")\n",
    "    print(\"End of main coroutine\")\n",
    "\n",
    "if __name__ == \"__main__\":\n",
    "    asyncio.run(main())"
   ]
  },
  {
   "cell_type": "code",
   "execution_count": 54,
   "id": "d6a5b109-f128-4848-a5e3-38fe294bcdf3",
   "metadata": {},
   "outputs": [
    {
     "ename": "RuntimeError",
     "evalue": "asyncio.run() cannot be called from a running event loop",
     "output_type": "error",
     "traceback": [
      "\u001b[1;31m---------------------------------------------------------------------------\u001b[0m",
      "\u001b[1;31mRuntimeError\u001b[0m                              Traceback (most recent call last)",
      "Cell \u001b[1;32mIn[54], line 2\u001b[0m\n\u001b[0;32m      1\u001b[0m \u001b[38;5;28;01mif\u001b[39;00m \u001b[38;5;18m__name__\u001b[39m \u001b[38;5;241m==\u001b[39m \u001b[38;5;124m\"\u001b[39m\u001b[38;5;124m__main__\u001b[39m\u001b[38;5;124m\"\u001b[39m:\n\u001b[1;32m----> 2\u001b[0m     asyncio\u001b[38;5;241m.\u001b[39mrun(main())\n",
      "File \u001b[1;32mC:\\ProgramData\\anaconda3\\Lib\\asyncio\\runners.py:190\u001b[0m, in \u001b[0;36mrun\u001b[1;34m(main, debug, loop_factory)\u001b[0m\n\u001b[0;32m    161\u001b[0m \u001b[38;5;250m\u001b[39m\u001b[38;5;124;03m\"\"\"Execute the coroutine and return the result.\u001b[39;00m\n\u001b[0;32m    162\u001b[0m \n\u001b[0;32m    163\u001b[0m \u001b[38;5;124;03mThis function runs the passed coroutine, taking care of\u001b[39;00m\n\u001b[1;32m   (...)\u001b[0m\n\u001b[0;32m    186\u001b[0m \u001b[38;5;124;03m    asyncio.run(main())\u001b[39;00m\n\u001b[0;32m    187\u001b[0m \u001b[38;5;124;03m\"\"\"\u001b[39;00m\n\u001b[0;32m    188\u001b[0m \u001b[38;5;28;01mif\u001b[39;00m events\u001b[38;5;241m.\u001b[39m_get_running_loop() \u001b[38;5;129;01mis\u001b[39;00m \u001b[38;5;129;01mnot\u001b[39;00m \u001b[38;5;28;01mNone\u001b[39;00m:\n\u001b[0;32m    189\u001b[0m     \u001b[38;5;66;03m# fail fast with short traceback\u001b[39;00m\n\u001b[1;32m--> 190\u001b[0m     \u001b[38;5;28;01mraise\u001b[39;00m \u001b[38;5;167;01mRuntimeError\u001b[39;00m(\n\u001b[0;32m    191\u001b[0m         \u001b[38;5;124m\"\u001b[39m\u001b[38;5;124masyncio.run() cannot be called from a running event loop\u001b[39m\u001b[38;5;124m\"\u001b[39m)\n\u001b[0;32m    193\u001b[0m \u001b[38;5;28;01mwith\u001b[39;00m Runner(debug\u001b[38;5;241m=\u001b[39mdebug, loop_factory\u001b[38;5;241m=\u001b[39mloop_factory) \u001b[38;5;28;01mas\u001b[39;00m runner:\n\u001b[0;32m    194\u001b[0m     \u001b[38;5;28;01mreturn\u001b[39;00m runner\u001b[38;5;241m.\u001b[39mrun(main)\n",
      "\u001b[1;31mRuntimeError\u001b[0m: asyncio.run() cannot be called from a running event loop"
     ]
    }
   ],
   "source": []
  },
  {
   "cell_type": "code",
   "execution_count": null,
   "id": "6f90aa3d-2ec0-464e-9f8c-d861e29dc575",
   "metadata": {},
   "outputs": [],
   "source": []
  }
 ],
 "metadata": {
  "kernelspec": {
   "display_name": "Python [conda env:base] *",
   "language": "python",
   "name": "conda-base-py"
  },
  "language_info": {
   "codemirror_mode": {
    "name": "ipython",
    "version": 3
   },
   "file_extension": ".py",
   "mimetype": "text/x-python",
   "name": "python",
   "nbconvert_exporter": "python",
   "pygments_lexer": "ipython3",
   "version": "3.12.7"
  }
 },
 "nbformat": 4,
 "nbformat_minor": 5
}
