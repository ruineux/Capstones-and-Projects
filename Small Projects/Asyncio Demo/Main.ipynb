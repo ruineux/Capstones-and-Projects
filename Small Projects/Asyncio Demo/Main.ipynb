{
 "cells": [
  {
   "cell_type": "code",
   "execution_count": 2,
   "id": "c98e911d-fd25-478b-9bf8-a12d370eb75e",
   "metadata": {},
   "outputs": [],
   "source": [
    "import asyncio\n",
    "\n",
    "import api"
   ]
  },
  {
   "cell_type": "code",
   "execution_count": 5,
   "id": "6233ddd5-2c53-447b-9e63-d3301caf2615",
   "metadata": {},
   "outputs": [],
   "source": [
    "async def send_data(to: str):\n",
    "    \n",
    "    print(f\"Sending data to {to}...\")\n",
    "    await asyncio.sleep(2)\n",
    "    print(f\"Data sent to {to}\")"
   ]
  },
  {
   "cell_type": "code",
   "execution_count": 7,
   "id": "e5d32f74-ed60-4c46-8352-34eaefdfe952",
   "metadata": {},
   "outputs": [],
   "source": [
    "async def main():\n",
    "    data = await api.fetch_data()\n",
    "    print(f\"Data: {data}\")\n",
    "\n",
    "    await send_data(\"Maria\")"
   ]
  },
  {
   "cell_type": "code",
   "execution_count": 9,
   "id": "e16a5dd3-8ed1-465b-9fee-6b642fb8af68",
   "metadata": {},
   "outputs": [
    {
     "name": "stdout",
     "output_type": "stream",
     "text": [
      "Fetching Data...\n",
      "Data Fetched!\n",
      "Data: API Data\n",
      "Sending data to Maria...\n",
      "Data sent to Maria\n"
     ]
    }
   ],
   "source": [
    "await main()"
   ]
  },
  {
   "cell_type": "code",
   "execution_count": null,
   "id": "ed2b6ff8-d52f-4ea0-9a84-19ead9fc437c",
   "metadata": {},
   "outputs": [],
   "source": []
  }
 ],
 "metadata": {
  "kernelspec": {
   "display_name": "Python 3 (ipykernel)",
   "language": "python",
   "name": "python3"
  },
  "language_info": {
   "codemirror_mode": {
    "name": "ipython",
    "version": 3
   },
   "file_extension": ".py",
   "mimetype": "text/x-python",
   "name": "python",
   "nbconvert_exporter": "python",
   "pygments_lexer": "ipython3",
   "version": "3.12.4"
  }
 },
 "nbformat": 4,
 "nbformat_minor": 5
}
