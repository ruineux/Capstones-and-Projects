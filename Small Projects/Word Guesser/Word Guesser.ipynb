{
 "cells": [
  {
   "cell_type": "code",
   "execution_count": 1,
   "id": "715ced99-d11b-4999-a445-85a1bdd9b164",
   "metadata": {},
   "outputs": [],
   "source": [
    "import requests\n",
    "import nltk"
   ]
  },
  {
   "cell_type": "code",
   "execution_count": 13,
   "id": "39a20687-f5be-4088-a5a1-4c60efc24977",
   "metadata": {},
   "outputs": [
    {
     "name": "stdout",
     "output_type": "stream",
     "text": [
      "API Response:\n",
      "Post ID: 1, Title: sunt aut facere repellat provident occaecati excepturi optio reprehenderit\n",
      "Post ID: 2, Title: qui est esse\n",
      "Post ID: 3, Title: ea molestias quasi exercitationem repellat qui ipsa sit aut\n",
      "Post ID: 4, Title: eum et est occaecati\n",
      "Post ID: 5, Title: nesciunt quas odio\n",
      "Post ID: 6, Title: dolorem eum magni eos aperiam quia\n",
      "Post ID: 7, Title: magnam facilis autem\n",
      "Post ID: 8, Title: dolorem dolore est ipsam\n",
      "Post ID: 9, Title: nesciunt iure omnis dolorem tempora et accusantium\n",
      "Post ID: 10, Title: optio molestias id quia eum\n"
     ]
    }
   ],
   "source": [
    "import requests\n",
    "\n",
    "# Define the API endpoint and parameters\n",
    "url = \"https://jsonplaceholder.typicode.com/posts\"\n",
    "params = {\"userId\": 1}  # Example parameters\n",
    "\n",
    "try:\n",
    "    # Make the GET request to the API\n",
    "    response = requests.get(url, params=params)\n",
    "\n",
    "    # Check if the request was successful\n",
    "    if response.status_code == 200:\n",
    "        # Parse the JSON response\n",
    "        data = response.json()\n",
    "        print(\"API Response:\")\n",
    "        for item in data:\n",
    "            print(f\"Post ID: {item['id']}, Title: {item['title']}\")\n",
    "    else:\n",
    "        print(f\"Error: {response.status_code}\")\n",
    "except requests.exceptions.RequestException as e:\n",
    "    print(f\"An error occurred: {e}\")\n"
   ]
  },
  {
   "cell_type": "code",
   "execution_count": 102,
   "id": "75d988dd-b9b4-4473-9550-2c30b438848e",
   "metadata": {},
   "outputs": [],
   "source": [
    "def fetch_word(length=4, wordcount=1):\n",
    "    \"\"\"\n",
    "    length (int): Length of words that will fetch\n",
    "    wordcount (int): Number of words that will fetch\n",
    "    \"\"\"\n",
    "\n",
    "    url = f\"https://random-word-api.herokuapp.com/word\"\n",
    "    params = {\"number\": wordcount,\n",
    "              \"length\": length\n",
    "             }\n",
    "    \n",
    "    response = requests.get(url, params = params)\n",
    "\n",
    "    # For Testing: Print URL Request\n",
    "    #print(f\"Request URL: {response.url}\")\n",
    "\n",
    "    if response.status_code == 200:\n",
    "        data = response.json()\n",
    "        \n",
    "        \n",
    "    return data\n",
    "\n",
    "    \n",
    "    "
   ]
  },
  {
   "cell_type": "code",
   "execution_count": 112,
   "id": "6cb4ac63-eb2c-4a24-a769-2b04e5393061",
   "metadata": {},
   "outputs": [
    {
     "name": "stdout",
     "output_type": "stream",
     "text": [
      "Request URL: https://random-word-api.herokuapp.com/word?number=10&length=10\n"
     ]
    }
   ],
   "source": [
    "a = fetch_word(length=10, wordcount=10)"
   ]
  },
  {
   "cell_type": "code",
   "execution_count": 113,
   "id": "384bd982-7003-4423-875a-f08c3b9df42c",
   "metadata": {},
   "outputs": [
    {
     "data": {
      "text/plain": [
       "['likenesses',\n",
       " 'monogamies',\n",
       " 'lazarettos',\n",
       " 'preferable',\n",
       " 'incumbents',\n",
       " 'architrave',\n",
       " 'multigroup',\n",
       " 'kilojoules',\n",
       " 'hartshorns',\n",
       " 'bushelling']"
      ]
     },
     "execution_count": 113,
     "metadata": {},
     "output_type": "execute_result"
    }
   ],
   "source": [
    "a"
   ]
  },
  {
   "cell_type": "code",
   "execution_count": 142,
   "id": "4820c5d9-0ef0-42d3-92aa-20a79fc3cac4",
   "metadata": {},
   "outputs": [],
   "source": [
    "b = requests.get(\"https://api.dictionaryapi.dev/api/v2/entries/en/jumper\")"
   ]
  },
  {
   "cell_type": "code",
   "execution_count": 144,
   "id": "e49fb4be-244d-4950-adc8-159007b31515",
   "metadata": {},
   "outputs": [],
   "source": [
    "b = b.json()[0]"
   ]
  },
  {
   "cell_type": "code",
   "execution_count": 146,
   "id": "15e618a7-a325-4472-acd1-c8a521dfd572",
   "metadata": {},
   "outputs": [
    {
     "data": {
      "text/plain": [
       "{'word': 'jumper',\n",
       " 'phonetics': [{'audio': 'https://api.dictionaryapi.dev/media/pronunciations/en/jumper-au.mp3',\n",
       "   'sourceUrl': 'https://commons.wikimedia.org/w/index.php?curid=75622272',\n",
       "   'license': {'name': 'BY-SA 4.0',\n",
       "    'url': 'https://creativecommons.org/licenses/by-sa/4.0'}},\n",
       "  {'text': '/dʒʊmpə/', 'audio': ''},\n",
       "  {'text': '/dʒʌmpɚ/',\n",
       "   'audio': 'https://api.dictionaryapi.dev/media/pronunciations/en/jumper-us.mp3',\n",
       "   'sourceUrl': 'https://commons.wikimedia.org/w/index.php?curid=10258597',\n",
       "   'license': {'name': 'FAL', 'url': 'https://artlibre.org/licence/lal/en'}}],\n",
       " 'meanings': [{'partOfSpeech': 'noun',\n",
       "   'definitions': [{'definition': 'Someone or something that jumps, e.g. a participant in a jumping event in track or skiing.',\n",
       "     'synonyms': [],\n",
       "     'antonyms': []},\n",
       "    {'definition': 'A person who attempts suicide by jumping from a great height.',\n",
       "     'synonyms': [],\n",
       "     'antonyms': []},\n",
       "    {'definition': 'A short length of electrical conductor, to make a temporary connection. Also jump wire.',\n",
       "     'synonyms': [],\n",
       "     'antonyms': []},\n",
       "    {'definition': 'A removable connecting pin on an electronic circuit board.',\n",
       "     'synonyms': [],\n",
       "     'antonyms': []},\n",
       "    {'definition': 'A long drilling tool used by masons and quarry workers, consisting of an iron bar with a chisel-edged steel tip at one or both ends, operated by striking it against the rock, turning it slightly with each blow.',\n",
       "     'synonyms': [],\n",
       "     'antonyms': []},\n",
       "    {'definition': 'A crude kind of sleigh, usually a simple box on runners which are in one piece with the poles that form the thills.',\n",
       "     'synonyms': [],\n",
       "     'antonyms': []},\n",
       "    {'definition': 'A jumping spider', 'synonyms': [], 'antonyms': []},\n",
       "    {'definition': 'The larva of the cheese fly.',\n",
       "     'synonyms': [],\n",
       "     'antonyms': []},\n",
       "    {'definition': '(18th century) One of certain Calvinistic Methodists in Wales whose worship was characterized by violent convulsions.',\n",
       "     'synonyms': [],\n",
       "     'antonyms': []},\n",
       "    {'definition': 'A spring to impel the star wheel, or a pawl to lock fast a wheel, in a repeating timepiece.',\n",
       "     'synonyms': [],\n",
       "     'antonyms': []},\n",
       "    {'definition': 'A shot in which the player releases the ball at the highest point of a jump; a jump shot.',\n",
       "     'synonyms': [],\n",
       "     'antonyms': []},\n",
       "    {'definition': 'A nuclear power plant worker who repairs equipment in areas with extremely high levels of radiation.',\n",
       "     'synonyms': [],\n",
       "     'antonyms': []}],\n",
       "   'synonyms': [],\n",
       "   'antonyms': []},\n",
       "  {'partOfSpeech': 'verb',\n",
       "   'definitions': [{'definition': 'To connect with an electrical jumper.',\n",
       "     'synonyms': [],\n",
       "     'antonyms': []}],\n",
       "   'synonyms': [],\n",
       "   'antonyms': []}],\n",
       " 'license': {'name': 'CC BY-SA 3.0',\n",
       "  'url': 'https://creativecommons.org/licenses/by-sa/3.0'},\n",
       " 'sourceUrls': ['https://en.wiktionary.org/wiki/jumper']}"
      ]
     },
     "execution_count": 146,
     "metadata": {},
     "output_type": "execute_result"
    }
   ],
   "source": [
    "b"
   ]
  },
  {
   "cell_type": "code",
   "execution_count": 148,
   "id": "d02b4cb2-632e-447e-b682-90dec1570149",
   "metadata": {},
   "outputs": [
    {
     "data": {
      "text/plain": [
       "'jumper'"
      ]
     },
     "execution_count": 148,
     "metadata": {},
     "output_type": "execute_result"
    }
   ],
   "source": [
    "b[\"word\"]"
   ]
  },
  {
   "cell_type": "code",
   "execution_count": 150,
   "id": "0d199b19-fa58-4876-9aaa-86541cddcd96",
   "metadata": {},
   "outputs": [
    {
     "data": {
      "text/plain": [
       "[{'partOfSpeech': 'noun',\n",
       "  'definitions': [{'definition': 'Someone or something that jumps, e.g. a participant in a jumping event in track or skiing.',\n",
       "    'synonyms': [],\n",
       "    'antonyms': []},\n",
       "   {'definition': 'A person who attempts suicide by jumping from a great height.',\n",
       "    'synonyms': [],\n",
       "    'antonyms': []},\n",
       "   {'definition': 'A short length of electrical conductor, to make a temporary connection. Also jump wire.',\n",
       "    'synonyms': [],\n",
       "    'antonyms': []},\n",
       "   {'definition': 'A removable connecting pin on an electronic circuit board.',\n",
       "    'synonyms': [],\n",
       "    'antonyms': []},\n",
       "   {'definition': 'A long drilling tool used by masons and quarry workers, consisting of an iron bar with a chisel-edged steel tip at one or both ends, operated by striking it against the rock, turning it slightly with each blow.',\n",
       "    'synonyms': [],\n",
       "    'antonyms': []},\n",
       "   {'definition': 'A crude kind of sleigh, usually a simple box on runners which are in one piece with the poles that form the thills.',\n",
       "    'synonyms': [],\n",
       "    'antonyms': []},\n",
       "   {'definition': 'A jumping spider', 'synonyms': [], 'antonyms': []},\n",
       "   {'definition': 'The larva of the cheese fly.',\n",
       "    'synonyms': [],\n",
       "    'antonyms': []},\n",
       "   {'definition': '(18th century) One of certain Calvinistic Methodists in Wales whose worship was characterized by violent convulsions.',\n",
       "    'synonyms': [],\n",
       "    'antonyms': []},\n",
       "   {'definition': 'A spring to impel the star wheel, or a pawl to lock fast a wheel, in a repeating timepiece.',\n",
       "    'synonyms': [],\n",
       "    'antonyms': []},\n",
       "   {'definition': 'A shot in which the player releases the ball at the highest point of a jump; a jump shot.',\n",
       "    'synonyms': [],\n",
       "    'antonyms': []},\n",
       "   {'definition': 'A nuclear power plant worker who repairs equipment in areas with extremely high levels of radiation.',\n",
       "    'synonyms': [],\n",
       "    'antonyms': []}],\n",
       "  'synonyms': [],\n",
       "  'antonyms': []},\n",
       " {'partOfSpeech': 'verb',\n",
       "  'definitions': [{'definition': 'To connect with an electrical jumper.',\n",
       "    'synonyms': [],\n",
       "    'antonyms': []}],\n",
       "  'synonyms': [],\n",
       "  'antonyms': []}]"
      ]
     },
     "execution_count": 150,
     "metadata": {},
     "output_type": "execute_result"
    }
   ],
   "source": [
    "b[\"meanings\"]"
   ]
  },
  {
   "cell_type": "code",
   "execution_count": 160,
   "id": "4fc1c5e0-14dc-4fd7-80a0-dac7f32ad24e",
   "metadata": {},
   "outputs": [],
   "source": [
    "definitions_with_pos = [\n",
    "    {\"partOfSpeech\": entry[\"partOfSpeech\"], \"definition\": definition[\"definition\"]}\n",
    "    for entry in c\n",
    "    for definition in entry[\"definitions\"]\n",
    "]"
   ]
  },
  {
   "cell_type": "code",
   "execution_count": 164,
   "id": "c416d0cd-52b5-4e09-9a0f-5ce638b084aa",
   "metadata": {},
   "outputs": [
    {
     "data": {
      "text/plain": [
       "13"
      ]
     },
     "execution_count": 164,
     "metadata": {},
     "output_type": "execute_result"
    }
   ],
   "source": [
    "len(definitions_with_pos)"
   ]
  },
  {
   "cell_type": "code",
   "execution_count": 172,
   "id": "4ef01106-51f8-4236-aa68-e8e6f76e7753",
   "metadata": {},
   "outputs": [
    {
     "data": {
      "text/plain": [
       "'Someone or something that jumps, e.g. a participant in a jumping event in track or skiing.'"
      ]
     },
     "execution_count": 172,
     "metadata": {},
     "output_type": "execute_result"
    }
   ],
   "source": [
    "definitions_with_pos[0][\"definition\"]"
   ]
  },
  {
   "cell_type": "code",
   "execution_count": 166,
   "id": "4ff8cf7f-78bd-4397-a48a-39146f8c61da",
   "metadata": {},
   "outputs": [
    {
     "name": "stdout",
     "output_type": "stream",
     "text": [
      "Part of Speech: noun, Definition: Someone or something that jumps, e.g. a participant in a jumping event in track or skiing.\n",
      "Part of Speech: noun, Definition: A person who attempts suicide by jumping from a great height.\n",
      "Part of Speech: noun, Definition: A short length of electrical conductor, to make a temporary connection. Also jump wire.\n",
      "Part of Speech: noun, Definition: A removable connecting pin on an electronic circuit board.\n",
      "Part of Speech: noun, Definition: A long drilling tool used by masons and quarry workers, consisting of an iron bar with a chisel-edged steel tip at one or both ends, operated by striking it against the rock, turning it slightly with each blow.\n",
      "Part of Speech: noun, Definition: A crude kind of sleigh, usually a simple box on runners which are in one piece with the poles that form the thills.\n",
      "Part of Speech: noun, Definition: A jumping spider\n",
      "Part of Speech: noun, Definition: The larva of the cheese fly.\n",
      "Part of Speech: noun, Definition: (18th century) One of certain Calvinistic Methodists in Wales whose worship was characterized by violent convulsions.\n",
      "Part of Speech: noun, Definition: A spring to impel the star wheel, or a pawl to lock fast a wheel, in a repeating timepiece.\n",
      "Part of Speech: noun, Definition: A shot in which the player releases the ball at the highest point of a jump; a jump shot.\n",
      "Part of Speech: noun, Definition: A nuclear power plant worker who repairs equipment in areas with extremely high levels of radiation.\n",
      "Part of Speech: verb, Definition: To connect with an electrical jumper.\n"
     ]
    }
   ],
   "source": [
    "# Display the extracted results\n",
    "for item in definitions_with_pos:\n",
    "    print(f\"Part of Speech: {item['partOfSpeech']}, Definition: {item['definition']}\")"
   ]
  },
  {
   "cell_type": "code",
   "execution_count": 45,
   "id": "3f0c52c9-0829-4260-ad17-7c7e4c1f7b98",
   "metadata": {},
   "outputs": [
    {
     "data": {
      "text/plain": [
       "<Response [400]>"
      ]
     },
     "execution_count": 45,
     "metadata": {},
     "output_type": "execute_result"
    }
   ],
   "source": [
    "a"
   ]
  },
  {
   "cell_type": "code",
   "execution_count": null,
   "id": "a086ad47-1b2e-46ca-8044-8641355fced6",
   "metadata": {},
   "outputs": [],
   "source": []
  }
 ],
 "metadata": {
  "kernelspec": {
   "display_name": "Python [conda env:base] *",
   "language": "python",
   "name": "conda-base-py"
  },
  "language_info": {
   "codemirror_mode": {
    "name": "ipython",
    "version": 3
   },
   "file_extension": ".py",
   "mimetype": "text/x-python",
   "name": "python",
   "nbconvert_exporter": "python",
   "pygments_lexer": "ipython3",
   "version": "3.12.7"
  }
 },
 "nbformat": 4,
 "nbformat_minor": 5
}
