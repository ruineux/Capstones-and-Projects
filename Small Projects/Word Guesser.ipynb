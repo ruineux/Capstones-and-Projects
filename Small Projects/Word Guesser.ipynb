{
 "cells": [
  {
   "cell_type": "markdown",
   "id": "2ba0d33a-0d7e-4b86-b6c1-16dffa7ace48",
   "metadata": {},
   "source": [
    "## Excercise:\n",
    "\n",
    "### API Request\n",
    "## How it Works:\n",
    "\n",
    "### #1: Web API will be called"
   ]
  },
  {
   "cell_type": "code",
   "execution_count": 1,
   "id": "715ced99-d11b-4999-a445-85a1bdd9b164",
   "metadata": {},
   "outputs": [],
   "source": [
    "import requests\n",
    "import random"
   ]
  },
  {
   "cell_type": "code",
   "execution_count": 2,
   "id": "39a20687-f5be-4088-a5a1-4c60efc24977",
   "metadata": {},
   "outputs": [
    {
     "name": "stdout",
     "output_type": "stream",
     "text": [
      "API Response:\n",
      "Post ID: 1, Title: sunt aut facere repellat provident occaecati excepturi optio reprehenderit\n",
      "Post ID: 2, Title: qui est esse\n",
      "Post ID: 3, Title: ea molestias quasi exercitationem repellat qui ipsa sit aut\n",
      "Post ID: 4, Title: eum et est occaecati\n",
      "Post ID: 5, Title: nesciunt quas odio\n",
      "Post ID: 6, Title: dolorem eum magni eos aperiam quia\n",
      "Post ID: 7, Title: magnam facilis autem\n",
      "Post ID: 8, Title: dolorem dolore est ipsam\n",
      "Post ID: 9, Title: nesciunt iure omnis dolorem tempora et accusantium\n",
      "Post ID: 10, Title: optio molestias id quia eum\n"
     ]
    }
   ],
   "source": [
    "import requests\n",
    "\n",
    "# Define the API endpoint and parameters\n",
    "url = \"https://jsonplaceholder.typicode.com/posts\"\n",
    "params = {\"userId\": 1}  # Example parameters\n",
    "\n",
    "try:\n",
    "    # Make the GET request to the API\n",
    "    response = requests.get(url, params=params)\n",
    "\n",
    "    # Check if the request was successful\n",
    "    if response.status_code == 200:\n",
    "        # Parse the JSON response\n",
    "        data = response.json()\n",
    "        print(\"API Response:\")\n",
    "        for item in data:\n",
    "            print(f\"Post ID: {item['id']}, Title: {item['title']}\")\n",
    "    else:\n",
    "        print(f\"Error: {response.status_code}\")\n",
    "except requests.exceptions.RequestException as e:\n",
    "    print(f\"An error occurred: {e}\")\n"
   ]
  },
  {
   "cell_type": "code",
   "execution_count": 3,
   "id": "75d988dd-b9b4-4473-9550-2c30b438848e",
   "metadata": {},
   "outputs": [],
   "source": [
    "def fetch_word(length=4, wordcount=1):\n",
    "    \"\"\"\n",
    "    length (int): Length of words that will fetch\n",
    "    wordcount (int): Number of words that will fetch\n",
    "    \"\"\"\n",
    "\n",
    "    url = f\"https://random-word-api.herokuapp.com/word\"\n",
    "    params = {\"number\": wordcount * 2,\n",
    "              \"length\": length\n",
    "             }\n",
    "    \n",
    "    response = requests.get(url, params = params)\n",
    "\n",
    "    # For Testing: Print URL Request\n",
    "    #print(f\"Request URL: {response.url}\")\n",
    "\n",
    "    if response.status_code == 200 or response.ok:\n",
    "        data = response.json()\n",
    "        \n",
    "        \n",
    "    return data"
   ]
  },
  {
   "cell_type": "code",
   "execution_count": 4,
   "id": "be0acb8b-ff14-4e51-be2d-4164b795571b",
   "metadata": {},
   "outputs": [],
   "source": [
    "def fetch_wordmeanings(list_of_words):\n",
    "    \"\"\"\n",
    "    length (list): List of words fetched from an API\n",
    "    \"\"\"\n",
    "\n",
    "    collect_word = []\n",
    "    collect_pos = []\n",
    "    collect_meaning = []\n",
    "    \n",
    "    if isinstance(list_of_words, list):\n",
    "        pass\n",
    "\n",
    "        if len(list_of_words) > 0:\n",
    "            # Actual Start\n",
    "\n",
    "            for word in list_of_words:\n",
    "                response = requests.get(f\"https://api.dictionaryapi.dev/api/v2/entries/en/{word}\")\n",
    "                \n",
    "                if response.status_code == 200 or response.ok:\n",
    "                    get_details = response.json()\n",
    "                    \n",
    "                    if \"meanings\" in get_details[0] and get_details[0][\"meanings\"]:\n",
    "                        \n",
    "                        word_chosen = random.choice(get_details)\n",
    "                        \n",
    "                        collect_word.append(word_chosen[\"word\"])\n",
    "                        collect_pos.append(word_chosen[\"meanings\"][0][\"partOfSpeech\"])\n",
    "                        collect_meaning.append([meanings[\"definition\"] for meanings in word_chosen[\"meanings\"][0][\"definitions\"]])\n",
    "                    \n",
    "                    else:\n",
    "                        continue # Word not found Problem\n",
    "                        \n",
    "                \n",
    "                else: \n",
    "                    continue # API Response Problem\n",
    "                get_details\n",
    "                \n",
    "\n",
    "    else:\n",
    "        pass # API Call didn't result into list\n",
    "    \n",
    "        \n",
    "        \n",
    "    return collect_word, collect_pos, collect_meaning"
   ]
  },
  {
   "cell_type": "code",
   "execution_count": 15,
   "id": "551ae460-b36f-4ba8-a156-bc329f47ef02",
   "metadata": {},
   "outputs": [],
   "source": [
    "def process_words(words, pos, meanings, process):\n",
    "\n",
    "    combined_list = []\n",
    "\n",
    "    # Iterate through the lists and populate the combined_list\n",
    "    for i in range(len(words)):\n",
    "        combined_list.append({\n",
    "            \"word\": words[i],\n",
    "            \"partOfSpeech\": pos[i],\n",
    "            \"meanings\": meanings[i],\n",
    "            \"meaningsCount\": len(meanings[i])\n",
    "        })\n",
    "\n",
    "    return combined_list"
   ]
  },
  {
   "cell_type": "code",
   "execution_count": 16,
   "id": "6cb4ac63-eb2c-4a24-a769-2b04e5393061",
   "metadata": {},
   "outputs": [],
   "source": [
    "a = fetch_word(length=10, wordcount=5)"
   ]
  },
  {
   "cell_type": "code",
   "execution_count": 17,
   "id": "c985e4d1-d756-41ce-ad55-c4084d85432e",
   "metadata": {},
   "outputs": [
    {
     "data": {
      "text/plain": [
       "['polyatomic',\n",
       " 'peroxiding',\n",
       " 'registrars',\n",
       " 'rebuttoned',\n",
       " 'potpourris',\n",
       " 'primiparae',\n",
       " 'injectable',\n",
       " 'krummhorns',\n",
       " 'piccoloist',\n",
       " 'carryovers']"
      ]
     },
     "execution_count": 17,
     "metadata": {},
     "output_type": "execute_result"
    }
   ],
   "source": [
    "a"
   ]
  },
  {
   "cell_type": "code",
   "execution_count": 18,
   "id": "384bd982-7003-4423-875a-f08c3b9df42c",
   "metadata": {},
   "outputs": [],
   "source": [
    "result_word, result_pos, result_meanings = fetch_wordmeanings(a)"
   ]
  },
  {
   "cell_type": "code",
   "execution_count": 19,
   "id": "99f5848d-9f59-46e2-8ec3-d247548a9749",
   "metadata": {},
   "outputs": [],
   "source": [
    "result = process_words(result_word, result_pos, result_meanings)"
   ]
  },
  {
   "cell_type": "code",
   "execution_count": 25,
   "id": "63137e08-1d91-4800-8d87-d8268b8ff3e3",
   "metadata": {},
   "outputs": [
    {
     "data": {
      "text/plain": [
       "'An official keeper or recorder of records.'"
      ]
     },
     "execution_count": 25,
     "metadata": {},
     "output_type": "execute_result"
    }
   ],
   "source": [
    "result[2][\"meanings\"][0]"
   ]
  },
  {
   "cell_type": "code",
   "execution_count": null,
   "id": "8d99aa5f-8cbe-4504-9ced-da9adc932566",
   "metadata": {},
   "outputs": [],
   "source": []
  },
  {
   "cell_type": "code",
   "execution_count": null,
   "id": "4053c25a-7fe7-463a-bd10-bc1b0d3fadc2",
   "metadata": {},
   "outputs": [],
   "source": []
  },
  {
   "cell_type": "code",
   "execution_count": null,
   "id": "7f478b9d-4dc8-4126-ad3a-843dc5b8864c",
   "metadata": {},
   "outputs": [],
   "source": []
  },
  {
   "cell_type": "code",
   "execution_count": null,
   "id": "5ed27a67-4079-4947-8c38-e7b330243798",
   "metadata": {},
   "outputs": [],
   "source": []
  }
 ],
 "metadata": {
  "kernelspec": {
   "display_name": "Python 3 (ipykernel)",
   "language": "python",
   "name": "python3"
  },
  "language_info": {
   "codemirror_mode": {
    "name": "ipython",
    "version": 3
   },
   "file_extension": ".py",
   "mimetype": "text/x-python",
   "name": "python",
   "nbconvert_exporter": "python",
   "pygments_lexer": "ipython3",
   "version": "3.12.4"
  }
 },
 "nbformat": 4,
 "nbformat_minor": 5
}
