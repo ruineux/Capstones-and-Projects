{
 "cells": [
  {
   "cell_type": "markdown",
   "id": "e2b2a31c-4a17-421c-ac8f-4a25048de9b1",
   "metadata": {},
   "source": [
    "# Imports"
   ]
  },
  {
   "cell_type": "markdown",
   "id": "8ad5b907-76d2-49bb-9a4e-bb1bd13daac0",
   "metadata": {},
   "source": [
    "## Libraries & Packages"
   ]
  },
  {
   "cell_type": "code",
   "execution_count": 179,
   "id": "0962b12b-64d2-4b83-9323-e5baa2f002b5",
   "metadata": {},
   "outputs": [],
   "source": [
    "import pandas as pd\n",
    "import numpy as np\n",
    "\n",
    "import matplotlib.pyplot as plt\n",
    "import seaborn as sns\n",
    "\n",
    "import nltk\n",
    "from nltk.corpus import stopwords\n",
    "stop_words = set(stopwords.words(\"english\"))\n",
    "\n",
    "import re"
   ]
  },
  {
   "cell_type": "markdown",
   "id": "235b160c-d2dc-44b3-b878-c8b878b2374a",
   "metadata": {},
   "source": [
    "## Data"
   ]
  },
  {
   "cell_type": "code",
   "execution_count": 3,
   "id": "19af9a4b-9aa4-4d2b-be04-a7b2cff2e041",
   "metadata": {},
   "outputs": [],
   "source": [
    "PATH = \"../Data/\""
   ]
  },
  {
   "cell_type": "code",
   "execution_count": 10,
   "id": "2b82ffd5-93ef-41f2-be19-cbe8a6be4f5e",
   "metadata": {},
   "outputs": [],
   "source": [
    "df = pd.read_csv(PATH + \"CASE & SURVEY.csv\")"
   ]
  },
  {
   "cell_type": "code",
   "execution_count": 12,
   "id": "a5ad5704-12e2-44ae-b19a-f5e861368ff6",
   "metadata": {},
   "outputs": [],
   "source": [
    "drop_cols = [\"DURATION_HRS\", \"RESOLVER_USERNAME\",\n",
    "             \"RESOLVER_NAME\", \"CASE_OWNER_S_MANAGER_EMAIL__C\"\n",
    "            ]\n",
    "\n",
    "df.drop(columns=drop_cols, inplace=True)"
   ]
  },
  {
   "cell_type": "markdown",
   "id": "ade32106-f7e9-45ba-93b3-e53cbb142c09",
   "metadata": {},
   "source": [
    "# EDA"
   ]
  },
  {
   "cell_type": "code",
   "execution_count": 15,
   "id": "8e38822e-94ba-4b12-bd4b-9c9bb758afe6",
   "metadata": {},
   "outputs": [
    {
     "data": {
      "text/html": [
       "<div>\n",
       "<style scoped>\n",
       "    .dataframe tbody tr th:only-of-type {\n",
       "        vertical-align: middle;\n",
       "    }\n",
       "\n",
       "    .dataframe tbody tr th {\n",
       "        vertical-align: top;\n",
       "    }\n",
       "\n",
       "    .dataframe thead th {\n",
       "        text-align: right;\n",
       "    }\n",
       "</style>\n",
       "<table border=\"1\" class=\"dataframe\">\n",
       "  <thead>\n",
       "    <tr style=\"text-align: right;\">\n",
       "      <th></th>\n",
       "      <th>CASE_NUMBER</th>\n",
       "      <th>CASE_SYMPTOM</th>\n",
       "      <th>CASE_DIAGNOSIS</th>\n",
       "      <th>CASE_STATUS</th>\n",
       "      <th>CASE_ORIGIN</th>\n",
       "      <th>CASE_CREATED_DATETIME</th>\n",
       "      <th>CASE_CLOSED_DATETIME</th>\n",
       "      <th>ISESCALATED</th>\n",
       "      <th>GROUPING</th>\n",
       "      <th>EFFORT_RATING__C</th>\n",
       "      <th>RATING__C</th>\n",
       "      <th>ADDITIONAL_COMMENTS__C</th>\n",
       "      <th>NPS_POSITIVE</th>\n",
       "      <th>NPS_NEUTRAL</th>\n",
       "      <th>NPS_NEGATIVE</th>\n",
       "    </tr>\n",
       "  </thead>\n",
       "  <tbody>\n",
       "    <tr>\n",
       "      <th>0</th>\n",
       "      <td>13673869</td>\n",
       "      <td>Application Issue</td>\n",
       "      <td>Application How to Use</td>\n",
       "      <td>Closed</td>\n",
       "      <td>Contact Us</td>\n",
       "      <td>2024-06-24T08:48:04.000Z</td>\n",
       "      <td>2024-06-25T06:41:54.000Z</td>\n",
       "      <td>False</td>\n",
       "      <td>TEAM 1</td>\n",
       "      <td>Strongly Agree</td>\n",
       "      <td>10.0</td>\n",
       "      <td>NaN</td>\n",
       "      <td>1</td>\n",
       "      <td>0</td>\n",
       "      <td>0</td>\n",
       "    </tr>\n",
       "    <tr>\n",
       "      <th>1</th>\n",
       "      <td>13668140</td>\n",
       "      <td>Application Issue</td>\n",
       "      <td>Application Malfunction</td>\n",
       "      <td>Closed</td>\n",
       "      <td>Phone</td>\n",
       "      <td>2024-06-20T20:04:30.000Z</td>\n",
       "      <td>2024-06-20T22:33:02.000Z</td>\n",
       "      <td>False</td>\n",
       "      <td>TEAM 1</td>\n",
       "      <td>Strongly Agree</td>\n",
       "      <td>10.0</td>\n",
       "      <td>NaN</td>\n",
       "      <td>1</td>\n",
       "      <td>0</td>\n",
       "      <td>0</td>\n",
       "    </tr>\n",
       "    <tr>\n",
       "      <th>2</th>\n",
       "      <td>13674782</td>\n",
       "      <td>Login Failure</td>\n",
       "      <td>Application Malfunction</td>\n",
       "      <td>Closed</td>\n",
       "      <td>Phone</td>\n",
       "      <td>2024-06-24T12:29:30.000Z</td>\n",
       "      <td>2024-06-24T18:41:58.000Z</td>\n",
       "      <td>False</td>\n",
       "      <td>TEAM 3</td>\n",
       "      <td>Agree</td>\n",
       "      <td>9.0</td>\n",
       "      <td>NaN</td>\n",
       "      <td>1</td>\n",
       "      <td>0</td>\n",
       "      <td>0</td>\n",
       "    </tr>\n",
       "    <tr>\n",
       "      <th>3</th>\n",
       "      <td>13669283</td>\n",
       "      <td>How To Use</td>\n",
       "      <td>Content Explanation</td>\n",
       "      <td>Closed</td>\n",
       "      <td>Contact Us</td>\n",
       "      <td>2024-06-21T07:30:45.000Z</td>\n",
       "      <td>2024-06-24T05:48:06.000Z</td>\n",
       "      <td>False</td>\n",
       "      <td>TEAM 3</td>\n",
       "      <td>Somewhat Agree</td>\n",
       "      <td>6.0</td>\n",
       "      <td>NaN</td>\n",
       "      <td>0</td>\n",
       "      <td>1</td>\n",
       "      <td>0</td>\n",
       "    </tr>\n",
       "    <tr>\n",
       "      <th>4</th>\n",
       "      <td>13674563</td>\n",
       "      <td>Information Request</td>\n",
       "      <td>Application Malfunction</td>\n",
       "      <td>Closed</td>\n",
       "      <td>Phone</td>\n",
       "      <td>2024-06-24T11:43:59.000Z</td>\n",
       "      <td>2024-06-24T16:59:58.000Z</td>\n",
       "      <td>False</td>\n",
       "      <td>TEAM 1</td>\n",
       "      <td>Agree</td>\n",
       "      <td>10.0</td>\n",
       "      <td>NaN</td>\n",
       "      <td>1</td>\n",
       "      <td>0</td>\n",
       "      <td>0</td>\n",
       "    </tr>\n",
       "  </tbody>\n",
       "</table>\n",
       "</div>"
      ],
      "text/plain": [
       "   CASE_NUMBER         CASE_SYMPTOM           CASE_DIAGNOSIS CASE_STATUS  \\\n",
       "0     13673869    Application Issue   Application How to Use      Closed   \n",
       "1     13668140    Application Issue  Application Malfunction      Closed   \n",
       "2     13674782        Login Failure  Application Malfunction      Closed   \n",
       "3     13669283           How To Use      Content Explanation      Closed   \n",
       "4     13674563  Information Request  Application Malfunction      Closed   \n",
       "\n",
       "  CASE_ORIGIN     CASE_CREATED_DATETIME      CASE_CLOSED_DATETIME  \\\n",
       "0  Contact Us  2024-06-24T08:48:04.000Z  2024-06-25T06:41:54.000Z   \n",
       "1       Phone  2024-06-20T20:04:30.000Z  2024-06-20T22:33:02.000Z   \n",
       "2       Phone  2024-06-24T12:29:30.000Z  2024-06-24T18:41:58.000Z   \n",
       "3  Contact Us  2024-06-21T07:30:45.000Z  2024-06-24T05:48:06.000Z   \n",
       "4       Phone  2024-06-24T11:43:59.000Z  2024-06-24T16:59:58.000Z   \n",
       "\n",
       "   ISESCALATED GROUPING EFFORT_RATING__C  RATING__C ADDITIONAL_COMMENTS__C  \\\n",
       "0        False   TEAM 1   Strongly Agree       10.0                    NaN   \n",
       "1        False   TEAM 1   Strongly Agree       10.0                    NaN   \n",
       "2        False   TEAM 3            Agree        9.0                    NaN   \n",
       "3        False   TEAM 3   Somewhat Agree        6.0                    NaN   \n",
       "4        False   TEAM 1            Agree       10.0                    NaN   \n",
       "\n",
       "   NPS_POSITIVE  NPS_NEUTRAL  NPS_NEGATIVE  \n",
       "0             1            0             0  \n",
       "1             1            0             0  \n",
       "2             1            0             0  \n",
       "3             0            1             0  \n",
       "4             1            0             0  "
      ]
     },
     "execution_count": 15,
     "metadata": {},
     "output_type": "execute_result"
    }
   ],
   "source": [
    "df.head()"
   ]
  },
  {
   "cell_type": "code",
   "execution_count": 17,
   "id": "eb6b5cb9-fac9-4aef-879e-3f74e298e817",
   "metadata": {},
   "outputs": [
    {
     "data": {
      "text/plain": [
       "RATING__C\n",
       "10.0    2551\n",
       "9.0      822\n",
       "8.0      405\n",
       "7.0      223\n",
       "5.0      146\n",
       "6.0      107\n",
       "0.0       91\n",
       "3.0       49\n",
       "4.0       45\n",
       "1.0       43\n",
       "2.0       43\n",
       "Name: count, dtype: int64"
      ]
     },
     "execution_count": 17,
     "metadata": {},
     "output_type": "execute_result"
    }
   ],
   "source": [
    "df[\"RATING__C\"].value_counts()"
   ]
  },
  {
   "cell_type": "code",
   "execution_count": 19,
   "id": "e1b0fd58-9c14-4c89-adbd-d2cfd5aec6bb",
   "metadata": {},
   "outputs": [
    {
     "data": {
      "text/plain": [
       "RATING__C\n",
       "0.0        0\n",
       "1.0        0\n",
       "2.0        0\n",
       "3.0        0\n",
       "4.0        0\n",
       "5.0        0\n",
       "6.0        0\n",
       "7.0        0\n",
       "8.0      405\n",
       "9.0      822\n",
       "10.0    2551\n",
       "Name: NPS_POSITIVE, dtype: int64"
      ]
     },
     "execution_count": 19,
     "metadata": {},
     "output_type": "execute_result"
    }
   ],
   "source": [
    "df.groupby([\"RATING__C\"])[\"NPS_POSITIVE\"].sum()"
   ]
  },
  {
   "cell_type": "code",
   "execution_count": 21,
   "id": "6d025079-b4fe-4877-8667-8987d4426e3b",
   "metadata": {},
   "outputs": [
    {
     "data": {
      "text/plain": [
       "RATING__C\n",
       "0.0     91\n",
       "1.0     43\n",
       "2.0     43\n",
       "3.0     49\n",
       "4.0     45\n",
       "5.0      0\n",
       "6.0      0\n",
       "7.0      0\n",
       "8.0      0\n",
       "9.0      0\n",
       "10.0     0\n",
       "Name: NPS_NEGATIVE, dtype: int64"
      ]
     },
     "execution_count": 21,
     "metadata": {},
     "output_type": "execute_result"
    }
   ],
   "source": [
    "df.groupby([\"RATING__C\"])[\"NPS_NEGATIVE\"].sum()"
   ]
  },
  {
   "cell_type": "code",
   "execution_count": 23,
   "id": "bac174df-4813-4044-9710-8c48cf9b7401",
   "metadata": {},
   "outputs": [
    {
     "data": {
      "text/plain": [
       "CASE_SYMPTOM\n",
       "Application Issue      1656\n",
       "How To Use              774\n",
       "Content Explanation     359\n",
       "Login Failure           357\n",
       "Content Not Found       317\n",
       "Information Request     272\n",
       "Content Integrity       238\n",
       "Password Assistance     219\n",
       "Add-in Missing          214\n",
       "Connectivity            102\n",
       "Content Addition          8\n",
       "Content Slowness          6\n",
       "Technical                 4\n",
       "Name: count, dtype: int64"
      ]
     },
     "execution_count": 23,
     "metadata": {},
     "output_type": "execute_result"
    }
   ],
   "source": [
    "df[\"CASE_SYMPTOM\"].value_counts()"
   ]
  },
  {
   "cell_type": "code",
   "execution_count": 25,
   "id": "99fdc9a0-3c01-4e7a-9381-402263127760",
   "metadata": {},
   "outputs": [
    {
     "data": {
      "text/plain": [
       "CASE_DIAGNOSIS\n",
       "Application/Desktop/Malfunction             792\n",
       "Content Explanation                         567\n",
       "Application Malfunction                     505\n",
       "Content Search                              447\n",
       "Application/Desktop/How to Use              318\n",
       "Application How to Use                      278\n",
       "Application/Desktop/Crash                   232\n",
       "Manual Password Reset                       169\n",
       "Password Reset                              112\n",
       "Application/Desktop/Func. NA                107\n",
       "Application/Desktop/Install                  75\n",
       "Application Crash                            75\n",
       "Content Not Available                        71\n",
       "Entitlement Confirm ID/Perm                  62\n",
       "Application Func. Not Available              62\n",
       "Application/Infrastructure/How to Use        57\n",
       "Application/Desktop/File Conversion          55\n",
       "Application/Desktop/How to Use               54\n",
       "Application Install                          47\n",
       "Self-password Reset Issue                    46\n",
       "Content Incorrect                            30\n",
       "Application/Infrastructure/Malfunction       30\n",
       "Content Integrity                            28\n",
       "Connectivity/Infrastructure/Platform         26\n",
       "Application/Infrastructure/Func. NA          25\n",
       "Application/Infrastructure/Crash             24\n",
       "Entitlement Lost                             22\n",
       "Invalid Login Credentials                    21\n",
       "Connectivity/Networking/Cust. Managed        21\n",
       "Content Missing                              21\n",
       "Application Upgrade                          17\n",
       "Application Unavailable                      13\n",
       "MFA Inquiry                                  11\n",
       "Connectivity/Networking/TR Managed           11\n",
       "Connectivity/Networking/LSEG Managed         10\n",
       "Account Locked/Disabled                       9\n",
       "Connectivity/Infrastructure/Cust. Mng         9\n",
       "Connectivity/Infrastructure/TR Managed        9\n",
       "Application/Desktop/Upgrade                   9\n",
       "Connectivity/Networking/Source                8\n",
       "Entitlement New/Cxl                           8\n",
       "Entitlement User ID Update/Swap               6\n",
       "3rd Party/Vendor Issue                        5\n",
       "Entitlement Product New/Cxl                   4\n",
       "Connectivity/Infrastructure/Source            3\n",
       "Connectivity/Infrastructure/LSEG Managed      3\n",
       "Performance/Networking/Cust. Managed          2\n",
       "Connectivity/Networking/Platform              2\n",
       "Performance/Infrastructure/Platform           2\n",
       "Hardware/LSEG Managed                         1\n",
       "Performance/Infrastructure/Source             1\n",
       "Hardware/TR Managed                           1\n",
       "Billing                                       1\n",
       "Application/Infrastructure/Upgrade            1\n",
       "Application/Infrastructure/Install            1\n",
       "Name: count, dtype: int64"
      ]
     },
     "execution_count": 25,
     "metadata": {},
     "output_type": "execute_result"
    }
   ],
   "source": [
    "df[\"CASE_DIAGNOSIS\"].value_counts()"
   ]
  },
  {
   "cell_type": "code",
   "execution_count": 27,
   "id": "5a5e2dc5-115c-491c-b4af-d2ad7136c414",
   "metadata": {},
   "outputs": [
    {
     "data": {
      "text/plain": [
       "CASE_STATUS\n",
       "Closed       4501\n",
       "Cancelled      23\n",
       "Rejected        1\n",
       "Delivered       1\n",
       "Name: count, dtype: int64"
      ]
     },
     "execution_count": 27,
     "metadata": {},
     "output_type": "execute_result"
    }
   ],
   "source": [
    "df[\"CASE_STATUS\"].value_counts()"
   ]
  },
  {
   "cell_type": "markdown",
   "id": "90b3647b-b89a-48ce-899c-3972d34c32e3",
   "metadata": {},
   "source": [
    "# Feature Engineering"
   ]
  },
  {
   "cell_type": "markdown",
   "id": "2457d32b-ae22-4e02-9dbb-bab14ce53ea9",
   "metadata": {},
   "source": [
    "### Convert Timezone"
   ]
  },
  {
   "cell_type": "code",
   "execution_count": 29,
   "id": "3cf029c1-00dc-4278-9ea3-05b251de7ba3",
   "metadata": {},
   "outputs": [],
   "source": [
    "df[\"CASE_CREATED_DATETIME\"] = pd.to_datetime(df[\"CASE_CREATED_DATETIME\"], utc=True).dt.tz_localize(None)\n",
    "df[\"CASE_CLOSED_DATETIME\"] = pd.to_datetime(df[\"CASE_CLOSED_DATETIME\"], utc=True).dt.tz_localize(None)"
   ]
  },
  {
   "cell_type": "markdown",
   "id": "aa586dba-cddf-47da-bfab-821d4b071037",
   "metadata": {},
   "source": [
    "### Get Duration\n",
    "- Total Seconds\n",
    "- Total Minutes"
   ]
  },
  {
   "cell_type": "code",
   "execution_count": 32,
   "id": "16fe3e69-3545-4360-8e71-70618c2d488d",
   "metadata": {},
   "outputs": [],
   "source": [
    "df[\"DURATION_INSECONDS\"] = (df[\"CASE_CLOSED_DATETIME\"] - df[\"CASE_CREATED_DATETIME\"]) / pd.Timedelta(seconds=1)\n",
    "df[\"DURATION_INMINUTES\"] = (df[\"CASE_CLOSED_DATETIME\"] - df[\"CASE_CREATED_DATETIME\"]) / pd.Timedelta(minutes=1)"
   ]
  },
  {
   "cell_type": "markdown",
   "id": "3fd20397-94ff-43e7-85a7-c02d63375b8b",
   "metadata": {},
   "source": [
    "### NPS"
   ]
  },
  {
   "cell_type": "code",
   "execution_count": 35,
   "id": "f6d6f5e1-631b-4b69-baa4-0e756b4ca3a9",
   "metadata": {},
   "outputs": [],
   "source": [
    "eval_bins = [0, 4, 7, np.inf]\n",
    "eval_labels = [-1, 0, 1]\n",
    "\n",
    "df[\"NPS\"] = \\\n",
    "pd.cut(df[\"RATING__C\"],\n",
    "       bins=eval_bins,\n",
    "       labels=eval_labels,\n",
    "       include_lowest=True\n",
    "      )"
   ]
  },
  {
   "cell_type": "markdown",
   "id": "a409b0d7-8542-4666-af28-0eae66a1d6fe",
   "metadata": {},
   "source": [
    "### Regex Cleanup"
   ]
  },
  {
   "cell_type": "code",
   "execution_count": 38,
   "id": "9ea39a83-17b7-4d41-b948-6079f16f354b",
   "metadata": {},
   "outputs": [
    {
     "data": {
      "text/html": [
       "<div>\n",
       "<style scoped>\n",
       "    .dataframe tbody tr th:only-of-type {\n",
       "        vertical-align: middle;\n",
       "    }\n",
       "\n",
       "    .dataframe tbody tr th {\n",
       "        vertical-align: top;\n",
       "    }\n",
       "\n",
       "    .dataframe thead th {\n",
       "        text-align: right;\n",
       "    }\n",
       "</style>\n",
       "<table border=\"1\" class=\"dataframe\">\n",
       "  <thead>\n",
       "    <tr style=\"text-align: right;\">\n",
       "      <th></th>\n",
       "      <th>CASE_NUMBER</th>\n",
       "      <th>CASE_SYMPTOM</th>\n",
       "      <th>CASE_DIAGNOSIS</th>\n",
       "      <th>CASE_STATUS</th>\n",
       "      <th>CASE_ORIGIN</th>\n",
       "      <th>CASE_CREATED_DATETIME</th>\n",
       "      <th>CASE_CLOSED_DATETIME</th>\n",
       "      <th>ISESCALATED</th>\n",
       "      <th>GROUPING</th>\n",
       "      <th>EFFORT_RATING__C</th>\n",
       "      <th>RATING__C</th>\n",
       "      <th>ADDITIONAL_COMMENTS__C</th>\n",
       "      <th>NPS_POSITIVE</th>\n",
       "      <th>NPS_NEUTRAL</th>\n",
       "      <th>NPS_NEGATIVE</th>\n",
       "      <th>DURATION_INSECONDS</th>\n",
       "      <th>DURATION_INMINUTES</th>\n",
       "      <th>NPS</th>\n",
       "    </tr>\n",
       "  </thead>\n",
       "  <tbody>\n",
       "    <tr>\n",
       "      <th>19</th>\n",
       "      <td>13671561</td>\n",
       "      <td>Information Request</td>\n",
       "      <td>Content Not Available</td>\n",
       "      <td>Closed</td>\n",
       "      <td>Chat</td>\n",
       "      <td>2024-06-21 19:37:12</td>\n",
       "      <td>2024-06-24 22:14:50</td>\n",
       "      <td>False</td>\n",
       "      <td>TEAM 2</td>\n",
       "      <td>Agree</td>\n",
       "      <td>9.0</td>\n",
       "      <td>.</td>\n",
       "      <td>1</td>\n",
       "      <td>0</td>\n",
       "      <td>0</td>\n",
       "      <td>268658.0</td>\n",
       "      <td>4477.633333</td>\n",
       "      <td>1</td>\n",
       "    </tr>\n",
       "  </tbody>\n",
       "</table>\n",
       "</div>"
      ],
      "text/plain": [
       "    CASE_NUMBER         CASE_SYMPTOM         CASE_DIAGNOSIS CASE_STATUS  \\\n",
       "19     13671561  Information Request  Content Not Available      Closed   \n",
       "\n",
       "   CASE_ORIGIN CASE_CREATED_DATETIME CASE_CLOSED_DATETIME  ISESCALATED  \\\n",
       "19        Chat   2024-06-21 19:37:12  2024-06-24 22:14:50        False   \n",
       "\n",
       "   GROUPING EFFORT_RATING__C  RATING__C ADDITIONAL_COMMENTS__C  NPS_POSITIVE  \\\n",
       "19   TEAM 2            Agree        9.0                      .             1   \n",
       "\n",
       "    NPS_NEUTRAL  NPS_NEGATIVE  DURATION_INSECONDS  DURATION_INMINUTES NPS  \n",
       "19            0             0            268658.0         4477.633333   1  "
      ]
     },
     "execution_count": 38,
     "metadata": {},
     "output_type": "execute_result"
    }
   ],
   "source": [
    "df[df[\"CASE_NUMBER\"] == 13671561]"
   ]
  },
  {
   "cell_type": "code",
   "execution_count": 40,
   "id": "2ac9e863-e27a-4b5f-93f0-0b41d81e9443",
   "metadata": {},
   "outputs": [
    {
     "data": {
      "text/plain": [
       "'.'"
      ]
     },
     "execution_count": 40,
     "metadata": {},
     "output_type": "execute_result"
    }
   ],
   "source": [
    "df[df[\"CASE_NUMBER\"] == 13671561][\"ADDITIONAL_COMMENTS__C\"].values[0]"
   ]
  },
  {
   "cell_type": "code",
   "execution_count": 42,
   "id": "d03b6e46-adfb-4fbf-ba58-9ce1df4e3852",
   "metadata": {},
   "outputs": [],
   "source": [
    "def clean_text(text):\n",
    "    if type(text) == float:\n",
    "        return text\n",
    "    else:\n",
    "        #format\n",
    "        text = text.lower()\n",
    "        #expanding contractions\n",
    "        text = re.sub(r\"i'm\",\"i am\",text)\n",
    "        text = re.sub(r\"he's\",\"he is\",text)\n",
    "        text = re.sub(r\"she's\",\"she is\",text)\n",
    "        text = re.sub(r\"wouldn't\",\"would not\",text)\n",
    "        text = re.sub(r\"wasn't\",\"was not\",text)\n",
    "        text = re.sub(r\"hasn't\",\"has not\",text)\n",
    "        text = re.sub(r\"haven't\",\"have not\",text)\n",
    "        text = re.sub(r\"aren't\",\"are not\",text)\n",
    "        text = re.sub(r\"couldn't\",\"could not\",text)\n",
    "        text = re.sub(r\"can't\",\"cannot\",text)\n",
    "        #regex\n",
    "        #remove symbols\n",
    "        text = re.sub(r\"[-()\\\"#/@;:<>{}=~|.?,]\", \"\", text)\n",
    "    return text"
   ]
  },
  {
   "cell_type": "code",
   "execution_count": 44,
   "id": "8eb47313-aef5-4a1b-b8ae-7bbd4b51a2b5",
   "metadata": {},
   "outputs": [
    {
     "data": {
      "text/plain": [
       "19    \n",
       "Name: ADDITIONAL_COMMENTS__C, dtype: object"
      ]
     },
     "execution_count": 44,
     "metadata": {},
     "output_type": "execute_result"
    }
   ],
   "source": [
    "df[df[\"CASE_NUMBER\"] == 13671561][\"ADDITIONAL_COMMENTS__C\"].apply(clean_text)"
   ]
  },
  {
   "cell_type": "code",
   "execution_count": 71,
   "id": "5c23dee6-ee58-4c54-aaab-29483cc198e7",
   "metadata": {},
   "outputs": [
    {
     "data": {
      "text/plain": [
       "\"it took 2 weeks for my query to be answered and the resolution didn't answer the question at all\""
      ]
     },
     "execution_count": 71,
     "metadata": {},
     "output_type": "execute_result"
    }
   ],
   "source": [
    "clean_text(df[\"ADDITIONAL_COMMENTS__C\"][4523])"
   ]
  },
  {
   "cell_type": "markdown",
   "id": "e85a74b0-7c31-48cf-ab0b-864174dc789c",
   "metadata": {},
   "source": [
    "### Removing aggregated columns"
   ]
  },
  {
   "cell_type": "code",
   "execution_count": 45,
   "id": "6387b61f-6820-4f8c-a0af-c047018aa5fe",
   "metadata": {},
   "outputs": [],
   "source": [
    "drop_cols = [\"RATING__C\", \"NPS_POSITIVE\",\n",
    "             \"NPS_NEUTRAL\", \"NPS_NEGATIVE\"\n",
    "            ]\n",
    "\n",
    "df.drop(columns=drop_cols, inplace=True)"
   ]
  },
  {
   "cell_type": "markdown",
   "id": "4e2c9d5b-0283-4b6e-8013-5cff7a41bb56",
   "metadata": {},
   "source": [
    "## Text Cleaning"
   ]
  },
  {
   "cell_type": "code",
   "execution_count": 155,
   "id": "ec98f3da-35de-4e05-9d85-87306e3c3a16",
   "metadata": {},
   "outputs": [],
   "source": [
    "def decontractor(sentence):\n",
    "    \"\"\"\n",
    "    Expanding contractions\n",
    "    \"\"\"\n",
    "\n",
    "    if type(sentence) != str:\n",
    "        return sentence\n",
    "\n",
    "    else:\n",
    "        sentence = re.sub(r\"n\\'t\", \" not\", sentence)\n",
    "        sentence = re.sub(r\"\\'re\", \" are\", sentence)\n",
    "        sentence = re.sub(r\"\\'s\", \" is\", sentence)\n",
    "        sentence = re.sub(r\"\\'d\", \" would\", sentence)\n",
    "        sentence = re.sub(r\"\\'ll\", \" will\", sentence)\n",
    "        sentence = re.sub(r\"\\'t\", \" not\", sentence)\n",
    "        sentence = re.sub(r\"\\'ve\", \" have\", sentence)\n",
    "        sentence = re.sub(r\"\\'m\", \" am\", sentence)\n",
    "        return sentence"
   ]
  },
  {
   "cell_type": "code",
   "execution_count": 181,
   "id": "58ea8e2c-e678-4310-ad5d-734bc0f63492",
   "metadata": {},
   "outputs": [],
   "source": [
    "def clean_text(text):\n",
    "    \"\"\"\n",
    "    remove punctuation and special characters\n",
    "    lower case all the text as well\n",
    "    \"\"\"\n",
    "\n",
    "    if type(text) != str:\n",
    "        return text\n",
    "        \n",
    "    else:\n",
    "    \n",
    "        # Create a translation table to \n",
    "        # !\"#$%&\\'()*+,-./:;<=>?@[\\\\]^_`{|}~\\t\\n\\r\\x0b\\x0c\n",
    "        translator = str.maketrans('', '', string.punctuation + string.printable.replace(' ','')[62:])\n",
    "        text = text.translate(translator)\n",
    "        \n",
    "        #clean_text = re.sub(r'[^\\w\\s]', '', text) # Alternative route using re\n",
    "        text = re.sub(r'http\\S+', '', text)\n",
    "    \n",
    "        # Remove leading and trailing whitespace\n",
    "        text = text.strip()\n",
    "        text = text.lower()\n",
    "    \n",
    "        return text"
   ]
  },
  {
   "cell_type": "markdown",
   "id": "df36faaf-7794-46c3-af5b-eea780c19177",
   "metadata": {},
   "source": [
    "### Before and After"
   ]
  },
  {
   "cell_type": "code",
   "execution_count": 160,
   "id": "f3efefa4-1ef0-4df9-ba08-8c66df346950",
   "metadata": {},
   "outputs": [
    {
     "data": {
      "text/plain": [
       "\"It took 2 weeks for my query to be answered and the resolution didn't answer the question at all\""
      ]
     },
     "execution_count": 160,
     "metadata": {},
     "output_type": "execute_result"
    }
   ],
   "source": [
    "df[\"ADDITIONAL_COMMENTS__C\"][4523]"
   ]
  },
  {
   "cell_type": "code",
   "execution_count": 162,
   "id": "c95225ff-0212-4a2a-b32c-56d90fed90de",
   "metadata": {},
   "outputs": [
    {
     "data": {
      "text/plain": [
       "'it took 2 weeks for my query to be answered and the resolution did not answer the question at all'"
      ]
     },
     "execution_count": 162,
     "metadata": {},
     "output_type": "execute_result"
    }
   ],
   "source": [
    "clean_text(decontractor(df[\"ADDITIONAL_COMMENTS__C\"][4523]))"
   ]
  },
  {
   "cell_type": "markdown",
   "id": "bd523216-05ab-4c41-b8e9-c2226b243c2c",
   "metadata": {},
   "source": [
    "## Apply Text Cleaning"
   ]
  },
  {
   "cell_type": "code",
   "execution_count": 172,
   "id": "f457fa8b-7142-482e-a145-e95cb8b138fe",
   "metadata": {},
   "outputs": [],
   "source": [
    "df[\"ADDITIONAL_COMMENTS__C\"] = df[\"ADDITIONAL_COMMENTS__C\"].apply(lambda x: clean_text(decontractor(x)))"
   ]
  },
  {
   "cell_type": "markdown",
   "id": "d29426bf-8fea-414c-bddc-a5486375e440",
   "metadata": {},
   "source": [
    "## Lemmatizing"
   ]
  },
  {
   "cell_type": "code",
   "execution_count": 195,
   "id": "5b5f8f27-dd16-475e-bc37-328edff6897c",
   "metadata": {},
   "outputs": [],
   "source": [
    "def remove_stop_words(text):\n",
    "    if type(text) != str:\n",
    "        return text\n",
    "\n",
    "    else:\n",
    "        # Tokenizing text\n",
    "        tokens = nltk.word_tokenize(text)\n",
    "        # Remove stop words\n",
    "        clean_tokens = [token for token in tokens if token not in stop_words]\n",
    "        # Putting back the words together\n",
    "        clean_text = \" \".join(clean_tokens)\n",
    "\n",
    "        return clean_text"
   ]
  },
  {
   "cell_type": "code",
   "execution_count": 197,
   "id": "7db09c70-559d-46c9-9fc3-25712f60465b",
   "metadata": {},
   "outputs": [],
   "source": [
    "df[\"LEMMATIZED_COMMENTS\"] = df[\"ADDITIONAL_COMMENTS__C\"].apply(remove_stop_words)"
   ]
  },
  {
   "cell_type": "code",
   "execution_count": 199,
   "id": "dfa65f06-ac06-4b5b-81a2-a5a3b0149327",
   "metadata": {},
   "outputs": [
    {
     "data": {
      "text/plain": [
       "0                                                     NaN\n",
       "1                                                     NaN\n",
       "2                                                     NaN\n",
       "3                                                     NaN\n",
       "4                                                     NaN\n",
       "                              ...                        \n",
       "4521                                         could faster\n",
       "4522                                           thank much\n",
       "4523    took 2 weeks query answered resolution answer ...\n",
       "4524                      paul massoni chris matheis best\n",
       "4525                                                  NaN\n",
       "Name: LEMMATIZED_COMMENTS, Length: 4526, dtype: object"
      ]
     },
     "execution_count": 199,
     "metadata": {},
     "output_type": "execute_result"
    }
   ],
   "source": [
    "df[\"LEMMATIZED_COMMENTS\"]"
   ]
  },
  {
   "cell_type": "code",
   "execution_count": null,
   "id": "7375d6c6-e8bf-4616-94c0-5cd3cb60052a",
   "metadata": {},
   "outputs": [],
   "source": []
  }
 ],
 "metadata": {
  "kernelspec": {
   "display_name": "Python 3 (ipykernel)",
   "language": "python",
   "name": "python3"
  },
  "language_info": {
   "codemirror_mode": {
    "name": "ipython",
    "version": 3
   },
   "file_extension": ".py",
   "mimetype": "text/x-python",
   "name": "python",
   "nbconvert_exporter": "python",
   "pygments_lexer": "ipython3",
   "version": "3.11.9"
  }
 },
 "nbformat": 4,
 "nbformat_minor": 5
}
