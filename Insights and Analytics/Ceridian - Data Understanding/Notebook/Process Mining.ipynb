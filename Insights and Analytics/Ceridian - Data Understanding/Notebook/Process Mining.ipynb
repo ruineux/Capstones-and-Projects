{
 "cells": [
  {
   "cell_type": "markdown",
   "id": "89c840b9",
   "metadata": {},
   "source": [
    "# Imports"
   ]
  },
  {
   "cell_type": "markdown",
   "id": "90788600",
   "metadata": {},
   "source": [
    "## Libraries"
   ]
  },
  {
   "cell_type": "code",
   "execution_count": 51,
   "id": "f224eded",
   "metadata": {
    "ExecuteTime": {
     "end_time": "2024-04-21T15:57:34.700769Z",
     "start_time": "2024-04-21T15:57:32.968239Z"
    }
   },
   "outputs": [],
   "source": [
    "from os import listdir\n",
    "\n",
    "import pandas as pd\n",
    "import numpy as np\n",
    "\n",
    "import matplotlib.pyplot as plt\n",
    "import seaborn as sns"
   ]
  },
  {
   "cell_type": "markdown",
   "id": "714fd623-2ce6-4023-8c4c-18b42794a4f6",
   "metadata": {},
   "source": [
    "Case Data\n",
    "- Cases are sometimes reopened (See Duplicate Cases)\n",
    "- The Phase are categorized into following: First Response, Reopen Resolution Milestone, Resolution Time (but mostly just the first and last status)\n",
    "- TODO:\n",
    "- \n",
    "\n",
    "Pay Run\n",
    "- Pay Run Number is the unique identifier\n",
    "- Processing Status are phase which can also be considered as Level 1\n",
    "- Payroll Task will be sub category Level 2\n",
    "- Sub Task will be the next category (Level 3)\n",
    "- Date & Time Completed can be used as a reference for end date\n",
    "- There's no definitiv way to get the actual start date & time\n",
    "- TODO:\n",
    "- User the Created Date and Date & Time Completed (just change it to date instead of datetime)\n",
    "- Get number of days lapsed up until next move\n",
    "- Get count of Sub action per Level 1\n",
    "- Measure Day difference per phase and see if there's relation with count of sub action\n",
    "- Categories the data based on Account, Payroll Account Name, Account Country, Owner, Team Leader Liasing Officer"
   ]
  },
  {
   "cell_type": "markdown",
   "id": "63339dd2",
   "metadata": {},
   "source": [
    "## Data"
   ]
  },
  {
   "cell_type": "code",
   "execution_count": 55,
   "id": "18ce9c89",
   "metadata": {
    "ExecuteTime": {
     "end_time": "2024-04-21T15:57:37.454398Z",
     "start_time": "2024-04-21T15:57:37.448193Z"
    }
   },
   "outputs": [
    {
     "data": {
      "text/plain": [
       "['CaseData.csv', 'PayRun.csv']"
      ]
     },
     "execution_count": 55,
     "metadata": {},
     "output_type": "execute_result"
    }
   ],
   "source": [
    "listdir(\"../Data/\")"
   ]
  },
  {
   "cell_type": "code",
   "execution_count": 57,
   "id": "46ffefc0-1cd6-47fb-9279-9ad4ca2280ab",
   "metadata": {},
   "outputs": [],
   "source": [
    "df_case = pd.read_csv(\"../Data/\" + \"CaseData.csv\", encoding='latin-1', low_memory=False)"
   ]
  },
  {
   "cell_type": "code",
   "execution_count": 58,
   "id": "0e1ef074-94d6-4b0c-b9ac-a46b39a0a2c9",
   "metadata": {},
   "outputs": [],
   "source": [
    "df_payrun = pd.read_csv(\"../Data/\" + \"PayRun.csv\", encoding='latin-1', low_memory=False)"
   ]
  },
  {
   "cell_type": "code",
   "execution_count": null,
   "id": "4dd323f6-25c6-4775-a5f9-d34443962116",
   "metadata": {},
   "outputs": [],
   "source": [
    "#consolidating all dataframes\n",
    "#dfs = listdir(\"../Data/\")\n",
    "#dfs = [pd.read_csv(\"../Data/\" + v, encoding='latin-1', low_memory=False) for v in dfs]\n",
    "#dfs = pd.concat(dfs, ignore_index=True)"
   ]
  },
  {
   "cell_type": "code",
   "execution_count": null,
   "id": "f19ea6e9-b296-4673-912d-667f016205d8",
   "metadata": {},
   "outputs": [],
   "source": []
  }
 ],
 "metadata": {
  "kernelspec": {
   "display_name": "Python 3 (ipykernel)",
   "language": "python",
   "name": "python3"
  },
  "language_info": {
   "codemirror_mode": {
    "name": "ipython",
    "version": 3
   },
   "file_extension": ".py",
   "mimetype": "text/x-python",
   "name": "python",
   "nbconvert_exporter": "python",
   "pygments_lexer": "ipython3",
   "version": "3.11.9"
  },
  "toc": {
   "base_numbering": 1,
   "nav_menu": {},
   "number_sections": true,
   "sideBar": true,
   "skip_h1_title": false,
   "title_cell": "Table of Contents",
   "title_sidebar": "Contents",
   "toc_cell": false,
   "toc_position": {},
   "toc_section_display": true,
   "toc_window_display": false
  },
  "varInspector": {
   "cols": {
    "lenName": 16,
    "lenType": 16,
    "lenVar": 40
   },
   "kernels_config": {
    "python": {
     "delete_cmd_postfix": "",
     "delete_cmd_prefix": "del ",
     "library": "var_list.py",
     "varRefreshCmd": "print(var_dic_list())"
    },
    "r": {
     "delete_cmd_postfix": ") ",
     "delete_cmd_prefix": "rm(",
     "library": "var_list.r",
     "varRefreshCmd": "cat(var_dic_list()) "
    }
   },
   "types_to_exclude": [
    "module",
    "function",
    "builtin_function_or_method",
    "instance",
    "_Feature"
   ],
   "window_display": false
  }
 },
 "nbformat": 4,
 "nbformat_minor": 5
}
