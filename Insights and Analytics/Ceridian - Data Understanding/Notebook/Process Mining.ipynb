{
 "cells": [
  {
   "cell_type": "markdown",
   "id": "89c840b9",
   "metadata": {},
   "source": [
    "# Imports"
   ]
  },
  {
   "cell_type": "markdown",
   "id": "90788600",
   "metadata": {},
   "source": [
    "## Libraries"
   ]
  },
  {
   "cell_type": "code",
   "execution_count": 1,
   "id": "f224eded",
   "metadata": {
    "ExecuteTime": {
     "end_time": "2024-04-21T15:57:34.700769Z",
     "start_time": "2024-04-21T15:57:32.968239Z"
    }
   },
   "outputs": [],
   "source": [
    "from os import listdir\n",
    "\n",
    "import pandas as pd\n",
    "import numpy as np\n",
    "\n",
    "import matplotlib.pyplot as plt\n",
    "import seaborn as sns"
   ]
  },
  {
   "cell_type": "markdown",
   "id": "63339dd2",
   "metadata": {},
   "source": [
    "## Data"
   ]
  },
  {
   "cell_type": "code",
   "execution_count": 2,
   "id": "18ce9c89",
   "metadata": {
    "ExecuteTime": {
     "end_time": "2024-04-21T15:57:37.454398Z",
     "start_time": "2024-04-21T15:57:37.448193Z"
    }
   },
   "outputs": [
    {
     "data": {
      "text/plain": [
       "['report1616133006040.csv',\n",
       " 'report1616749830246.csv',\n",
       " 'report1616749905220.csv']"
      ]
     },
     "execution_count": 2,
     "metadata": {},
     "output_type": "execute_result"
    }
   ],
   "source": [
    "listdir(\"../Data/\")"
   ]
  },
  {
   "cell_type": "code",
   "execution_count": 3,
   "id": "4c7f575f",
   "metadata": {
    "ExecuteTime": {
     "end_time": "2024-04-21T15:57:37.805425Z",
     "start_time": "2024-04-21T15:57:37.768494Z"
    }
   },
   "outputs": [
    {
     "name": "stdout",
     "output_type": "stream",
     "text": [
      " Volume in drive D is Stuff\n",
      " Volume Serial Number is 1E0A-0491\n",
      "\n",
      " Directory of D:\\Capstones-and-Projects\\Insights and Analytics\\Ceridian - Data Understanding\\Data\n",
      "\n",
      "03/11/2024  04:45 AM    <DIR>          .\n",
      "04/21/2024  11:10 PM    <DIR>          ..\n",
      "03/11/2024  04:04 AM        48,047,329 report1616133006040.csv\n",
      "03/11/2024  04:04 AM        57,146,816 report1616749830246.csv\n",
      "03/11/2024  03:17 AM       185,919,017 report1616749905220.csv\n",
      "               3 File(s)    291,113,162 bytes\n",
      "               2 Dir(s)  983,052,283,904 bytes free\n"
     ]
    }
   ],
   "source": [
    "!dir \"../Data/\""
   ]
  },
  {
   "cell_type": "code",
   "execution_count": 4,
   "id": "5c986d1f",
   "metadata": {
    "ExecuteTime": {
     "end_time": "2024-04-21T15:57:39.596068Z",
     "start_time": "2024-04-21T15:57:39.172199Z"
    }
   },
   "outputs": [],
   "source": [
    "df1 = pd.read_csv(\"../Data/report1616133006040.csv\", encoding='latin-1', low_memory=False)"
   ]
  },
  {
   "cell_type": "code",
   "execution_count": 5,
   "id": "2165385d",
   "metadata": {
    "ExecuteTime": {
     "end_time": "2024-04-21T15:57:41.413201Z",
     "start_time": "2024-04-21T15:57:41.144919Z"
    }
   },
   "outputs": [
    {
     "ename": "AttributeError",
     "evalue": "'DataFrame' object has no attribute 'append'",
     "output_type": "error",
     "traceback": [
      "\u001b[1;31m---------------------------------------------------------------------------\u001b[0m",
      "\u001b[1;31mAttributeError\u001b[0m                            Traceback (most recent call last)",
      "\u001b[1;32m~\\AppData\\Local\\Temp\\ipykernel_14756\\2937587308.py\u001b[0m in \u001b[0;36m?\u001b[1;34m()\u001b[0m\n\u001b[1;32m----> 1\u001b[1;33m \u001b[0mdf1\u001b[0m\u001b[1;33m.\u001b[0m\u001b[0mappend\u001b[0m\u001b[1;33m\u001b[0m\u001b[1;33m\u001b[0m\u001b[0m\n\u001b[0m",
      "\u001b[1;32m~\\AppData\\Roaming\\Python\\Python311\\site-packages\\pandas\\core\\generic.py\u001b[0m in \u001b[0;36m?\u001b[1;34m(self, name)\u001b[0m\n\u001b[0;32m   6295\u001b[0m             \u001b[1;32mand\u001b[0m \u001b[0mname\u001b[0m \u001b[1;32mnot\u001b[0m \u001b[1;32min\u001b[0m \u001b[0mself\u001b[0m\u001b[1;33m.\u001b[0m\u001b[0m_accessors\u001b[0m\u001b[1;33m\u001b[0m\u001b[1;33m\u001b[0m\u001b[0m\n\u001b[0;32m   6296\u001b[0m             \u001b[1;32mand\u001b[0m \u001b[0mself\u001b[0m\u001b[1;33m.\u001b[0m\u001b[0m_info_axis\u001b[0m\u001b[1;33m.\u001b[0m\u001b[0m_can_hold_identifiers_and_holds_name\u001b[0m\u001b[1;33m(\u001b[0m\u001b[0mname\u001b[0m\u001b[1;33m)\u001b[0m\u001b[1;33m\u001b[0m\u001b[1;33m\u001b[0m\u001b[0m\n\u001b[0;32m   6297\u001b[0m         ):\n\u001b[0;32m   6298\u001b[0m             \u001b[1;32mreturn\u001b[0m \u001b[0mself\u001b[0m\u001b[1;33m[\u001b[0m\u001b[0mname\u001b[0m\u001b[1;33m]\u001b[0m\u001b[1;33m\u001b[0m\u001b[1;33m\u001b[0m\u001b[0m\n\u001b[1;32m-> 6299\u001b[1;33m         \u001b[1;32mreturn\u001b[0m \u001b[0mobject\u001b[0m\u001b[1;33m.\u001b[0m\u001b[0m__getattribute__\u001b[0m\u001b[1;33m(\u001b[0m\u001b[0mself\u001b[0m\u001b[1;33m,\u001b[0m \u001b[0mname\u001b[0m\u001b[1;33m)\u001b[0m\u001b[1;33m\u001b[0m\u001b[1;33m\u001b[0m\u001b[0m\n\u001b[0m",
      "\u001b[1;31mAttributeError\u001b[0m: 'DataFrame' object has no attribute 'append'"
     ]
    }
   ],
   "source": [
    "df1.append"
   ]
  },
  {
   "cell_type": "code",
   "execution_count": 7,
   "id": "8a73ea33",
   "metadata": {
    "ExecuteTime": {
     "end_time": "2024-04-21T15:58:40.349712Z",
     "start_time": "2024-04-21T15:58:37.432705Z"
    }
   },
   "outputs": [],
   "source": [
    "dfs = listdir(\"../Data/\")\n",
    "dfs = [pd.read_csv(\"../Data/\" + v, encoding='latin-1', low_memory=False) for v in dfs]"
   ]
  },
  {
   "cell_type": "code",
   "execution_count": 30,
   "id": "43f0cacc",
   "metadata": {
    "ExecuteTime": {
     "end_time": "2024-04-21T15:53:40.050073Z",
     "start_time": "2024-04-21T15:53:40.033160Z"
    }
   },
   "outputs": [
    {
     "ename": "AttributeError",
     "evalue": "'DataFrame' object has no attribute 'append'",
     "output_type": "error",
     "traceback": [
      "\u001b[1;31m---------------------------------------------------------------------------\u001b[0m",
      "\u001b[1;31mAttributeError\u001b[0m                            Traceback (most recent call last)",
      "\u001b[1;32m~\\AppData\\Local\\Temp\\ipykernel_4580\\3807880695.py\u001b[0m in \u001b[0;36m?\u001b[1;34m()\u001b[0m\n\u001b[1;32m----> 1\u001b[1;33m \u001b[0mdfs\u001b[0m\u001b[1;33m[\u001b[0m\u001b[1;36m0\u001b[0m\u001b[1;33m]\u001b[0m\u001b[1;33m.\u001b[0m\u001b[0mappend\u001b[0m\u001b[1;33m\u001b[0m\u001b[1;33m\u001b[0m\u001b[0m\n\u001b[0m",
      "\u001b[1;32mC:\\ProgramData\\anaconda3\\Lib\\site-packages\\pandas\\core\\generic.py\u001b[0m in \u001b[0;36m?\u001b[1;34m(self, name)\u001b[0m\n\u001b[0;32m   6200\u001b[0m             \u001b[1;32mand\u001b[0m \u001b[0mname\u001b[0m \u001b[1;32mnot\u001b[0m \u001b[1;32min\u001b[0m \u001b[0mself\u001b[0m\u001b[1;33m.\u001b[0m\u001b[0m_accessors\u001b[0m\u001b[1;33m\u001b[0m\u001b[1;33m\u001b[0m\u001b[0m\n\u001b[0;32m   6201\u001b[0m             \u001b[1;32mand\u001b[0m \u001b[0mself\u001b[0m\u001b[1;33m.\u001b[0m\u001b[0m_info_axis\u001b[0m\u001b[1;33m.\u001b[0m\u001b[0m_can_hold_identifiers_and_holds_name\u001b[0m\u001b[1;33m(\u001b[0m\u001b[0mname\u001b[0m\u001b[1;33m)\u001b[0m\u001b[1;33m\u001b[0m\u001b[1;33m\u001b[0m\u001b[0m\n\u001b[0;32m   6202\u001b[0m         ):\n\u001b[0;32m   6203\u001b[0m             \u001b[1;32mreturn\u001b[0m \u001b[0mself\u001b[0m\u001b[1;33m[\u001b[0m\u001b[0mname\u001b[0m\u001b[1;33m]\u001b[0m\u001b[1;33m\u001b[0m\u001b[1;33m\u001b[0m\u001b[0m\n\u001b[1;32m-> 6204\u001b[1;33m         \u001b[1;32mreturn\u001b[0m \u001b[0mobject\u001b[0m\u001b[1;33m.\u001b[0m\u001b[0m__getattribute__\u001b[0m\u001b[1;33m(\u001b[0m\u001b[0mself\u001b[0m\u001b[1;33m,\u001b[0m \u001b[0mname\u001b[0m\u001b[1;33m)\u001b[0m\u001b[1;33m\u001b[0m\u001b[1;33m\u001b[0m\u001b[0m\n\u001b[0m",
      "\u001b[1;31mAttributeError\u001b[0m: 'DataFrame' object has no attribute 'append'"
     ]
    }
   ],
   "source": [
    "dfs[0].append"
   ]
  },
  {
   "cell_type": "code",
   "execution_count": 31,
   "id": "54f8caf2",
   "metadata": {
    "ExecuteTime": {
     "end_time": "2024-04-21T15:54:29.739075Z",
     "start_time": "2024-04-21T15:54:29.728875Z"
    }
   },
   "outputs": [
    {
     "ename": "AttributeError",
     "evalue": "'DataFrame' object has no attribute 'append'",
     "output_type": "error",
     "traceback": [
      "\u001b[1;31m---------------------------------------------------------------------------\u001b[0m",
      "\u001b[1;31mAttributeError\u001b[0m                            Traceback (most recent call last)",
      "\u001b[1;32m~\\AppData\\Local\\Temp\\ipykernel_4580\\331289338.py\u001b[0m in \u001b[0;36m?\u001b[1;34m()\u001b[0m\n\u001b[1;32m----> 1\u001b[1;33m \u001b[0mdfs\u001b[0m\u001b[1;33m[\u001b[0m\u001b[1;36m0\u001b[0m\u001b[1;33m]\u001b[0m\u001b[1;33m.\u001b[0m\u001b[0mappend\u001b[0m\u001b[1;33m(\u001b[0m\u001b[0mdfs\u001b[0m\u001b[1;33m[\u001b[0m\u001b[1;36m1\u001b[0m\u001b[1;33m]\u001b[0m\u001b[1;33m)\u001b[0m\u001b[1;33m\u001b[0m\u001b[1;33m\u001b[0m\u001b[0m\n\u001b[0m",
      "\u001b[1;32mC:\\ProgramData\\anaconda3\\Lib\\site-packages\\pandas\\core\\generic.py\u001b[0m in \u001b[0;36m?\u001b[1;34m(self, name)\u001b[0m\n\u001b[0;32m   6200\u001b[0m             \u001b[1;32mand\u001b[0m \u001b[0mname\u001b[0m \u001b[1;32mnot\u001b[0m \u001b[1;32min\u001b[0m \u001b[0mself\u001b[0m\u001b[1;33m.\u001b[0m\u001b[0m_accessors\u001b[0m\u001b[1;33m\u001b[0m\u001b[1;33m\u001b[0m\u001b[0m\n\u001b[0;32m   6201\u001b[0m             \u001b[1;32mand\u001b[0m \u001b[0mself\u001b[0m\u001b[1;33m.\u001b[0m\u001b[0m_info_axis\u001b[0m\u001b[1;33m.\u001b[0m\u001b[0m_can_hold_identifiers_and_holds_name\u001b[0m\u001b[1;33m(\u001b[0m\u001b[0mname\u001b[0m\u001b[1;33m)\u001b[0m\u001b[1;33m\u001b[0m\u001b[1;33m\u001b[0m\u001b[0m\n\u001b[0;32m   6202\u001b[0m         ):\n\u001b[0;32m   6203\u001b[0m             \u001b[1;32mreturn\u001b[0m \u001b[0mself\u001b[0m\u001b[1;33m[\u001b[0m\u001b[0mname\u001b[0m\u001b[1;33m]\u001b[0m\u001b[1;33m\u001b[0m\u001b[1;33m\u001b[0m\u001b[0m\n\u001b[1;32m-> 6204\u001b[1;33m         \u001b[1;32mreturn\u001b[0m \u001b[0mobject\u001b[0m\u001b[1;33m.\u001b[0m\u001b[0m__getattribute__\u001b[0m\u001b[1;33m(\u001b[0m\u001b[0mself\u001b[0m\u001b[1;33m,\u001b[0m \u001b[0mname\u001b[0m\u001b[1;33m)\u001b[0m\u001b[1;33m\u001b[0m\u001b[1;33m\u001b[0m\u001b[0m\n\u001b[0m",
      "\u001b[1;31mAttributeError\u001b[0m: 'DataFrame' object has no attribute 'append'"
     ]
    }
   ],
   "source": [
    "dfs[0].append(dfs[1])"
   ]
  },
  {
   "cell_type": "code",
   "execution_count": 32,
   "id": "121c8805",
   "metadata": {
    "ExecuteTime": {
     "end_time": "2024-04-21T15:54:56.814481Z",
     "start_time": "2024-04-21T15:54:56.800191Z"
    }
   },
   "outputs": [
    {
     "ename": "NameError",
     "evalue": "name 'append' is not defined",
     "output_type": "error",
     "traceback": [
      "\u001b[1;31m---------------------------------------------------------------------------\u001b[0m",
      "\u001b[1;31mNameError\u001b[0m                                 Traceback (most recent call last)",
      "Cell \u001b[1;32mIn[32], line 1\u001b[0m\n\u001b[1;32m----> 1\u001b[0m append\n",
      "\u001b[1;31mNameError\u001b[0m: name 'append' is not defined"
     ]
    }
   ],
   "source": [
    "append"
   ]
  },
  {
   "cell_type": "code",
   "execution_count": 16,
   "id": "d4f63e7c",
   "metadata": {
    "ExecuteTime": {
     "end_time": "2024-04-21T16:10:44.256053Z",
     "start_time": "2024-04-21T16:10:44.152084Z"
    }
   },
   "outputs": [
    {
     "data": {
      "text/html": [
       "<div>\n",
       "<style scoped>\n",
       "    .dataframe tbody tr th:only-of-type {\n",
       "        vertical-align: middle;\n",
       "    }\n",
       "\n",
       "    .dataframe tbody tr th {\n",
       "        vertical-align: top;\n",
       "    }\n",
       "\n",
       "    .dataframe thead th {\n",
       "        text-align: right;\n",
       "    }\n",
       "</style>\n",
       "<table border=\"1\" class=\"dataframe\">\n",
       "  <thead>\n",
       "    <tr style=\"text-align: right;\">\n",
       "      <th></th>\n",
       "      <th>Pay Run Number</th>\n",
       "      <th>Start Date</th>\n",
       "      <th>End Date</th>\n",
       "      <th>Processing Status</th>\n",
       "      <th>Payroll Task</th>\n",
       "      <th>Sub Task</th>\n",
       "      <th>Ascender Processing Centre</th>\n",
       "      <th>Payroll Completed (Yes / N/A)</th>\n",
       "      <th>Date Completed</th>\n",
       "      <th>Checked By</th>\n",
       "      <th>...</th>\n",
       "      <th>Data Input Start Date</th>\n",
       "      <th>Data Input End Date</th>\n",
       "      <th>Payroll Processing Start Date</th>\n",
       "      <th>Payroll Processing End Date</th>\n",
       "      <th>Bank File / Post Payroll Start Date</th>\n",
       "      <th>Bank File / Post Payroll End Date</th>\n",
       "      <th>Date/Time of Submission</th>\n",
       "      <th>Date/Time of Validation</th>\n",
       "      <th>Account: Account Name</th>\n",
       "      <th>Account: Payroll Account Owner: Full Name</th>\n",
       "    </tr>\n",
       "  </thead>\n",
       "  <tbody>\n",
       "    <tr>\n",
       "      <th>0</th>\n",
       "      <td>54743</td>\n",
       "      <td>6/11/2020 12:00 PM</td>\n",
       "      <td>13/11/2020 12:00 PM</td>\n",
       "      <td>4. Bank File/Post Payroll</td>\n",
       "      <td>Payslip Reports (Citibank)</td>\n",
       "      <td>Payslip - Resigned [PDF]</td>\n",
       "      <td>Malaysia</td>\n",
       "      <td>Yes</td>\n",
       "      <td>8/11/2020</td>\n",
       "      <td>Hazlina Mohamed</td>\n",
       "      <td>...</td>\n",
       "      <td>10/11/2020 12:00 PM</td>\n",
       "      <td>11/11/2020 12:00 PM</td>\n",
       "      <td>16/11/2020 12:00 PM</td>\n",
       "      <td>17/11/2020 12:00 PM</td>\n",
       "      <td>17/11/2020 12:00 PM</td>\n",
       "      <td>19/11/2020 12:00 PM</td>\n",
       "      <td>NaN</td>\n",
       "      <td>NaN</td>\n",
       "      <td>NaN</td>\n",
       "      <td>NaN</td>\n",
       "    </tr>\n",
       "    <tr>\n",
       "      <th>1</th>\n",
       "      <td>58187</td>\n",
       "      <td>1/01/2021 12:00 PM</td>\n",
       "      <td>31/01/2021 12:00 PM</td>\n",
       "      <td>1. Payroll Set Up</td>\n",
       "      <td>Period End Closing</td>\n",
       "      <td>NaN</td>\n",
       "      <td>China</td>\n",
       "      <td>Yes</td>\n",
       "      <td>12/01/2021</td>\n",
       "      <td>Yvonne Yao</td>\n",
       "      <td>...</td>\n",
       "      <td>11/01/2021 12:00 PM</td>\n",
       "      <td>14/01/2021 12:00 PM</td>\n",
       "      <td>11/01/2021 12:00 PM</td>\n",
       "      <td>18/01/2021 12:00 PM</td>\n",
       "      <td>18/01/2021 12:00 PM</td>\n",
       "      <td>10/02/2021 12:00 PM</td>\n",
       "      <td>NaN</td>\n",
       "      <td>NaN</td>\n",
       "      <td>NaN</td>\n",
       "      <td>NaN</td>\n",
       "    </tr>\n",
       "    <tr>\n",
       "      <th>2</th>\n",
       "      <td>60024</td>\n",
       "      <td>1/03/2021 9:00 AM</td>\n",
       "      <td>31/03/2021 6:00 PM</td>\n",
       "      <td>1. Payroll Set Up</td>\n",
       "      <td>Salesforce Payrun Manager Closing (previous mo...</td>\n",
       "      <td>NaN</td>\n",
       "      <td>China</td>\n",
       "      <td>Yes</td>\n",
       "      <td>1/03/2021</td>\n",
       "      <td>Marilyn Ma</td>\n",
       "      <td>...</td>\n",
       "      <td>26/02/2021 12:00 PM</td>\n",
       "      <td>4/03/2021 12:00 PM</td>\n",
       "      <td>26/02/2021 12:00 PM</td>\n",
       "      <td>8/03/2021 12:00 PM</td>\n",
       "      <td>8/03/2021 12:00 PM</td>\n",
       "      <td>10/04/2021 12:00 PM</td>\n",
       "      <td>NaN</td>\n",
       "      <td>NaN</td>\n",
       "      <td>NaN</td>\n",
       "      <td>NaN</td>\n",
       "    </tr>\n",
       "    <tr>\n",
       "      <th>3</th>\n",
       "      <td>57515</td>\n",
       "      <td>1/01/2021 12:00 PM</td>\n",
       "      <td>31/01/2021 12:00 PM</td>\n",
       "      <td>2. Data Input</td>\n",
       "      <td>Payroll Advice - Statutory Changes</td>\n",
       "      <td>Prepare interface file to interface via Standa...</td>\n",
       "      <td>Malaysia</td>\n",
       "      <td>Yes</td>\n",
       "      <td>18/01/2021</td>\n",
       "      <td>Yee Sin Ong</td>\n",
       "      <td>...</td>\n",
       "      <td>10/01/2021 9:00 AM</td>\n",
       "      <td>12/01/2021 2:30 AM</td>\n",
       "      <td>11/01/2021 12:00 PM</td>\n",
       "      <td>19/01/2021 12:00 PM</td>\n",
       "      <td>21/01/2021 12:00 PM</td>\n",
       "      <td>21/01/2021 12:00 PM</td>\n",
       "      <td>NaN</td>\n",
       "      <td>NaN</td>\n",
       "      <td>NaN</td>\n",
       "      <td>NaN</td>\n",
       "    </tr>\n",
       "    <tr>\n",
       "      <th>4</th>\n",
       "      <td>60310</td>\n",
       "      <td>1/02/2021 12:00 PM</td>\n",
       "      <td>28/02/2021 12:00 PM</td>\n",
       "      <td>2. Data Input</td>\n",
       "      <td>Sender Checking vs TSL for the period</td>\n",
       "      <td>NaN</td>\n",
       "      <td>Philippines</td>\n",
       "      <td>Yes</td>\n",
       "      <td>24/02/2021</td>\n",
       "      <td>Jean Rodas</td>\n",
       "      <td>...</td>\n",
       "      <td>23/02/2021 12:00 PM</td>\n",
       "      <td>23/02/2021 12:00 PM</td>\n",
       "      <td>23/02/2021 12:00 PM</td>\n",
       "      <td>23/02/2021 12:00 PM</td>\n",
       "      <td>23/02/2021 12:00 PM</td>\n",
       "      <td>10/03/2021 12:00 PM</td>\n",
       "      <td>NaN</td>\n",
       "      <td>NaN</td>\n",
       "      <td>NaN</td>\n",
       "      <td>NaN</td>\n",
       "    </tr>\n",
       "    <tr>\n",
       "      <th>...</th>\n",
       "      <td>...</td>\n",
       "      <td>...</td>\n",
       "      <td>...</td>\n",
       "      <td>...</td>\n",
       "      <td>...</td>\n",
       "      <td>...</td>\n",
       "      <td>...</td>\n",
       "      <td>...</td>\n",
       "      <td>...</td>\n",
       "      <td>...</td>\n",
       "      <td>...</td>\n",
       "      <td>...</td>\n",
       "      <td>...</td>\n",
       "      <td>...</td>\n",
       "      <td>...</td>\n",
       "      <td>...</td>\n",
       "      <td>...</td>\n",
       "      <td>...</td>\n",
       "      <td>...</td>\n",
       "      <td>...</td>\n",
       "      <td>...</td>\n",
       "    </tr>\n",
       "    <tr>\n",
       "      <th>106446</th>\n",
       "      <td>58902</td>\n",
       "      <td>1/02/2021 9:00 AM</td>\n",
       "      <td>28/02/2021 6:00 PM</td>\n",
       "      <td>5. Completed</td>\n",
       "      <td>NaN</td>\n",
       "      <td>NaN</td>\n",
       "      <td>China</td>\n",
       "      <td>Yes</td>\n",
       "      <td>10/03/2021</td>\n",
       "      <td>Amy Xu</td>\n",
       "      <td>...</td>\n",
       "      <td>2/02/2021 12:00 PM</td>\n",
       "      <td>9/02/2021 12:00 PM</td>\n",
       "      <td>2/02/2021 12:00 PM</td>\n",
       "      <td>18/02/2021 12:00 PM</td>\n",
       "      <td>18/02/2021 12:00 PM</td>\n",
       "      <td>10/03/2021 12:00 PM</td>\n",
       "      <td>NaN</td>\n",
       "      <td>NaN</td>\n",
       "      <td>Advanced Micro Devices (Shanghai) Co., Ltd</td>\n",
       "      <td>Angeline Lee</td>\n",
       "    </tr>\n",
       "    <tr>\n",
       "      <th>106447</th>\n",
       "      <td>57353</td>\n",
       "      <td>1/01/2021 9:00 AM</td>\n",
       "      <td>31/01/2021 6:00 PM</td>\n",
       "      <td>5. Completed</td>\n",
       "      <td>NaN</td>\n",
       "      <td>NaN</td>\n",
       "      <td>China</td>\n",
       "      <td>Yes</td>\n",
       "      <td>2/02/2021</td>\n",
       "      <td>Amy Xu</td>\n",
       "      <td>...</td>\n",
       "      <td>10/01/2021 12:00 PM</td>\n",
       "      <td>19/01/2021 12:00 PM</td>\n",
       "      <td>10/01/2021 12:00 PM</td>\n",
       "      <td>22/01/2021 12:00 PM</td>\n",
       "      <td>22/01/2021 12:00 PM</td>\n",
       "      <td>10/02/2021 6:00 PM</td>\n",
       "      <td>NaN</td>\n",
       "      <td>NaN</td>\n",
       "      <td>Electro Scientific Industries, Inc.</td>\n",
       "      <td>Elenita Enriquez</td>\n",
       "    </tr>\n",
       "    <tr>\n",
       "      <th>106448</th>\n",
       "      <td>58901</td>\n",
       "      <td>1/02/2021 9:00 AM</td>\n",
       "      <td>28/02/2021 6:00 PM</td>\n",
       "      <td>5. Completed</td>\n",
       "      <td>NaN</td>\n",
       "      <td>NaN</td>\n",
       "      <td>China</td>\n",
       "      <td>Yes</td>\n",
       "      <td>4/03/2021</td>\n",
       "      <td>Amy Xu</td>\n",
       "      <td>...</td>\n",
       "      <td>10/02/2021 12:00 PM</td>\n",
       "      <td>19/02/2021 12:00 PM</td>\n",
       "      <td>10/02/2021 12:00 PM</td>\n",
       "      <td>22/02/2021 12:00 PM</td>\n",
       "      <td>22/02/2021 12:00 PM</td>\n",
       "      <td>10/03/2021 12:00 PM</td>\n",
       "      <td>NaN</td>\n",
       "      <td>NaN</td>\n",
       "      <td>Electro Scientific Industries, Inc.</td>\n",
       "      <td>Elenita Enriquez</td>\n",
       "    </tr>\n",
       "    <tr>\n",
       "      <th>106449</th>\n",
       "      <td>58901</td>\n",
       "      <td>1/02/2021 9:00 AM</td>\n",
       "      <td>28/02/2021 6:00 PM</td>\n",
       "      <td>3. Payroll Processing</td>\n",
       "      <td>Sending Payroll Reports to Client (email conta...</td>\n",
       "      <td>NaN</td>\n",
       "      <td>China</td>\n",
       "      <td>Yes</td>\n",
       "      <td>23/02/2021</td>\n",
       "      <td>Amy Xu</td>\n",
       "      <td>...</td>\n",
       "      <td>10/02/2021 12:00 PM</td>\n",
       "      <td>19/02/2021 12:00 PM</td>\n",
       "      <td>10/02/2021 12:00 PM</td>\n",
       "      <td>22/02/2021 12:00 PM</td>\n",
       "      <td>22/02/2021 12:00 PM</td>\n",
       "      <td>10/03/2021 12:00 PM</td>\n",
       "      <td>NaN</td>\n",
       "      <td>NaN</td>\n",
       "      <td>Electro Scientific Industries, Inc.</td>\n",
       "      <td>Elenita Enriquez</td>\n",
       "    </tr>\n",
       "    <tr>\n",
       "      <th>106450</th>\n",
       "      <td>58901</td>\n",
       "      <td>1/02/2021 9:00 AM</td>\n",
       "      <td>28/02/2021 6:00 PM</td>\n",
       "      <td>3. Payroll Processing</td>\n",
       "      <td>Payroll Validation - SOP Checking (to ensure t...</td>\n",
       "      <td>NaN</td>\n",
       "      <td>China</td>\n",
       "      <td>Yes</td>\n",
       "      <td>23/02/2021</td>\n",
       "      <td>Amy Xu</td>\n",
       "      <td>...</td>\n",
       "      <td>10/02/2021 12:00 PM</td>\n",
       "      <td>19/02/2021 12:00 PM</td>\n",
       "      <td>10/02/2021 12:00 PM</td>\n",
       "      <td>22/02/2021 12:00 PM</td>\n",
       "      <td>22/02/2021 12:00 PM</td>\n",
       "      <td>10/03/2021 12:00 PM</td>\n",
       "      <td>NaN</td>\n",
       "      <td>NaN</td>\n",
       "      <td>Electro Scientific Industries, Inc.</td>\n",
       "      <td>Elenita Enriquez</td>\n",
       "    </tr>\n",
       "  </tbody>\n",
       "</table>\n",
       "<p>205353 rows × 31 columns</p>\n",
       "</div>"
      ],
      "text/plain": [
       "        Pay Run Number          Start Date             End Date  \\\n",
       "0                54743  6/11/2020 12:00 PM  13/11/2020 12:00 PM   \n",
       "1                58187  1/01/2021 12:00 PM  31/01/2021 12:00 PM   \n",
       "2                60024   1/03/2021 9:00 AM   31/03/2021 6:00 PM   \n",
       "3                57515  1/01/2021 12:00 PM  31/01/2021 12:00 PM   \n",
       "4                60310  1/02/2021 12:00 PM  28/02/2021 12:00 PM   \n",
       "...                ...                 ...                  ...   \n",
       "106446           58902   1/02/2021 9:00 AM   28/02/2021 6:00 PM   \n",
       "106447           57353   1/01/2021 9:00 AM   31/01/2021 6:00 PM   \n",
       "106448           58901   1/02/2021 9:00 AM   28/02/2021 6:00 PM   \n",
       "106449           58901   1/02/2021 9:00 AM   28/02/2021 6:00 PM   \n",
       "106450           58901   1/02/2021 9:00 AM   28/02/2021 6:00 PM   \n",
       "\n",
       "                Processing Status  \\\n",
       "0       4. Bank File/Post Payroll   \n",
       "1               1. Payroll Set Up   \n",
       "2               1. Payroll Set Up   \n",
       "3                   2. Data Input   \n",
       "4                   2. Data Input   \n",
       "...                           ...   \n",
       "106446               5. Completed   \n",
       "106447               5. Completed   \n",
       "106448               5. Completed   \n",
       "106449      3. Payroll Processing   \n",
       "106450      3. Payroll Processing   \n",
       "\n",
       "                                             Payroll Task  \\\n",
       "0                              Payslip Reports (Citibank)   \n",
       "1                                      Period End Closing   \n",
       "2       Salesforce Payrun Manager Closing (previous mo...   \n",
       "3                      Payroll Advice - Statutory Changes   \n",
       "4                   Sender Checking vs TSL for the period   \n",
       "...                                                   ...   \n",
       "106446                                                NaN   \n",
       "106447                                                NaN   \n",
       "106448                                                NaN   \n",
       "106449  Sending Payroll Reports to Client (email conta...   \n",
       "106450  Payroll Validation - SOP Checking (to ensure t...   \n",
       "\n",
       "                                                 Sub Task  \\\n",
       "0                                Payslip - Resigned [PDF]   \n",
       "1                                                     NaN   \n",
       "2                                                     NaN   \n",
       "3       Prepare interface file to interface via Standa...   \n",
       "4                                                     NaN   \n",
       "...                                                   ...   \n",
       "106446                                                NaN   \n",
       "106447                                                NaN   \n",
       "106448                                                NaN   \n",
       "106449                                                NaN   \n",
       "106450                                                NaN   \n",
       "\n",
       "       Ascender Processing Centre Payroll Completed (Yes / N/A)  \\\n",
       "0                        Malaysia                           Yes   \n",
       "1                           China                           Yes   \n",
       "2                           China                           Yes   \n",
       "3                        Malaysia                           Yes   \n",
       "4                     Philippines                           Yes   \n",
       "...                           ...                           ...   \n",
       "106446                      China                           Yes   \n",
       "106447                      China                           Yes   \n",
       "106448                      China                           Yes   \n",
       "106449                      China                           Yes   \n",
       "106450                      China                           Yes   \n",
       "\n",
       "       Date Completed       Checked By  ... Data Input Start Date  \\\n",
       "0           8/11/2020  Hazlina Mohamed  ...   10/11/2020 12:00 PM   \n",
       "1          12/01/2021       Yvonne Yao  ...   11/01/2021 12:00 PM   \n",
       "2           1/03/2021       Marilyn Ma  ...   26/02/2021 12:00 PM   \n",
       "3          18/01/2021      Yee Sin Ong  ...    10/01/2021 9:00 AM   \n",
       "4          24/02/2021       Jean Rodas  ...   23/02/2021 12:00 PM   \n",
       "...               ...              ...  ...                   ...   \n",
       "106446     10/03/2021           Amy Xu  ...    2/02/2021 12:00 PM   \n",
       "106447      2/02/2021           Amy Xu  ...   10/01/2021 12:00 PM   \n",
       "106448      4/03/2021           Amy Xu  ...   10/02/2021 12:00 PM   \n",
       "106449     23/02/2021           Amy Xu  ...   10/02/2021 12:00 PM   \n",
       "106450     23/02/2021           Amy Xu  ...   10/02/2021 12:00 PM   \n",
       "\n",
       "        Data Input End Date Payroll Processing Start Date  \\\n",
       "0       11/11/2020 12:00 PM           16/11/2020 12:00 PM   \n",
       "1       14/01/2021 12:00 PM           11/01/2021 12:00 PM   \n",
       "2        4/03/2021 12:00 PM           26/02/2021 12:00 PM   \n",
       "3        12/01/2021 2:30 AM           11/01/2021 12:00 PM   \n",
       "4       23/02/2021 12:00 PM           23/02/2021 12:00 PM   \n",
       "...                     ...                           ...   \n",
       "106446   9/02/2021 12:00 PM            2/02/2021 12:00 PM   \n",
       "106447  19/01/2021 12:00 PM           10/01/2021 12:00 PM   \n",
       "106448  19/02/2021 12:00 PM           10/02/2021 12:00 PM   \n",
       "106449  19/02/2021 12:00 PM           10/02/2021 12:00 PM   \n",
       "106450  19/02/2021 12:00 PM           10/02/2021 12:00 PM   \n",
       "\n",
       "       Payroll Processing End Date Bank File / Post Payroll Start Date  \\\n",
       "0              17/11/2020 12:00 PM                 17/11/2020 12:00 PM   \n",
       "1              18/01/2021 12:00 PM                 18/01/2021 12:00 PM   \n",
       "2               8/03/2021 12:00 PM                  8/03/2021 12:00 PM   \n",
       "3              19/01/2021 12:00 PM                 21/01/2021 12:00 PM   \n",
       "4              23/02/2021 12:00 PM                 23/02/2021 12:00 PM   \n",
       "...                            ...                                 ...   \n",
       "106446         18/02/2021 12:00 PM                 18/02/2021 12:00 PM   \n",
       "106447         22/01/2021 12:00 PM                 22/01/2021 12:00 PM   \n",
       "106448         22/02/2021 12:00 PM                 22/02/2021 12:00 PM   \n",
       "106449         22/02/2021 12:00 PM                 22/02/2021 12:00 PM   \n",
       "106450         22/02/2021 12:00 PM                 22/02/2021 12:00 PM   \n",
       "\n",
       "       Bank File / Post Payroll End Date Date/Time of Submission  \\\n",
       "0                    19/11/2020 12:00 PM                     NaN   \n",
       "1                    10/02/2021 12:00 PM                     NaN   \n",
       "2                    10/04/2021 12:00 PM                     NaN   \n",
       "3                    21/01/2021 12:00 PM                     NaN   \n",
       "4                    10/03/2021 12:00 PM                     NaN   \n",
       "...                                  ...                     ...   \n",
       "106446               10/03/2021 12:00 PM                     NaN   \n",
       "106447                10/02/2021 6:00 PM                     NaN   \n",
       "106448               10/03/2021 12:00 PM                     NaN   \n",
       "106449               10/03/2021 12:00 PM                     NaN   \n",
       "106450               10/03/2021 12:00 PM                     NaN   \n",
       "\n",
       "        Date/Time of Validation                       Account: Account Name  \\\n",
       "0                           NaN                                         NaN   \n",
       "1                           NaN                                         NaN   \n",
       "2                           NaN                                         NaN   \n",
       "3                           NaN                                         NaN   \n",
       "4                           NaN                                         NaN   \n",
       "...                         ...                                         ...   \n",
       "106446                      NaN  Advanced Micro Devices (Shanghai) Co., Ltd   \n",
       "106447                      NaN         Electro Scientific Industries, Inc.   \n",
       "106448                      NaN         Electro Scientific Industries, Inc.   \n",
       "106449                      NaN         Electro Scientific Industries, Inc.   \n",
       "106450                      NaN         Electro Scientific Industries, Inc.   \n",
       "\n",
       "       Account: Payroll Account Owner: Full Name  \n",
       "0                                            NaN  \n",
       "1                                            NaN  \n",
       "2                                            NaN  \n",
       "3                                            NaN  \n",
       "4                                            NaN  \n",
       "...                                          ...  \n",
       "106446                              Angeline Lee  \n",
       "106447                          Elenita Enriquez  \n",
       "106448                          Elenita Enriquez  \n",
       "106449                          Elenita Enriquez  \n",
       "106450                          Elenita Enriquez  \n",
       "\n",
       "[205353 rows x 31 columns]"
      ]
     },
     "execution_count": 16,
     "metadata": {},
     "output_type": "execute_result"
    }
   ],
   "source": [
    "pd.concat([dfs[0], dfs[1]])"
   ]
  },
  {
   "cell_type": "code",
   "execution_count": 9,
   "id": "d609e234",
   "metadata": {
    "ExecuteTime": {
     "end_time": "2024-04-21T15:58:49.716335Z",
     "start_time": "2024-04-21T15:58:49.712046Z"
    }
   },
   "outputs": [
    {
     "data": {
      "text/plain": [
       "(98902, 29)"
      ]
     },
     "execution_count": 9,
     "metadata": {},
     "output_type": "execute_result"
    }
   ],
   "source": [
    "dfs[0].shape"
   ]
  },
  {
   "cell_type": "code",
   "execution_count": 10,
   "id": "b224fd58",
   "metadata": {
    "ExecuteTime": {
     "end_time": "2024-04-21T15:58:55.843898Z",
     "start_time": "2024-04-21T15:58:55.840423Z"
    }
   },
   "outputs": [
    {
     "data": {
      "text/plain": [
       "(106451, 31)"
      ]
     },
     "execution_count": 10,
     "metadata": {},
     "output_type": "execute_result"
    }
   ],
   "source": [
    "dfs[1].shape"
   ]
  },
  {
   "cell_type": "code",
   "execution_count": 11,
   "id": "42ce4c36",
   "metadata": {
    "ExecuteTime": {
     "end_time": "2024-04-21T15:59:01.180657Z",
     "start_time": "2024-04-21T15:59:01.176703Z"
    }
   },
   "outputs": [
    {
     "data": {
      "text/plain": [
       "(543325, 23)"
      ]
     },
     "execution_count": 11,
     "metadata": {},
     "output_type": "execute_result"
    }
   ],
   "source": [
    "dfs[2].shape"
   ]
  },
  {
   "cell_type": "code",
   "execution_count": 14,
   "id": "27e4fa17",
   "metadata": {
    "ExecuteTime": {
     "end_time": "2024-04-21T15:59:31.276203Z",
     "start_time": "2024-04-21T15:59:31.272132Z"
    }
   },
   "outputs": [
    {
     "data": {
      "text/plain": [
       "748678"
      ]
     },
     "execution_count": 14,
     "metadata": {},
     "output_type": "execute_result"
    }
   ],
   "source": [
    "543325 + 106451 + 98902"
   ]
  },
  {
   "cell_type": "code",
   "execution_count": 13,
   "id": "df93811c",
   "metadata": {
    "ExecuteTime": {
     "end_time": "2024-04-21T15:59:14.924160Z",
     "start_time": "2024-04-21T15:59:14.920802Z"
    }
   },
   "outputs": [
    {
     "data": {
      "text/plain": [
       "3"
      ]
     },
     "execution_count": 13,
     "metadata": {},
     "output_type": "execute_result"
    }
   ],
   "source": [
    "len(dfs)"
   ]
  },
  {
   "cell_type": "code",
   "execution_count": null,
   "id": "9968504b",
   "metadata": {},
   "outputs": [],
   "source": []
  }
 ],
 "metadata": {
  "kernelspec": {
   "display_name": "Python 3 (ipykernel)",
   "language": "python",
   "name": "python3"
  },
  "language_info": {
   "codemirror_mode": {
    "name": "ipython",
    "version": 3
   },
   "file_extension": ".py",
   "mimetype": "text/x-python",
   "name": "python",
   "nbconvert_exporter": "python",
   "pygments_lexer": "ipython3",
   "version": "3.11.5"
  },
  "toc": {
   "base_numbering": 1,
   "nav_menu": {},
   "number_sections": true,
   "sideBar": true,
   "skip_h1_title": false,
   "title_cell": "Table of Contents",
   "title_sidebar": "Contents",
   "toc_cell": false,
   "toc_position": {},
   "toc_section_display": true,
   "toc_window_display": false
  },
  "varInspector": {
   "cols": {
    "lenName": 16,
    "lenType": 16,
    "lenVar": 40
   },
   "kernels_config": {
    "python": {
     "delete_cmd_postfix": "",
     "delete_cmd_prefix": "del ",
     "library": "var_list.py",
     "varRefreshCmd": "print(var_dic_list())"
    },
    "r": {
     "delete_cmd_postfix": ") ",
     "delete_cmd_prefix": "rm(",
     "library": "var_list.r",
     "varRefreshCmd": "cat(var_dic_list()) "
    }
   },
   "types_to_exclude": [
    "module",
    "function",
    "builtin_function_or_method",
    "instance",
    "_Feature"
   ],
   "window_display": false
  }
 },
 "nbformat": 4,
 "nbformat_minor": 5
}
