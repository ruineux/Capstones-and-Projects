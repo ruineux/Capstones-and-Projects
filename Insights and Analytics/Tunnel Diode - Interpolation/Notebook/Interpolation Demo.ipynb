{
 "cells": [
  {
   "cell_type": "markdown",
   "id": "5e69ad5d-3913-4892-9be5-6a7939419b60",
   "metadata": {},
   "source": [
    "# Imports"
   ]
  },
  {
   "cell_type": "markdown",
   "id": "3be3be3c-3580-439d-819f-0a6bc132932e",
   "metadata": {},
   "source": [
    "## Libraries and Packages"
   ]
  },
  {
   "cell_type": "code",
   "execution_count": 1,
   "id": "6aac8d29-54b6-4057-8507-61aec07dd9e7",
   "metadata": {},
   "outputs": [],
   "source": [
    "# Essential\n",
    "import pandas as pd\n",
    "import numpy as np\n",
    "\n",
    "# For testing model's effectiveness\n",
    "from sklearn.metrics import mean_squared_error, mean_absolute_error, r2_score\n",
    "\n",
    "# For visualization\n",
    "import matplotlib.pyplot as plt"
   ]
  },
  {
   "cell_type": "markdown",
   "id": "137764f6-9c5e-4870-ad5f-878b737eb6b0",
   "metadata": {},
   "source": [
    "## Dataset"
   ]
  },
  {
   "cell_type": "markdown",
   "id": "f44d3ade-ee74-48d0-9290-0634625069f1",
   "metadata": {},
   "source": [
    "Datasource: [Experimental Data on Tunnel Diode](https://www.kaggle.com/datasets/raktim711/experimental-data-on-tunnel-diode)\n",
    "\n",
    "This is a real-life dataset which has been obtained while performing an experiment on tunnel diode at ***St. Xavier's College, Kolkata***. The tunnel diode is an experiment which aims to demonstrate the Quantum Tunelling effect.\n",
    "\n",
    "For a detailed theory refer to Tunnel Diode Theory\n",
    "\n",
    "**V: The voltage across the diode (in volt)**\n",
    "\n",
    "**I: The current across the diode (in milliamperes)**"
   ]
  },
  {
   "cell_type": "code",
   "execution_count": 2,
   "id": "1254a386-cec5-400e-b5c4-5bdd11b7fc21",
   "metadata": {},
   "outputs": [],
   "source": [
    "PATH = \"../Data/\""
   ]
  },
  {
   "cell_type": "code",
   "execution_count": 3,
   "id": "0e572093-4c06-4820-b08f-f78bcb8506b4",
   "metadata": {},
   "outputs": [],
   "source": [
    "df = pd.read_csv(PATH + \"TunneldiodeTotal.csv\")"
   ]
  },
  {
   "cell_type": "code",
   "execution_count": 4,
   "id": "6862bcf2-63be-4af0-aecd-60358121b64c",
   "metadata": {},
   "outputs": [],
   "source": [
    "df = df.sort_values(by=\"V\", ascending=True)"
   ]
  },
  {
   "cell_type": "code",
   "execution_count": 5,
   "id": "223dda3b-7283-4640-9fe5-345a26c5fa4e",
   "metadata": {},
   "outputs": [
    {
     "data": {
      "text/html": [
       "<div>\n",
       "<style scoped>\n",
       "    .dataframe tbody tr th:only-of-type {\n",
       "        vertical-align: middle;\n",
       "    }\n",
       "\n",
       "    .dataframe tbody tr th {\n",
       "        vertical-align: top;\n",
       "    }\n",
       "\n",
       "    .dataframe thead th {\n",
       "        text-align: right;\n",
       "    }\n",
       "</style>\n",
       "<table border=\"1\" class=\"dataframe\">\n",
       "  <thead>\n",
       "    <tr style=\"text-align: right;\">\n",
       "      <th></th>\n",
       "      <th>V</th>\n",
       "      <th>I</th>\n",
       "    </tr>\n",
       "  </thead>\n",
       "  <tbody>\n",
       "    <tr>\n",
       "      <th>0</th>\n",
       "      <td>0.007</td>\n",
       "      <td>1.40</td>\n",
       "    </tr>\n",
       "    <tr>\n",
       "      <th>34</th>\n",
       "      <td>0.008</td>\n",
       "      <td>1.40</td>\n",
       "    </tr>\n",
       "    <tr>\n",
       "      <th>35</th>\n",
       "      <td>0.009</td>\n",
       "      <td>1.63</td>\n",
       "    </tr>\n",
       "    <tr>\n",
       "      <th>37</th>\n",
       "      <td>0.010</td>\n",
       "      <td>1.74</td>\n",
       "    </tr>\n",
       "    <tr>\n",
       "      <th>36</th>\n",
       "      <td>0.010</td>\n",
       "      <td>1.68</td>\n",
       "    </tr>\n",
       "    <tr>\n",
       "      <th>1</th>\n",
       "      <td>0.010</td>\n",
       "      <td>1.74</td>\n",
       "    </tr>\n",
       "    <tr>\n",
       "      <th>38</th>\n",
       "      <td>0.011</td>\n",
       "      <td>1.82</td>\n",
       "    </tr>\n",
       "    <tr>\n",
       "      <th>39</th>\n",
       "      <td>0.012</td>\n",
       "      <td>1.97</td>\n",
       "    </tr>\n",
       "    <tr>\n",
       "      <th>40</th>\n",
       "      <td>0.013</td>\n",
       "      <td>2.09</td>\n",
       "    </tr>\n",
       "    <tr>\n",
       "      <th>41</th>\n",
       "      <td>0.014</td>\n",
       "      <td>2.20</td>\n",
       "    </tr>\n",
       "  </tbody>\n",
       "</table>\n",
       "</div>"
      ],
      "text/plain": [
       "        V     I\n",
       "0   0.007  1.40\n",
       "34  0.008  1.40\n",
       "35  0.009  1.63\n",
       "37  0.010  1.74\n",
       "36  0.010  1.68\n",
       "1   0.010  1.74\n",
       "38  0.011  1.82\n",
       "39  0.012  1.97\n",
       "40  0.013  2.09\n",
       "41  0.014  2.20"
      ]
     },
     "execution_count": 5,
     "metadata": {},
     "output_type": "execute_result"
    }
   ],
   "source": [
    "df.head(10)"
   ]
  },
  {
   "cell_type": "code",
   "execution_count": 6,
   "id": "5e58af85-0dc1-4251-9912-82bd39447ad0",
   "metadata": {},
   "outputs": [
    {
     "data": {
      "image/png": "[encoded data removed]",
      "text/plain": [
       "<Figure size 1400x500 with 1 Axes>"
      ]
     },
     "metadata": {},
     "output_type": "display_data"
    }
   ],
   "source": [
    "fig, ax = plt.subplots(1, 1, figsize=(14, 5))\n",
    "\n",
    "ax.scatter(x=df[\"V\"],\n",
    "           y=df[\"I\"],\n",
    "           marker=\"o\",\n",
    "           c=\"dodgerblue\",\n",
    "           edgecolor=\"k\",\n",
    "           label=\"Test\"\n",
    "          );"
   ]
  },
  {
   "cell_type": "markdown",
   "id": "614863fc-e661-4b42-b199-06ab95a1404a",
   "metadata": {},
   "source": [
    "# Interpolation"
   ]
  },
  {
   "cell_type": "markdown",
   "id": "76b14c6c-31af-492f-bc49-a870870e1b5b",
   "metadata": {},
   "source": [
    "## Creating x and y variable"
   ]
  },
  {
   "cell_type": "code",
   "execution_count": 7,
   "id": "82b2bc1b-a282-419d-b88f-3315d2dcf43d",
   "metadata": {},
   "outputs": [],
   "source": [
    "x=df[\"V\"]\n",
    "y=df[\"I\"]"
   ]
  },
  {
   "cell_type": "markdown",
   "id": "f176afc6-3370-437e-b100-9bfc6c08d358",
   "metadata": {},
   "source": [
    "## Using np.polyfit"
   ]
  },
  {
   "cell_type": "markdown",
   "id": "334fca69-c3c1-4487-98b8-eb18b84044ec",
   "metadata": {},
   "source": [
    "### Determining the best coefficients"
   ]
  },
  {
   "cell_type": "code",
   "execution_count": 8,
   "id": "10e84bb6-048d-49da-a979-917881085321",
   "metadata": {},
   "outputs": [],
   "source": [
    "coef_2 = np.polyfit(x, y, deg=2)\n",
    "coef_4 = np.polyfit(x, y, deg=4)\n",
    "coef_6 = np.polyfit(x, y, deg=6)"
   ]
  },
  {
   "cell_type": "markdown",
   "id": "f7ef68a0-a5b0-4337-acc5-a143f20f4720",
   "metadata": {},
   "source": [
    "### Creating polynomial models based on deg & coefficients found"
   ]
  },
  {
   "cell_type": "code",
   "execution_count": 9,
   "id": "efba33b8-78c3-4169-9a00-9acc8ffc9489",
   "metadata": {},
   "outputs": [],
   "source": [
    "poly_2 = np.poly1d(coef_2)\n",
    "poly_4 = np.poly1d(coef_4)\n",
    "poly_6 = np.poly1d(coef_6)"
   ]
  },
  {
   "cell_type": "markdown",
   "id": "7a65eb31-b490-4a96-92ff-136ade0cd5b6",
   "metadata": {},
   "source": [
    "### Predicting possible values based on the models generated"
   ]
  },
  {
   "cell_type": "code",
   "execution_count": 10,
   "id": "95de0fd8-e3f0-44e4-98ad-3dd6922bf139",
   "metadata": {},
   "outputs": [],
   "source": [
    "y_poly2 = poly_2(x)\n",
    "y_poly4 = poly_4(x)\n",
    "y_poly6 = poly_6(x)"
   ]
  },
  {
   "cell_type": "markdown",
   "id": "0c971a04-0f30-48f6-9c36-7a2b4c65f8e3",
   "metadata": {},
   "source": [
    "### Plotting the results"
   ]
  },
  {
   "cell_type": "code",
   "execution_count": 11,
   "id": "7ecefb53-0ec2-45b4-ade4-1a2ca935aa36",
   "metadata": {},
   "outputs": [
    {
     "data": {
      "image/png": "[encoded data removed]",
      "text/plain": [
       "<Figure size 1400x500 with 1 Axes>"
      ]
     },
     "metadata": {},
     "output_type": "display_data"
    }
   ],
   "source": [
    "fig, ax = plt.subplots(1, 1, figsize=(14, 5))\n",
    "\n",
    "\n",
    "ax.scatter(x, y, marker=\"o\", c=\"dodgerblue\", edgecolor=\"k\", label=\"Initial Values\")\n",
    "\n",
    "ax.plot(x, y_poly2, c=\"black\", label=\"Degree 2\", linestyle=\"--\")\n",
    "ax.plot(x, y_poly4, c=\"orange\", label=\"Degree 4\", linestyle=\"-.\")\n",
    "ax.plot(x, y_poly6, c=\"green\", label=\"Degree 6\", linestyle=\":\")\n",
    "\n",
    "ax.legend();"
   ]
  },
  {
   "cell_type": "markdown",
   "id": "36603f36-7054-49f2-b9e5-fae726dcc978",
   "metadata": {},
   "source": [
    "# Model Evauluation"
   ]
  },
  {
   "cell_type": "code",
   "execution_count": 12,
   "id": "4e6d1bf4-06b5-4918-993c-410979a2a588",
   "metadata": {},
   "outputs": [],
   "source": [
    "def evaluate_result(y_actual, y_pred):\n",
    "    \"\"\"\n",
    "    Evaluate the result based on several cost functions\n",
    "\n",
    "    Paramaters\n",
    "    ----------\n",
    "    y_actual: Pandas Series\n",
    "    y_pred: Pandas Series\n",
    "\n",
    "    Returns\n",
    "    -------\n",
    "    Pandas DataFrame\n",
    "    \n",
    "    \"\"\"\n",
    "    predictions = []\n",
    "\n",
    "    predictions.append(mean_squared_error(y_actual, y_pred))\n",
    "    predictions.append(mean_absolute_error(y_actual, y_pred))\n",
    "    predictions.append(r2_score(y_actual, y_pred))\n",
    "\n",
    "    return pd.DataFrame(predictions, index=[\"MSE\", \"MAE\", \"R2\"], columns=[\"Result\"]).T"
   ]
  },
  {
   "cell_type": "markdown",
   "id": "d3413331-0a10-4095-be59-89c09e8a588e",
   "metadata": {},
   "source": [
    "## Cost Functions\n",
    "\n",
    "### Mean Squared Error (MSE)\n",
    "**Definition:** MSE measures the average of the squares of the errors—that is, the average squared difference between the actual values and the predicted values.\n",
    "\n",
    "**Formula:** $$ \\text{MSE} = \\frac{1}{n} \\sum_{i=1}^{n} (y_i - \\hat{y}_i)^2 $$\n",
    "\n",
    "**Interpretation:** Since the errors are squared, larger errors have a more significant impact on the MSE. This makes MSE sensitive to outliers.\n",
    "\n",
    "**Use Cases:** MSE is often used in regression analysis because it heavily penalizes larger errors, making it ideal when you want to emphasize large mistakes.\n",
    "\n",
    "### Mean Absolute Error (MAE)\n",
    "**Definition:** MAE measures the average of the absolute differences between the actual values and the predicted values.\n",
    "\n",
    "**Formula:** $$ \\text{MAE} = \\frac{1}{n} \\sum_{i=1}^{n} |y_i - \\hat{y}_i| $$\n",
    "\n",
    "**Interpretation:** MAE is less sensitive to outliers than MSE because it treats all errors equally.\n",
    "\n",
    "**Use Cases:** MAE is useful when you want a straightforward measure of average model error without disproportionately penalizing larger errors.\n",
    "\n",
    "### R-squared (R²)\n",
    "**Definition:** R², also known as the coefficient of determination, measures the proportion of the variance in the dependent variable that is predictable from the independent variable(s).\n",
    "\n",
    "Formula:** $$ R^2 = 1 - \\frac{\\sum_{i=1}^{n} (y_i - \\hat{y}i)^2}{\\sum{i=1}^{n} (y_i - \\bar{y})^2} $$\n",
    "\n",
    "**Where** \n",
    "y\n",
    "ˉ\n",
    " is the mean of the actual values.\n",
    "\n",
    "**Interpretation:** R² values range from 0 to 1. A higher R² indicates a better fit, meaning more of the variance is explained by the model.\n",
    "\n",
    "**Use Cases:** R² is often used to assess the goodness of fit for regression models. It's particularly useful when comparing different models to see which one better explains the variability in the data."
   ]
  },
  {
   "cell_type": "markdown",
   "id": "cc29964a-c173-459d-8ddd-200cc6f3b449",
   "metadata": {},
   "source": [
    "## Results"
   ]
  },
  {
   "cell_type": "markdown",
   "id": "3d16cb24-7f71-4855-96c1-321671209f5c",
   "metadata": {},
   "source": [
    "### Polyfit (Deg=2)"
   ]
  },
  {
   "cell_type": "code",
   "execution_count": 13,
   "id": "3b66d8b2-7a1c-4100-9309-b0b8c203ac62",
   "metadata": {},
   "outputs": [
    {
     "data": {
      "text/html": [
       "<div>\n",
       "<style scoped>\n",
       "    .dataframe tbody tr th:only-of-type {\n",
       "        vertical-align: middle;\n",
       "    }\n",
       "\n",
       "    .dataframe tbody tr th {\n",
       "        vertical-align: top;\n",
       "    }\n",
       "\n",
       "    .dataframe thead th {\n",
       "        text-align: right;\n",
       "    }\n",
       "</style>\n",
       "<table border=\"1\" class=\"dataframe\">\n",
       "  <thead>\n",
       "    <tr style=\"text-align: right;\">\n",
       "      <th></th>\n",
       "      <th>MSE</th>\n",
       "      <th>MAE</th>\n",
       "      <th>R2</th>\n",
       "    </tr>\n",
       "  </thead>\n",
       "  <tbody>\n",
       "    <tr>\n",
       "      <th>Result</th>\n",
       "      <td>1.547459</td>\n",
       "      <td>1.113124</td>\n",
       "      <td>0.30953</td>\n",
       "    </tr>\n",
       "  </tbody>\n",
       "</table>\n",
       "</div>"
      ],
      "text/plain": [
       "             MSE       MAE       R2\n",
       "Result  1.547459  1.113124  0.30953"
      ]
     },
     "execution_count": 13,
     "metadata": {},
     "output_type": "execute_result"
    }
   ],
   "source": [
    "evaluate_result(y, y_poly2)"
   ]
  },
  {
   "cell_type": "markdown",
   "id": "3bf5c592-e27a-46ea-876d-5293006d2aa1",
   "metadata": {},
   "source": [
    "### Polyfit (Deg=4)"
   ]
  },
  {
   "cell_type": "code",
   "execution_count": 14,
   "id": "07a304de-0f09-48d6-b921-4d1cdd4f560b",
   "metadata": {},
   "outputs": [
    {
     "data": {
      "text/html": [
       "<div>\n",
       "<style scoped>\n",
       "    .dataframe tbody tr th:only-of-type {\n",
       "        vertical-align: middle;\n",
       "    }\n",
       "\n",
       "    .dataframe tbody tr th {\n",
       "        vertical-align: top;\n",
       "    }\n",
       "\n",
       "    .dataframe thead th {\n",
       "        text-align: right;\n",
       "    }\n",
       "</style>\n",
       "<table border=\"1\" class=\"dataframe\">\n",
       "  <thead>\n",
       "    <tr style=\"text-align: right;\">\n",
       "      <th></th>\n",
       "      <th>MSE</th>\n",
       "      <th>MAE</th>\n",
       "      <th>R2</th>\n",
       "    </tr>\n",
       "  </thead>\n",
       "  <tbody>\n",
       "    <tr>\n",
       "      <th>Result</th>\n",
       "      <td>0.298059</td>\n",
       "      <td>0.46877</td>\n",
       "      <td>0.867007</td>\n",
       "    </tr>\n",
       "  </tbody>\n",
       "</table>\n",
       "</div>"
      ],
      "text/plain": [
       "             MSE      MAE        R2\n",
       "Result  0.298059  0.46877  0.867007"
      ]
     },
     "execution_count": 14,
     "metadata": {},
     "output_type": "execute_result"
    }
   ],
   "source": [
    "evaluate_result(y, y_poly4)"
   ]
  },
  {
   "cell_type": "markdown",
   "id": "8ffb0f67-9612-485d-aa12-2893a7a539ca",
   "metadata": {},
   "source": [
    "### Polyfit (Deg=6)"
   ]
  },
  {
   "cell_type": "code",
   "execution_count": 15,
   "id": "d8c4cd61-8894-4259-a278-6436075f08b3",
   "metadata": {},
   "outputs": [
    {
     "data": {
      "text/html": [
       "<div>\n",
       "<style scoped>\n",
       "    .dataframe tbody tr th:only-of-type {\n",
       "        vertical-align: middle;\n",
       "    }\n",
       "\n",
       "    .dataframe tbody tr th {\n",
       "        vertical-align: top;\n",
       "    }\n",
       "\n",
       "    .dataframe thead th {\n",
       "        text-align: right;\n",
       "    }\n",
       "</style>\n",
       "<table border=\"1\" class=\"dataframe\">\n",
       "  <thead>\n",
       "    <tr style=\"text-align: right;\">\n",
       "      <th></th>\n",
       "      <th>MSE</th>\n",
       "      <th>MAE</th>\n",
       "      <th>R2</th>\n",
       "    </tr>\n",
       "  </thead>\n",
       "  <tbody>\n",
       "    <tr>\n",
       "      <th>Result</th>\n",
       "      <td>0.031558</td>\n",
       "      <td>0.123712</td>\n",
       "      <td>0.985919</td>\n",
       "    </tr>\n",
       "  </tbody>\n",
       "</table>\n",
       "</div>"
      ],
      "text/plain": [
       "             MSE       MAE        R2\n",
       "Result  0.031558  0.123712  0.985919"
      ]
     },
     "execution_count": 15,
     "metadata": {},
     "output_type": "execute_result"
    }
   ],
   "source": [
    "evaluate_result(y, y_poly6)"
   ]
  },
  {
   "cell_type": "markdown",
   "id": "d52bca67-f781-48cf-ae79-e6d2a64ef2e6",
   "metadata": {},
   "source": [
    "## Choosing the Right Cost Function:\n",
    "\n",
    "### MSE:\n",
    "\n",
    "**Best for:** Scenarios where larger errors should be heavily penalized. It’s ideal when the cost of large errors is particularly high (e.g., financial forecasting).\n",
    "\n",
    "**Avoid if:** Your data has many outliers, as they will have a significant impact on the MSE.\n",
    "\n",
    "### MAE:\n",
    "\n",
    "**Best for:** Cases where you want a more interpretable error metric that is robust to outliers. It’s suitable for applications where all errors should be treated equally.\n",
    "\n",
    "**Avoid if:** You need a metric that emphasizes larger errors more significantly.\n",
    "\n",
    "### R²:\n",
    "\n",
    "**Best for:** Assessing how well your model explains the variability of the data, particularly useful in comparison between different models.\n",
    "\n",
    "**Avoid if:** You're dealing with non-linear models or cases where a high R² doesn’t necessarily mean a good predictive performance (always validate with additional metrics)."
   ]
  },
  {
   "cell_type": "markdown",
   "id": "99ff2778-5917-49b6-8d76-79d2714986ad",
   "metadata": {},
   "source": [
    "## Summary:\n",
    "\n",
    "**MSE:** Sensitive to outliers, emphasizes large errors.\n",
    "\n",
    "**MAE:** Treats all errors equally, robust to outliers.\n",
    "\n",
    "**R²:** Measures explanatory power, useful for model comparison."
   ]
  }
 ],
 "metadata": {
  "kernelspec": {
   "display_name": "Python 3 (ipykernel)",
   "language": "python",
   "name": "python3"
  },
  "language_info": {
   "codemirror_mode": {
    "name": "ipython",
    "version": 3
   },
   "file_extension": ".py",
   "mimetype": "text/x-python",
   "name": "python",
   "nbconvert_exporter": "python",
   "pygments_lexer": "ipython3",
   "version": "3.12.7"
  }
 },
 "nbformat": 4,
 "nbformat_minor": 5
}
