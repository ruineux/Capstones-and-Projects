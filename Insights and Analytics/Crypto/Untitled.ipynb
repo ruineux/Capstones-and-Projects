{
 "cells": [
  {
   "cell_type": "code",
   "execution_count": 4,
   "metadata": {},
   "outputs": [],
   "source": [
    "import numpy as np\n",
    "import matplotlib.pyplot as plt\n",
    "import pandas as pd"
   ]
  },
  {
   "cell_type": "markdown",
   "metadata": {},
   "source": [
    "# Standards\n",
    "\n",
    "- ## NLP\n",
    "  - ### EDA NLP\n",
    "  - ### Unigram analysis using LDA\n",
    "  - ### Bigram analysis using LDA\n",
    "- ## CLASSIFICATION PROBLEM\n",
    "- ## REGRESSION PROBLEM"
   ]
  },
  {
   "cell_type": "markdown",
   "metadata": {},
   "source": [
    "# NLP"
   ]
  },
  {
   "cell_type": "markdown",
   "metadata": {},
   "source": [
    "## Usual Dependencies"
   ]
  },
  {
   "cell_type": "code",
   "execution_count": null,
   "metadata": {},
   "outputs": [],
   "source": [
    "#Standards\n",
    "import numpy as np\n",
    "import pandas as pd\n",
    "\n",
    "#For preprocessing Note: \n",
    "import re  \n",
    "from nltk.stem import WordNetLemmatizer\n",
    "from gensim.utils import simple_preprocess\n",
    "from gensim.parsing.preprocessing import STOPWORDS\n",
    "\n",
    "#For Modeling and Visualizing the result\n",
    "import pyLDAvis.gensim\n",
    "import gensim\n",
    "from gensim import corpora # for creating dictionary\n",
    "from gensim import models # topic modeler\n",
    "from gensim.utils import simple_preprocess\n",
    "\n",
    "#EDA related\n",
    "import matplotlib.pyplot as plt\n",
    "from sklearn.feature_extraction.text import CountVectorizer\n",
    "import spacy\n",
    "\n",
    "#Just to keep you sane\n",
    "import warnings\n",
    "warnings.filterwarnings(\"ignore\")"
   ]
  },
  {
   "cell_type": "markdown",
   "metadata": {},
   "source": [
    "### EDA NLP"
   ]
  },
  {
   "cell_type": "markdown",
   "metadata": {},
   "source": [
    "#### Using Count Vectorizer to get top words (frequency) in a series"
   ]
  },
  {
   "cell_type": "code",
   "execution_count": null,
   "metadata": {},
   "outputs": [],
   "source": [
    "count_vectorizer = CountVectorizer(stop_words = \"english\")"
   ]
  },
  {
   "cell_type": "code",
   "execution_count": 10,
   "metadata": {},
   "outputs": [],
   "source": [
    "def get_top_n_words(n_top_words, count_vectorizer, text_data):\n",
    "    \"\"\"\n",
    "    n_top_words : Enter n number of words to get\n",
    "    count_vectorizer : CountVectorizer params\n",
    "    text_data : Series of text\n",
    "    \n",
    "    returns : words(actual words), word_values(number of occurance)\n",
    "    \"\"\"\n",
    "    \n",
    "    vectorized_headlines = count_vectorizer.fit_transform((text_data.values))\n",
    "    \n",
    "    vectorized_total = np.sum(vectorized_headlines, axis = 0)\n",
    "    word_indices = np.flip(np.argsort(vectorized_total)[0,:], 1)\n",
    "    word_values = np.flip(np.sort(vectorized_total)[0,:],1)\n",
    "    \n",
    "    word_vectors = np.zeros((n_top_words, vectorized_headlines.shape[1]))\n",
    "    for i in range(n_top_words):\n",
    "        word_vectors[i,word_indices[0,i]] = 1\n",
    "    \n",
    "    \n",
    "    words = [word[0].encode(\"ascii\").decode(\"utf-8\") for word in count_vectorizer.inverse_transform(word_vectors)]\n",
    "\n",
    "    return (words, word_values[0,:n_top_words].tolist()[0])"
   ]
  },
  {
   "cell_type": "code",
   "execution_count": null,
   "metadata": {},
   "outputs": [],
   "source": [
    "words, word_values = get_top_n_words(n_top_words = 15,\n",
    "                                     count_vectorizer = count_vectorizer,\n",
    "                                     text_data = data[\"Likelihood to Recommend (NPS) Comment\"].dropna())\n",
    "\n",
    "fig = plt.figure(figsize = (17, 8))\n",
    "ax = fig.add_subplot(111)\n",
    "\n",
    "ax.bar(range(len(words)), word_values, color = \"dodgerblue\")\n",
    "ax.set_xticks(range(len(words)))\n",
    "ax.set_xticklabels(words)\n",
    "ax.set_title(\"Top 15 Words in General\", fontsize = 20)\n",
    "\n",
    "\n",
    "plt.show()"
   ]
  },
  {
   "cell_type": "markdown",
   "metadata": {},
   "source": [
    "#### Named Entity Recognition using Spacy\n",
    "\n",
    "Suppose \"x\" is a series of sentence"
   ]
  },
  {
   "cell_type": "code",
   "execution_count": null,
   "metadata": {},
   "outputs": [],
   "source": [
    "nlp = spacy.load(\"en_core_web_lg\")"
   ]
  },
  {
   "cell_type": "code",
   "execution_count": null,
   "metadata": {},
   "outputs": [],
   "source": [
    "def get_entity(sentence):\n",
    "    entity_text = []\n",
    "    entity_label = []\n",
    "    \n",
    "    sen = nlp(sentence)\n",
    "    \n",
    "    for entity in sen.ents:\n",
    "        \n",
    "        entity_text.append(entity.text)\n",
    "        entity_label.append(entity.label_)\n",
    "        \n",
    "    \n",
    "    return entity_text, entity_label"
   ]
  },
  {
   "cell_type": "code",
   "execution_count": null,
   "metadata": {},
   "outputs": [],
   "source": [
    "doc_entities = [get_entity(v) for v in x]"
   ]
  },
  {
   "cell_type": "code",
   "execution_count": null,
   "metadata": {},
   "outputs": [],
   "source": [
    "def entity_cleaner(get_ent_data):\n",
    "    \n",
    "    list_word_entities_docs = []\n",
    "    for idx, (list_word, list_label) in enumerate(get_ent_data):\n",
    "        if len(list_word) > 0:\n",
    "            for word, label in zip(list_word, list_label):\n",
    "                list_word_entities_docs.append((word, label, idx))\n",
    "                \n",
    "    return pd.DataFrame(list_word_entities_docs, columns=[\"Word\", \"Label\", \"Index\"])"
   ]
  },
  {
   "cell_type": "code",
   "execution_count": null,
   "metadata": {},
   "outputs": [],
   "source": [
    "df_word_entities_docs = entity_cleaner(doc_entities)"
   ]
  },
  {
   "cell_type": "code",
   "execution_count": null,
   "metadata": {},
   "outputs": [],
   "source": [
    "df_word_entities_docs.head()"
   ]
  },
  {
   "cell_type": "markdown",
   "metadata": {},
   "source": [
    "### Unigram analysis using LDA"
   ]
  },
  {
   "cell_type": "markdown",
   "metadata": {},
   "source": [
    "#### Preprocessing"
   ]
  },
  {
   "cell_type": "markdown",
   "metadata": {},
   "source": [
    "##### Route 1"
   ]
  },
  {
   "cell_type": "code",
   "execution_count": null,
   "metadata": {},
   "outputs": [],
   "source": [
    "def lemmatize_stemming(word):\n",
    "    \"\"\"\n",
    "    Accepts a word and transforms it into stemmed and lemmatized\n",
    "    \n",
    "    :returns: lemmatized and stemmed word\n",
    "    \"\"\"\n",
    "    return WordNetLemmatizer().lemmatize(word, pos = \"v\")\n",
    "\n",
    "def preprocess(sentence):\n",
    "    \"\"\"\n",
    "    Tokenizes the words in a string and removes the stopwords\n",
    "    \n",
    "    :returns: returns a list with lemmatized & stemmed tokenized words\n",
    "    \"\"\"\n",
    "    \n",
    "    result = []\n",
    "    for token in gensim.utils.simple_preprocess(sentence):\n",
    "        if isinstance(token, str) == True:\n",
    "            if token not in gensim.parsing.preprocessing.STOPWORDS and len(token) > 3:\n",
    "                result.append(lemmatize_stemming(token))\n",
    "    return result"
   ]
  },
  {
   "cell_type": "code",
   "execution_count": null,
   "metadata": {},
   "outputs": [],
   "source": [
    "processed_docs = x.map(preprocess)"
   ]
  },
  {
   "cell_type": "markdown",
   "metadata": {},
   "source": [
    "##### Route 2"
   ]
  },
  {
   "cell_type": "code",
   "execution_count": null,
   "metadata": {},
   "outputs": [],
   "source": [
    "nlp = spacy.load(\"en_core_web_lg\", disable=[\"ner\", \"parser\"]) #<- Removes named entity recognition and parser"
   ]
  },
  {
   "cell_type": "code",
   "execution_count": null,
   "metadata": {},
   "outputs": [],
   "source": [
    "def lemma_stop(doc):\n",
    "    \"\"\"\n",
    "    Lemmatizes and removes the stop words\n",
    "    \"\"\"\n",
    "\n",
    "    txt = [token.lemma_ for token in doc if not token.is_stop] \n",
    "\n",
    "    if len(txt) > 2:\n",
    "        return \" \".join(txt) #adds spaces in between the text that was lemmatized"
   ]
  },
  {
   "cell_type": "code",
   "execution_count": null,
   "metadata": {},
   "outputs": [],
   "source": [
    "brief_cleaning = (re.sub(\"[^A-Za-z']+\", \" \", str(row)).lower() for row in clean_data[\"Likelihood to Recommend (NPS) Comment\"])\n",
    "\n",
    "processed_docs = [lemma_stop(doc) for doc in nlp.pipe(brief_cleaning, batch_size=5000, n_threads=-1)] #applying the function, removes the stop words and lemmatize"
   ]
  },
  {
   "cell_type": "markdown",
   "metadata": {},
   "source": [
    "#### Creating a dictionary"
   ]
  },
  {
   "cell_type": "code",
   "execution_count": null,
   "metadata": {},
   "outputs": [],
   "source": [
    "dictionary = corpora.Dictionary(processed_docs)"
   ]
  },
  {
   "cell_type": "code",
   "execution_count": null,
   "metadata": {},
   "outputs": [],
   "source": [
    "count = 0\n",
    "for a, b in dictionary.iteritems():\n",
    "    print(a, b)\n",
    "    count += 1\n",
    "    \n",
    "    \n",
    "    if count > 10:\n",
    "        break"
   ]
  },
  {
   "cell_type": "code",
   "execution_count": null,
   "metadata": {},
   "outputs": [],
   "source": [
    "dictionary.filter_extremes(no_below = 2, keep_n = 10000) #When you're trying to control the content"
   ]
  },
  {
   "cell_type": "markdown",
   "metadata": {},
   "source": [
    "#### Creating bag of words corpus"
   ]
  },
  {
   "cell_type": "code",
   "execution_count": null,
   "metadata": {},
   "outputs": [],
   "source": [
    "bow_corpus = [dictionary.doc2bow(doc) for doc in processed_docs]"
   ]
  },
  {
   "cell_type": "code",
   "execution_count": null,
   "metadata": {},
   "outputs": [],
   "source": [
    "bow_doc = bow_corpus[1]\n",
    "\n",
    "for i in range(len(bow_doc)):\n",
    "    print(\"Word {} (\\\"{}\\\") appears {} time.\".format(bow_doc[i][0],\n",
    "                                                     dictionary[bow_doc[i][0]],\n",
    "                                                     bow_doc[i][1]))"
   ]
  },
  {
   "cell_type": "markdown",
   "metadata": {},
   "source": [
    "#### Modeling using LDA"
   ]
  },
  {
   "cell_type": "code",
   "execution_count": null,
   "metadata": {},
   "outputs": [],
   "source": [
    "n_topics = 5\n",
    "\n",
    "lda = models.LdaMulticore(bow_corpus, num_topics = n_topics, id2word = dictionary, passes = 10, workers = 1, random_state = 0)"
   ]
  },
  {
   "cell_type": "markdown",
   "metadata": {},
   "source": [
    "#### Visualizing using pyLDAvis"
   ]
  },
  {
   "cell_type": "code",
   "execution_count": null,
   "metadata": {},
   "outputs": [],
   "source": [
    "pyLDAvis.enable_notebook()\n",
    "vis = pyLDAvis.gensim.prepare(lda, bow_corpus, dictionary)\n",
    "vis"
   ]
  },
  {
   "cell_type": "markdown",
   "metadata": {},
   "source": [
    "### Bigram analysis using LDA\n",
    "\n",
    "Where \"x\" is the series of data "
   ]
  },
  {
   "cell_type": "code",
   "execution_count": null,
   "metadata": {},
   "outputs": [],
   "source": [
    "def list_to_sentence(bigram_data):\n",
    "\n",
    "    return \" \".join(word for word in bigram_data)"
   ]
  },
  {
   "cell_type": "code",
   "execution_count": null,
   "metadata": {},
   "outputs": [],
   "source": [
    "# Create Unigram\n",
    "bigram_data = x\n",
    "bigram_data = bigram_data.map(preprocess)\n",
    "unigram_data = bigram_data\n",
    "\n",
    "# Create Bigram\n",
    "bigram_data = bigram_data.map(list_to_sentence)\n",
    "bigram_data = bigram_data.str.findall(r\"(?=(\\b\\w+\\b \\S+))\")"
   ]
  },
  {
   "cell_type": "code",
   "execution_count": null,
   "metadata": {},
   "outputs": [],
   "source": [
    "combined_data = bigram_data + unigram_data #combines the list of bigram and unigram into one list"
   ]
  },
  {
   "cell_type": "markdown",
   "metadata": {},
   "source": [
    "#### Creating bigram dictionary"
   ]
  },
  {
   "cell_type": "code",
   "execution_count": null,
   "metadata": {},
   "outputs": [],
   "source": [
    "dictionary_bigram = corpora.Dictionary(combined_data)"
   ]
  },
  {
   "cell_type": "code",
   "execution_count": null,
   "metadata": {},
   "outputs": [],
   "source": [
    "dictionary_bigram.filter_extremes(no_below = 2, keep_n = 10000)"
   ]
  },
  {
   "cell_type": "markdown",
   "metadata": {},
   "source": [
    "#### Creating bigram bag of words"
   ]
  },
  {
   "cell_type": "code",
   "execution_count": null,
   "metadata": {},
   "outputs": [],
   "source": [
    "bow_corpus_bigram = [dictionary_bigram.doc2bow(doc) for doc in combined_data]"
   ]
  },
  {
   "cell_type": "markdown",
   "metadata": {},
   "source": [
    "#### Modeling using LDA"
   ]
  },
  {
   "cell_type": "code",
   "execution_count": null,
   "metadata": {},
   "outputs": [],
   "source": [
    "pyLDAvis.enable_notebook()\n",
    "vis = pyLDAvis.gensim.prepare(lda_model_bigram, bow_corpus_bigram, dictionary_bigram)\n",
    "vis"
   ]
  },
  {
   "cell_type": "markdown",
   "metadata": {},
   "source": [
    "#### Visualizing using pyLDAvis"
   ]
  },
  {
   "cell_type": "code",
   "execution_count": null,
   "metadata": {},
   "outputs": [],
   "source": [
    "pyLDAvis.enable_notebook()\n",
    "vis = pyLDAvis.gensim.prepare(lda_model_bigram, bow_corpus_bigram, dictionary_bigram)\n",
    "vis"
   ]
  },
  {
   "cell_type": "markdown",
   "metadata": {},
   "source": [
    "------------------------------------------------------------"
   ]
  },
  {
   "cell_type": "code",
   "execution_count": 1,
   "metadata": {},
   "outputs": [],
   "source": [
    "a = []"
   ]
  },
  {
   "cell_type": "code",
   "execution_count": 2,
   "metadata": {},
   "outputs": [
    {
     "data": {
      "text/plain": [
       "list"
      ]
     },
     "execution_count": 2,
     "metadata": {},
     "output_type": "execute_result"
    }
   ],
   "source": [
    "type(a)"
   ]
  },
  {
   "cell_type": "code",
   "execution_count": 7,
   "metadata": {},
   "outputs": [],
   "source": [
    "assert type(a) == list"
   ]
  },
  {
   "cell_type": "code",
   "execution_count": 24,
   "metadata": {},
   "outputs": [],
   "source": [
    "s1 = pd.DataFrame([1,2,3,4], columns = [\"Test\"])"
   ]
  },
  {
   "cell_type": "code",
   "execution_count": 25,
   "metadata": {},
   "outputs": [
    {
     "data": {
      "text/plain": [
       "dtype('int64')"
      ]
     },
     "execution_count": 25,
     "metadata": {},
     "output_type": "execute_result"
    }
   ],
   "source": [
    "dtype(s1[\"Test\"])"
   ]
  },
  {
   "cell_type": "code",
   "execution_count": 26,
   "metadata": {},
   "outputs": [
    {
     "ename": "AssertionError",
     "evalue": "",
     "output_type": "error",
     "traceback": [
      "\u001b[1;31m---------------------------------------------------------------------------\u001b[0m",
      "\u001b[1;31mAssertionError\u001b[0m                            Traceback (most recent call last)",
      "\u001b[1;32m<ipython-input-26-62204a4270a7>\u001b[0m in \u001b[0;36m<module>\u001b[1;34m()\u001b[0m\n\u001b[1;32m----> 1\u001b[1;33m \u001b[1;32massert\u001b[0m \u001b[0mdtype\u001b[0m\u001b[1;33m(\u001b[0m\u001b[0ms1\u001b[0m\u001b[1;33m[\u001b[0m\u001b[1;34m\"Test\"\u001b[0m\u001b[1;33m]\u001b[0m\u001b[1;33m)\u001b[0m \u001b[1;33m==\u001b[0m \u001b[1;34m\"O\"\u001b[0m\u001b[1;33m\u001b[0m\u001b[0m\n\u001b[0m",
      "\u001b[1;31mAssertionError\u001b[0m: "
     ]
    }
   ],
   "source": [
    "assert dtype(s1[\"Test\"]) == \"O\""
   ]
  },
  {
   "cell_type": "code",
   "execution_count": 14,
   "metadata": {},
   "outputs": [
    {
     "ename": "TypeError",
     "evalue": "data type not understood",
     "output_type": "error",
     "traceback": [
      "\u001b[1;31m---------------------------------------------------------------------------\u001b[0m",
      "\u001b[1;31mTypeError\u001b[0m                                 Traceback (most recent call last)",
      "\u001b[1;32m<ipython-input-14-8d7a9893999e>\u001b[0m in \u001b[0;36m<module>\u001b[1;34m()\u001b[0m\n\u001b[1;32m----> 1\u001b[1;33m \u001b[0mdtype\u001b[0m\u001b[1;33m(\u001b[0m\u001b[0ms1\u001b[0m\u001b[1;33m)\u001b[0m\u001b[1;33m\u001b[0m\u001b[0m\n\u001b[0m",
      "\u001b[1;31mTypeError\u001b[0m: data type not understood"
     ]
    }
   ],
   "source": [
    "dtype(s1)"
   ]
  },
  {
   "cell_type": "code",
   "execution_count": 11,
   "metadata": {},
   "outputs": [
    {
     "data": {
      "text/plain": [
       "0     True\n",
       "1    False\n",
       "2    False\n",
       "3    False\n",
       "dtype: bool"
      ]
     },
     "execution_count": 11,
     "metadata": {},
     "output_type": "execute_result"
    }
   ],
   "source": [
    "s1.str.isalpha()"
   ]
  },
  {
   "cell_type": "code",
   "execution_count": null,
   "metadata": {},
   "outputs": [],
   "source": [
    "pd.read_json()"
   ]
  },
  {
   "cell_type": "code",
   "execution_count": null,
   "metadata": {},
   "outputs": [],
   "source": []
  },
  {
   "cell_type": "code",
   "execution_count": 40,
   "metadata": {},
   "outputs": [],
   "source": [
    "args1 = \"psi\"\n",
    "args2 = 'lavr'\n",
    "args3 = 'dsc'\n",
    "args4 = 'ifsc'\n",
    "args5 = 'ics'\n",
    "args6 = 'eng'\n",
    "args7 = 'ol1'\n",
    "args8 = 'ol2'\n",
    "args9 = 'reso'\n",
    "args10 = 'educ'\n",
    "args11 = 'listen'\n",
    "args12 = 'time'\n",
    "args13 = 'probe'\n",
    "args14 = 'unders'\n",
    "\n",
    "args_list = [args1, args2, args3, args4, args5, args6, args7, args8, args9, args10, args11, args12, args13, args14]"
   ]
  },
  {
   "cell_type": "code",
   "execution_count": 45,
   "metadata": {},
   "outputs": [],
   "source": [
    "a = pd.DataFrame(arg_list, index = arg_list).T"
   ]
  },
  {
   "cell_type": "code",
   "execution_count": 41,
   "metadata": {},
   "outputs": [],
   "source": [
    "a.columns = args_list"
   ]
  },
  {
   "cell_type": "code",
   "execution_count": 47,
   "metadata": {},
   "outputs": [
    {
     "data": {
      "text/plain": [
       "(1, 14)"
      ]
     },
     "execution_count": 47,
     "metadata": {},
     "output_type": "execute_result"
    }
   ],
   "source": [
    "a.shape"
   ]
  },
  {
   "cell_type": "code",
   "execution_count": 51,
   "metadata": {},
   "outputs": [],
   "source": [
    "b = {\"Nesting_Quality_Prediction\":[1,0],\"Nesting_AHT_Prediction\":[1,0],\"Nesting_DSAT_Prediction\":[1,0],\"30_Days_Quality_Prediction\":[1,0],\"30_Days_AHT_Prediction\":[1,0],\"30_Days_DSAT_Prediction\":[1,0]}"
   ]
  },
  {
   "cell_type": "code",
   "execution_count": 52,
   "metadata": {},
   "outputs": [
    {
     "data": {
      "text/plain": [
       "dict"
      ]
     },
     "execution_count": 52,
     "metadata": {},
     "output_type": "execute_result"
    }
   ],
   "source": [
    "type(b)"
   ]
  },
  {
   "cell_type": "code",
   "execution_count": 53,
   "metadata": {},
   "outputs": [
    {
     "data": {
      "text/plain": [
       "{'Nesting_Quality_Prediction': [1, 0],\n",
       " 'Nesting_AHT_Prediction': [1, 0],\n",
       " 'Nesting_DSAT_Prediction': [1, 0],\n",
       " '30_Days_Quality_Prediction': [1, 0],\n",
       " '30_Days_AHT_Prediction': [1, 0],\n",
       " '30_Days_DSAT_Prediction': [1, 0]}"
      ]
     },
     "execution_count": 53,
     "metadata": {},
     "output_type": "execute_result"
    }
   ],
   "source": [
    "b"
   ]
  },
  {
   "cell_type": "code",
   "execution_count": 57,
   "metadata": {},
   "outputs": [
    {
     "ename": "ValueError",
     "evalue": "Invalid file path or buffer object type: <class 'dict'>",
     "output_type": "error",
     "traceback": [
      "\u001b[1;31m---------------------------------------------------------------------------\u001b[0m",
      "\u001b[1;31mValueError\u001b[0m                                Traceback (most recent call last)",
      "\u001b[1;32m<ipython-input-57-b88a5ef48f8c>\u001b[0m in \u001b[0;36m<module>\u001b[1;34m()\u001b[0m\n\u001b[0;32m      4\u001b[0m  \u001b[1;34m'30_Days_Quality_Prediction'\u001b[0m\u001b[1;33m:\u001b[0m \u001b[1;33m[\u001b[0m\u001b[1;36m1\u001b[0m\u001b[1;33m,\u001b[0m \u001b[1;36m0\u001b[0m\u001b[1;33m]\u001b[0m\u001b[1;33m,\u001b[0m\u001b[1;33m\u001b[0m\u001b[0m\n\u001b[0;32m      5\u001b[0m  \u001b[1;34m'30_Days_AHT_Prediction'\u001b[0m\u001b[1;33m:\u001b[0m \u001b[1;33m[\u001b[0m\u001b[1;36m1\u001b[0m\u001b[1;33m,\u001b[0m \u001b[1;36m0\u001b[0m\u001b[1;33m]\u001b[0m\u001b[1;33m,\u001b[0m\u001b[1;33m\u001b[0m\u001b[0m\n\u001b[1;32m----> 6\u001b[1;33m  '30_Days_DSAT_Prediction': [1, 0]}, orient = \"record\")\n\u001b[0m",
      "\u001b[1;32mc:\\programdata\\anaconda3\\lib\\site-packages\\pandas\\io\\json\\json.py\u001b[0m in \u001b[0;36mread_json\u001b[1;34m(path_or_buf, orient, typ, dtype, convert_axes, convert_dates, keep_default_dates, numpy, precise_float, date_unit, encoding, lines, chunksize, compression)\u001b[0m\n\u001b[0;32m    406\u001b[0m     \u001b[0mcompression\u001b[0m \u001b[1;33m=\u001b[0m \u001b[0m_infer_compression\u001b[0m\u001b[1;33m(\u001b[0m\u001b[0mpath_or_buf\u001b[0m\u001b[1;33m,\u001b[0m \u001b[0mcompression\u001b[0m\u001b[1;33m)\u001b[0m\u001b[1;33m\u001b[0m\u001b[0m\n\u001b[0;32m    407\u001b[0m     filepath_or_buffer, _, compression, should_close = get_filepath_or_buffer(\n\u001b[1;32m--> 408\u001b[1;33m         \u001b[0mpath_or_buf\u001b[0m\u001b[1;33m,\u001b[0m \u001b[0mencoding\u001b[0m\u001b[1;33m=\u001b[0m\u001b[0mencoding\u001b[0m\u001b[1;33m,\u001b[0m \u001b[0mcompression\u001b[0m\u001b[1;33m=\u001b[0m\u001b[0mcompression\u001b[0m\u001b[1;33m,\u001b[0m\u001b[1;33m\u001b[0m\u001b[0m\n\u001b[0m\u001b[0;32m    409\u001b[0m     )\n\u001b[0;32m    410\u001b[0m \u001b[1;33m\u001b[0m\u001b[0m\n",
      "\u001b[1;32mc:\\programdata\\anaconda3\\lib\\site-packages\\pandas\\io\\common.py\u001b[0m in \u001b[0;36mget_filepath_or_buffer\u001b[1;34m(filepath_or_buffer, encoding, compression, mode)\u001b[0m\n\u001b[0;32m    216\u001b[0m     \u001b[1;32mif\u001b[0m \u001b[1;32mnot\u001b[0m \u001b[0mis_file_like\u001b[0m\u001b[1;33m(\u001b[0m\u001b[0mfilepath_or_buffer\u001b[0m\u001b[1;33m)\u001b[0m\u001b[1;33m:\u001b[0m\u001b[1;33m\u001b[0m\u001b[0m\n\u001b[0;32m    217\u001b[0m         \u001b[0mmsg\u001b[0m \u001b[1;33m=\u001b[0m \u001b[1;34m\"Invalid file path or buffer object type: {_type}\"\u001b[0m\u001b[1;33m\u001b[0m\u001b[0m\n\u001b[1;32m--> 218\u001b[1;33m         \u001b[1;32mraise\u001b[0m \u001b[0mValueError\u001b[0m\u001b[1;33m(\u001b[0m\u001b[0mmsg\u001b[0m\u001b[1;33m.\u001b[0m\u001b[0mformat\u001b[0m\u001b[1;33m(\u001b[0m\u001b[0m_type\u001b[0m\u001b[1;33m=\u001b[0m\u001b[0mtype\u001b[0m\u001b[1;33m(\u001b[0m\u001b[0mfilepath_or_buffer\u001b[0m\u001b[1;33m)\u001b[0m\u001b[1;33m)\u001b[0m\u001b[1;33m)\u001b[0m\u001b[1;33m\u001b[0m\u001b[0m\n\u001b[0m\u001b[0;32m    219\u001b[0m \u001b[1;33m\u001b[0m\u001b[0m\n\u001b[0;32m    220\u001b[0m     \u001b[1;32mreturn\u001b[0m \u001b[0mfilepath_or_buffer\u001b[0m\u001b[1;33m,\u001b[0m \u001b[1;32mNone\u001b[0m\u001b[1;33m,\u001b[0m \u001b[0mcompression\u001b[0m\u001b[1;33m,\u001b[0m \u001b[1;32mFalse\u001b[0m\u001b[1;33m\u001b[0m\u001b[0m\n",
      "\u001b[1;31mValueError\u001b[0m: Invalid file path or buffer object type: <class 'dict'>"
     ]
    }
   ],
   "source": [
    "pd.read_json({'Nesting_Quality_Prediction': [1, 0],\n",
    " 'Nesting_AHT_Prediction': [1, 0],\n",
    " 'Nesting_DSAT_Prediction': [1, 0],\n",
    " '30_Days_Quality_Prediction': [1, 0],\n",
    " '30_Days_AHT_Prediction': [1, 0],\n",
    " '30_Days_DSAT_Prediction': [1, 0]}, orient = \"record\")"
   ]
  },
  {
   "cell_type": "code",
   "execution_count": 83,
   "metadata": {},
   "outputs": [],
   "source": [
    "a = ['psi', 'lavr', 'dsc', 'ifsc', 'ics', 'eng', 'ol1', 'ol2', 'reso', 'educ', 'listen', 'time', 'probe', 'unders']\n",
    "b = ['1', '1', '1', '1', '1', '3', '1', '1', '1', '1', '1', '1', '1', '1']\n",
    "c = zip(a,b)\n",
    "d = dict(c)"
   ]
  },
  {
   "cell_type": "code",
   "execution_count": 48,
   "metadata": {},
   "outputs": [],
   "source": [
    "PSI = 'Training PSI'\n",
    "LAVR = 'Training LAVR'\n",
    "DSC = 'Training DSC'\n",
    "IFSC = 'Training IFSC'\n",
    "ICSSBT = 'Training ICS-SBT % Score'\n",
    "ENGLISH_ASSESS = 'Training English Assessment % Score'\n",
    "ONLINE_ASSESS = 'Training Online Assessment % Score'\n",
    "ONLINE_ASSESS_RETAKE = 'Training Online Assessment Retake'\n",
    "RESOLUTION = 'Training QM - Correct Resolution (25%)'\n",
    "EDUCATE = 'Training QM - Educate the customer (25%)'\n",
    "LISTENING = 'Training QM - Actively Listening to the customer (12.50%)'\n",
    "TIME = 'Training QM - Time Management (12.50%)'\n",
    "PROBING = 'Training QM - Ask relevant & effective probing question (12.50%)'\n",
    "UNDERSTAND = 'Training QM - Easy to understand (12.50%)'"
   ]
  },
  {
   "cell_type": "code",
   "execution_count": 80,
   "metadata": {},
   "outputs": [
    {
     "data": {
      "text/html": [
       "<div>\n",
       "<style scoped>\n",
       "    .dataframe tbody tr th:only-of-type {\n",
       "        vertical-align: middle;\n",
       "    }\n",
       "\n",
       "    .dataframe tbody tr th {\n",
       "        vertical-align: top;\n",
       "    }\n",
       "\n",
       "    .dataframe thead th {\n",
       "        text-align: right;\n",
       "    }\n",
       "</style>\n",
       "<table border=\"1\" class=\"dataframe\">\n",
       "  <thead>\n",
       "    <tr style=\"text-align: right;\">\n",
       "      <th></th>\n",
       "      <th>0</th>\n",
       "    </tr>\n",
       "  </thead>\n",
       "  <tbody>\n",
       "    <tr>\n",
       "      <th>psi</th>\n",
       "      <td>1</td>\n",
       "    </tr>\n",
       "    <tr>\n",
       "      <th>lavr</th>\n",
       "      <td>1</td>\n",
       "    </tr>\n",
       "    <tr>\n",
       "      <th>dsc</th>\n",
       "      <td>1</td>\n",
       "    </tr>\n",
       "    <tr>\n",
       "      <th>ifsc</th>\n",
       "      <td>1</td>\n",
       "    </tr>\n",
       "    <tr>\n",
       "      <th>ics</th>\n",
       "      <td>1</td>\n",
       "    </tr>\n",
       "    <tr>\n",
       "      <th>eng</th>\n",
       "      <td>3</td>\n",
       "    </tr>\n",
       "    <tr>\n",
       "      <th>ol1</th>\n",
       "      <td>1</td>\n",
       "    </tr>\n",
       "    <tr>\n",
       "      <th>ol2</th>\n",
       "      <td>1</td>\n",
       "    </tr>\n",
       "    <tr>\n",
       "      <th>reso</th>\n",
       "      <td>1</td>\n",
       "    </tr>\n",
       "    <tr>\n",
       "      <th>educ</th>\n",
       "      <td>1</td>\n",
       "    </tr>\n",
       "    <tr>\n",
       "      <th>listen</th>\n",
       "      <td>1</td>\n",
       "    </tr>\n",
       "    <tr>\n",
       "      <th>time</th>\n",
       "      <td>1</td>\n",
       "    </tr>\n",
       "    <tr>\n",
       "      <th>probe</th>\n",
       "      <td>1</td>\n",
       "    </tr>\n",
       "    <tr>\n",
       "      <th>unders</th>\n",
       "      <td>1</td>\n",
       "    </tr>\n",
       "  </tbody>\n",
       "</table>\n",
       "</div>"
      ],
      "text/plain": [
       "        0\n",
       "psi     1\n",
       "lavr    1\n",
       "dsc     1\n",
       "ifsc    1\n",
       "ics     1\n",
       "eng     3\n",
       "ol1     1\n",
       "ol2     1\n",
       "reso    1\n",
       "educ    1\n",
       "listen  1\n",
       "time    1\n",
       "probe   1\n",
       "unders  1"
      ]
     },
     "execution_count": 80,
     "metadata": {},
     "output_type": "execute_result"
    }
   ],
   "source": [
    "asd.replace()"
   ]
  },
  {
   "cell_type": "code",
   "execution_count": 68,
   "metadata": {},
   "outputs": [],
   "source": [
    "asd = pd.DataFrame.from_dict(d, orient = \"index\")\n",
    "\n",
    "index_map = {'psi': PSI, 'lavr': LAVR, 'dsc': DSC, 'ifsc': IFSC, 'ics': ICSSBT,\n",
    "             'eng': ENGLISH_ASSESS, 'ol1': ONLINE_ASSESS, 'ol2': ONLINE_ASSESS_RETAKE,\n",
    "             'reso': RESOLUTION, 'educ': EDUCATE, 'listen': LISTENING, 'time': TIME, 'probe': PROBING, 'unders': UNDERSTAND}"
   ]
  },
  {
   "cell_type": "code",
   "execution_count": 81,
   "metadata": {},
   "outputs": [],
   "source": [
    "asd.index = asd.index.map(index_map)"
   ]
  },
  {
   "cell_type": "code",
   "execution_count": 86,
   "metadata": {},
   "outputs": [],
   "source": [
    "asd = asd.T"
   ]
  },
  {
   "cell_type": "code",
   "execution_count": 87,
   "metadata": {},
   "outputs": [
    {
     "data": {
      "text/html": [
       "<div>\n",
       "<style scoped>\n",
       "    .dataframe tbody tr th:only-of-type {\n",
       "        vertical-align: middle;\n",
       "    }\n",
       "\n",
       "    .dataframe tbody tr th {\n",
       "        vertical-align: top;\n",
       "    }\n",
       "\n",
       "    .dataframe thead th {\n",
       "        text-align: right;\n",
       "    }\n",
       "</style>\n",
       "<table border=\"1\" class=\"dataframe\">\n",
       "  <thead>\n",
       "    <tr style=\"text-align: right;\">\n",
       "      <th></th>\n",
       "      <th>Training PSI</th>\n",
       "      <th>Training LAVR</th>\n",
       "      <th>Training DSC</th>\n",
       "      <th>Training IFSC</th>\n",
       "      <th>Training ICS-SBT % Score</th>\n",
       "      <th>Training English Assessment % Score</th>\n",
       "      <th>Training Online Assessment % Score</th>\n",
       "      <th>Training Online Assessment Retake</th>\n",
       "      <th>Training QM - Correct Resolution (25%)</th>\n",
       "      <th>Training QM - Educate the customer (25%)</th>\n",
       "      <th>Training QM - Actively Listening to the customer (12.50%)</th>\n",
       "      <th>Training QM - Time Management (12.50%)</th>\n",
       "      <th>Training QM - Ask relevant &amp; effective probing question (12.50%)</th>\n",
       "      <th>Training QM - Easy to understand (12.50%)</th>\n",
       "    </tr>\n",
       "  </thead>\n",
       "  <tbody>\n",
       "    <tr>\n",
       "      <th>0</th>\n",
       "      <td>1</td>\n",
       "      <td>1</td>\n",
       "      <td>1</td>\n",
       "      <td>1</td>\n",
       "      <td>1</td>\n",
       "      <td>3</td>\n",
       "      <td>1</td>\n",
       "      <td>1</td>\n",
       "      <td>1</td>\n",
       "      <td>1</td>\n",
       "      <td>1</td>\n",
       "      <td>1</td>\n",
       "      <td>1</td>\n",
       "      <td>1</td>\n",
       "    </tr>\n",
       "  </tbody>\n",
       "</table>\n",
       "</div>"
      ],
      "text/plain": [
       "  Training PSI Training LAVR Training DSC Training IFSC  \\\n",
       "0            1             1            1             1   \n",
       "\n",
       "  Training ICS-SBT % Score Training English Assessment % Score  \\\n",
       "0                        1                                   3   \n",
       "\n",
       "  Training Online Assessment % Score Training Online Assessment Retake  \\\n",
       "0                                  1                                 1   \n",
       "\n",
       "  Training QM - Correct Resolution (25%)  \\\n",
       "0                                      1   \n",
       "\n",
       "  Training QM - Educate the customer (25%)  \\\n",
       "0                                        1   \n",
       "\n",
       "  Training QM - Actively Listening to the customer (12.50%)  \\\n",
       "0                                                  1          \n",
       "\n",
       "  Training QM - Time Management (12.50%)  \\\n",
       "0                                      1   \n",
       "\n",
       "  Training QM - Ask relevant & effective probing question (12.50%)  \\\n",
       "0                                                  1                 \n",
       "\n",
       "  Training QM - Easy to understand (12.50%)  \n",
       "0                                         1  "
      ]
     },
     "execution_count": 87,
     "metadata": {},
     "output_type": "execute_result"
    }
   ],
   "source": [
    "asd"
   ]
  },
  {
   "cell_type": "code",
   "execution_count": 9,
   "metadata": {},
   "outputs": [],
   "source": [
    "a = [1]"
   ]
  },
  {
   "cell_type": "code",
   "execution_count": 12,
   "metadata": {},
   "outputs": [],
   "source": [
    "b = pd.DataFrame(a, index = [\"asd\"])"
   ]
  },
  {
   "cell_type": "code",
   "execution_count": 14,
   "metadata": {},
   "outputs": [
    {
     "data": {
      "text/html": [
       "<div>\n",
       "<style scoped>\n",
       "    .dataframe tbody tr th:only-of-type {\n",
       "        vertical-align: middle;\n",
       "    }\n",
       "\n",
       "    .dataframe tbody tr th {\n",
       "        vertical-align: top;\n",
       "    }\n",
       "\n",
       "    .dataframe thead th {\n",
       "        text-align: right;\n",
       "    }\n",
       "</style>\n",
       "<table border=\"1\" class=\"dataframe\">\n",
       "  <thead>\n",
       "    <tr style=\"text-align: right;\">\n",
       "      <th></th>\n",
       "      <th>asd</th>\n",
       "    </tr>\n",
       "  </thead>\n",
       "  <tbody>\n",
       "    <tr>\n",
       "      <th>0</th>\n",
       "      <td>1</td>\n",
       "    </tr>\n",
       "  </tbody>\n",
       "</table>\n",
       "</div>"
      ],
      "text/plain": [
       "   asd\n",
       "0    1"
      ]
     },
     "execution_count": 14,
     "metadata": {},
     "output_type": "execute_result"
    }
   ],
   "source": [
    "b.T"
   ]
  },
  {
   "cell_type": "code",
   "execution_count": 84,
   "metadata": {},
   "outputs": [],
   "source": [
    "x = pd.read_json(\"accounts.json\")"
   ]
  },
  {
   "cell_type": "code",
   "execution_count": 85,
   "metadata": {},
   "outputs": [
    {
     "data": {
      "text/html": [
       "<div>\n",
       "<style scoped>\n",
       "    .dataframe tbody tr th:only-of-type {\n",
       "        vertical-align: middle;\n",
       "    }\n",
       "\n",
       "    .dataframe tbody tr th {\n",
       "        vertical-align: top;\n",
       "    }\n",
       "\n",
       "    .dataframe thead th {\n",
       "        text-align: right;\n",
       "    }\n",
       "</style>\n",
       "<table border=\"1\" class=\"dataframe\">\n",
       "  <thead>\n",
       "    <tr style=\"text-align: right;\">\n",
       "      <th></th>\n",
       "      <th>Department</th>\n",
       "      <th>Id</th>\n",
       "      <th>LOBs</th>\n",
       "      <th>Name</th>\n",
       "    </tr>\n",
       "  </thead>\n",
       "  <tbody>\n",
       "    <tr>\n",
       "      <th>0</th>\n",
       "      <td>Operations</td>\n",
       "      <td>1</td>\n",
       "      <td>[{'Id': 1, 'AccountId': 1, 'Name': 'ADC', 'Sta...</td>\n",
       "      <td>Abbott</td>\n",
       "    </tr>\n",
       "    <tr>\n",
       "      <th>1</th>\n",
       "      <td>Operations</td>\n",
       "      <td>2</td>\n",
       "      <td>[{'Id': 3, 'AccountId': 2, 'Name': 'Chat', 'St...</td>\n",
       "      <td>Ally CS</td>\n",
       "    </tr>\n",
       "    <tr>\n",
       "      <th>2</th>\n",
       "      <td>Operations</td>\n",
       "      <td>3</td>\n",
       "      <td>[{'Id': 6, 'AccountId': 3, 'Name': 'Non Reg â€...</td>\n",
       "      <td>Ameriprise Financials</td>\n",
       "    </tr>\n",
       "    <tr>\n",
       "      <th>3</th>\n",
       "      <td>Operations</td>\n",
       "      <td>4</td>\n",
       "      <td>[{'Id': 13, 'AccountId': 4, 'Name': 'Exception...</td>\n",
       "      <td>Bank of America</td>\n",
       "    </tr>\n",
       "    <tr>\n",
       "      <th>4</th>\n",
       "      <td>Operations</td>\n",
       "      <td>5</td>\n",
       "      <td>[{'Id': 16, 'AccountId': 5, 'Name': 'CCT', 'St...</td>\n",
       "      <td>Capital One Canada</td>\n",
       "    </tr>\n",
       "    <tr>\n",
       "      <th>5</th>\n",
       "      <td>Operations</td>\n",
       "      <td>7</td>\n",
       "      <td>[{'Id': 21, 'AccountId': 7, 'Name': 'CRS', 'St...</td>\n",
       "      <td>Citi</td>\n",
       "    </tr>\n",
       "    <tr>\n",
       "      <th>6</th>\n",
       "      <td>Operations</td>\n",
       "      <td>8</td>\n",
       "      <td>[{'Id': 23, 'AccountId': 8, 'Name': 'Sales', '...</td>\n",
       "      <td>Expedia</td>\n",
       "    </tr>\n",
       "    <tr>\n",
       "      <th>7</th>\n",
       "      <td>Operations</td>\n",
       "      <td>11</td>\n",
       "      <td>[{'Id': 28, 'AccountId': 11, 'Name': 'English'...</td>\n",
       "      <td>Hotelbeds</td>\n",
       "    </tr>\n",
       "    <tr>\n",
       "      <th>8</th>\n",
       "      <td>Operations</td>\n",
       "      <td>12</td>\n",
       "      <td>[{'Id': 31, 'AccountId': 12, 'Name': '6J', 'St...</td>\n",
       "      <td>HP</td>\n",
       "    </tr>\n",
       "    <tr>\n",
       "      <th>9</th>\n",
       "      <td>Operations</td>\n",
       "      <td>13</td>\n",
       "      <td>[{'Id': 33, 'AccountId': 13, 'Name': 'Innovati...</td>\n",
       "      <td>Innovations Team</td>\n",
       "    </tr>\n",
       "    <tr>\n",
       "      <th>10</th>\n",
       "      <td>Operations</td>\n",
       "      <td>14</td>\n",
       "      <td>[{'Id': 34, 'AccountId': 14, 'Name': 'GPS - Ma...</td>\n",
       "      <td>Intel</td>\n",
       "    </tr>\n",
       "    <tr>\n",
       "      <th>11</th>\n",
       "      <td>Operations</td>\n",
       "      <td>18</td>\n",
       "      <td>[{'Id': 39, 'AccountId': 18, 'Name': 'Industry...</td>\n",
       "      <td>Mathworks</td>\n",
       "    </tr>\n",
       "    <tr>\n",
       "      <th>12</th>\n",
       "      <td>Operations</td>\n",
       "      <td>19</td>\n",
       "      <td>[{'Id': 43, 'AccountId': 19, 'Name': 'MCQ Flas...</td>\n",
       "      <td>MCQ BFS</td>\n",
       "    </tr>\n",
       "    <tr>\n",
       "      <th>13</th>\n",
       "      <td>Operations</td>\n",
       "      <td>20</td>\n",
       "      <td>[{'Id': 44, 'AccountId': 20, 'Name': 'Customer...</td>\n",
       "      <td>MCQ CAF</td>\n",
       "    </tr>\n",
       "    <tr>\n",
       "      <th>14</th>\n",
       "      <td>Operations</td>\n",
       "      <td>25</td>\n",
       "      <td>[{'Id': 71, 'AccountId': 25, 'Name': 'Tier 1 E...</td>\n",
       "      <td>Sony ANZ</td>\n",
       "    </tr>\n",
       "    <tr>\n",
       "      <th>15</th>\n",
       "      <td>Operations</td>\n",
       "      <td>27</td>\n",
       "      <td>[{'Id': 76, 'AccountId': 27, 'Name': 'Content ...</td>\n",
       "      <td>Tagged</td>\n",
       "    </tr>\n",
       "    <tr>\n",
       "      <th>16</th>\n",
       "      <td>Operations</td>\n",
       "      <td>29</td>\n",
       "      <td>[{'Id': 78, 'AccountId': 29, 'Name': 'ICC - AO...</td>\n",
       "      <td>Wells Fargo</td>\n",
       "    </tr>\n",
       "    <tr>\n",
       "      <th>17</th>\n",
       "      <td>Operations</td>\n",
       "      <td>32</td>\n",
       "      <td>[{'Id': 87, 'AccountId': 32, 'Name': 'Stressle...</td>\n",
       "      <td>Berkshire</td>\n",
       "    </tr>\n",
       "    <tr>\n",
       "      <th>18</th>\n",
       "      <td>Operations</td>\n",
       "      <td>37</td>\n",
       "      <td>[{'Id': 91, 'AccountId': 37, 'Name': 'OMD', 'S...</td>\n",
       "      <td>WFM</td>\n",
       "    </tr>\n",
       "    <tr>\n",
       "      <th>19</th>\n",
       "      <td>Operations</td>\n",
       "      <td>15</td>\n",
       "      <td>[{'Id': 97, 'AccountId': 15, 'Name': 'JJVC - F...</td>\n",
       "      <td>J&amp;J</td>\n",
       "    </tr>\n",
       "    <tr>\n",
       "      <th>20</th>\n",
       "      <td>Operations</td>\n",
       "      <td>10</td>\n",
       "      <td>[{'Id': 98, 'AccountId': 10, 'Name': 'Unit Reg...</td>\n",
       "      <td>Mainstream Fund Services</td>\n",
       "    </tr>\n",
       "    <tr>\n",
       "      <th>21</th>\n",
       "      <td>Operations</td>\n",
       "      <td>28</td>\n",
       "      <td>[{'Id': 99, 'AccountId': 28, 'Name': 'Operatio...</td>\n",
       "      <td>TAL</td>\n",
       "    </tr>\n",
       "    <tr>\n",
       "      <th>22</th>\n",
       "      <td>Operations</td>\n",
       "      <td>17</td>\n",
       "      <td>[{'Id': 104, 'AccountId': 17, 'Name': 'Back Of...</td>\n",
       "      <td>Lakeside</td>\n",
       "    </tr>\n",
       "    <tr>\n",
       "      <th>23</th>\n",
       "      <td>Operations</td>\n",
       "      <td>59</td>\n",
       "      <td>[{'Id': 161, 'AccountId': 59, 'Name': 'Back Of...</td>\n",
       "      <td>Ally BO</td>\n",
       "    </tr>\n",
       "    <tr>\n",
       "      <th>24</th>\n",
       "      <td>Operations</td>\n",
       "      <td>6</td>\n",
       "      <td>[{'Id': 163, 'AccountId': 6, 'Name': 'Chase', ...</td>\n",
       "      <td>Chase</td>\n",
       "    </tr>\n",
       "    <tr>\n",
       "      <th>25</th>\n",
       "      <td>Operations</td>\n",
       "      <td>9</td>\n",
       "      <td>[{'Id': 166, 'AccountId': 9, 'Name': 'Back Off...</td>\n",
       "      <td>Fox Interactive Media</td>\n",
       "    </tr>\n",
       "    <tr>\n",
       "      <th>26</th>\n",
       "      <td>Operations</td>\n",
       "      <td>33</td>\n",
       "      <td>[{'Id': 169, 'AccountId': 33, 'Name': 'LFS Eng...</td>\n",
       "      <td>LifeScan Customer Service</td>\n",
       "    </tr>\n",
       "    <tr>\n",
       "      <th>27</th>\n",
       "      <td>Operations</td>\n",
       "      <td>21</td>\n",
       "      <td>[{'Id': 174, 'AccountId': 21, 'Name': 'CS', 'S...</td>\n",
       "      <td>Nuance</td>\n",
       "    </tr>\n",
       "    <tr>\n",
       "      <th>28</th>\n",
       "      <td>Operations</td>\n",
       "      <td>23</td>\n",
       "      <td>[{'Id': 177, 'AccountId': 23, 'Name': 'BARU', ...</td>\n",
       "      <td>Prudential Financial</td>\n",
       "    </tr>\n",
       "    <tr>\n",
       "      <th>29</th>\n",
       "      <td>Operations</td>\n",
       "      <td>63</td>\n",
       "      <td>[{'Id': 187, 'AccountId': 63, 'Name': 'Digital...</td>\n",
       "      <td>SONY NA</td>\n",
       "    </tr>\n",
       "    <tr>\n",
       "      <th>30</th>\n",
       "      <td>Operations</td>\n",
       "      <td>26</td>\n",
       "      <td>[{'Id': 190, 'AccountId': 26, 'Name': 'SAP', '...</td>\n",
       "      <td>SuccessFactors</td>\n",
       "    </tr>\n",
       "    <tr>\n",
       "      <th>31</th>\n",
       "      <td>Operations</td>\n",
       "      <td>64</td>\n",
       "      <td>[{'Id': 195, 'AccountId': 64, 'Name': 'Prepaid...</td>\n",
       "      <td>Wirecard</td>\n",
       "    </tr>\n",
       "    <tr>\n",
       "      <th>32</th>\n",
       "      <td>Operations</td>\n",
       "      <td>31</td>\n",
       "      <td>[{'Id': 196, 'AccountId': 31, 'Name': 'CS', 'S...</td>\n",
       "      <td>Zoosk</td>\n",
       "    </tr>\n",
       "    <tr>\n",
       "      <th>33</th>\n",
       "      <td>Operations</td>\n",
       "      <td>60</td>\n",
       "      <td>[{'Id': 198, 'AccountId': 60, 'Name': 'Recruit...</td>\n",
       "      <td>Recruitment</td>\n",
       "    </tr>\n",
       "    <tr>\n",
       "      <th>34</th>\n",
       "      <td>Operations</td>\n",
       "      <td>61</td>\n",
       "      <td>[{'Id': 199, 'AccountId': 61, 'Name': 'Social ...</td>\n",
       "      <td>Social Media</td>\n",
       "    </tr>\n",
       "    <tr>\n",
       "      <th>35</th>\n",
       "      <td>Operations</td>\n",
       "      <td>65</td>\n",
       "      <td>[{'Id': 200, 'AccountId': 65, 'Name': 'AAS', '...</td>\n",
       "      <td>Ally AAS</td>\n",
       "    </tr>\n",
       "    <tr>\n",
       "      <th>36</th>\n",
       "      <td>Operations</td>\n",
       "      <td>22</td>\n",
       "      <td>[{'Id': 210, 'AccountId': 22, 'Name': 'EDU', '...</td>\n",
       "      <td>Pearson Education</td>\n",
       "    </tr>\n",
       "    <tr>\n",
       "      <th>37</th>\n",
       "      <td>Operations</td>\n",
       "      <td>71</td>\n",
       "      <td>[{'Id': 213, 'AccountId': 71, 'Name': 'Cardhol...</td>\n",
       "      <td>Citi APAC</td>\n",
       "    </tr>\n",
       "    <tr>\n",
       "      <th>38</th>\n",
       "      <td>Support</td>\n",
       "      <td>72</td>\n",
       "      <td>[{'Id': 222, 'AccountId': 72, 'Name': 'Change ...</td>\n",
       "      <td>Change Management</td>\n",
       "    </tr>\n",
       "    <tr>\n",
       "      <th>39</th>\n",
       "      <td>Operations</td>\n",
       "      <td>73</td>\n",
       "      <td>[{'Id': 223, 'AccountId': 73, 'Name': 'GSK', '...</td>\n",
       "      <td>GSK</td>\n",
       "    </tr>\n",
       "    <tr>\n",
       "      <th>40</th>\n",
       "      <td>Support</td>\n",
       "      <td>75</td>\n",
       "      <td>[{'Id': 225, 'AccountId': 75, 'Name': 'ALP', '...</td>\n",
       "      <td>ALP</td>\n",
       "    </tr>\n",
       "    <tr>\n",
       "      <th>41</th>\n",
       "      <td>Support</td>\n",
       "      <td>78</td>\n",
       "      <td>[{'Id': 226, 'AccountId': 78, 'Name': 'Digital...</td>\n",
       "      <td>Digital Business Solutions</td>\n",
       "    </tr>\n",
       "    <tr>\n",
       "      <th>42</th>\n",
       "      <td>Support</td>\n",
       "      <td>80</td>\n",
       "      <td>[{'Id': 227, 'AccountId': 80, 'Name': 'Integri...</td>\n",
       "      <td>Integrity</td>\n",
       "    </tr>\n",
       "    <tr>\n",
       "      <th>43</th>\n",
       "      <td>Operations</td>\n",
       "      <td>50</td>\n",
       "      <td>[{'Id': 228, 'AccountId': 50, 'Name': 'Manila ...</td>\n",
       "      <td>Manila South</td>\n",
       "    </tr>\n",
       "    <tr>\n",
       "      <th>44</th>\n",
       "      <td>Support</td>\n",
       "      <td>79</td>\n",
       "      <td>[{'Id': 229, 'AccountId': 79, 'Name': 'MS Admi...</td>\n",
       "      <td>MS Admin</td>\n",
       "    </tr>\n",
       "    <tr>\n",
       "      <th>45</th>\n",
       "      <td>Support</td>\n",
       "      <td>81</td>\n",
       "      <td>[{'Id': 230, 'AccountId': 81, 'Name': 'MSST', ...</td>\n",
       "      <td>MSST</td>\n",
       "    </tr>\n",
       "    <tr>\n",
       "      <th>46</th>\n",
       "      <td>Support</td>\n",
       "      <td>77</td>\n",
       "      <td>[{'Id': 231, 'AccountId': 77, 'Name': 'Quality...</td>\n",
       "      <td>Quality</td>\n",
       "    </tr>\n",
       "    <tr>\n",
       "      <th>47</th>\n",
       "      <td>Support</td>\n",
       "      <td>76</td>\n",
       "      <td>[{'Id': 232, 'AccountId': 76, 'Name': 'Trainin...</td>\n",
       "      <td>Training</td>\n",
       "    </tr>\n",
       "    <tr>\n",
       "      <th>48</th>\n",
       "      <td>Operations</td>\n",
       "      <td>70</td>\n",
       "      <td>[{'Id': 234, 'AccountId': 70, 'Name': 'Real Ti...</td>\n",
       "      <td>Vitac</td>\n",
       "    </tr>\n",
       "  </tbody>\n",
       "</table>\n",
       "</div>"
      ],
      "text/plain": [
       "    Department  Id                                               LOBs  \\\n",
       "0   Operations   1  [{'Id': 1, 'AccountId': 1, 'Name': 'ADC', 'Sta...   \n",
       "1   Operations   2  [{'Id': 3, 'AccountId': 2, 'Name': 'Chat', 'St...   \n",
       "2   Operations   3  [{'Id': 6, 'AccountId': 3, 'Name': 'Non Reg â€...   \n",
       "3   Operations   4  [{'Id': 13, 'AccountId': 4, 'Name': 'Exception...   \n",
       "4   Operations   5  [{'Id': 16, 'AccountId': 5, 'Name': 'CCT', 'St...   \n",
       "5   Operations   7  [{'Id': 21, 'AccountId': 7, 'Name': 'CRS', 'St...   \n",
       "6   Operations   8  [{'Id': 23, 'AccountId': 8, 'Name': 'Sales', '...   \n",
       "7   Operations  11  [{'Id': 28, 'AccountId': 11, 'Name': 'English'...   \n",
       "8   Operations  12  [{'Id': 31, 'AccountId': 12, 'Name': '6J', 'St...   \n",
       "9   Operations  13  [{'Id': 33, 'AccountId': 13, 'Name': 'Innovati...   \n",
       "10  Operations  14  [{'Id': 34, 'AccountId': 14, 'Name': 'GPS - Ma...   \n",
       "11  Operations  18  [{'Id': 39, 'AccountId': 18, 'Name': 'Industry...   \n",
       "12  Operations  19  [{'Id': 43, 'AccountId': 19, 'Name': 'MCQ Flas...   \n",
       "13  Operations  20  [{'Id': 44, 'AccountId': 20, 'Name': 'Customer...   \n",
       "14  Operations  25  [{'Id': 71, 'AccountId': 25, 'Name': 'Tier 1 E...   \n",
       "15  Operations  27  [{'Id': 76, 'AccountId': 27, 'Name': 'Content ...   \n",
       "16  Operations  29  [{'Id': 78, 'AccountId': 29, 'Name': 'ICC - AO...   \n",
       "17  Operations  32  [{'Id': 87, 'AccountId': 32, 'Name': 'Stressle...   \n",
       "18  Operations  37  [{'Id': 91, 'AccountId': 37, 'Name': 'OMD', 'S...   \n",
       "19  Operations  15  [{'Id': 97, 'AccountId': 15, 'Name': 'JJVC - F...   \n",
       "20  Operations  10  [{'Id': 98, 'AccountId': 10, 'Name': 'Unit Reg...   \n",
       "21  Operations  28  [{'Id': 99, 'AccountId': 28, 'Name': 'Operatio...   \n",
       "22  Operations  17  [{'Id': 104, 'AccountId': 17, 'Name': 'Back Of...   \n",
       "23  Operations  59  [{'Id': 161, 'AccountId': 59, 'Name': 'Back Of...   \n",
       "24  Operations   6  [{'Id': 163, 'AccountId': 6, 'Name': 'Chase', ...   \n",
       "25  Operations   9  [{'Id': 166, 'AccountId': 9, 'Name': 'Back Off...   \n",
       "26  Operations  33  [{'Id': 169, 'AccountId': 33, 'Name': 'LFS Eng...   \n",
       "27  Operations  21  [{'Id': 174, 'AccountId': 21, 'Name': 'CS', 'S...   \n",
       "28  Operations  23  [{'Id': 177, 'AccountId': 23, 'Name': 'BARU', ...   \n",
       "29  Operations  63  [{'Id': 187, 'AccountId': 63, 'Name': 'Digital...   \n",
       "30  Operations  26  [{'Id': 190, 'AccountId': 26, 'Name': 'SAP', '...   \n",
       "31  Operations  64  [{'Id': 195, 'AccountId': 64, 'Name': 'Prepaid...   \n",
       "32  Operations  31  [{'Id': 196, 'AccountId': 31, 'Name': 'CS', 'S...   \n",
       "33  Operations  60  [{'Id': 198, 'AccountId': 60, 'Name': 'Recruit...   \n",
       "34  Operations  61  [{'Id': 199, 'AccountId': 61, 'Name': 'Social ...   \n",
       "35  Operations  65  [{'Id': 200, 'AccountId': 65, 'Name': 'AAS', '...   \n",
       "36  Operations  22  [{'Id': 210, 'AccountId': 22, 'Name': 'EDU', '...   \n",
       "37  Operations  71  [{'Id': 213, 'AccountId': 71, 'Name': 'Cardhol...   \n",
       "38     Support  72  [{'Id': 222, 'AccountId': 72, 'Name': 'Change ...   \n",
       "39  Operations  73  [{'Id': 223, 'AccountId': 73, 'Name': 'GSK', '...   \n",
       "40     Support  75  [{'Id': 225, 'AccountId': 75, 'Name': 'ALP', '...   \n",
       "41     Support  78  [{'Id': 226, 'AccountId': 78, 'Name': 'Digital...   \n",
       "42     Support  80  [{'Id': 227, 'AccountId': 80, 'Name': 'Integri...   \n",
       "43  Operations  50  [{'Id': 228, 'AccountId': 50, 'Name': 'Manila ...   \n",
       "44     Support  79  [{'Id': 229, 'AccountId': 79, 'Name': 'MS Admi...   \n",
       "45     Support  81  [{'Id': 230, 'AccountId': 81, 'Name': 'MSST', ...   \n",
       "46     Support  77  [{'Id': 231, 'AccountId': 77, 'Name': 'Quality...   \n",
       "47     Support  76  [{'Id': 232, 'AccountId': 76, 'Name': 'Trainin...   \n",
       "48  Operations  70  [{'Id': 234, 'AccountId': 70, 'Name': 'Real Ti...   \n",
       "\n",
       "                          Name  \n",
       "0                       Abbott  \n",
       "1                      Ally CS  \n",
       "2        Ameriprise Financials  \n",
       "3              Bank of America  \n",
       "4           Capital One Canada  \n",
       "5                         Citi  \n",
       "6                      Expedia  \n",
       "7                    Hotelbeds  \n",
       "8                           HP  \n",
       "9             Innovations Team  \n",
       "10                       Intel  \n",
       "11                   Mathworks  \n",
       "12                     MCQ BFS  \n",
       "13                     MCQ CAF  \n",
       "14                    Sony ANZ  \n",
       "15                      Tagged  \n",
       "16                 Wells Fargo  \n",
       "17                   Berkshire  \n",
       "18                         WFM  \n",
       "19                         J&J  \n",
       "20    Mainstream Fund Services  \n",
       "21                         TAL  \n",
       "22                    Lakeside  \n",
       "23                     Ally BO  \n",
       "24                       Chase  \n",
       "25       Fox Interactive Media  \n",
       "26   LifeScan Customer Service  \n",
       "27                      Nuance  \n",
       "28        Prudential Financial  \n",
       "29                     SONY NA  \n",
       "30              SuccessFactors  \n",
       "31                    Wirecard  \n",
       "32                       Zoosk  \n",
       "33                 Recruitment  \n",
       "34                Social Media  \n",
       "35                    Ally AAS  \n",
       "36           Pearson Education  \n",
       "37                   Citi APAC  \n",
       "38           Change Management  \n",
       "39                         GSK  \n",
       "40                         ALP  \n",
       "41  Digital Business Solutions  \n",
       "42                   Integrity  \n",
       "43                Manila South  \n",
       "44                    MS Admin  \n",
       "45                        MSST  \n",
       "46                     Quality  \n",
       "47                    Training  \n",
       "48                       Vitac  "
      ]
     },
     "execution_count": 85,
     "metadata": {},
     "output_type": "execute_result"
    }
   ],
   "source": [
    "x"
   ]
  },
  {
   "cell_type": "code",
   "execution_count": 87,
   "metadata": {},
   "outputs": [],
   "source": [
    "x.to_json(\"asd.json\", orient = \"records\")"
   ]
  },
  {
   "cell_type": "code",
   "execution_count": 24,
   "metadata": {},
   "outputs": [],
   "source": [
    "x.to_csv(\"dsa.csv\", index = False)"
   ]
  },
  {
   "cell_type": "code",
   "execution_count": 26,
   "metadata": {},
   "outputs": [],
   "source": [
    "dsa = [[{'Id': 1, 'AccountId': 1, 'Name': 'ADC', 'StartDate': '2018-01-01T00:00:00', 'EndDate': None}],\n",
    "[{'Id': 3, 'AccountId': 2, 'Name': 'Chat', 'StartDate': '2018-01-01T00:00:00', 'EndDate': None}, {'Id': 4, 'AccountId': 2, 'Name': 'Voice', 'StartDate': '2018-01-01T00:00:00', 'EndDate': None}],\n",
    "[{'Id': 6, 'AccountId': 3, 'Name': 'Non Reg Ã¢â‚¬â€œ BNB', 'StartDate': '2018-01-01T00:00:00', 'EndDate': None}, {'Id': 7, 'AccountId': 3, 'Name': 'Non Reg Ã¢â‚¬â€œ CCQ/ICE', 'StartDate': '2018-01-01T00:00:00', 'EndDate': None}, {'Id': 8, 'AccountId': 3, 'Name': 'Non Reg Ã¢â‚¬â€œ Client Data/FP', 'StartDate': '2018-01-01T00:00:00', 'EndDate': None}, {'Id': 9, 'AccountId': 3, 'Name': 'Non Reg Ã¢â‚¬â€œ cWeb', 'StartDate': '2018-01-01T00:00:00', 'EndDate': None}, {'Id': 11, 'AccountId': 3, 'Name': 'FINRA-RSO_OD', 'StartDate': '2018-01-01T00:00:00', 'EndDate': None}, {'Id': 12, 'AccountId': 3, 'Name': 'FINRA-Certs/529', 'StartDate': '2018-01-01T00:00:00', 'EndDate': None}],\n",
    "[{'Id': 13, 'AccountId': 4, 'Name': 'Exception Queue (EQ)', 'StartDate': '2018-01-01T00:00:00', 'EndDate': None}, {'Id': 14, 'AccountId': 4, 'Name': 'Lockbox Centralized Operations Keying (LCOK)', 'StartDate': '2018-01-01T00:00:00', 'EndDate': None}],\n",
    "]"
   ]
  },
  {
   "cell_type": "code",
   "execution_count": null,
   "metadata": {},
   "outputs": [],
   "source": []
  },
  {
   "cell_type": "code",
   "execution_count": 28,
   "metadata": {},
   "outputs": [
    {
     "data": {
      "text/html": [
       "<div>\n",
       "<style scoped>\n",
       "    .dataframe tbody tr th:only-of-type {\n",
       "        vertical-align: middle;\n",
       "    }\n",
       "\n",
       "    .dataframe tbody tr th {\n",
       "        vertical-align: top;\n",
       "    }\n",
       "\n",
       "    .dataframe thead th {\n",
       "        text-align: right;\n",
       "    }\n",
       "</style>\n",
       "<table border=\"1\" class=\"dataframe\">\n",
       "  <thead>\n",
       "    <tr style=\"text-align: right;\">\n",
       "      <th></th>\n",
       "      <th>0</th>\n",
       "      <th>1</th>\n",
       "      <th>2</th>\n",
       "      <th>3</th>\n",
       "      <th>4</th>\n",
       "      <th>5</th>\n",
       "    </tr>\n",
       "  </thead>\n",
       "  <tbody>\n",
       "    <tr>\n",
       "      <th>0</th>\n",
       "      <td>{'Id': 1, 'AccountId': 1, 'Name': 'ADC', 'Star...</td>\n",
       "      <td>None</td>\n",
       "      <td>None</td>\n",
       "      <td>None</td>\n",
       "      <td>None</td>\n",
       "      <td>None</td>\n",
       "    </tr>\n",
       "    <tr>\n",
       "      <th>1</th>\n",
       "      <td>{'Id': 3, 'AccountId': 2, 'Name': 'Chat', 'Sta...</td>\n",
       "      <td>{'Id': 4, 'AccountId': 2, 'Name': 'Voice', 'St...</td>\n",
       "      <td>None</td>\n",
       "      <td>None</td>\n",
       "      <td>None</td>\n",
       "      <td>None</td>\n",
       "    </tr>\n",
       "    <tr>\n",
       "      <th>2</th>\n",
       "      <td>{'Id': 6, 'AccountId': 3, 'Name': 'Non Reg Ã¢â...</td>\n",
       "      <td>{'Id': 7, 'AccountId': 3, 'Name': 'Non Reg Ã¢â...</td>\n",
       "      <td>{'Id': 8, 'AccountId': 3, 'Name': 'Non Reg Ã¢â...</td>\n",
       "      <td>{'Id': 9, 'AccountId': 3, 'Name': 'Non Reg Ã¢â...</td>\n",
       "      <td>{'Id': 11, 'AccountId': 3, 'Name': 'FINRA-RSO_...</td>\n",
       "      <td>{'Id': 12, 'AccountId': 3, 'Name': 'FINRA-Cert...</td>\n",
       "    </tr>\n",
       "    <tr>\n",
       "      <th>3</th>\n",
       "      <td>{'Id': 13, 'AccountId': 4, 'Name': 'Exception ...</td>\n",
       "      <td>{'Id': 14, 'AccountId': 4, 'Name': 'Lockbox Ce...</td>\n",
       "      <td>None</td>\n",
       "      <td>None</td>\n",
       "      <td>None</td>\n",
       "      <td>None</td>\n",
       "    </tr>\n",
       "  </tbody>\n",
       "</table>\n",
       "</div>"
      ],
      "text/plain": [
       "                                                   0  \\\n",
       "0  {'Id': 1, 'AccountId': 1, 'Name': 'ADC', 'Star...   \n",
       "1  {'Id': 3, 'AccountId': 2, 'Name': 'Chat', 'Sta...   \n",
       "2  {'Id': 6, 'AccountId': 3, 'Name': 'Non Reg Ã¢â...   \n",
       "3  {'Id': 13, 'AccountId': 4, 'Name': 'Exception ...   \n",
       "\n",
       "                                                   1  \\\n",
       "0                                               None   \n",
       "1  {'Id': 4, 'AccountId': 2, 'Name': 'Voice', 'St...   \n",
       "2  {'Id': 7, 'AccountId': 3, 'Name': 'Non Reg Ã¢â...   \n",
       "3  {'Id': 14, 'AccountId': 4, 'Name': 'Lockbox Ce...   \n",
       "\n",
       "                                                   2  \\\n",
       "0                                               None   \n",
       "1                                               None   \n",
       "2  {'Id': 8, 'AccountId': 3, 'Name': 'Non Reg Ã¢â...   \n",
       "3                                               None   \n",
       "\n",
       "                                                   3  \\\n",
       "0                                               None   \n",
       "1                                               None   \n",
       "2  {'Id': 9, 'AccountId': 3, 'Name': 'Non Reg Ã¢â...   \n",
       "3                                               None   \n",
       "\n",
       "                                                   4  \\\n",
       "0                                               None   \n",
       "1                                               None   \n",
       "2  {'Id': 11, 'AccountId': 3, 'Name': 'FINRA-RSO_...   \n",
       "3                                               None   \n",
       "\n",
       "                                                   5  \n",
       "0                                               None  \n",
       "1                                               None  \n",
       "2  {'Id': 12, 'AccountId': 3, 'Name': 'FINRA-Cert...  \n",
       "3                                               None  "
      ]
     },
     "execution_count": 28,
     "metadata": {},
     "output_type": "execute_result"
    }
   ],
   "source": [
    "pd.DataFrame(dsa)"
   ]
  },
  {
   "cell_type": "code",
   "execution_count": 106,
   "metadata": {},
   "outputs": [],
   "source": [
    "quality_nesting_preds = pd.DataFrame([{'upper' : 12, 'score': 13, 'lower': 2}], index = [\"Nesting_Quality_Prediction\"])\n",
    "aht_nesting_preds = pd.DataFrame([{'upper' : 12, 'score': 13, 'lower': 2}], index = [\"Nesting_AHT_Prediction\"])\n",
    "dsat_nesting_preds = pd.DataFrame([{'upper' : 12, 'score': 13, 'lower': 2}], index = [\"Nesting_DSAT_Prediction\"])"
   ]
  },
  {
   "cell_type": "code",
   "execution_count": 107,
   "metadata": {},
   "outputs": [],
   "source": [
    "dfs = [quality_nesting_preds, aht_nesting_preds, dsat_nesting_preds]\n",
    "\n",
    "a = pd.DataFrame"
   ]
  },
  {
   "cell_type": "code",
   "execution_count": 108,
   "metadata": {},
   "outputs": [],
   "source": [
    "pd.concat(dfs, ignore_index=False).T.to_json(\"asd.json\")"
   ]
  },
  {
   "cell_type": "code",
   "execution_count": null,
   "metadata": {},
   "outputs": [],
   "source": [
    "predictions = reduce(lambda left, right: pd.merge(left, right, left_index = True, right_index = True), dfs)"
   ]
  },
  {
   "cell_type": "code",
   "execution_count": 101,
   "metadata": {},
   "outputs": [
    {
     "ename": "TypeError",
     "evalue": "cannot concatenate object of type \"<class 'type'>\"; only pd.Series, pd.DataFrame, and pd.Panel (deprecated) objs are valid",
     "output_type": "error",
     "traceback": [
      "\u001b[1;31m---------------------------------------------------------------------------\u001b[0m",
      "\u001b[1;31mTypeError\u001b[0m                                 Traceback (most recent call last)",
      "\u001b[1;32m<ipython-input-101-f381a1fdb3f8>\u001b[0m in \u001b[0;36m<module>\u001b[1;34m()\u001b[0m\n\u001b[1;32m----> 1\u001b[1;33m \u001b[0ma\u001b[0m\u001b[1;33m.\u001b[0m\u001b[0mappend\u001b[0m\u001b[1;33m(\u001b[0m\u001b[0ma\u001b[0m\u001b[1;33m,\u001b[0m \u001b[0maht_nesting_preds\u001b[0m\u001b[1;33m)\u001b[0m\u001b[1;33m.\u001b[0m\u001b[0mT\u001b[0m\u001b[1;33m.\u001b[0m\u001b[0mto_json\u001b[0m\u001b[1;33m(\u001b[0m\u001b[1;34m\"asd.json\"\u001b[0m\u001b[1;33m)\u001b[0m\u001b[1;33m\u001b[0m\u001b[0m\n\u001b[0m",
      "\u001b[1;32mc:\\programdata\\anaconda3\\lib\\site-packages\\pandas\\core\\frame.py\u001b[0m in \u001b[0;36mappend\u001b[1;34m(self, other, ignore_index, verify_integrity, sort)\u001b[0m\n\u001b[0;32m   6209\u001b[0m         return concat(to_concat, ignore_index=ignore_index,\n\u001b[0;32m   6210\u001b[0m                       \u001b[0mverify_integrity\u001b[0m\u001b[1;33m=\u001b[0m\u001b[0mverify_integrity\u001b[0m\u001b[1;33m,\u001b[0m\u001b[1;33m\u001b[0m\u001b[0m\n\u001b[1;32m-> 6211\u001b[1;33m                       sort=sort)\n\u001b[0m\u001b[0;32m   6212\u001b[0m \u001b[1;33m\u001b[0m\u001b[0m\n\u001b[0;32m   6213\u001b[0m     def join(self, other, on=None, how='left', lsuffix='', rsuffix='',\n",
      "\u001b[1;32mc:\\programdata\\anaconda3\\lib\\site-packages\\pandas\\core\\reshape\\concat.py\u001b[0m in \u001b[0;36mconcat\u001b[1;34m(objs, axis, join, join_axes, ignore_index, keys, levels, names, verify_integrity, sort, copy)\u001b[0m\n\u001b[0;32m    223\u001b[0m                        \u001b[0mkeys\u001b[0m\u001b[1;33m=\u001b[0m\u001b[0mkeys\u001b[0m\u001b[1;33m,\u001b[0m \u001b[0mlevels\u001b[0m\u001b[1;33m=\u001b[0m\u001b[0mlevels\u001b[0m\u001b[1;33m,\u001b[0m \u001b[0mnames\u001b[0m\u001b[1;33m=\u001b[0m\u001b[0mnames\u001b[0m\u001b[1;33m,\u001b[0m\u001b[1;33m\u001b[0m\u001b[0m\n\u001b[0;32m    224\u001b[0m                        \u001b[0mverify_integrity\u001b[0m\u001b[1;33m=\u001b[0m\u001b[0mverify_integrity\u001b[0m\u001b[1;33m,\u001b[0m\u001b[1;33m\u001b[0m\u001b[0m\n\u001b[1;32m--> 225\u001b[1;33m                        copy=copy, sort=sort)\n\u001b[0m\u001b[0;32m    226\u001b[0m     \u001b[1;32mreturn\u001b[0m \u001b[0mop\u001b[0m\u001b[1;33m.\u001b[0m\u001b[0mget_result\u001b[0m\u001b[1;33m(\u001b[0m\u001b[1;33m)\u001b[0m\u001b[1;33m\u001b[0m\u001b[0m\n\u001b[0;32m    227\u001b[0m \u001b[1;33m\u001b[0m\u001b[0m\n",
      "\u001b[1;32mc:\\programdata\\anaconda3\\lib\\site-packages\\pandas\\core\\reshape\\concat.py\u001b[0m in \u001b[0;36m__init__\u001b[1;34m(self, objs, axis, join, join_axes, keys, levels, names, ignore_index, verify_integrity, copy, sort)\u001b[0m\n\u001b[0;32m    284\u001b[0m                        \u001b[1;34m' only pd.Series, pd.DataFrame, and pd.Panel'\u001b[0m\u001b[1;33m\u001b[0m\u001b[0m\n\u001b[0;32m    285\u001b[0m                        ' (deprecated) objs are valid'.format(type(obj)))\n\u001b[1;32m--> 286\u001b[1;33m                 \u001b[1;32mraise\u001b[0m \u001b[0mTypeError\u001b[0m\u001b[1;33m(\u001b[0m\u001b[0mmsg\u001b[0m\u001b[1;33m)\u001b[0m\u001b[1;33m\u001b[0m\u001b[0m\n\u001b[0m\u001b[0;32m    287\u001b[0m \u001b[1;33m\u001b[0m\u001b[0m\n\u001b[0;32m    288\u001b[0m             \u001b[1;31m# consolidate\u001b[0m\u001b[1;33m\u001b[0m\u001b[1;33m\u001b[0m\u001b[0m\n",
      "\u001b[1;31mTypeError\u001b[0m: cannot concatenate object of type \"<class 'type'>\"; only pd.Series, pd.DataFrame, and pd.Panel (deprecated) objs are valid"
     ]
    }
   ],
   "source": [
    "a.append(quality_nesting_preds, aht_nesting_preds).T.to_json(\"asd.json\")"
   ]
  },
  {
   "cell_type": "code",
   "execution_count": 83,
   "metadata": {},
   "outputs": [],
   "source": [
    "pd.DataFrame([{'asd' : 0.52, 'ew': 0.1, 'uy': 12}, {'asd' : 0.52, 'ew': 0.1, 'uy': 12}]).to_json(\"asd.json\")"
   ]
  },
  {
   "cell_type": "code",
   "execution_count": null,
   "metadata": {},
   "outputs": [],
   "source": []
  },
  {
   "cell_type": "code",
   "execution_count": 74,
   "metadata": {},
   "outputs": [
    {
     "data": {
      "text/html": [
       "<div>\n",
       "<style scoped>\n",
       "    .dataframe tbody tr th:only-of-type {\n",
       "        vertical-align: middle;\n",
       "    }\n",
       "\n",
       "    .dataframe tbody tr th {\n",
       "        vertical-align: top;\n",
       "    }\n",
       "\n",
       "    .dataframe thead th {\n",
       "        text-align: right;\n",
       "    }\n",
       "</style>\n",
       "<table border=\"1\" class=\"dataframe\">\n",
       "  <thead>\n",
       "    <tr style=\"text-align: right;\">\n",
       "      <th></th>\n",
       "      <th>asd</th>\n",
       "      <th>ew</th>\n",
       "      <th>uy</th>\n",
       "    </tr>\n",
       "  </thead>\n",
       "  <tbody>\n",
       "    <tr>\n",
       "      <th>0</th>\n",
       "      <td>0.52</td>\n",
       "      <td>0.1</td>\n",
       "      <td>12</td>\n",
       "    </tr>\n",
       "    <tr>\n",
       "      <th>1</th>\n",
       "      <td>12.00</td>\n",
       "      <td>13.0</td>\n",
       "      <td>2</td>\n",
       "    </tr>\n",
       "  </tbody>\n",
       "</table>\n",
       "</div>"
      ],
      "text/plain": [
       "     asd    ew  uy\n",
       "0   0.52   0.1  12\n",
       "1  12.00  13.0   2"
      ]
     },
     "execution_count": 74,
     "metadata": {},
     "output_type": "execute_result"
    }
   ],
   "source": [
    "pd.DataFrame([{'asd' : 0.52, 'ew': 0.1, 'uy': 12}, {'asd' : 12, 'ew': 13, 'uy': 2}])"
   ]
  },
  {
   "cell_type": "code",
   "execution_count": 7,
   "metadata": {},
   "outputs": [],
   "source": [
    "import pandas as pd\n",
    "import numpy as np"
   ]
  },
  {
   "cell_type": "code",
   "execution_count": 8,
   "metadata": {},
   "outputs": [],
   "source": [
    "make_df = [\"Hello\", \"World\", \"abcd\", 12.4, np.nan,  \"qwerty123\"]\n",
    "df = pd.DataFrame(make_df, columns = [\"col1\"])"
   ]
  },
  {
   "cell_type": "code",
   "execution_count": 11,
   "metadata": {},
   "outputs": [
    {
     "data": {
      "text/html": [
       "<div>\n",
       "<style scoped>\n",
       "    .dataframe tbody tr th:only-of-type {\n",
       "        vertical-align: middle;\n",
       "    }\n",
       "\n",
       "    .dataframe tbody tr th {\n",
       "        vertical-align: top;\n",
       "    }\n",
       "\n",
       "    .dataframe thead th {\n",
       "        text-align: right;\n",
       "    }\n",
       "</style>\n",
       "<table border=\"1\" class=\"dataframe\">\n",
       "  <thead>\n",
       "    <tr style=\"text-align: right;\">\n",
       "      <th></th>\n",
       "      <th>col1</th>\n",
       "    </tr>\n",
       "  </thead>\n",
       "  <tbody>\n",
       "    <tr>\n",
       "      <th>0</th>\n",
       "      <td>Hello</td>\n",
       "    </tr>\n",
       "    <tr>\n",
       "      <th>1</th>\n",
       "      <td>World</td>\n",
       "    </tr>\n",
       "    <tr>\n",
       "      <th>2</th>\n",
       "      <td>abcd</td>\n",
       "    </tr>\n",
       "    <tr>\n",
       "      <th>3</th>\n",
       "      <td>12.4</td>\n",
       "    </tr>\n",
       "    <tr>\n",
       "      <th>5</th>\n",
       "      <td>qwerty123</td>\n",
       "    </tr>\n",
       "  </tbody>\n",
       "</table>\n",
       "</div>"
      ],
      "text/plain": [
       "        col1\n",
       "0      Hello\n",
       "1      World\n",
       "2       abcd\n",
       "3       12.4\n",
       "5  qwerty123"
      ]
     },
     "execution_count": 11,
     "metadata": {},
     "output_type": "execute_result"
    }
   ],
   "source": [
    "df.loc[df[\"col1\"].isna() == False]"
   ]
  },
  {
   "cell_type": "code",
   "execution_count": 12,
   "metadata": {},
   "outputs": [],
   "source": [
    "elements = [(1,1,1),(2,3,7),(3,5,10)]"
   ]
  },
  {
   "cell_type": "code",
   "execution_count": 14,
   "metadata": {},
   "outputs": [
    {
     "data": {
      "text/plain": [
       "[1, 7, 10]"
      ]
     },
     "execution_count": 14,
     "metadata": {},
     "output_type": "execute_result"
    }
   ],
   "source": [
    "n = 2 # N. . .\n",
    "[x[n] for x in elements]"
   ]
  },
  {
   "cell_type": "code",
   "execution_count": null,
   "metadata": {},
   "outputs": [],
   "source": []
  },
  {
   "cell_type": "code",
   "execution_count": 1,
   "metadata": {},
   "outputs": [
    {
     "name": "stdout",
     "output_type": "stream",
     "text": [
      "['a', 'b', 'c']\n"
     ]
    }
   ],
   "source": [
    "mylist = [\"a\", \"b\", \"a\", \"c\", \"c\"]\n",
    "mylist = list(dict.fromkeys(mylist))\n",
    "print(mylist) "
   ]
  },
  {
   "cell_type": "code",
   "execution_count": 50,
   "metadata": {},
   "outputs": [],
   "source": [
    "def one():\n",
    "    return print(\"one\")\n",
    "\n",
    "def two():\n",
    "    return print(\"two\")\n",
    "\n",
    "def three(dsa, asd):\n",
    "    return print(dsa + asd)"
   ]
  },
  {
   "cell_type": "code",
   "execution_count": 59,
   "metadata": {},
   "outputs": [
    {
     "name": "stdout",
     "output_type": "stream",
     "text": [
      "6\n"
     ]
    }
   ],
   "source": [
    "args = 3\n",
    "\n",
    "def get_account(argument): \n",
    "    functions = { \n",
    "        1: one, \n",
    "        2: two, \n",
    "        3: three, \n",
    "    } \n",
    "    return functions.get(argument, \"nothing\") \n",
    "\n",
    "get_account(args)(1,5)"
   ]
  },
  {
   "cell_type": "code",
   "execution_count": 60,
   "metadata": {},
   "outputs": [],
   "source": [
    "import requests"
   ]
  },
  {
   "cell_type": "code",
   "execution_count": 83,
   "metadata": {},
   "outputs": [
    {
     "data": {
      "text/plain": [
       "'abbott'"
      ]
     },
     "execution_count": 83,
     "metadata": {},
     "output_type": "execute_result"
    }
   ],
   "source": [
    "def get_web(accountID):\n",
    "    \"\"\"\n",
    "    \n",
    "    :accountID: INT dtype\n",
    "    \n",
    "    Gets the corresponding account name from an API\n",
    "    \"\"\"\n",
    "    \n",
    "    get_url = requests.get(\"http://phmnl5dev025:30004/v1/accounts\").json()\n",
    "    dict_account = dict([(x[\"Id\"], x[\"Name\"]) for x in get_url])\n",
    "\n",
    "    return dict_account.get(accountID, \"None\")\n",
    "\n",
    "args = 1\n",
    "\n",
    "str.lower(get_web(args))"
   ]
  },
  {
   "cell_type": "code",
   "execution_count": 84,
   "metadata": {},
   "outputs": [
    {
     "ename": "TypeError",
     "evalue": "unsupported operand type(s) for -: 'list' and 'list'",
     "output_type": "error",
     "traceback": [
      "\u001b[1;31m---------------------------------------------------------------------------\u001b[0m",
      "\u001b[1;31mTypeError\u001b[0m                                 Traceback (most recent call last)",
      "\u001b[1;32m<ipython-input-84-3282280efe83>\u001b[0m in \u001b[0;36m<module>\u001b[1;34m()\u001b[0m\n\u001b[0;32m      2\u001b[0m \u001b[0mb\u001b[0m \u001b[1;33m=\u001b[0m \u001b[1;33m[\u001b[0m\u001b[1;34m\"act\"\u001b[0m\u001b[1;33m]\u001b[0m\u001b[1;33m\u001b[0m\u001b[0m\n\u001b[0;32m      3\u001b[0m \u001b[1;33m\u001b[0m\u001b[0m\n\u001b[1;32m----> 4\u001b[1;33m \u001b[0ma\u001b[0m \u001b[1;33m-\u001b[0m \u001b[0mb\u001b[0m\u001b[1;33m\u001b[0m\u001b[0m\n\u001b[0m",
      "\u001b[1;31mTypeError\u001b[0m: unsupported operand type(s) for -: 'list' and 'list'"
     ]
    }
   ],
   "source": [
    "a = [\"act\",\"psi\",\"lavr\",\"dsc\",\"ifsc\",\"ics\",\"eng\",\"ol1\",\"ol2\",\"reso\",\"educ\",\"listen\",\"time\",\"probe\",\"unders\"]\n",
    "b = [\"act\"]\n",
    "\n",
    "a - b"
   ]
  },
  {
   "cell_type": "code",
   "execution_count": 85,
   "metadata": {},
   "outputs": [
    {
     "data": {
      "text/html": [
       "<div>\n",
       "<style scoped>\n",
       "    .dataframe tbody tr th:only-of-type {\n",
       "        vertical-align: middle;\n",
       "    }\n",
       "\n",
       "    .dataframe tbody tr th {\n",
       "        vertical-align: top;\n",
       "    }\n",
       "\n",
       "    .dataframe thead th {\n",
       "        text-align: right;\n",
       "    }\n",
       "</style>\n",
       "<table border=\"1\" class=\"dataframe\">\n",
       "  <thead>\n",
       "    <tr style=\"text-align: right;\">\n",
       "      <th></th>\n",
       "      <th>asd</th>\n",
       "      <th>ew</th>\n",
       "      <th>uy</th>\n",
       "    </tr>\n",
       "  </thead>\n",
       "  <tbody>\n",
       "    <tr>\n",
       "      <th>0</th>\n",
       "      <td>0.52</td>\n",
       "      <td>0.1</td>\n",
       "      <td>12</td>\n",
       "    </tr>\n",
       "    <tr>\n",
       "      <th>1</th>\n",
       "      <td>12.00</td>\n",
       "      <td>13.0</td>\n",
       "      <td>2</td>\n",
       "    </tr>\n",
       "  </tbody>\n",
       "</table>\n",
       "</div>"
      ],
      "text/plain": [
       "     asd    ew  uy\n",
       "0   0.52   0.1  12\n",
       "1  12.00  13.0   2"
      ]
     },
     "execution_count": 85,
     "metadata": {},
     "output_type": "execute_result"
    }
   ],
   "source": [
    "pd.DataFrame()"
   ]
  },
  {
   "cell_type": "code",
   "execution_count": 101,
   "metadata": {},
   "outputs": [],
   "source": [
    "data = [{'a' : 1, 'b': 1, 'c': 1},\n",
    "        {'a' : 2, 'b': 2, 'c': 2},\n",
    "        {'a' : 3, 'b': 3, 'c': 3},\n",
    "        {'a' : 4, 'b': 4, 'c': 4},\n",
    "        {'a' : 5, 'b': 5, 'c': 5},\n",
    "        {'a' : 1, 'b': 2, 'c': 3},\n",
    "        {'a' : 4, 'b': 5, 'c': 1},\n",
    "        {'a' : 3, 'b': 4, 'c': 5},\n",
    "        ]"
   ]
  },
  {
   "cell_type": "code",
   "execution_count": 110,
   "metadata": {},
   "outputs": [],
   "source": [
    "data = [{'a' : \"[123] [321]\"},\n",
    "        {'a' : \"[456] [123]\"},\n",
    "        {'a' : \"[789] [321]\"},\n",
    "        {'a' : \"[987] [456]\"}]"
   ]
  },
  {
   "cell_type": "code",
   "execution_count": 111,
   "metadata": {},
   "outputs": [
    {
     "data": {
      "text/html": [
       "<div>\n",
       "<style scoped>\n",
       "    .dataframe tbody tr th:only-of-type {\n",
       "        vertical-align: middle;\n",
       "    }\n",
       "\n",
       "    .dataframe tbody tr th {\n",
       "        vertical-align: top;\n",
       "    }\n",
       "\n",
       "    .dataframe thead th {\n",
       "        text-align: right;\n",
       "    }\n",
       "</style>\n",
       "<table border=\"1\" class=\"dataframe\">\n",
       "  <thead>\n",
       "    <tr style=\"text-align: right;\">\n",
       "      <th></th>\n",
       "      <th>a</th>\n",
       "    </tr>\n",
       "  </thead>\n",
       "  <tbody>\n",
       "    <tr>\n",
       "      <th>0</th>\n",
       "      <td>[123] [321]</td>\n",
       "    </tr>\n",
       "    <tr>\n",
       "      <th>1</th>\n",
       "      <td>[456] [123]</td>\n",
       "    </tr>\n",
       "    <tr>\n",
       "      <th>2</th>\n",
       "      <td>[789] [321]</td>\n",
       "    </tr>\n",
       "    <tr>\n",
       "      <th>3</th>\n",
       "      <td>[987] [456]</td>\n",
       "    </tr>\n",
       "  </tbody>\n",
       "</table>\n",
       "</div>"
      ],
      "text/plain": [
       "             a\n",
       "0  [123] [321]\n",
       "1  [456] [123]\n",
       "2  [789] [321]\n",
       "3  [987] [456]"
      ]
     },
     "execution_count": 111,
     "metadata": {},
     "output_type": "execute_result"
    }
   ],
   "source": [
    "data = pd.DataFrame(data)\n",
    "data"
   ]
  },
  {
   "cell_type": "code",
   "execution_count": 104,
   "metadata": {},
   "outputs": [],
   "source": [
    "data = data[data.nunique(axis=1).ne(1)]"
   ]
  },
  {
   "cell_type": "code",
   "execution_count": 105,
   "metadata": {},
   "outputs": [
    {
     "data": {
      "text/html": [
       "<div>\n",
       "<style scoped>\n",
       "    .dataframe tbody tr th:only-of-type {\n",
       "        vertical-align: middle;\n",
       "    }\n",
       "\n",
       "    .dataframe tbody tr th {\n",
       "        vertical-align: top;\n",
       "    }\n",
       "\n",
       "    .dataframe thead th {\n",
       "        text-align: right;\n",
       "    }\n",
       "</style>\n",
       "<table border=\"1\" class=\"dataframe\">\n",
       "  <thead>\n",
       "    <tr style=\"text-align: right;\">\n",
       "      <th></th>\n",
       "      <th>a</th>\n",
       "      <th>b</th>\n",
       "      <th>c</th>\n",
       "    </tr>\n",
       "  </thead>\n",
       "  <tbody>\n",
       "    <tr>\n",
       "      <th>5</th>\n",
       "      <td>1</td>\n",
       "      <td>2</td>\n",
       "      <td>3</td>\n",
       "    </tr>\n",
       "    <tr>\n",
       "      <th>6</th>\n",
       "      <td>4</td>\n",
       "      <td>5</td>\n",
       "      <td>1</td>\n",
       "    </tr>\n",
       "    <tr>\n",
       "      <th>7</th>\n",
       "      <td>3</td>\n",
       "      <td>4</td>\n",
       "      <td>5</td>\n",
       "    </tr>\n",
       "  </tbody>\n",
       "</table>\n",
       "</div>"
      ],
      "text/plain": [
       "   a  b  c\n",
       "5  1  2  3\n",
       "6  4  5  1\n",
       "7  3  4  5"
      ]
     },
     "execution_count": 105,
     "metadata": {},
     "output_type": "execute_result"
    }
   ],
   "source": [
    "data"
   ]
  },
  {
   "cell_type": "code",
   "execution_count": 4,
   "metadata": {},
   "outputs": [
    {
     "data": {
      "text/html": [
       "<div>\n",
       "<style scoped>\n",
       "    .dataframe tbody tr th:only-of-type {\n",
       "        vertical-align: middle;\n",
       "    }\n",
       "\n",
       "    .dataframe tbody tr th {\n",
       "        vertical-align: top;\n",
       "    }\n",
       "\n",
       "    .dataframe thead th {\n",
       "        text-align: right;\n",
       "    }\n",
       "</style>\n",
       "<table border=\"1\" class=\"dataframe\">\n",
       "  <thead>\n",
       "    <tr style=\"text-align: right;\">\n",
       "      <th></th>\n",
       "      <th>a</th>\n",
       "    </tr>\n",
       "  </thead>\n",
       "  <tbody>\n",
       "    <tr>\n",
       "      <th>0</th>\n",
       "      <td>[123, 321]</td>\n",
       "    </tr>\n",
       "    <tr>\n",
       "      <th>1</th>\n",
       "      <td>[456, 654]</td>\n",
       "    </tr>\n",
       "    <tr>\n",
       "      <th>2</th>\n",
       "      <td>[312, 456]</td>\n",
       "    </tr>\n",
       "  </tbody>\n",
       "</table>\n",
       "</div>"
      ],
      "text/plain": [
       "            a\n",
       "0  [123, 321]\n",
       "1  [456, 654]\n",
       "2  [312, 456]"
      ]
     },
     "execution_count": 4,
     "metadata": {},
     "output_type": "execute_result"
    }
   ],
   "source": [
    "data = [{\"a\": [\"123\",\"321\"]},\n",
    "        {\"a\": [\"456\",\"654\"]},\n",
    "        {\"a\": [\"312\",\"456\"]},\n",
    "       ]\n",
    "\n",
    "data = pd.DataFrame(data)\n",
    "data"
   ]
  },
  {
   "cell_type": "code",
   "execution_count": 15,
   "metadata": {},
   "outputs": [
    {
     "data": {
      "text/html": [
       "<div>\n",
       "<style scoped>\n",
       "    .dataframe tbody tr th:only-of-type {\n",
       "        vertical-align: middle;\n",
       "    }\n",
       "\n",
       "    .dataframe tbody tr th {\n",
       "        vertical-align: top;\n",
       "    }\n",
       "\n",
       "    .dataframe thead th {\n",
       "        text-align: right;\n",
       "    }\n",
       "</style>\n",
       "<table border=\"1\" class=\"dataframe\">\n",
       "  <thead>\n",
       "    <tr style=\"text-align: right;\">\n",
       "      <th></th>\n",
       "      <th>a</th>\n",
       "    </tr>\n",
       "  </thead>\n",
       "  <tbody>\n",
       "    <tr>\n",
       "      <th>0</th>\n",
       "      <td>123; 321</td>\n",
       "    </tr>\n",
       "    <tr>\n",
       "      <th>1</th>\n",
       "      <td>456; 654</td>\n",
       "    </tr>\n",
       "    <tr>\n",
       "      <th>2</th>\n",
       "      <td>312; 456</td>\n",
       "    </tr>\n",
       "  </tbody>\n",
       "</table>\n",
       "</div>"
      ],
      "text/plain": [
       "          a\n",
       "0  123; 321\n",
       "1  456; 654\n",
       "2  312; 456"
      ]
     },
     "execution_count": 15,
     "metadata": {},
     "output_type": "execute_result"
    }
   ],
   "source": [
    "data = [{\"a\": \"123; 321\"},\n",
    "        {\"a\": \"456; 654\"},\n",
    "        {\"a\": \"312; 456\"},\n",
    "       ]\n",
    "\n",
    "data = pd.DataFrame(data)\n",
    "data"
   ]
  },
  {
   "cell_type": "code",
   "execution_count": 70,
   "metadata": {},
   "outputs": [
    {
     "data": {
      "text/plain": [
       "0    [123,  321]\n",
       "1    [456,  654]\n",
       "2    [312,  456]\n",
       "Name: a, dtype: object"
      ]
     },
     "execution_count": 70,
     "metadata": {},
     "output_type": "execute_result"
    }
   ],
   "source": [
    "separator = data[\"a\"].apply(lambda x : x.split(\";\"))\n",
    "separator"
   ]
  },
  {
   "cell_type": "code",
   "execution_count": 77,
   "metadata": {},
   "outputs": [
    {
     "name": "stdout",
     "output_type": "stream",
     "text": [
      "123\n",
      "321\n",
      "456\n",
      "654\n",
      "312\n",
      "456\n"
     ]
    }
   ],
   "source": [
    "for the_list in separator:\n",
    "    for x in the_list:\n",
    "        print(x.strip())"
   ]
  },
  {
   "cell_type": "code",
   "execution_count": 57,
   "metadata": {},
   "outputs": [
    {
     "data": {
      "text/plain": [
       "[{'123': 1}, {'321': 1}, {'456': 1}, {'654': 1}, {'312': 1}, {'456': 1}]"
      ]
     },
     "execution_count": 57,
     "metadata": {},
     "output_type": "execute_result"
    }
   ],
   "source": [
    "get_list = [{v: 1} for v in get_list]\n",
    "get_list"
   ]
  },
  {
   "cell_type": "code",
   "execution_count": 58,
   "metadata": {},
   "outputs": [
    {
     "data": {
      "text/html": [
       "<div>\n",
       "<style scoped>\n",
       "    .dataframe tbody tr th:only-of-type {\n",
       "        vertical-align: middle;\n",
       "    }\n",
       "\n",
       "    .dataframe tbody tr th {\n",
       "        vertical-align: top;\n",
       "    }\n",
       "\n",
       "    .dataframe thead th {\n",
       "        text-align: right;\n",
       "    }\n",
       "</style>\n",
       "<table border=\"1\" class=\"dataframe\">\n",
       "  <thead>\n",
       "    <tr style=\"text-align: right;\">\n",
       "      <th></th>\n",
       "      <th>123</th>\n",
       "      <th>312</th>\n",
       "      <th>321</th>\n",
       "      <th>456</th>\n",
       "      <th>654</th>\n",
       "    </tr>\n",
       "  </thead>\n",
       "  <tbody>\n",
       "    <tr>\n",
       "      <th>0</th>\n",
       "      <td>1.0</td>\n",
       "      <td>NaN</td>\n",
       "      <td>NaN</td>\n",
       "      <td>NaN</td>\n",
       "      <td>NaN</td>\n",
       "    </tr>\n",
       "    <tr>\n",
       "      <th>1</th>\n",
       "      <td>NaN</td>\n",
       "      <td>NaN</td>\n",
       "      <td>1.0</td>\n",
       "      <td>NaN</td>\n",
       "      <td>NaN</td>\n",
       "    </tr>\n",
       "    <tr>\n",
       "      <th>2</th>\n",
       "      <td>NaN</td>\n",
       "      <td>NaN</td>\n",
       "      <td>NaN</td>\n",
       "      <td>1.0</td>\n",
       "      <td>NaN</td>\n",
       "    </tr>\n",
       "    <tr>\n",
       "      <th>3</th>\n",
       "      <td>NaN</td>\n",
       "      <td>NaN</td>\n",
       "      <td>NaN</td>\n",
       "      <td>NaN</td>\n",
       "      <td>1.0</td>\n",
       "    </tr>\n",
       "    <tr>\n",
       "      <th>4</th>\n",
       "      <td>NaN</td>\n",
       "      <td>1.0</td>\n",
       "      <td>NaN</td>\n",
       "      <td>NaN</td>\n",
       "      <td>NaN</td>\n",
       "    </tr>\n",
       "    <tr>\n",
       "      <th>5</th>\n",
       "      <td>NaN</td>\n",
       "      <td>NaN</td>\n",
       "      <td>NaN</td>\n",
       "      <td>1.0</td>\n",
       "      <td>NaN</td>\n",
       "    </tr>\n",
       "  </tbody>\n",
       "</table>\n",
       "</div>"
      ],
      "text/plain": [
       "   123  312  321  456  654\n",
       "0  1.0  NaN  NaN  NaN  NaN\n",
       "1  NaN  NaN  1.0  NaN  NaN\n",
       "2  NaN  NaN  NaN  1.0  NaN\n",
       "3  NaN  NaN  NaN  NaN  1.0\n",
       "4  NaN  1.0  NaN  NaN  NaN\n",
       "5  NaN  NaN  NaN  1.0  NaN"
      ]
     },
     "execution_count": 58,
     "metadata": {},
     "output_type": "execute_result"
    }
   ],
   "source": [
    "pd.DataFrame(get_list)"
   ]
  },
  {
   "cell_type": "code",
   "execution_count": null,
   "metadata": {},
   "outputs": [],
   "source": []
  }
 ],
 "metadata": {
  "kernelspec": {
   "display_name": "Python 3",
   "language": "python",
   "name": "python3"
  },
  "language_info": {
   "codemirror_mode": {
    "name": "ipython",
    "version": 3
   },
   "file_extension": ".py",
   "mimetype": "text/x-python",
   "name": "python",
   "nbconvert_exporter": "python",
   "pygments_lexer": "ipython3",
   "version": "3.7.0"
  }
 },
 "nbformat": 4,
 "nbformat_minor": 2
}
