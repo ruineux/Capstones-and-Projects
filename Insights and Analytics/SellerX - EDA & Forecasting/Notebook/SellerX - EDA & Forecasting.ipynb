{
 "cells": [
  {
   "cell_type": "markdown",
   "id": "cb6faccd",
   "metadata": {},
   "source": [
    "# Imports"
   ]
  },
  {
   "cell_type": "markdown",
   "id": "90b9318d",
   "metadata": {},
   "source": [
    "## Libraries"
   ]
  },
  {
   "cell_type": "code",
   "execution_count": 2,
   "id": "93b2ddf2",
   "metadata": {
    "ExecuteTime": {
     "end_time": "2024-07-13T07:30:06.228593Z",
     "start_time": "2024-07-13T07:30:05.189502Z"
    }
   },
   "outputs": [],
   "source": [
    "import pandas as pd\n",
    "import numpy as np"
   ]
  },
  {
   "cell_type": "markdown",
   "id": "7e0d481b",
   "metadata": {},
   "source": [
    "## Data"
   ]
  },
  {
   "cell_type": "code",
   "execution_count": 3,
   "id": "a42cd446",
   "metadata": {
    "ExecuteTime": {
     "end_time": "2024-07-13T07:30:06.806480Z",
     "start_time": "2024-07-13T07:30:06.781262Z"
    }
   },
   "outputs": [],
   "source": [
    "PATH = \"../Data/\"\n",
    "DF = pd.read_csv(PATH + \"data_DataScientist.csv\")"
   ]
  },
  {
   "cell_type": "markdown",
   "id": "0cc50178",
   "metadata": {},
   "source": [
    "# EDA"
   ]
  },
  {
   "cell_type": "markdown",
   "id": "34da4fde",
   "metadata": {},
   "source": [
    "## Data Dictionary\n",
    "\n",
    "- **COUNTRY**: The country in which the items were sold\n",
    "- **DEPARTMENT**: The brand or department for which the items are being sold\n",
    "- **SKU**: The unique ID of a stock-keeping unit\n",
    "- **DATE**: The date of the sales transaction\n",
    "- **NUM_ITEMS_SOLD**: The number of items sold on a daily level"
   ]
  },
  {
   "cell_type": "code",
   "execution_count": 4,
   "id": "7096847c",
   "metadata": {
    "ExecuteTime": {
     "end_time": "2024-07-13T07:30:07.474811Z",
     "start_time": "2024-07-13T07:30:07.461270Z"
    }
   },
   "outputs": [
    {
     "data": {
      "text/html": [
       "<div>\n",
       "<style scoped>\n",
       "    .dataframe tbody tr th:only-of-type {\n",
       "        vertical-align: middle;\n",
       "    }\n",
       "\n",
       "    .dataframe tbody tr th {\n",
       "        vertical-align: top;\n",
       "    }\n",
       "\n",
       "    .dataframe thead th {\n",
       "        text-align: right;\n",
       "    }\n",
       "</style>\n",
       "<table border=\"1\" class=\"dataframe\">\n",
       "  <thead>\n",
       "    <tr style=\"text-align: right;\">\n",
       "      <th></th>\n",
       "      <th>COUNTRY</th>\n",
       "      <th>DEPARTMENT</th>\n",
       "      <th>SKU</th>\n",
       "      <th>DATE</th>\n",
       "      <th>NUM_ITEMS_SOLD</th>\n",
       "    </tr>\n",
       "  </thead>\n",
       "  <tbody>\n",
       "    <tr>\n",
       "      <th>0</th>\n",
       "      <td>C1</td>\n",
       "      <td>Dep1</td>\n",
       "      <td>SKU_1</td>\n",
       "      <td>2021-11-29</td>\n",
       "      <td>1</td>\n",
       "    </tr>\n",
       "    <tr>\n",
       "      <th>1</th>\n",
       "      <td>C1</td>\n",
       "      <td>Dep1</td>\n",
       "      <td>SKU_1</td>\n",
       "      <td>2021-11-30</td>\n",
       "      <td>1</td>\n",
       "    </tr>\n",
       "    <tr>\n",
       "      <th>2</th>\n",
       "      <td>C1</td>\n",
       "      <td>Dep1</td>\n",
       "      <td>SKU_1</td>\n",
       "      <td>2021-12-01</td>\n",
       "      <td>3</td>\n",
       "    </tr>\n",
       "    <tr>\n",
       "      <th>3</th>\n",
       "      <td>C1</td>\n",
       "      <td>Dep1</td>\n",
       "      <td>SKU_1</td>\n",
       "      <td>2021-12-02</td>\n",
       "      <td>2</td>\n",
       "    </tr>\n",
       "    <tr>\n",
       "      <th>4</th>\n",
       "      <td>C1</td>\n",
       "      <td>Dep1</td>\n",
       "      <td>SKU_1</td>\n",
       "      <td>2021-12-06</td>\n",
       "      <td>1</td>\n",
       "    </tr>\n",
       "    <tr>\n",
       "      <th>...</th>\n",
       "      <td>...</td>\n",
       "      <td>...</td>\n",
       "      <td>...</td>\n",
       "      <td>...</td>\n",
       "      <td>...</td>\n",
       "    </tr>\n",
       "    <tr>\n",
       "      <th>1910</th>\n",
       "      <td>C3</td>\n",
       "      <td>Dep2</td>\n",
       "      <td>SKU_123</td>\n",
       "      <td>2021-09-12</td>\n",
       "      <td>102</td>\n",
       "    </tr>\n",
       "    <tr>\n",
       "      <th>1911</th>\n",
       "      <td>C3</td>\n",
       "      <td>Dep2</td>\n",
       "      <td>SKU_124</td>\n",
       "      <td>2022-11-11</td>\n",
       "      <td>21</td>\n",
       "    </tr>\n",
       "    <tr>\n",
       "      <th>1912</th>\n",
       "      <td>C3</td>\n",
       "      <td>Dep1</td>\n",
       "      <td>SKU_125</td>\n",
       "      <td>2022-08-19</td>\n",
       "      <td>0</td>\n",
       "    </tr>\n",
       "    <tr>\n",
       "      <th>1913</th>\n",
       "      <td>C3</td>\n",
       "      <td>Dep1</td>\n",
       "      <td>SKU_126</td>\n",
       "      <td>2022-09-09</td>\n",
       "      <td>0</td>\n",
       "    </tr>\n",
       "    <tr>\n",
       "      <th>1914</th>\n",
       "      <td>C3</td>\n",
       "      <td>Dep1</td>\n",
       "      <td>SKU_127</td>\n",
       "      <td>2022-09-09</td>\n",
       "      <td>0</td>\n",
       "    </tr>\n",
       "  </tbody>\n",
       "</table>\n",
       "<p>1915 rows × 5 columns</p>\n",
       "</div>"
      ],
      "text/plain": [
       "     COUNTRY DEPARTMENT      SKU        DATE  NUM_ITEMS_SOLD\n",
       "0         C1       Dep1    SKU_1  2021-11-29               1\n",
       "1         C1       Dep1    SKU_1  2021-11-30               1\n",
       "2         C1       Dep1    SKU_1  2021-12-01               3\n",
       "3         C1       Dep1    SKU_1  2021-12-02               2\n",
       "4         C1       Dep1    SKU_1  2021-12-06               1\n",
       "...      ...        ...      ...         ...             ...\n",
       "1910      C3       Dep2  SKU_123  2021-09-12             102\n",
       "1911      C3       Dep2  SKU_124  2022-11-11              21\n",
       "1912      C3       Dep1  SKU_125  2022-08-19               0\n",
       "1913      C3       Dep1  SKU_126  2022-09-09               0\n",
       "1914      C3       Dep1  SKU_127  2022-09-09               0\n",
       "\n",
       "[1915 rows x 5 columns]"
      ]
     },
     "execution_count": 4,
     "metadata": {},
     "output_type": "execute_result"
    }
   ],
   "source": [
    "DF"
   ]
  },
  {
   "cell_type": "code",
   "execution_count": 5,
   "id": "a41b2f46",
   "metadata": {
    "ExecuteTime": {
     "end_time": "2024-07-13T07:30:07.977644Z",
     "start_time": "2024-07-13T07:30:07.973365Z"
    }
   },
   "outputs": [
    {
     "data": {
      "text/plain": [
       "COUNTRY           object\n",
       "DEPARTMENT        object\n",
       "SKU               object\n",
       "DATE              object\n",
       "NUM_ITEMS_SOLD     int64\n",
       "dtype: object"
      ]
     },
     "execution_count": 5,
     "metadata": {},
     "output_type": "execute_result"
    }
   ],
   "source": [
    "DF.dtypes"
   ]
  },
  {
   "cell_type": "code",
   "execution_count": 6,
   "id": "891f67b5",
   "metadata": {
    "ExecuteTime": {
     "end_time": "2024-07-13T07:30:08.356310Z",
     "start_time": "2024-07-13T07:30:08.349183Z"
    }
   },
   "outputs": [],
   "source": [
    "DF[\"DATE\"] = pd.to_datetime(DF[\"DATE\"])"
   ]
  },
  {
   "cell_type": "code",
   "execution_count": 7,
   "id": "efe4bd2b",
   "metadata": {
    "ExecuteTime": {
     "end_time": "2024-07-13T07:30:09.406687Z",
     "start_time": "2024-07-13T07:30:08.725544Z"
    }
   },
   "outputs": [
    {
     "data": {
      "text/plain": [
       "<Axes: >"
      ]
     },
     "execution_count": 7,
     "metadata": {},
     "output_type": "execute_result"
    },
    {
     "data": {
      "image/png": "[encoded data removed]",
      "text/plain": [
       "<Figure size 640x480 with 1 Axes>"
      ]
     },
     "metadata": {},
     "output_type": "display_data"
    }
   ],
   "source": [
    "DF[\"NUM_ITEMS_SOLD\"].hist()"
   ]
  },
  {
   "cell_type": "code",
   "execution_count": 8,
   "id": "8679ccdf",
   "metadata": {
    "ExecuteTime": {
     "end_time": "2024-07-13T07:30:10.533122Z",
     "start_time": "2024-07-13T07:30:10.525039Z"
    }
   },
   "outputs": [
    {
     "data": {
      "text/plain": [
       "NUM_ITEMS_SOLD\n",
       "0    904\n",
       "1    411\n",
       "2    161\n",
       "3     96\n",
       "4     66\n",
       "5     40\n",
       "6     26\n",
       "7     20\n",
       "8     16\n",
       "9     16\n",
       "Name: count, dtype: int64"
      ]
     },
     "execution_count": 8,
     "metadata": {},
     "output_type": "execute_result"
    }
   ],
   "source": [
    "DF[\"NUM_ITEMS_SOLD\"].value_counts().sort_values(ascending=False).head(10)"
   ]
  },
  {
   "cell_type": "code",
   "execution_count": 9,
   "id": "e3b83a0b",
   "metadata": {
    "ExecuteTime": {
     "end_time": "2024-07-13T07:30:11.139047Z",
     "start_time": "2024-07-13T07:30:11.133276Z"
    }
   },
   "outputs": [
    {
     "data": {
      "text/plain": [
       "DEPARTMENT\n",
       "Dep1    1711\n",
       "Dep2     204\n",
       "Name: count, dtype: int64"
      ]
     },
     "execution_count": 9,
     "metadata": {},
     "output_type": "execute_result"
    }
   ],
   "source": [
    "DF[\"DEPARTMENT\"].value_counts()"
   ]
  },
  {
   "cell_type": "code",
   "execution_count": 10,
   "id": "52b0a551",
   "metadata": {
    "ExecuteTime": {
     "end_time": "2024-07-13T07:30:12.371738Z",
     "start_time": "2024-07-13T07:30:12.365622Z"
    }
   },
   "outputs": [
    {
     "data": {
      "text/plain": [
       "DEPARTMENT\n",
       "Dep2    16646\n",
       "Dep1     2885\n",
       "Name: NUM_ITEMS_SOLD, dtype: int64"
      ]
     },
     "execution_count": 10,
     "metadata": {},
     "output_type": "execute_result"
    }
   ],
   "source": [
    "DF.groupby([\"DEPARTMENT\"])[\"NUM_ITEMS_SOLD\"].sum().sort_values(ascending=False)"
   ]
  },
  {
   "cell_type": "markdown",
   "id": "af212eb3",
   "metadata": {},
   "source": [
    "### Check if SKUs are mutually exclusive to Department"
   ]
  },
  {
   "cell_type": "code",
   "execution_count": 11,
   "id": "cda2fd96",
   "metadata": {
    "ExecuteTime": {
     "end_time": "2024-07-13T07:30:13.339417Z",
     "start_time": "2024-07-13T07:30:13.326206Z"
    }
   },
   "outputs": [
    {
     "data": {
      "text/html": [
       "<div>\n",
       "<style scoped>\n",
       "    .dataframe tbody tr th:only-of-type {\n",
       "        vertical-align: middle;\n",
       "    }\n",
       "\n",
       "    .dataframe tbody tr th {\n",
       "        vertical-align: top;\n",
       "    }\n",
       "\n",
       "    .dataframe thead th {\n",
       "        text-align: right;\n",
       "    }\n",
       "</style>\n",
       "<table border=\"1\" class=\"dataframe\">\n",
       "  <thead>\n",
       "    <tr style=\"text-align: right;\">\n",
       "      <th>DEPARTMENT</th>\n",
       "      <th>Dep1</th>\n",
       "      <th>Dep2</th>\n",
       "    </tr>\n",
       "    <tr>\n",
       "      <th>SKU</th>\n",
       "      <th></th>\n",
       "      <th></th>\n",
       "    </tr>\n",
       "  </thead>\n",
       "  <tbody>\n",
       "    <tr>\n",
       "      <th>SKU_1</th>\n",
       "      <td>54.0</td>\n",
       "      <td>NaN</td>\n",
       "    </tr>\n",
       "    <tr>\n",
       "      <th>SKU_10</th>\n",
       "      <td>16.0</td>\n",
       "      <td>NaN</td>\n",
       "    </tr>\n",
       "    <tr>\n",
       "      <th>SKU_100</th>\n",
       "      <td>49.0</td>\n",
       "      <td>NaN</td>\n",
       "    </tr>\n",
       "    <tr>\n",
       "      <th>SKU_101</th>\n",
       "      <td>15.0</td>\n",
       "      <td>NaN</td>\n",
       "    </tr>\n",
       "    <tr>\n",
       "      <th>SKU_102</th>\n",
       "      <td>0.0</td>\n",
       "      <td>NaN</td>\n",
       "    </tr>\n",
       "    <tr>\n",
       "      <th>...</th>\n",
       "      <td>...</td>\n",
       "      <td>...</td>\n",
       "    </tr>\n",
       "    <tr>\n",
       "      <th>SKU_95</th>\n",
       "      <td>69.0</td>\n",
       "      <td>NaN</td>\n",
       "    </tr>\n",
       "    <tr>\n",
       "      <th>SKU_96</th>\n",
       "      <td>25.0</td>\n",
       "      <td>NaN</td>\n",
       "    </tr>\n",
       "    <tr>\n",
       "      <th>SKU_97</th>\n",
       "      <td>30.0</td>\n",
       "      <td>NaN</td>\n",
       "    </tr>\n",
       "    <tr>\n",
       "      <th>SKU_98</th>\n",
       "      <td>1.0</td>\n",
       "      <td>NaN</td>\n",
       "    </tr>\n",
       "    <tr>\n",
       "      <th>SKU_99</th>\n",
       "      <td>11.0</td>\n",
       "      <td>NaN</td>\n",
       "    </tr>\n",
       "  </tbody>\n",
       "</table>\n",
       "<p>127 rows × 2 columns</p>\n",
       "</div>"
      ],
      "text/plain": [
       "DEPARTMENT  Dep1  Dep2\n",
       "SKU                   \n",
       "SKU_1       54.0   NaN\n",
       "SKU_10      16.0   NaN\n",
       "SKU_100     49.0   NaN\n",
       "SKU_101     15.0   NaN\n",
       "SKU_102      0.0   NaN\n",
       "...          ...   ...\n",
       "SKU_95      69.0   NaN\n",
       "SKU_96      25.0   NaN\n",
       "SKU_97      30.0   NaN\n",
       "SKU_98       1.0   NaN\n",
       "SKU_99      11.0   NaN\n",
       "\n",
       "[127 rows x 2 columns]"
      ]
     },
     "execution_count": 11,
     "metadata": {},
     "output_type": "execute_result"
    }
   ],
   "source": [
    "A = DF.groupby([\"SKU\",\"DEPARTMENT\"])[\"NUM_ITEMS_SOLD\"].sum().unstack()\n",
    "A"
   ]
  },
  {
   "cell_type": "code",
   "execution_count": 61,
   "id": "48dfb659",
   "metadata": {
    "ExecuteTime": {
     "end_time": "2024-07-08T17:00:12.652662Z",
     "start_time": "2024-07-08T17:00:12.645211Z"
    }
   },
   "outputs": [
    {
     "data": {
      "text/plain": [
       "0"
      ]
     },
     "execution_count": 61,
     "metadata": {},
     "output_type": "execute_result"
    }
   ],
   "source": [
    "(A[\"Dep1\"] == A[\"Dep2\"]).sum()"
   ]
  },
  {
   "cell_type": "markdown",
   "id": "eb203269",
   "metadata": {},
   "source": [
    "Department 1 & 2 are mutually exclusive with each other"
   ]
  },
  {
   "cell_type": "markdown",
   "id": "5e4ee85d",
   "metadata": {},
   "source": [
    "## Checking per country's Stock Keeping Units"
   ]
  },
  {
   "cell_type": "code",
   "execution_count": 1,
   "id": "808e5f24",
   "metadata": {
    "ExecuteTime": {
     "end_time": "2024-07-13T07:30:01.092728Z",
     "start_time": "2024-07-13T07:30:00.687257Z"
    }
   },
   "outputs": [
    {
     "ename": "NameError",
     "evalue": "name 'DF' is not defined",
     "output_type": "error",
     "traceback": [
      "\u001b[1;31m---------------------------------------------------------------------------\u001b[0m",
      "\u001b[1;31mNameError\u001b[0m                                 Traceback (most recent call last)",
      "Cell \u001b[1;32mIn[1], line 1\u001b[0m\n\u001b[1;32m----> 1\u001b[0m DF\u001b[38;5;241m.\u001b[39mgroupby([\u001b[38;5;124m\"\u001b[39m\u001b[38;5;124mDEPARTMENT\u001b[39m\u001b[38;5;124m\"\u001b[39m,\u001b[38;5;124m\"\u001b[39m\u001b[38;5;124mCOUNTRY\u001b[39m\u001b[38;5;124m\"\u001b[39m])[\u001b[38;5;124m\"\u001b[39m\u001b[38;5;124mSKU\u001b[39m\u001b[38;5;124m\"\u001b[39m]\u001b[38;5;241m.\u001b[39mcount()\u001b[38;5;241m.\u001b[39munstack()\n",
      "\u001b[1;31mNameError\u001b[0m: name 'DF' is not defined"
     ]
    }
   ],
   "source": [
    "DF.groupby([\"DEPARTMENT\",\"COUNTRY\"])[\"SKU\"].count().unstack()"
   ]
  },
  {
   "cell_type": "markdown",
   "id": "5583e453",
   "metadata": {},
   "source": [
    "Some countries are using the same "
   ]
  },
  {
   "cell_type": "code",
   "execution_count": 38,
   "id": "3750eae2",
   "metadata": {
    "ExecuteTime": {
     "end_time": "2024-07-08T16:32:54.164304Z",
     "start_time": "2024-07-08T16:32:54.152667Z"
    }
   },
   "outputs": [
    {
     "data": {
      "text/html": [
       "<div>\n",
       "<style scoped>\n",
       "    .dataframe tbody tr th:only-of-type {\n",
       "        vertical-align: middle;\n",
       "    }\n",
       "\n",
       "    .dataframe tbody tr th {\n",
       "        vertical-align: top;\n",
       "    }\n",
       "\n",
       "    .dataframe thead th {\n",
       "        text-align: right;\n",
       "    }\n",
       "</style>\n",
       "<table border=\"1\" class=\"dataframe\">\n",
       "  <thead>\n",
       "    <tr style=\"text-align: right;\">\n",
       "      <th></th>\n",
       "      <th>COUNTRY</th>\n",
       "      <th>C1</th>\n",
       "      <th>C2</th>\n",
       "      <th>C3</th>\n",
       "    </tr>\n",
       "    <tr>\n",
       "      <th>DATE</th>\n",
       "      <th>DEPARTMENT</th>\n",
       "      <th></th>\n",
       "      <th></th>\n",
       "      <th></th>\n",
       "    </tr>\n",
       "  </thead>\n",
       "  <tbody>\n",
       "    <tr>\n",
       "      <th>2021-07-20</th>\n",
       "      <th>Dep1</th>\n",
       "      <td>1.0</td>\n",
       "      <td>NaN</td>\n",
       "      <td>NaN</td>\n",
       "    </tr>\n",
       "    <tr>\n",
       "      <th>2021-07-21</th>\n",
       "      <th>Dep1</th>\n",
       "      <td>2.0</td>\n",
       "      <td>NaN</td>\n",
       "      <td>NaN</td>\n",
       "    </tr>\n",
       "    <tr>\n",
       "      <th>2021-07-22</th>\n",
       "      <th>Dep1</th>\n",
       "      <td>0.0</td>\n",
       "      <td>NaN</td>\n",
       "      <td>NaN</td>\n",
       "    </tr>\n",
       "    <tr>\n",
       "      <th>2021-07-23</th>\n",
       "      <th>Dep1</th>\n",
       "      <td>13.0</td>\n",
       "      <td>NaN</td>\n",
       "      <td>NaN</td>\n",
       "    </tr>\n",
       "    <tr>\n",
       "      <th>2021-07-24</th>\n",
       "      <th>Dep1</th>\n",
       "      <td>0.0</td>\n",
       "      <td>NaN</td>\n",
       "      <td>NaN</td>\n",
       "    </tr>\n",
       "    <tr>\n",
       "      <th>...</th>\n",
       "      <th>...</th>\n",
       "      <td>...</td>\n",
       "      <td>...</td>\n",
       "      <td>...</td>\n",
       "    </tr>\n",
       "    <tr>\n",
       "      <th>2022-12-08</th>\n",
       "      <th>Dep2</th>\n",
       "      <td>NaN</td>\n",
       "      <td>NaN</td>\n",
       "      <td>29.0</td>\n",
       "    </tr>\n",
       "    <tr>\n",
       "      <th rowspan=\"2\" valign=\"top\">2022-12-11</th>\n",
       "      <th>Dep1</th>\n",
       "      <td>3.0</td>\n",
       "      <td>0.0</td>\n",
       "      <td>NaN</td>\n",
       "    </tr>\n",
       "    <tr>\n",
       "      <th>Dep2</th>\n",
       "      <td>NaN</td>\n",
       "      <td>NaN</td>\n",
       "      <td>40.0</td>\n",
       "    </tr>\n",
       "    <tr>\n",
       "      <th rowspan=\"2\" valign=\"top\">2022-12-12</th>\n",
       "      <th>Dep1</th>\n",
       "      <td>6.0</td>\n",
       "      <td>0.0</td>\n",
       "      <td>NaN</td>\n",
       "    </tr>\n",
       "    <tr>\n",
       "      <th>Dep2</th>\n",
       "      <td>NaN</td>\n",
       "      <td>NaN</td>\n",
       "      <td>0.0</td>\n",
       "    </tr>\n",
       "  </tbody>\n",
       "</table>\n",
       "<p>558 rows × 3 columns</p>\n",
       "</div>"
      ],
      "text/plain": [
       "COUNTRY                  C1   C2    C3\n",
       "DATE       DEPARTMENT                 \n",
       "2021-07-20 Dep1         1.0  NaN   NaN\n",
       "2021-07-21 Dep1         2.0  NaN   NaN\n",
       "2021-07-22 Dep1         0.0  NaN   NaN\n",
       "2021-07-23 Dep1        13.0  NaN   NaN\n",
       "2021-07-24 Dep1         0.0  NaN   NaN\n",
       "...                     ...  ...   ...\n",
       "2022-12-08 Dep2         NaN  NaN  29.0\n",
       "2022-12-11 Dep1         3.0  0.0   NaN\n",
       "           Dep2         NaN  NaN  40.0\n",
       "2022-12-12 Dep1         6.0  0.0   NaN\n",
       "           Dep2         NaN  NaN   0.0\n",
       "\n",
       "[558 rows x 3 columns]"
      ]
     },
     "execution_count": 38,
     "metadata": {},
     "output_type": "execute_result"
    }
   ],
   "source": [
    "DF.groupby([\"DATE\",\"DEPARTMENT\",\"COUNTRY\"])[\"NUM_ITEMS_SOLD\"].sum().unstack()"
   ]
  },
  {
   "cell_type": "code",
   "execution_count": null,
   "id": "5c577c4e",
   "metadata": {},
   "outputs": [],
   "source": []
  },
  {
   "cell_type": "code",
   "execution_count": 49,
   "id": "663cec83",
   "metadata": {
    "ExecuteTime": {
     "end_time": "2024-07-08T16:38:40.483633Z",
     "start_time": "2024-07-08T16:38:40.474955Z"
    }
   },
   "outputs": [
    {
     "data": {
      "text/html": [
       "<div>\n",
       "<style scoped>\n",
       "    .dataframe tbody tr th:only-of-type {\n",
       "        vertical-align: middle;\n",
       "    }\n",
       "\n",
       "    .dataframe tbody tr th {\n",
       "        vertical-align: top;\n",
       "    }\n",
       "\n",
       "    .dataframe thead th {\n",
       "        text-align: right;\n",
       "    }\n",
       "</style>\n",
       "<table border=\"1\" class=\"dataframe\">\n",
       "  <thead>\n",
       "    <tr style=\"text-align: right;\">\n",
       "      <th></th>\n",
       "      <th>COUNTRY</th>\n",
       "      <th>C1</th>\n",
       "      <th>C2</th>\n",
       "      <th>C3</th>\n",
       "    </tr>\n",
       "    <tr>\n",
       "      <th>DATE</th>\n",
       "      <th>DEPARTMENT</th>\n",
       "      <th></th>\n",
       "      <th></th>\n",
       "      <th></th>\n",
       "    </tr>\n",
       "  </thead>\n",
       "  <tbody>\n",
       "    <tr>\n",
       "      <th>2021-07-20</th>\n",
       "      <th>Dep1</th>\n",
       "      <td>1</td>\n",
       "      <td>0</td>\n",
       "      <td>0</td>\n",
       "    </tr>\n",
       "    <tr>\n",
       "      <th>2021-07-21</th>\n",
       "      <th>Dep1</th>\n",
       "      <td>1</td>\n",
       "      <td>0</td>\n",
       "      <td>0</td>\n",
       "    </tr>\n",
       "    <tr>\n",
       "      <th>2021-07-22</th>\n",
       "      <th>Dep1</th>\n",
       "      <td>0</td>\n",
       "      <td>0</td>\n",
       "      <td>0</td>\n",
       "    </tr>\n",
       "    <tr>\n",
       "      <th>2021-07-23</th>\n",
       "      <th>Dep1</th>\n",
       "      <td>1</td>\n",
       "      <td>0</td>\n",
       "      <td>0</td>\n",
       "    </tr>\n",
       "    <tr>\n",
       "      <th>2021-07-24</th>\n",
       "      <th>Dep1</th>\n",
       "      <td>0</td>\n",
       "      <td>0</td>\n",
       "      <td>0</td>\n",
       "    </tr>\n",
       "    <tr>\n",
       "      <th>...</th>\n",
       "      <th>...</th>\n",
       "      <td>...</td>\n",
       "      <td>...</td>\n",
       "      <td>...</td>\n",
       "    </tr>\n",
       "    <tr>\n",
       "      <th>2022-12-08</th>\n",
       "      <th>Dep2</th>\n",
       "      <td>0</td>\n",
       "      <td>0</td>\n",
       "      <td>1</td>\n",
       "    </tr>\n",
       "    <tr>\n",
       "      <th rowspan=\"2\" valign=\"top\">2022-12-11</th>\n",
       "      <th>Dep1</th>\n",
       "      <td>1</td>\n",
       "      <td>0</td>\n",
       "      <td>0</td>\n",
       "    </tr>\n",
       "    <tr>\n",
       "      <th>Dep2</th>\n",
       "      <td>0</td>\n",
       "      <td>0</td>\n",
       "      <td>1</td>\n",
       "    </tr>\n",
       "    <tr>\n",
       "      <th rowspan=\"2\" valign=\"top\">2022-12-12</th>\n",
       "      <th>Dep1</th>\n",
       "      <td>1</td>\n",
       "      <td>0</td>\n",
       "      <td>0</td>\n",
       "    </tr>\n",
       "    <tr>\n",
       "      <th>Dep2</th>\n",
       "      <td>0</td>\n",
       "      <td>0</td>\n",
       "      <td>0</td>\n",
       "    </tr>\n",
       "  </tbody>\n",
       "</table>\n",
       "<p>558 rows × 3 columns</p>\n",
       "</div>"
      ],
      "text/plain": [
       "COUNTRY                C1  C2  C3\n",
       "DATE       DEPARTMENT            \n",
       "2021-07-20 Dep1         1   0   0\n",
       "2021-07-21 Dep1         1   0   0\n",
       "2021-07-22 Dep1         0   0   0\n",
       "2021-07-23 Dep1         1   0   0\n",
       "2021-07-24 Dep1         0   0   0\n",
       "...                    ..  ..  ..\n",
       "2022-12-08 Dep2         0   0   1\n",
       "2022-12-11 Dep1         1   0   0\n",
       "           Dep2         0   0   1\n",
       "2022-12-12 Dep1         1   0   0\n",
       "           Dep2         0   0   0\n",
       "\n",
       "[558 rows x 3 columns]"
      ]
     },
     "execution_count": 49,
     "metadata": {},
     "output_type": "execute_result"
    }
   ],
   "source": [
    "(DF.groupby([\"DATE\",\"DEPARTMENT\",\"COUNTRY\"])[\"NUM_ITEMS_SOLD\"].sum().unstack().fillna(0) > 0)*1"
   ]
  },
  {
   "cell_type": "code",
   "execution_count": 50,
   "id": "118e7847",
   "metadata": {
    "ExecuteTime": {
     "end_time": "2024-07-08T16:38:58.770969Z",
     "start_time": "2024-07-08T16:38:58.745419Z"
    }
   },
   "outputs": [
    {
     "data": {
      "text/html": [
       "<div>\n",
       "<style scoped>\n",
       "    .dataframe tbody tr th:only-of-type {\n",
       "        vertical-align: middle;\n",
       "    }\n",
       "\n",
       "    .dataframe tbody tr th {\n",
       "        vertical-align: top;\n",
       "    }\n",
       "\n",
       "    .dataframe thead th {\n",
       "        text-align: right;\n",
       "    }\n",
       "</style>\n",
       "<table border=\"1\" class=\"dataframe\">\n",
       "  <thead>\n",
       "    <tr style=\"text-align: right;\">\n",
       "      <th></th>\n",
       "      <th>SKU</th>\n",
       "      <th>SKU_1</th>\n",
       "      <th>SKU_10</th>\n",
       "      <th>SKU_100</th>\n",
       "      <th>SKU_101</th>\n",
       "      <th>SKU_102</th>\n",
       "      <th>SKU_103</th>\n",
       "      <th>SKU_104</th>\n",
       "      <th>SKU_105</th>\n",
       "      <th>SKU_106</th>\n",
       "      <th>SKU_107</th>\n",
       "      <th>...</th>\n",
       "      <th>SKU_90</th>\n",
       "      <th>SKU_91</th>\n",
       "      <th>SKU_92</th>\n",
       "      <th>SKU_93</th>\n",
       "      <th>SKU_94</th>\n",
       "      <th>SKU_95</th>\n",
       "      <th>SKU_96</th>\n",
       "      <th>SKU_97</th>\n",
       "      <th>SKU_98</th>\n",
       "      <th>SKU_99</th>\n",
       "    </tr>\n",
       "    <tr>\n",
       "      <th>DATE</th>\n",
       "      <th>DEPARTMENT</th>\n",
       "      <th></th>\n",
       "      <th></th>\n",
       "      <th></th>\n",
       "      <th></th>\n",
       "      <th></th>\n",
       "      <th></th>\n",
       "      <th></th>\n",
       "      <th></th>\n",
       "      <th></th>\n",
       "      <th></th>\n",
       "      <th></th>\n",
       "      <th></th>\n",
       "      <th></th>\n",
       "      <th></th>\n",
       "      <th></th>\n",
       "      <th></th>\n",
       "      <th></th>\n",
       "      <th></th>\n",
       "      <th></th>\n",
       "      <th></th>\n",
       "      <th></th>\n",
       "    </tr>\n",
       "  </thead>\n",
       "  <tbody>\n",
       "    <tr>\n",
       "      <th>2021-07-20</th>\n",
       "      <th>Dep1</th>\n",
       "      <td>0.0</td>\n",
       "      <td>0.0</td>\n",
       "      <td>0.0</td>\n",
       "      <td>0.0</td>\n",
       "      <td>0.0</td>\n",
       "      <td>0.0</td>\n",
       "      <td>0.0</td>\n",
       "      <td>0.0</td>\n",
       "      <td>0.0</td>\n",
       "      <td>0.0</td>\n",
       "      <td>...</td>\n",
       "      <td>0.0</td>\n",
       "      <td>0.0</td>\n",
       "      <td>0.0</td>\n",
       "      <td>0.0</td>\n",
       "      <td>0.0</td>\n",
       "      <td>0.0</td>\n",
       "      <td>0.0</td>\n",
       "      <td>0.0</td>\n",
       "      <td>0.0</td>\n",
       "      <td>0.0</td>\n",
       "    </tr>\n",
       "    <tr>\n",
       "      <th>2021-07-21</th>\n",
       "      <th>Dep1</th>\n",
       "      <td>0.0</td>\n",
       "      <td>0.0</td>\n",
       "      <td>0.0</td>\n",
       "      <td>0.0</td>\n",
       "      <td>0.0</td>\n",
       "      <td>0.0</td>\n",
       "      <td>0.0</td>\n",
       "      <td>0.0</td>\n",
       "      <td>0.0</td>\n",
       "      <td>0.0</td>\n",
       "      <td>...</td>\n",
       "      <td>0.0</td>\n",
       "      <td>0.0</td>\n",
       "      <td>0.0</td>\n",
       "      <td>0.0</td>\n",
       "      <td>0.0</td>\n",
       "      <td>0.0</td>\n",
       "      <td>0.0</td>\n",
       "      <td>0.0</td>\n",
       "      <td>0.0</td>\n",
       "      <td>0.0</td>\n",
       "    </tr>\n",
       "    <tr>\n",
       "      <th>2021-07-22</th>\n",
       "      <th>Dep1</th>\n",
       "      <td>0.0</td>\n",
       "      <td>0.0</td>\n",
       "      <td>0.0</td>\n",
       "      <td>0.0</td>\n",
       "      <td>0.0</td>\n",
       "      <td>0.0</td>\n",
       "      <td>0.0</td>\n",
       "      <td>0.0</td>\n",
       "      <td>0.0</td>\n",
       "      <td>0.0</td>\n",
       "      <td>...</td>\n",
       "      <td>0.0</td>\n",
       "      <td>0.0</td>\n",
       "      <td>0.0</td>\n",
       "      <td>0.0</td>\n",
       "      <td>0.0</td>\n",
       "      <td>0.0</td>\n",
       "      <td>0.0</td>\n",
       "      <td>0.0</td>\n",
       "      <td>0.0</td>\n",
       "      <td>0.0</td>\n",
       "    </tr>\n",
       "    <tr>\n",
       "      <th>2021-07-23</th>\n",
       "      <th>Dep1</th>\n",
       "      <td>0.0</td>\n",
       "      <td>0.0</td>\n",
       "      <td>0.0</td>\n",
       "      <td>0.0</td>\n",
       "      <td>0.0</td>\n",
       "      <td>0.0</td>\n",
       "      <td>0.0</td>\n",
       "      <td>0.0</td>\n",
       "      <td>0.0</td>\n",
       "      <td>0.0</td>\n",
       "      <td>...</td>\n",
       "      <td>0.0</td>\n",
       "      <td>0.0</td>\n",
       "      <td>0.0</td>\n",
       "      <td>0.0</td>\n",
       "      <td>0.0</td>\n",
       "      <td>0.0</td>\n",
       "      <td>0.0</td>\n",
       "      <td>0.0</td>\n",
       "      <td>0.0</td>\n",
       "      <td>0.0</td>\n",
       "    </tr>\n",
       "    <tr>\n",
       "      <th>2021-07-24</th>\n",
       "      <th>Dep1</th>\n",
       "      <td>0.0</td>\n",
       "      <td>0.0</td>\n",
       "      <td>0.0</td>\n",
       "      <td>0.0</td>\n",
       "      <td>0.0</td>\n",
       "      <td>0.0</td>\n",
       "      <td>0.0</td>\n",
       "      <td>0.0</td>\n",
       "      <td>0.0</td>\n",
       "      <td>0.0</td>\n",
       "      <td>...</td>\n",
       "      <td>0.0</td>\n",
       "      <td>0.0</td>\n",
       "      <td>0.0</td>\n",
       "      <td>0.0</td>\n",
       "      <td>0.0</td>\n",
       "      <td>0.0</td>\n",
       "      <td>0.0</td>\n",
       "      <td>0.0</td>\n",
       "      <td>0.0</td>\n",
       "      <td>0.0</td>\n",
       "    </tr>\n",
       "    <tr>\n",
       "      <th>...</th>\n",
       "      <th>...</th>\n",
       "      <td>...</td>\n",
       "      <td>...</td>\n",
       "      <td>...</td>\n",
       "      <td>...</td>\n",
       "      <td>...</td>\n",
       "      <td>...</td>\n",
       "      <td>...</td>\n",
       "      <td>...</td>\n",
       "      <td>...</td>\n",
       "      <td>...</td>\n",
       "      <td>...</td>\n",
       "      <td>...</td>\n",
       "      <td>...</td>\n",
       "      <td>...</td>\n",
       "      <td>...</td>\n",
       "      <td>...</td>\n",
       "      <td>...</td>\n",
       "      <td>...</td>\n",
       "      <td>...</td>\n",
       "      <td>...</td>\n",
       "      <td>...</td>\n",
       "    </tr>\n",
       "    <tr>\n",
       "      <th>2022-12-08</th>\n",
       "      <th>Dep2</th>\n",
       "      <td>0.0</td>\n",
       "      <td>0.0</td>\n",
       "      <td>0.0</td>\n",
       "      <td>0.0</td>\n",
       "      <td>0.0</td>\n",
       "      <td>0.0</td>\n",
       "      <td>0.0</td>\n",
       "      <td>0.0</td>\n",
       "      <td>0.0</td>\n",
       "      <td>0.0</td>\n",
       "      <td>...</td>\n",
       "      <td>0.0</td>\n",
       "      <td>0.0</td>\n",
       "      <td>0.0</td>\n",
       "      <td>0.0</td>\n",
       "      <td>0.0</td>\n",
       "      <td>0.0</td>\n",
       "      <td>0.0</td>\n",
       "      <td>0.0</td>\n",
       "      <td>0.0</td>\n",
       "      <td>0.0</td>\n",
       "    </tr>\n",
       "    <tr>\n",
       "      <th rowspan=\"2\" valign=\"top\">2022-12-11</th>\n",
       "      <th>Dep1</th>\n",
       "      <td>0.0</td>\n",
       "      <td>0.0</td>\n",
       "      <td>0.0</td>\n",
       "      <td>0.0</td>\n",
       "      <td>0.0</td>\n",
       "      <td>0.0</td>\n",
       "      <td>0.0</td>\n",
       "      <td>0.0</td>\n",
       "      <td>0.0</td>\n",
       "      <td>0.0</td>\n",
       "      <td>...</td>\n",
       "      <td>0.0</td>\n",
       "      <td>0.0</td>\n",
       "      <td>0.0</td>\n",
       "      <td>0.0</td>\n",
       "      <td>0.0</td>\n",
       "      <td>0.0</td>\n",
       "      <td>0.0</td>\n",
       "      <td>0.0</td>\n",
       "      <td>0.0</td>\n",
       "      <td>0.0</td>\n",
       "    </tr>\n",
       "    <tr>\n",
       "      <th>Dep2</th>\n",
       "      <td>0.0</td>\n",
       "      <td>0.0</td>\n",
       "      <td>0.0</td>\n",
       "      <td>0.0</td>\n",
       "      <td>0.0</td>\n",
       "      <td>0.0</td>\n",
       "      <td>0.0</td>\n",
       "      <td>0.0</td>\n",
       "      <td>0.0</td>\n",
       "      <td>0.0</td>\n",
       "      <td>...</td>\n",
       "      <td>0.0</td>\n",
       "      <td>0.0</td>\n",
       "      <td>0.0</td>\n",
       "      <td>0.0</td>\n",
       "      <td>0.0</td>\n",
       "      <td>0.0</td>\n",
       "      <td>0.0</td>\n",
       "      <td>0.0</td>\n",
       "      <td>0.0</td>\n",
       "      <td>0.0</td>\n",
       "    </tr>\n",
       "    <tr>\n",
       "      <th rowspan=\"2\" valign=\"top\">2022-12-12</th>\n",
       "      <th>Dep1</th>\n",
       "      <td>0.0</td>\n",
       "      <td>0.0</td>\n",
       "      <td>0.0</td>\n",
       "      <td>0.0</td>\n",
       "      <td>0.0</td>\n",
       "      <td>0.0</td>\n",
       "      <td>0.0</td>\n",
       "      <td>0.0</td>\n",
       "      <td>0.0</td>\n",
       "      <td>0.0</td>\n",
       "      <td>...</td>\n",
       "      <td>0.0</td>\n",
       "      <td>0.0</td>\n",
       "      <td>0.0</td>\n",
       "      <td>0.0</td>\n",
       "      <td>0.0</td>\n",
       "      <td>0.0</td>\n",
       "      <td>0.0</td>\n",
       "      <td>0.0</td>\n",
       "      <td>0.0</td>\n",
       "      <td>0.0</td>\n",
       "    </tr>\n",
       "    <tr>\n",
       "      <th>Dep2</th>\n",
       "      <td>0.0</td>\n",
       "      <td>0.0</td>\n",
       "      <td>0.0</td>\n",
       "      <td>0.0</td>\n",
       "      <td>0.0</td>\n",
       "      <td>0.0</td>\n",
       "      <td>0.0</td>\n",
       "      <td>0.0</td>\n",
       "      <td>0.0</td>\n",
       "      <td>0.0</td>\n",
       "      <td>...</td>\n",
       "      <td>0.0</td>\n",
       "      <td>0.0</td>\n",
       "      <td>0.0</td>\n",
       "      <td>0.0</td>\n",
       "      <td>0.0</td>\n",
       "      <td>0.0</td>\n",
       "      <td>0.0</td>\n",
       "      <td>0.0</td>\n",
       "      <td>0.0</td>\n",
       "      <td>0.0</td>\n",
       "    </tr>\n",
       "  </tbody>\n",
       "</table>\n",
       "<p>558 rows × 127 columns</p>\n",
       "</div>"
      ],
      "text/plain": [
       "SKU                    SKU_1  SKU_10  SKU_100  SKU_101  SKU_102  SKU_103  \\\n",
       "DATE       DEPARTMENT                                                      \n",
       "2021-07-20 Dep1          0.0     0.0      0.0      0.0      0.0      0.0   \n",
       "2021-07-21 Dep1          0.0     0.0      0.0      0.0      0.0      0.0   \n",
       "2021-07-22 Dep1          0.0     0.0      0.0      0.0      0.0      0.0   \n",
       "2021-07-23 Dep1          0.0     0.0      0.0      0.0      0.0      0.0   \n",
       "2021-07-24 Dep1          0.0     0.0      0.0      0.0      0.0      0.0   \n",
       "...                      ...     ...      ...      ...      ...      ...   \n",
       "2022-12-08 Dep2          0.0     0.0      0.0      0.0      0.0      0.0   \n",
       "2022-12-11 Dep1          0.0     0.0      0.0      0.0      0.0      0.0   \n",
       "           Dep2          0.0     0.0      0.0      0.0      0.0      0.0   \n",
       "2022-12-12 Dep1          0.0     0.0      0.0      0.0      0.0      0.0   \n",
       "           Dep2          0.0     0.0      0.0      0.0      0.0      0.0   \n",
       "\n",
       "SKU                    SKU_104  SKU_105  SKU_106  SKU_107  ...  SKU_90  \\\n",
       "DATE       DEPARTMENT                                      ...           \n",
       "2021-07-20 Dep1            0.0      0.0      0.0      0.0  ...     0.0   \n",
       "2021-07-21 Dep1            0.0      0.0      0.0      0.0  ...     0.0   \n",
       "2021-07-22 Dep1            0.0      0.0      0.0      0.0  ...     0.0   \n",
       "2021-07-23 Dep1            0.0      0.0      0.0      0.0  ...     0.0   \n",
       "2021-07-24 Dep1            0.0      0.0      0.0      0.0  ...     0.0   \n",
       "...                        ...      ...      ...      ...  ...     ...   \n",
       "2022-12-08 Dep2            0.0      0.0      0.0      0.0  ...     0.0   \n",
       "2022-12-11 Dep1            0.0      0.0      0.0      0.0  ...     0.0   \n",
       "           Dep2            0.0      0.0      0.0      0.0  ...     0.0   \n",
       "2022-12-12 Dep1            0.0      0.0      0.0      0.0  ...     0.0   \n",
       "           Dep2            0.0      0.0      0.0      0.0  ...     0.0   \n",
       "\n",
       "SKU                    SKU_91  SKU_92  SKU_93  SKU_94  SKU_95  SKU_96  SKU_97  \\\n",
       "DATE       DEPARTMENT                                                           \n",
       "2021-07-20 Dep1           0.0     0.0     0.0     0.0     0.0     0.0     0.0   \n",
       "2021-07-21 Dep1           0.0     0.0     0.0     0.0     0.0     0.0     0.0   \n",
       "2021-07-22 Dep1           0.0     0.0     0.0     0.0     0.0     0.0     0.0   \n",
       "2021-07-23 Dep1           0.0     0.0     0.0     0.0     0.0     0.0     0.0   \n",
       "2021-07-24 Dep1           0.0     0.0     0.0     0.0     0.0     0.0     0.0   \n",
       "...                       ...     ...     ...     ...     ...     ...     ...   \n",
       "2022-12-08 Dep2           0.0     0.0     0.0     0.0     0.0     0.0     0.0   \n",
       "2022-12-11 Dep1           0.0     0.0     0.0     0.0     0.0     0.0     0.0   \n",
       "           Dep2           0.0     0.0     0.0     0.0     0.0     0.0     0.0   \n",
       "2022-12-12 Dep1           0.0     0.0     0.0     0.0     0.0     0.0     0.0   \n",
       "           Dep2           0.0     0.0     0.0     0.0     0.0     0.0     0.0   \n",
       "\n",
       "SKU                    SKU_98  SKU_99  \n",
       "DATE       DEPARTMENT                  \n",
       "2021-07-20 Dep1           0.0     0.0  \n",
       "2021-07-21 Dep1           0.0     0.0  \n",
       "2021-07-22 Dep1           0.0     0.0  \n",
       "2021-07-23 Dep1           0.0     0.0  \n",
       "2021-07-24 Dep1           0.0     0.0  \n",
       "...                       ...     ...  \n",
       "2022-12-08 Dep2           0.0     0.0  \n",
       "2022-12-11 Dep1           0.0     0.0  \n",
       "           Dep2           0.0     0.0  \n",
       "2022-12-12 Dep1           0.0     0.0  \n",
       "           Dep2           0.0     0.0  \n",
       "\n",
       "[558 rows x 127 columns]"
      ]
     },
     "execution_count": 50,
     "metadata": {},
     "output_type": "execute_result"
    }
   ],
   "source": [
    "DF.groupby([\"DATE\",\"DEPARTMENT\",\"SKU\"])[\"NUM_ITEMS_SOLD\"].sum().unstack().fillna(0)"
   ]
  },
  {
   "cell_type": "code",
   "execution_count": null,
   "id": "8d6e0b62",
   "metadata": {},
   "outputs": [],
   "source": []
  }
 ],
 "metadata": {
  "kernelspec": {
   "display_name": "Python 3 (ipykernel)",
   "language": "python",
   "name": "python3"
  },
  "language_info": {
   "codemirror_mode": {
    "name": "ipython",
    "version": 3
   },
   "file_extension": ".py",
   "mimetype": "text/x-python",
   "name": "python",
   "nbconvert_exporter": "python",
   "pygments_lexer": "ipython3",
   "version": "3.11.5"
  },
  "toc": {
   "base_numbering": 1,
   "nav_menu": {},
   "number_sections": true,
   "sideBar": true,
   "skip_h1_title": false,
   "title_cell": "Table of Contents",
   "title_sidebar": "Contents",
   "toc_cell": false,
   "toc_position": {},
   "toc_section_display": true,
   "toc_window_display": false
  },
  "varInspector": {
   "cols": {
    "lenName": 16,
    "lenType": 16,
    "lenVar": 40
   },
   "kernels_config": {
    "python": {
     "delete_cmd_postfix": "",
     "delete_cmd_prefix": "del ",
     "library": "var_list.py",
     "varRefreshCmd": "print(var_dic_list())"
    },
    "r": {
     "delete_cmd_postfix": ") ",
     "delete_cmd_prefix": "rm(",
     "library": "var_list.r",
     "varRefreshCmd": "cat(var_dic_list()) "
    }
   },
   "types_to_exclude": [
    "module",
    "function",
    "builtin_function_or_method",
    "instance",
    "_Feature"
   ],
   "window_display": false
  }
 },
 "nbformat": 4,
 "nbformat_minor": 5
}
